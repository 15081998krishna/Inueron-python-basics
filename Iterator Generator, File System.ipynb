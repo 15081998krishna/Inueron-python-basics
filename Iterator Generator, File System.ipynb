{
 "cells": [
  {
   "cell_type": "code",
   "execution_count": 1,
   "id": "400b34c9-03f8-4170-a885-6b39b9425efe",
   "metadata": {},
   "outputs": [],
   "source": [
    "l=[1,2,3,4,5,6]"
   ]
  },
  {
   "cell_type": "code",
   "execution_count": 2,
   "id": "8a29f49d-3fe6-42e3-8cbf-b7bafef5b77f",
   "metadata": {},
   "outputs": [
    {
     "ename": "TypeError",
     "evalue": "'list' object is not an iterator",
     "output_type": "error",
     "traceback": [
      "\u001b[0;31m---------------------------------------------------------------------------\u001b[0m",
      "\u001b[0;31mTypeError\u001b[0m                                 Traceback (most recent call last)",
      "Input \u001b[0;32mIn [2]\u001b[0m, in \u001b[0;36m<cell line: 1>\u001b[0;34m()\u001b[0m\n\u001b[0;32m----> 1\u001b[0m \u001b[38;5;28;43mnext\u001b[39;49m\u001b[43m(\u001b[49m\u001b[43ml\u001b[49m\u001b[43m)\u001b[49m\n",
      "\u001b[0;31mTypeError\u001b[0m: 'list' object is not an iterator"
     ]
    }
   ],
   "source": [
    "next(l)"
   ]
  },
  {
   "cell_type": "code",
   "execution_count": 3,
   "id": "f719da63-dea3-487f-822e-cec3bbe575a5",
   "metadata": {},
   "outputs": [],
   "source": [
    "l=iter(l)"
   ]
  },
  {
   "cell_type": "code",
   "execution_count": 4,
   "id": "b49126f4-a8d1-4e3f-8dc4-4fd2b917253d",
   "metadata": {},
   "outputs": [
    {
     "data": {
      "text/plain": [
       "1"
      ]
     },
     "execution_count": 4,
     "metadata": {},
     "output_type": "execute_result"
    }
   ],
   "source": [
    "next(l)"
   ]
  },
  {
   "cell_type": "code",
   "execution_count": 5,
   "id": "d08c5190-1f09-46ee-bd22-0e1f288fb7a1",
   "metadata": {},
   "outputs": [
    {
     "data": {
      "text/plain": [
       "2"
      ]
     },
     "execution_count": 5,
     "metadata": {},
     "output_type": "execute_result"
    }
   ],
   "source": [
    "next(l)"
   ]
  },
  {
   "cell_type": "code",
   "execution_count": 9,
   "id": "53bee622-bfe5-4d9d-8e03-979d6847dc7e",
   "metadata": {},
   "outputs": [
    {
     "data": {
      "text/plain": [
       "6"
      ]
     },
     "execution_count": 9,
     "metadata": {},
     "output_type": "execute_result"
    }
   ],
   "source": [
    "next(l)"
   ]
  },
  {
   "cell_type": "code",
   "execution_count": 10,
   "id": "a834af75-e72e-48e9-8cd0-84c07c323587",
   "metadata": {},
   "outputs": [
    {
     "ename": "StopIteration",
     "evalue": "",
     "output_type": "error",
     "traceback": [
      "\u001b[0;31m---------------------------------------------------------------------------\u001b[0m",
      "\u001b[0;31mStopIteration\u001b[0m                             Traceback (most recent call last)",
      "Input \u001b[0;32mIn [10]\u001b[0m, in \u001b[0;36m<cell line: 1>\u001b[0;34m()\u001b[0m\n\u001b[0;32m----> 1\u001b[0m \u001b[38;5;28;43mnext\u001b[39;49m\u001b[43m(\u001b[49m\u001b[43ml\u001b[49m\u001b[43m)\u001b[49m\n",
      "\u001b[0;31mStopIteration\u001b[0m: "
     ]
    }
   ],
   "source": [
    "next(l)"
   ]
  },
  {
   "cell_type": "code",
   "execution_count": 11,
   "id": "005da98f-d386-4385-856d-3b813f5999d7",
   "metadata": {},
   "outputs": [],
   "source": [
    "a=56"
   ]
  },
  {
   "cell_type": "code",
   "execution_count": 12,
   "id": "1ef3bcf2-f178-4f8a-b894-af4c95bf6dc3",
   "metadata": {},
   "outputs": [
    {
     "ename": "TypeError",
     "evalue": "'int' object is not an iterator",
     "output_type": "error",
     "traceback": [
      "\u001b[0;31m---------------------------------------------------------------------------\u001b[0m",
      "\u001b[0;31mTypeError\u001b[0m                                 Traceback (most recent call last)",
      "Input \u001b[0;32mIn [12]\u001b[0m, in \u001b[0;36m<cell line: 1>\u001b[0;34m()\u001b[0m\n\u001b[0;32m----> 1\u001b[0m \u001b[38;5;28;43mnext\u001b[39;49m\u001b[43m(\u001b[49m\u001b[43ma\u001b[49m\u001b[43m)\u001b[49m\n",
      "\u001b[0;31mTypeError\u001b[0m: 'int' object is not an iterator"
     ]
    }
   ],
   "source": [
    "next(a)"
   ]
  },
  {
   "cell_type": "code",
   "execution_count": 13,
   "id": "597e2e64-b31f-4816-9a99-1f665d131c5a",
   "metadata": {},
   "outputs": [
    {
     "ename": "TypeError",
     "evalue": "'int' object is not iterable",
     "output_type": "error",
     "traceback": [
      "\u001b[0;31m---------------------------------------------------------------------------\u001b[0m",
      "\u001b[0;31mTypeError\u001b[0m                                 Traceback (most recent call last)",
      "Input \u001b[0;32mIn [13]\u001b[0m, in \u001b[0;36m<cell line: 1>\u001b[0;34m()\u001b[0m\n\u001b[0;32m----> 1\u001b[0m a\u001b[38;5;241m=\u001b[39m\u001b[38;5;28;43miter\u001b[39;49m\u001b[43m(\u001b[49m\u001b[43ma\u001b[49m\u001b[43m)\u001b[49m\n",
      "\u001b[0;31mTypeError\u001b[0m: 'int' object is not iterable"
     ]
    }
   ],
   "source": [
    "a=iter(a)"
   ]
  },
  {
   "cell_type": "code",
   "execution_count": 14,
   "id": "2ff174e3-08ef-4c44-ab2e-db0f57bc2a19",
   "metadata": {},
   "outputs": [],
   "source": [
    "t=(3.4,4,3,2,35,6)"
   ]
  },
  {
   "cell_type": "code",
   "execution_count": 15,
   "id": "e2dfbf33-bde0-4fd2-850b-3e5929e24238",
   "metadata": {},
   "outputs": [
    {
     "ename": "TypeError",
     "evalue": "'tuple' object is not an iterator",
     "output_type": "error",
     "traceback": [
      "\u001b[0;31m---------------------------------------------------------------------------\u001b[0m",
      "\u001b[0;31mTypeError\u001b[0m                                 Traceback (most recent call last)",
      "Input \u001b[0;32mIn [15]\u001b[0m, in \u001b[0;36m<cell line: 1>\u001b[0;34m()\u001b[0m\n\u001b[0;32m----> 1\u001b[0m \u001b[38;5;28;43mnext\u001b[39;49m\u001b[43m(\u001b[49m\u001b[43mt\u001b[49m\u001b[43m)\u001b[49m\n",
      "\u001b[0;31mTypeError\u001b[0m: 'tuple' object is not an iterator"
     ]
    }
   ],
   "source": [
    "next(t)"
   ]
  },
  {
   "cell_type": "code",
   "execution_count": 16,
   "id": "422800cb-6cfb-4bfe-a214-5bf9c20cdce8",
   "metadata": {},
   "outputs": [],
   "source": [
    "t=iter(t)"
   ]
  },
  {
   "cell_type": "code",
   "execution_count": 17,
   "id": "689ff30d-7c1d-4f9f-88e3-8c66a413c9f2",
   "metadata": {},
   "outputs": [
    {
     "data": {
      "text/plain": [
       "3.4"
      ]
     },
     "execution_count": 17,
     "metadata": {},
     "output_type": "execute_result"
    }
   ],
   "source": [
    "next(t)"
   ]
  },
  {
   "cell_type": "code",
   "execution_count": 18,
   "id": "06a97d8e-d861-487d-9ebf-460865daf177",
   "metadata": {},
   "outputs": [
    {
     "data": {
      "text/plain": [
       "4"
      ]
     },
     "execution_count": 18,
     "metadata": {},
     "output_type": "execute_result"
    }
   ],
   "source": [
    "next(t)"
   ]
  },
  {
   "cell_type": "code",
   "execution_count": 19,
   "id": "d4c3c806-4e10-4ef2-9c59-024a30da956b",
   "metadata": {},
   "outputs": [
    {
     "data": {
      "text/plain": [
       "range(0, 6)"
      ]
     },
     "execution_count": 19,
     "metadata": {},
     "output_type": "execute_result"
    }
   ],
   "source": [
    "range(6)"
   ]
  },
  {
   "cell_type": "code",
   "execution_count": 20,
   "id": "b8d5b5ca-ec63-4cdf-9435-52ffd64dda3e",
   "metadata": {},
   "outputs": [],
   "source": [
    "r=range(6)"
   ]
  },
  {
   "cell_type": "code",
   "execution_count": 21,
   "id": "5afcaea8-97af-483d-b0b8-e081df51cf18",
   "metadata": {},
   "outputs": [
    {
     "ename": "TypeError",
     "evalue": "'range' object is not an iterator",
     "output_type": "error",
     "traceback": [
      "\u001b[0;31m---------------------------------------------------------------------------\u001b[0m",
      "\u001b[0;31mTypeError\u001b[0m                                 Traceback (most recent call last)",
      "Input \u001b[0;32mIn [21]\u001b[0m, in \u001b[0;36m<cell line: 1>\u001b[0;34m()\u001b[0m\n\u001b[0;32m----> 1\u001b[0m \u001b[38;5;28;43mnext\u001b[39;49m\u001b[43m(\u001b[49m\u001b[43mr\u001b[49m\u001b[43m)\u001b[49m\n",
      "\u001b[0;31mTypeError\u001b[0m: 'range' object is not an iterator"
     ]
    }
   ],
   "source": [
    "next(r)"
   ]
  },
  {
   "cell_type": "code",
   "execution_count": 22,
   "id": "675845aa-a8b7-44c2-9e96-73b2cdcba033",
   "metadata": {},
   "outputs": [],
   "source": [
    "r=iter(r)"
   ]
  },
  {
   "cell_type": "code",
   "execution_count": 23,
   "id": "cefb06c0-44a3-46cf-a7d4-af2453c63041",
   "metadata": {},
   "outputs": [
    {
     "data": {
      "text/plain": [
       "0"
      ]
     },
     "execution_count": 23,
     "metadata": {},
     "output_type": "execute_result"
    }
   ],
   "source": [
    "next(r)"
   ]
  },
  {
   "cell_type": "markdown",
   "id": "cf12a9ad-bd12-4d91-88a4-fccf1c7a4330",
   "metadata": {},
   "source": [
    "# Generator"
   ]
  },
  {
   "cell_type": "code",
   "execution_count": 26,
   "id": "980c03f3-1b08-46a6-8d75-5a38e6355d6a",
   "metadata": {},
   "outputs": [
    {
     "data": {
      "text/plain": [
       "[1, 11, 21, 31, 41, 51, 61, 71, 81, 91, 101, 111, 121]"
      ]
     },
     "execution_count": 26,
     "metadata": {},
     "output_type": "execute_result"
    }
   ],
   "source": [
    "list(range(1,123,10))"
   ]
  },
  {
   "cell_type": "code",
   "execution_count": 35,
   "id": "dbc2fbc0-e31e-4a6e-9c78-05936ced6bda",
   "metadata": {},
   "outputs": [],
   "source": [
    "def gencube(n):\n",
    "    l=[]\n",
    "    for i in range(n):\n",
    "        l.append(i**3)\n",
    "    return l"
   ]
  },
  {
   "cell_type": "code",
   "execution_count": 36,
   "id": "fbf62e2d-1964-460e-9d29-2a05f952ba7e",
   "metadata": {},
   "outputs": [
    {
     "data": {
      "text/plain": [
       "[0, 1, 8, 27, 64, 125]"
      ]
     },
     "execution_count": 36,
     "metadata": {},
     "output_type": "execute_result"
    }
   ],
   "source": [
    "gencube(6)"
   ]
  },
  {
   "cell_type": "code",
   "execution_count": 37,
   "id": "a5a5b53a-551f-46ff-9ca9-760f93c78c66",
   "metadata": {},
   "outputs": [
    {
     "data": {
      "text/plain": [
       "range(0, 100000000000)"
      ]
     },
     "execution_count": 37,
     "metadata": {},
     "output_type": "execute_result"
    }
   ],
   "source": [
    "range(100000000000)"
   ]
  },
  {
   "cell_type": "code",
   "execution_count": 44,
   "id": "44279124-0514-4149-8288-fc84eec11361",
   "metadata": {},
   "outputs": [],
   "source": [
    "def gencube(n):\n",
    "    for i in range(n):\n",
    "        yield i**3\n",
    "#yield helps in producing Generator"
   ]
  },
  {
   "cell_type": "code",
   "execution_count": 45,
   "id": "5547b3d5-e270-426a-9ef0-734cca2c52cf",
   "metadata": {},
   "outputs": [
    {
     "data": {
      "text/plain": [
       "<generator object gencube at 0x7fe10ea30120>"
      ]
     },
     "execution_count": 45,
     "metadata": {},
     "output_type": "execute_result"
    }
   ],
   "source": [
    "gencube(100)"
   ]
  },
  {
   "cell_type": "code",
   "execution_count": 46,
   "id": "d890f83b-3ead-4224-b881-3e46b5ccbe43",
   "metadata": {},
   "outputs": [
    {
     "name": "stdout",
     "output_type": "stream",
     "text": [
      "0\n",
      "1\n",
      "8\n",
      "27\n",
      "64\n",
      "125\n",
      "216\n",
      "343\n",
      "512\n",
      "729\n"
     ]
    }
   ],
   "source": [
    "for i in gencube(10):\n",
    "    print(i)"
   ]
  },
  {
   "cell_type": "code",
   "execution_count": 47,
   "id": "0b3a630b-7d05-41a5-8240-af3e2774f475",
   "metadata": {},
   "outputs": [],
   "source": [
    "#Func which will gen sum of last 2nums: Fibbonacci seq."
   ]
  },
  {
   "cell_type": "code",
   "execution_count": 53,
   "id": "709cf124-3961-4f36-8084-bb2c3a61cb8d",
   "metadata": {},
   "outputs": [],
   "source": [
    "def genFib(n):\n",
    "    a=1\n",
    "    b=1\n",
    "    for i in range(n):\n",
    "        yield a,i\n",
    "        a,b=b,a+b"
   ]
  },
  {
   "cell_type": "code",
   "execution_count": 54,
   "id": "c8cc5d24-fb64-47d0-84ac-973cca54e3a3",
   "metadata": {},
   "outputs": [
    {
     "name": "stdout",
     "output_type": "stream",
     "text": [
      "(1, 0)\n",
      "(1, 1)\n",
      "(2, 2)\n",
      "(3, 3)\n",
      "(5, 4)\n",
      "(8, 5)\n",
      "(13, 6)\n",
      "(21, 7)\n",
      "(34, 8)\n",
      "(55, 9)\n"
     ]
    }
   ],
   "source": [
    "for u in genFib(10):\n",
    "    print(u)"
   ]
  },
  {
   "cell_type": "code",
   "execution_count": 55,
   "id": "4e7e2691-eba7-4987-98ac-5560644e7084",
   "metadata": {},
   "outputs": [],
   "source": [
    "def fib1(n):\n",
    "    a=1\n",
    "    b=1\n",
    "    output=[]\n",
    "    for i in range(n):\n",
    "        output.append(a)\n",
    "        a,b=b,a+b\n",
    "    return output"
   ]
  },
  {
   "cell_type": "code",
   "execution_count": 56,
   "id": "e008c722-ae9f-44fd-b430-7369b71a881a",
   "metadata": {},
   "outputs": [
    {
     "data": {
      "text/plain": [
       "[1, 1, 2, 3, 5, 8, 13, 21, 34, 55, 89, 144]"
      ]
     },
     "execution_count": 56,
     "metadata": {},
     "output_type": "execute_result"
    }
   ],
   "source": [
    "fib1(12)"
   ]
  },
  {
   "cell_type": "markdown",
   "id": "26626c08-9298-4765-a0b0-d542ab7a8deb",
   "metadata": {},
   "source": [
    "# FIle System"
   ]
  },
  {
   "cell_type": "code",
   "execution_count": 1,
   "id": "e6d9f98a-488d-488d-a134-103b8af528ab",
   "metadata": {},
   "outputs": [
    {
     "name": "stdout",
     "output_type": "stream",
     "text": [
      "something in console\n"
     ]
    }
   ],
   "source": [
    "print('something in console')"
   ]
  },
  {
   "cell_type": "code",
   "execution_count": 5,
   "id": "031bb37c-c428-46bf-bd51-a4955f31d3e4",
   "metadata": {},
   "outputs": [
    {
     "data": {
      "text/plain": [
       "['In',\n",
       " 'Out',\n",
       " '_',\n",
       " '_2',\n",
       " '_4',\n",
       " '__',\n",
       " '___',\n",
       " '__builtin__',\n",
       " '__builtins__',\n",
       " '__doc__',\n",
       " '__loader__',\n",
       " '__name__',\n",
       " '__package__',\n",
       " '__spec__',\n",
       " '_dh',\n",
       " '_exit_code',\n",
       " '_i',\n",
       " '_i1',\n",
       " '_i2',\n",
       " '_i3',\n",
       " '_i4',\n",
       " '_i5',\n",
       " '_ih',\n",
       " '_ii',\n",
       " '_iii',\n",
       " '_oh',\n",
       " 'exit',\n",
       " 'get_ipython',\n",
       " 'quit']"
      ]
     },
     "execution_count": 5,
     "metadata": {},
     "output_type": "execute_result"
    }
   ],
   "source": [
    "dir()"
   ]
  },
  {
   "cell_type": "code",
   "execution_count": 4,
   "id": "de42cdc9-aae7-444d-8be1-63d033b9a72f",
   "metadata": {},
   "outputs": [
    {
     "data": {
      "text/plain": [
       "'/home/15081998kr18ine'"
      ]
     },
     "execution_count": 4,
     "metadata": {},
     "output_type": "execute_result"
    }
   ],
   "source": [
    "pwd()"
   ]
  },
  {
   "cell_type": "code",
   "execution_count": 10,
   "id": "79b39988-7fee-4261-bdcd-c98e1edddb02",
   "metadata": {},
   "outputs": [
    {
     "name": "stdout",
     "output_type": "stream",
     "text": [
      "'10.Functions part2.ipynb'           'If,Else,For Loop.ipynb'\n",
      "'8.Python Program discussion.ipynb'  'Iterator Generator, File System.ipynb'\n",
      " 9.Functions.ipynb                    test1.txt\n",
      "'9.Functions Solns.ipynb'             test.txt\n",
      " Day2.ipynb                          'Tuple,Set & Dict.ipynb'\n",
      "'For Loops & While Loops.ipynb'\n"
     ]
    }
   ],
   "source": [
    "%ls"
   ]
  },
  {
   "cell_type": "code",
   "execution_count": 15,
   "id": "b7f0d9e5-d5b1-4ca1-b1b6-d65fdfc00e78",
   "metadata": {},
   "outputs": [],
   "source": [
    "f=open(\"test1.txt\",'w')"
   ]
  },
  {
   "cell_type": "code",
   "execution_count": 16,
   "id": "e0f9a8ef-9af3-444a-bd1c-beb272397109",
   "metadata": {},
   "outputs": [
    {
     "data": {
      "text/plain": [
       "72"
      ]
     },
     "execution_count": 16,
     "metadata": {},
     "output_type": "execute_result"
    }
   ],
   "source": [
    "f.write(\"This is my 1st file op in a text file from python,fhsdjfksdapfd;skffkjha\")"
   ]
  },
  {
   "cell_type": "code",
   "execution_count": 17,
   "id": "2cef8255-0151-4b16-98dc-e3f3a2bef21a",
   "metadata": {},
   "outputs": [],
   "source": [
    "f.close()"
   ]
  },
  {
   "cell_type": "code",
   "execution_count": 18,
   "id": "39dcb443-ba88-4b76-b8bd-5a7478c98aa5",
   "metadata": {},
   "outputs": [
    {
     "name": "stdout",
     "output_type": "stream",
     "text": [
      "Writing test2.txt\n"
     ]
    }
   ],
   "source": [
    "%%writefile test2.txt\n",
    "this is a data i would like to store in my file"
   ]
  },
  {
   "cell_type": "code",
   "execution_count": 19,
   "id": "9e57ead9-15ea-4b50-a17d-18ed643a651d",
   "metadata": {},
   "outputs": [
    {
     "name": "stdout",
     "output_type": "stream",
     "text": [
      "'10.Functions part2.ipynb'           'If,Else,For Loop.ipynb'\n",
      "'8.Python Program discussion.ipynb'  'Iterator Generator, File System.ipynb'\n",
      " 9.Functions.ipynb                    test1.txt\n",
      "'9.Functions Solns.ipynb'             test2.txt\n",
      " Day2.ipynb                           test.txt\n",
      "'For Loops & While Loops.ipynb'      'Tuple,Set & Dict.ipynb'\n"
     ]
    }
   ],
   "source": [
    "%ls"
   ]
  },
  {
   "cell_type": "code",
   "execution_count": 26,
   "id": "7a076fe3-410b-4106-a908-999efd7c103f",
   "metadata": {},
   "outputs": [],
   "source": [
    "f=open(\"test1.txt\")"
   ]
  },
  {
   "cell_type": "code",
   "execution_count": 27,
   "id": "ef8356fe-b98e-4581-8e8b-54b4a1e7b1d1",
   "metadata": {},
   "outputs": [
    {
     "data": {
      "text/plain": [
       "'This is my 1st file op in a text file from python,fhsdjfksdapfd;skffkjha'"
      ]
     },
     "execution_count": 27,
     "metadata": {},
     "output_type": "execute_result"
    }
   ],
   "source": [
    "f.read()"
   ]
  },
  {
   "cell_type": "code",
   "execution_count": 28,
   "id": "94dd836a-0be3-451c-955d-bf22a3403627",
   "metadata": {},
   "outputs": [
    {
     "ename": "UnsupportedOperation",
     "evalue": "not writable",
     "output_type": "error",
     "traceback": [
      "\u001b[0;31m---------------------------------------------------------------------------\u001b[0m",
      "\u001b[0;31mUnsupportedOperation\u001b[0m                      Traceback (most recent call last)",
      "Input \u001b[0;32mIn [28]\u001b[0m, in \u001b[0;36m<cell line: 1>\u001b[0;34m()\u001b[0m\n\u001b[0;32m----> 1\u001b[0m \u001b[43mf\u001b[49m\u001b[38;5;241;43m.\u001b[39;49m\u001b[43mwrite\u001b[49m\u001b[43m(\u001b[49m\u001b[38;5;124;43m\"\u001b[39;49m\u001b[38;5;124;43mhsidfsd\u001b[39;49m\u001b[38;5;124;43m\"\u001b[39;49m\u001b[43m)\u001b[49m\n",
      "\u001b[0;31mUnsupportedOperation\u001b[0m: not writable"
     ]
    }
   ],
   "source": [
    "f.write(\"hsidfsd\")"
   ]
  },
  {
   "cell_type": "code",
   "execution_count": 29,
   "id": "5511fa1d-3699-49df-9487-082e7b266fcd",
   "metadata": {},
   "outputs": [
    {
     "data": {
      "text/plain": [
       "''"
      ]
     },
     "execution_count": 29,
     "metadata": {},
     "output_type": "execute_result"
    }
   ],
   "source": [
    "f.read()"
   ]
  },
  {
   "cell_type": "code",
   "execution_count": 30,
   "id": "1b177599-5295-4028-b223-9cb0e4ef210d",
   "metadata": {},
   "outputs": [
    {
     "data": {
      "text/plain": [
       "5"
      ]
     },
     "execution_count": 30,
     "metadata": {},
     "output_type": "execute_result"
    }
   ],
   "source": [
    "f.seek(5)"
   ]
  },
  {
   "cell_type": "code",
   "execution_count": 31,
   "id": "f71fae3e-247d-4e50-ab23-68aebd1adf20",
   "metadata": {},
   "outputs": [
    {
     "data": {
      "text/plain": [
       "'is my 1st file op in a text file from python,fhsdjfksdapfd;skffkjha'"
      ]
     },
     "execution_count": 31,
     "metadata": {},
     "output_type": "execute_result"
    }
   ],
   "source": [
    "f.read()"
   ]
  },
  {
   "cell_type": "code",
   "execution_count": 33,
   "id": "edc8242f-e0d4-4581-9fee-02289b540bbd",
   "metadata": {},
   "outputs": [
    {
     "data": {
      "text/plain": [
       "0"
      ]
     },
     "execution_count": 33,
     "metadata": {},
     "output_type": "execute_result"
    }
   ],
   "source": [
    "f.seek(0)"
   ]
  },
  {
   "cell_type": "code",
   "execution_count": 34,
   "id": "4cfaab92-0cb3-4903-a7c7-ce61080235b9",
   "metadata": {},
   "outputs": [
    {
     "data": {
      "text/plain": [
       "'This is my 1st file op in a text file from python,fhsdjfksdapfd;skffkjha'"
      ]
     },
     "execution_count": 34,
     "metadata": {},
     "output_type": "execute_result"
    }
   ],
   "source": [
    "f.read()"
   ]
  },
  {
   "cell_type": "code",
   "execution_count": 35,
   "id": "88d120ed-12e2-49d7-98e9-772af64785cb",
   "metadata": {},
   "outputs": [
    {
     "data": {
      "text/plain": [
       "''"
      ]
     },
     "execution_count": 35,
     "metadata": {},
     "output_type": "execute_result"
    }
   ],
   "source": [
    "f.read()"
   ]
  },
  {
   "cell_type": "code",
   "execution_count": 38,
   "id": "deb2b73e-28d8-4f9a-b7c0-c4ec20603475",
   "metadata": {},
   "outputs": [
    {
     "data": {
      "text/plain": [
       "72"
      ]
     },
     "execution_count": 38,
     "metadata": {},
     "output_type": "execute_result"
    }
   ],
   "source": [
    "f.tell()"
   ]
  },
  {
   "cell_type": "code",
   "execution_count": 39,
   "id": "2ae4628d-4569-42c2-a3a7-55b76411a199",
   "metadata": {},
   "outputs": [
    {
     "data": {
      "text/plain": [
       "5"
      ]
     },
     "execution_count": 39,
     "metadata": {},
     "output_type": "execute_result"
    }
   ],
   "source": [
    "f.seek(5)"
   ]
  },
  {
   "cell_type": "code",
   "execution_count": 49,
   "id": "592ea572-a53c-4941-b0dd-b7898ae07be4",
   "metadata": {},
   "outputs": [
    {
     "ename": "ValueError",
     "evalue": "I/O operation on closed file.",
     "output_type": "error",
     "traceback": [
      "\u001b[0;31m---------------------------------------------------------------------------\u001b[0m",
      "\u001b[0;31mValueError\u001b[0m                                Traceback (most recent call last)",
      "Input \u001b[0;32mIn [49]\u001b[0m, in \u001b[0;36m<cell line: 1>\u001b[0;34m()\u001b[0m\n\u001b[0;32m----> 1\u001b[0m \u001b[43mf\u001b[49m\u001b[38;5;241;43m.\u001b[39;49m\u001b[43mtell\u001b[49m\u001b[43m(\u001b[49m\u001b[43m)\u001b[49m\n",
      "\u001b[0;31mValueError\u001b[0m: I/O operation on closed file."
     ]
    }
   ],
   "source": [
    "f.tell()"
   ]
  },
  {
   "cell_type": "code",
   "execution_count": 48,
   "id": "dc3f3f10-166a-473c-a31e-7fdeb9733d95",
   "metadata": {},
   "outputs": [],
   "source": [
    "f.close()"
   ]
  },
  {
   "cell_type": "code",
   "execution_count": 57,
   "id": "9f0b2e03-a2dc-45d3-9d82-5fcf17a9486e",
   "metadata": {},
   "outputs": [],
   "source": [
    "f= open(\"test1.txt\",\"r+\")"
   ]
  },
  {
   "cell_type": "code",
   "execution_count": 58,
   "id": "d63697ea-0765-4553-907d-3d8100aa4108",
   "metadata": {},
   "outputs": [
    {
     "data": {
      "text/plain": [
       "'This is my 1st file op in a text file from python,\\nfhsdjfksdapfd;skffkjha\\nfiisdjfds\\ndfndskag\\ndfjdakf\\nfdjsfksdalf\\nasfdajfk\\nsadfklksdflkda\\ndagkadokkla\\ndsfaadkfkk'"
      ]
     },
     "execution_count": 58,
     "metadata": {},
     "output_type": "execute_result"
    }
   ],
   "source": [
    "f.read()"
   ]
  },
  {
   "cell_type": "code",
   "execution_count": 59,
   "id": "76249025-769a-42f6-ad17-ead3a25e18f5",
   "metadata": {},
   "outputs": [
    {
     "data": {
      "text/plain": [
       "''"
      ]
     },
     "execution_count": 59,
     "metadata": {},
     "output_type": "execute_result"
    }
   ],
   "source": [
    "f.readline()"
   ]
  },
  {
   "cell_type": "code",
   "execution_count": 60,
   "id": "1a136687-dfbf-44d2-b511-a8226dce4a3d",
   "metadata": {},
   "outputs": [
    {
     "data": {
      "text/plain": [
       "159"
      ]
     },
     "execution_count": 60,
     "metadata": {},
     "output_type": "execute_result"
    }
   ],
   "source": [
    "f.tell()"
   ]
  },
  {
   "cell_type": "code",
   "execution_count": 64,
   "id": "a8477a84-e6ab-4bdf-8d95-0bed854385b4",
   "metadata": {},
   "outputs": [
    {
     "data": {
      "text/plain": [
       "0"
      ]
     },
     "execution_count": 64,
     "metadata": {},
     "output_type": "execute_result"
    }
   ],
   "source": [
    "f.seek(0)"
   ]
  },
  {
   "cell_type": "code",
   "execution_count": 65,
   "id": "45e57ad1-3774-4d32-a1cd-390b05d03dec",
   "metadata": {},
   "outputs": [
    {
     "data": {
      "text/plain": [
       "'This is my 1st file op in a text file from python,\\n'"
      ]
     },
     "execution_count": 65,
     "metadata": {},
     "output_type": "execute_result"
    }
   ],
   "source": [
    "f.readline()"
   ]
  },
  {
   "cell_type": "code",
   "execution_count": 67,
   "id": "2d64e670-56f1-4827-bd01-d4cf5cd1adce",
   "metadata": {},
   "outputs": [
    {
     "data": {
      "text/plain": [
       "'fiisdjfds\\n'"
      ]
     },
     "execution_count": 67,
     "metadata": {},
     "output_type": "execute_result"
    }
   ],
   "source": [
    "f.readline()"
   ]
  },
  {
   "cell_type": "code",
   "execution_count": 68,
   "id": "16d39819-503c-47e3-a06b-66c098193527",
   "metadata": {},
   "outputs": [],
   "source": [
    "f.close()"
   ]
  },
  {
   "cell_type": "code",
   "execution_count": 69,
   "id": "87c14367-2950-4f4e-8ce0-3e3dcc20808c",
   "metadata": {},
   "outputs": [],
   "source": [
    "f=open('google.txt',\"w\")"
   ]
  },
  {
   "cell_type": "code",
   "execution_count": 70,
   "id": "a743d8b6-9093-42dd-9200-5ea462db5850",
   "metadata": {},
   "outputs": [
    {
     "data": {
      "text/plain": [
       "633"
      ]
     },
     "execution_count": 70,
     "metadata": {},
     "output_type": "execute_result"
    }
   ],
   "source": [
    "f.write(\"\"\"Google LLC (/ˈɡuːɡəl/ (listen)) is an American multinational technology company that focuses on search engine technology, online advertising, cloud computing, computer software, quantum computing, e-commerce, artificial intelligence,[9] and consumer electronics. \n",
    "It has been referred to as the \"most powerful company in the world\"[10] and one of the world's most valuable brands due to its market dominance, data collection, and technological advantages in the area of artificial intelligence.[11][12][13] \\\n",
    "It is considered one of the Big Five American information technology companies, alongside Amazon, Apple, Meta, and Microsoft. \"\"\")"
   ]
  },
  {
   "cell_type": "code",
   "execution_count": 71,
   "id": "bc41ac39-23fd-4a13-9db8-5d0c7a06abde",
   "metadata": {},
   "outputs": [],
   "source": [
    "f.close()"
   ]
  },
  {
   "cell_type": "code",
   "execution_count": 74,
   "id": "ade9227a-5d3c-4d8a-aa5c-97ac4f9d1b33",
   "metadata": {},
   "outputs": [],
   "source": [
    "f=open(\"google.txt\",\"r+\")"
   ]
  },
  {
   "cell_type": "code",
   "execution_count": 75,
   "id": "624b83b4-d0c6-4eee-84d8-5b2ffa826d14",
   "metadata": {},
   "outputs": [
    {
     "data": {
      "text/plain": [
       "'Google LLC (/ˈɡuːɡəl/ (listen)) is an American multinational technology company that focuses on search engine technology, online advertising, cloud computing, computer software, quantum computing, e-commerce, artificial intelligence,[9] and consumer electronics. \\nIt has been referred to as the \"most powerful company in the world\"[10] and one of the world\\'s most valuable brands due to its market dominance, data collection, and technological advantages in the area of artificial intelligence.[11][12][13] It is considered one of the Big Five American information technology companies, alongside Amazon, Apple, Meta, and Microsoft. '"
      ]
     },
     "execution_count": 75,
     "metadata": {},
     "output_type": "execute_result"
    }
   ],
   "source": [
    "f.read()"
   ]
  },
  {
   "cell_type": "code",
   "execution_count": 76,
   "id": "3acb3dc4-605c-43f1-8bd8-170a6cf01053",
   "metadata": {},
   "outputs": [
    {
     "data": {
      "text/plain": [
       "0"
      ]
     },
     "execution_count": 76,
     "metadata": {},
     "output_type": "execute_result"
    }
   ],
   "source": [
    "f.seek(0)"
   ]
  },
  {
   "cell_type": "code",
   "execution_count": 77,
   "id": "3f72fef8-8678-4639-b42e-46868558cb53",
   "metadata": {},
   "outputs": [
    {
     "data": {
      "text/plain": [
       "'Google LLC (/ˈɡuːɡəl/ (listen)) is an American multinational technology company that focuses on search engine technology, online advertising, cloud computing, computer software, quantum computing, e-commerce, artificial intelligence,[9] and consumer electronics. \\n'"
      ]
     },
     "execution_count": 77,
     "metadata": {},
     "output_type": "execute_result"
    }
   ],
   "source": [
    "f.readline()"
   ]
  },
  {
   "cell_type": "code",
   "execution_count": 78,
   "id": "b684c3a8-25ef-4ebb-845b-297e0b8edcf3",
   "metadata": {},
   "outputs": [
    {
     "data": {
      "text/plain": [
       "'It has been referred to as the \"most powerful company in the world\"[10] and one of the world\\'s most valuable brands due to its market dominance, data collection, and technological advantages in the area of artificial intelligence.[11][12][13] It is considered one of the Big Five American information technology companies, alongside Amazon, Apple, Meta, and Microsoft. '"
      ]
     },
     "execution_count": 78,
     "metadata": {},
     "output_type": "execute_result"
    }
   ],
   "source": [
    "f.readline()"
   ]
  },
  {
   "cell_type": "code",
   "execution_count": 91,
   "id": "fc7ef8c1-ed25-4664-a778-1c61ebe85629",
   "metadata": {},
   "outputs": [],
   "source": [
    "f.close()"
   ]
  },
  {
   "cell_type": "code",
   "execution_count": 97,
   "id": "76bfc199-c9b0-4e58-8901-422fb5aee88e",
   "metadata": {},
   "outputs": [],
   "source": [
    "f=open('google.txt',\"r+\")"
   ]
  },
  {
   "cell_type": "code",
   "execution_count": 93,
   "id": "aba70742-9037-40c4-8198-be14f670f9a5",
   "metadata": {},
   "outputs": [
    {
     "name": "stdout",
     "output_type": "stream",
     "text": [
      "Google LLC (/ˈɡuːɡəl/ (listen)) is an American multinational technology company that focuses on search engine technology, online advertising, cloud computing, computer software, quantum computing, e-commerce, artificial intelligence,[9] and consumer electronics. \n",
      " It has been referred to as the \"most powerful company in the world\"[10] and one of the world's most valuable brands due to its market dominance, data collection, and technological advantages in the area of artificial intelligence.[11][12][13] \n",
      " It is considered one of the Big Five American information technology companies, alongside Amazon, Apple, Meta, and Microsoft. suhfsijihsafsdfhsdf "
     ]
    }
   ],
   "source": [
    "for line in f:\n",
    "    print(line, end=\" \")"
   ]
  },
  {
   "cell_type": "code",
   "execution_count": 86,
   "id": "51b95519-1df9-4fa6-9952-21c899b2da66",
   "metadata": {},
   "outputs": [
    {
     "data": {
      "text/plain": [
       "19"
      ]
     },
     "execution_count": 86,
     "metadata": {},
     "output_type": "execute_result"
    }
   ],
   "source": [
    "f.write(\"suhfsijihsafsdfhsdf\")"
   ]
  },
  {
   "cell_type": "code",
   "execution_count": 90,
   "id": "aa5e66d9-547d-4d47-970d-5f1f92bf0ef4",
   "metadata": {},
   "outputs": [
    {
     "data": {
      "text/plain": [
       "'Google LLC (/ˈɡuːɡəl/ (listen)) is an American multinational technology company that focuses on search engine technology, online advertising, cloud computing, computer software, quantum computing, e-commerce, artificial intelligence,[9] and consumer electronics. \\nIt has been referred to as the \"most powerful company in the world\"[10] and one of the world\\'s most valuable brands due to its market dominance, data collection, and technological advantages in the area of artificial intelligence.[11][12][13] \\nIt is considered one of the Big Five American information technology companies, alongside Amazon, Apple, Meta, and Microsoft. suhfsijihsafsdfhsdf'"
      ]
     },
     "execution_count": 90,
     "metadata": {},
     "output_type": "execute_result"
    }
   ],
   "source": [
    "f.read()"
   ]
  },
  {
   "cell_type": "code",
   "execution_count": 94,
   "id": "83675e76-ebcb-434d-b529-5d602eb4a376",
   "metadata": {},
   "outputs": [
    {
     "data": {
      "text/plain": [
       "5"
      ]
     },
     "execution_count": 94,
     "metadata": {},
     "output_type": "execute_result"
    }
   ],
   "source": [
    "f.seek(5)"
   ]
  },
  {
   "cell_type": "code",
   "execution_count": 95,
   "id": "0966307f-3f50-4039-95c5-c6473eff53b2",
   "metadata": {},
   "outputs": [
    {
     "data": {
      "text/plain": [
       "27"
      ]
     },
     "execution_count": 95,
     "metadata": {},
     "output_type": "execute_result"
    }
   ],
   "source": [
    "f.write(\" This is my data at 5th loc\")"
   ]
  },
  {
   "cell_type": "code",
   "execution_count": 96,
   "id": "f0ffd68b-576a-4db9-b28c-581a3c3a97d6",
   "metadata": {},
   "outputs": [],
   "source": [
    "f.close()"
   ]
  },
  {
   "cell_type": "code",
   "execution_count": 98,
   "id": "1a35a1aa-aef0-4dd1-a143-5b294b7e07f6",
   "metadata": {},
   "outputs": [
    {
     "data": {
      "text/plain": [
       "2509"
      ]
     },
     "execution_count": 98,
     "metadata": {},
     "output_type": "execute_result"
    }
   ],
   "source": [
    "f.write(\"\"\"Google was founded on September 4, 1998, by Larry Page and Sergey Brin while they were PhD students at Stanford University in California. Together they own about 14% of its publicly listed shares and control 56% of the stockholder voting power through super-voting stock. The company went public via an initial public offering (IPO) in 2004. In 2015, Google was reorganized as a wholly owned subsidiary of Alphabet Inc. Google is Alphabet's largest subsidiary and is a holding company for Alphabet's Internet properties and interests. Sundar Pichai was appointed CEO of Google on October 24, 2015, replacing Larry Page, who became the CEO of Alphabet. On December 3, 2019, Pichai also became the CEO of Alphabet.[14]\n",
    "\n",
    "The company has since rapidly grown to offer a multitude of products and services beyond Google Search, many of which hold dominant market positions. These products address a wide range of use cases, including email (Gmail), navigation (Maps), cloud computing (Cloud), web browsing (Chrome), video sharing (YouTube), productivity (Workspace), operating systems (Android), cloud storage (Drive), language translation (Translate), photo storage (Photo), video calling (Meet), smart home (Nest), smartphones (Pixel), wearable technology (Fitbit), gaming (Stadia), music streaming (YouTube Music), video on demand (TV), artificial intelligence (Assistant), machine learning APIs (TensorFlow), AI chips (TPU), and more. Discontinued Google products include Glass,[citation needed] Google+, Reader, Play Music, Nexus, Hangouts, and Inbox by Gmail.[15][16]\n",
    "\n",
    "Google's other ventures outside of internet services and consumer electronics include quantum computing (Sycamore), self-driving cars (Waymo, formerly the Google Self-Driving Car Project), smart cities (Sidewalk Labs), and transformer models (Google Brain).[17]\n",
    "\n",
    "Google and YouTube are the two most visited websites worldwide followed by Facebook and Twitter. Google is also the largest search engine, mapping and navigation application, email provider, office suite, video sharing platform, photo and cloud storage provider, mobile operating system, web browser, ML framework, and AI virtual assistant provider in the world as measured by market share. On the list of most valuable brands, Google is ranked second by Forbes[18] and fourth by Interbrand.[19] It has received significant criticism involving issues such as privacy concerns, tax avoidance, censorship, search neutrality, antitrust and abuse of its monopoly position.\n",
    "Contents\"\"\")"
   ]
  },
  {
   "cell_type": "code",
   "execution_count": 110,
   "id": "52bf0847-c681-413c-a962-cae7544ba899",
   "metadata": {},
   "outputs": [],
   "source": [
    "f.close()"
   ]
  },
  {
   "cell_type": "code",
   "execution_count": 111,
   "id": "0d754009-4569-458d-bce5-fa5010fc0062",
   "metadata": {},
   "outputs": [],
   "source": [
    "f=open('google.txt','r+')"
   ]
  },
  {
   "cell_type": "code",
   "execution_count": 103,
   "id": "6db27246-2630-4190-a23a-8f1afadf510e",
   "metadata": {},
   "outputs": [],
   "source": [
    "f.writelines(f)"
   ]
  },
  {
   "cell_type": "code",
   "execution_count": 104,
   "id": "ea1dd4fc-4b7f-4e93-9f31-b33185aa7482",
   "metadata": {},
   "outputs": [],
   "source": [
    "f.close()"
   ]
  },
  {
   "cell_type": "code",
   "execution_count": 116,
   "id": "6a0ce5d5-86ea-4e31-afe8-9b483863998b",
   "metadata": {},
   "outputs": [
    {
     "data": {
      "text/plain": [
       "\"Google was founded on September 4, 1998, by Larry Page and Sergey Brin while they were PhD students at Stanford University in California. Together they own about 14% of its publicly listed shares and control 56% of the stockholder voting power through super-voting stock. The company went public via an initial public offering (IPO) in 2004. In 2015, Google was reorganized as a wholly owned subsidiary of Alphabet Inc. Google is Alphabet's largest subsidiary and is a holding company for Alphabet's Internet properties and interests. Sundar Pichai was appointed CEO of Google on October 24, 2015, replacing Larry Page, who became the CEO of Alphabet. On December 3, 2019, Pichai also became the CEO of Alphabet.[14]\\n\""
      ]
     },
     "execution_count": 116,
     "metadata": {},
     "output_type": "execute_result"
    }
   ],
   "source": [
    "f.readline()"
   ]
  },
  {
   "cell_type": "code",
   "execution_count": 124,
   "id": "748e98c0-aa50-4c15-8817-533a3522652d",
   "metadata": {},
   "outputs": [
    {
     "data": {
      "text/plain": [
       "0"
      ]
     },
     "execution_count": 124,
     "metadata": {},
     "output_type": "execute_result"
    }
   ],
   "source": [
    "f.seek(0)"
   ]
  },
  {
   "cell_type": "code",
   "execution_count": 119,
   "id": "bf4fcc00-ce03-4fd0-861c-2a456bb98c5e",
   "metadata": {},
   "outputs": [
    {
     "data": {
      "text/plain": [
       "[\"Google was founded on September 4, 1998, by Larry Page and Sergey Brin while they were PhD students at Stanford University in California. Together they own about 14% of its publicly listed shares and control 56% of the stockholder voting power through super-voting stock. The company went public via an initial public offering (IPO) in 2004. In 2015, Google was reorganized as a wholly owned subsidiary of Alphabet Inc. Google is Alphabet's largest subsidiary and is a holding company for Alphabet's Internet properties and interests. Sundar Pichai was appointed CEO of Google on October 24, 2015, replacing Larry Page, who became the CEO of Alphabet. On December 3, 2019, Pichai also became the CEO of Alphabet.[14]\\n\",\n",
       " '\\n',\n",
       " 'The company has since rapidly grown to offer a multitude of products and services beyond Google Search, many of which hold dominant market positions. These products address a wide range of use cases, including email (Gmail), navigation (Maps), cloud computing (Cloud), web browsing (Chrome), video sharing (YouTube), productivity (Workspace), operating systems (Android), cloud storage (Drive), language translation (Translate), photo storage (Photo), video calling (Meet), smart home (Nest), smartphones (Pixel), wearable technology (Fitbit), gaming (Stadia), music streaming (YouTube Music), video on demand (TV), artificial intelligence (Assistant), machine learning APIs (TensorFlow), AI chips (TPU), and more. Discontinued Google products include Glass,[citation needed] Google+, Reader, Play Music, Nexus, Hangouts, and Inbox by Gmail.[15][16]\\n',\n",
       " '\\n',\n",
       " \"Google's other ventures outside of internet services and consumer electronics include quantum computing (Sycamore), self-driving cars (Waymo, formerly the Google Self-Driving Car Project), smart cities (Sidewalk Labs), and transformer models (Google Brain).[17]\\n\",\n",
       " '\\n',\n",
       " 'Google and YouTube are the two most visited websites worldwide followed by Facebook and Twitter. Google is also the largest search engine, mapping and navigation application, email provider, office suite, video sharing platform, photo and cloud storage provider, mobile operating system, web browser, ML framework, and AI virtual assistant provider in the world as measured by market share. On the list of most valuable brands, Google is ranked second by Forbes[18] and fourth by Interbrand.[19] It has received significant criticism involving issues such as privacy concerns, tax avoidance, censorship, search neutrality, antitrust and abuse of its monopoly position.\\n',\n",
       " \"ContentsGoogle was founded on September 4, 1998, by Larry Page and Sergey Brin while they were PhD students at Stanford University in California. Together they own about 14% of its publicly listed shares and control 56% of the stockholder voting power through super-voting stock. The company went public via an initial public offering (IPO) in 2004. In 2015, Google was reorganized as a wholly owned subsidiary of Alphabet Inc. Google is Alphabet's largest subsidiary and is a holding company for Alphabet's Internet properties and interests. Sundar Pichai was appointed CEO of Google on October 24, 2015, replacing Larry Page, who became the CEO of Alphabet. On December 3, 2019, Pichai also became the CEO of Alphabet.[14]\\n\"]"
      ]
     },
     "execution_count": 119,
     "metadata": {},
     "output_type": "execute_result"
    }
   ],
   "source": [
    "f.readlines()"
   ]
  },
  {
   "cell_type": "code",
   "execution_count": 121,
   "id": "743b6fae-26f5-4cd5-9251-06545b6c3741",
   "metadata": {},
   "outputs": [
    {
     "data": {
      "text/plain": [
       "8"
      ]
     },
     "execution_count": 121,
     "metadata": {},
     "output_type": "execute_result"
    }
   ],
   "source": [
    "len(f.readlines())"
   ]
  },
  {
   "cell_type": "code",
   "execution_count": 125,
   "id": "cfd811d1-367a-4803-86d6-2ecdd60ac9cf",
   "metadata": {},
   "outputs": [],
   "source": [
    "l=f.readlines()"
   ]
  },
  {
   "cell_type": "code",
   "execution_count": 126,
   "id": "148a1d24-94d6-4b26-ae7c-de8a79d6f54e",
   "metadata": {},
   "outputs": [
    {
     "data": {
      "text/plain": [
       "[\"Google was founded on September 4, 1998, by Larry Page and Sergey Brin while they were PhD students at Stanford University in California. Together they own about 14% of its publicly listed shares and control 56% of the stockholder voting power through super-voting stock. The company went public via an initial public offering (IPO) in 2004. In 2015, Google was reorganized as a wholly owned subsidiary of Alphabet Inc. Google is Alphabet's largest subsidiary and is a holding company for Alphabet's Internet properties and interests. Sundar Pichai was appointed CEO of Google on October 24, 2015, replacing Larry Page, who became the CEO of Alphabet. On December 3, 2019, Pichai also became the CEO of Alphabet.[14]\\n\",\n",
       " '\\n',\n",
       " 'The company has since rapidly grown to offer a multitude of products and services beyond Google Search, many of which hold dominant market positions. These products address a wide range of use cases, including email (Gmail), navigation (Maps), cloud computing (Cloud), web browsing (Chrome), video sharing (YouTube), productivity (Workspace), operating systems (Android), cloud storage (Drive), language translation (Translate), photo storage (Photo), video calling (Meet), smart home (Nest), smartphones (Pixel), wearable technology (Fitbit), gaming (Stadia), music streaming (YouTube Music), video on demand (TV), artificial intelligence (Assistant), machine learning APIs (TensorFlow), AI chips (TPU), and more. Discontinued Google products include Glass,[citation needed] Google+, Reader, Play Music, Nexus, Hangouts, and Inbox by Gmail.[15][16]\\n',\n",
       " '\\n',\n",
       " \"Google's other ventures outside of internet services and consumer electronics include quantum computing (Sycamore), self-driving cars (Waymo, formerly the Google Self-Driving Car Project), smart cities (Sidewalk Labs), and transformer models (Google Brain).[17]\\n\",\n",
       " '\\n',\n",
       " 'Google and YouTube are the two most visited websites worldwide followed by Facebook and Twitter. Google is also the largest search engine, mapping and navigation application, email provider, office suite, video sharing platform, photo and cloud storage provider, mobile operating system, web browser, ML framework, and AI virtual assistant provider in the world as measured by market share. On the list of most valuable brands, Google is ranked second by Forbes[18] and fourth by Interbrand.[19] It has received significant criticism involving issues such as privacy concerns, tax avoidance, censorship, search neutrality, antitrust and abuse of its monopoly position.\\n',\n",
       " \"ContentsGoogle was founded on September 4, 1998, by Larry Page and Sergey Brin while they were PhD students at Stanford University in California. Together they own about 14% of its publicly listed shares and control 56% of the stockholder voting power through super-voting stock. The company went public via an initial public offering (IPO) in 2004. In 2015, Google was reorganized as a wholly owned subsidiary of Alphabet Inc. Google is Alphabet's largest subsidiary and is a holding company for Alphabet's Internet properties and interests. Sundar Pichai was appointed CEO of Google on October 24, 2015, replacing Larry Page, who became the CEO of Alphabet. On December 3, 2019, Pichai also became the CEO of Alphabet.[14]\\n\"]"
      ]
     },
     "execution_count": 126,
     "metadata": {},
     "output_type": "execute_result"
    }
   ],
   "source": [
    "l"
   ]
  },
  {
   "cell_type": "code",
   "execution_count": 127,
   "id": "de2f8dd8-a864-473b-b1d0-4d4940653642",
   "metadata": {},
   "outputs": [
    {
     "data": {
      "text/plain": [
       "\"Google was founded on September 4, 1998, by Larry Page and Sergey Brin while they were PhD students at Stanford University in California. Together they own about 14% of its publicly listed shares and control 56% of the stockholder voting power through super-voting stock. The company went public via an initial public offering (IPO) in 2004. In 2015, Google was reorganized as a wholly owned subsidiary of Alphabet Inc. Google is Alphabet's largest subsidiary and is a holding company for Alphabet's Internet properties and interests. Sundar Pichai was appointed CEO of Google on October 24, 2015, replacing Larry Page, who became the CEO of Alphabet. On December 3, 2019, Pichai also became the CEO of Alphabet.[14]\\n\""
      ]
     },
     "execution_count": 127,
     "metadata": {},
     "output_type": "execute_result"
    }
   ],
   "source": [
    "l[0]"
   ]
  },
  {
   "cell_type": "code",
   "execution_count": 128,
   "id": "9eb5c861-fead-492a-a6f3-19bf51acad83",
   "metadata": {},
   "outputs": [
    {
     "data": {
      "text/plain": [
       "['Google',\n",
       " 'was',\n",
       " 'founded',\n",
       " 'on',\n",
       " 'September',\n",
       " '4,',\n",
       " '1998,',\n",
       " 'by',\n",
       " 'Larry',\n",
       " 'Page',\n",
       " 'and',\n",
       " 'Sergey',\n",
       " 'Brin',\n",
       " 'while',\n",
       " 'they',\n",
       " 'were',\n",
       " 'PhD',\n",
       " 'students',\n",
       " 'at',\n",
       " 'Stanford',\n",
       " 'University',\n",
       " 'in',\n",
       " 'California.',\n",
       " 'Together',\n",
       " 'they',\n",
       " 'own',\n",
       " 'about',\n",
       " '14%',\n",
       " 'of',\n",
       " 'its',\n",
       " 'publicly',\n",
       " 'listed',\n",
       " 'shares',\n",
       " 'and',\n",
       " 'control',\n",
       " '56%',\n",
       " 'of',\n",
       " 'the',\n",
       " 'stockholder',\n",
       " 'voting',\n",
       " 'power',\n",
       " 'through',\n",
       " 'super-voting',\n",
       " 'stock.',\n",
       " 'The',\n",
       " 'company',\n",
       " 'went',\n",
       " 'public',\n",
       " 'via',\n",
       " 'an',\n",
       " 'initial',\n",
       " 'public',\n",
       " 'offering',\n",
       " '(IPO)',\n",
       " 'in',\n",
       " '2004.',\n",
       " 'In',\n",
       " '2015,',\n",
       " 'Google',\n",
       " 'was',\n",
       " 'reorganized',\n",
       " 'as',\n",
       " 'a',\n",
       " 'wholly',\n",
       " 'owned',\n",
       " 'subsidiary',\n",
       " 'of',\n",
       " 'Alphabet',\n",
       " 'Inc.',\n",
       " 'Google',\n",
       " 'is',\n",
       " \"Alphabet's\",\n",
       " 'largest',\n",
       " 'subsidiary',\n",
       " 'and',\n",
       " 'is',\n",
       " 'a',\n",
       " 'holding',\n",
       " 'company',\n",
       " 'for',\n",
       " \"Alphabet's\",\n",
       " 'Internet',\n",
       " 'properties',\n",
       " 'and',\n",
       " 'interests.',\n",
       " 'Sundar',\n",
       " 'Pichai',\n",
       " 'was',\n",
       " 'appointed',\n",
       " 'CEO',\n",
       " 'of',\n",
       " 'Google',\n",
       " 'on',\n",
       " 'October',\n",
       " '24,',\n",
       " '2015,',\n",
       " 'replacing',\n",
       " 'Larry',\n",
       " 'Page,',\n",
       " 'who',\n",
       " 'became',\n",
       " 'the',\n",
       " 'CEO',\n",
       " 'of',\n",
       " 'Alphabet.',\n",
       " 'On',\n",
       " 'December',\n",
       " '3,',\n",
       " '2019,',\n",
       " 'Pichai',\n",
       " 'also',\n",
       " 'became',\n",
       " 'the',\n",
       " 'CEO',\n",
       " 'of',\n",
       " 'Alphabet.[14]']"
      ]
     },
     "execution_count": 128,
     "metadata": {},
     "output_type": "execute_result"
    }
   ],
   "source": [
    "l[0].split()"
   ]
  },
  {
   "cell_type": "code",
   "execution_count": 131,
   "id": "db3073c2-b275-4f0e-900f-49e67e887b8b",
   "metadata": {},
   "outputs": [],
   "source": [
    "l1=[]\n",
    "for i in l[0].split():\n",
    "    l1.append(i[0])"
   ]
  },
  {
   "cell_type": "code",
   "execution_count": 132,
   "id": "83220770-3d8a-4958-9bd5-5e63ce04decd",
   "metadata": {},
   "outputs": [
    {
     "data": {
      "text/plain": [
       "['G',\n",
       " 'w',\n",
       " 'f',\n",
       " 'o',\n",
       " 'S',\n",
       " '4',\n",
       " '1',\n",
       " 'b',\n",
       " 'L',\n",
       " 'P',\n",
       " 'a',\n",
       " 'S',\n",
       " 'B',\n",
       " 'w',\n",
       " 't',\n",
       " 'w',\n",
       " 'P',\n",
       " 's',\n",
       " 'a',\n",
       " 'S',\n",
       " 'U',\n",
       " 'i',\n",
       " 'C',\n",
       " 'T',\n",
       " 't',\n",
       " 'o',\n",
       " 'a',\n",
       " '1',\n",
       " 'o',\n",
       " 'i',\n",
       " 'p',\n",
       " 'l',\n",
       " 's',\n",
       " 'a',\n",
       " 'c',\n",
       " '5',\n",
       " 'o',\n",
       " 't',\n",
       " 's',\n",
       " 'v',\n",
       " 'p',\n",
       " 't',\n",
       " 's',\n",
       " 's',\n",
       " 'T',\n",
       " 'c',\n",
       " 'w',\n",
       " 'p',\n",
       " 'v',\n",
       " 'a',\n",
       " 'i',\n",
       " 'p',\n",
       " 'o',\n",
       " '(',\n",
       " 'i',\n",
       " '2',\n",
       " 'I',\n",
       " '2',\n",
       " 'G',\n",
       " 'w',\n",
       " 'r',\n",
       " 'a',\n",
       " 'a',\n",
       " 'w',\n",
       " 'o',\n",
       " 's',\n",
       " 'o',\n",
       " 'A',\n",
       " 'I',\n",
       " 'G',\n",
       " 'i',\n",
       " 'A',\n",
       " 'l',\n",
       " 's',\n",
       " 'a',\n",
       " 'i',\n",
       " 'a',\n",
       " 'h',\n",
       " 'c',\n",
       " 'f',\n",
       " 'A',\n",
       " 'I',\n",
       " 'p',\n",
       " 'a',\n",
       " 'i',\n",
       " 'S',\n",
       " 'P',\n",
       " 'w',\n",
       " 'a',\n",
       " 'C',\n",
       " 'o',\n",
       " 'G',\n",
       " 'o',\n",
       " 'O',\n",
       " '2',\n",
       " '2',\n",
       " 'r',\n",
       " 'L',\n",
       " 'P',\n",
       " 'w',\n",
       " 'b',\n",
       " 't',\n",
       " 'C',\n",
       " 'o',\n",
       " 'A',\n",
       " 'O',\n",
       " 'D',\n",
       " '3',\n",
       " '2',\n",
       " 'P',\n",
       " 'a',\n",
       " 'b',\n",
       " 't',\n",
       " 'C',\n",
       " 'o',\n",
       " 'A']"
      ]
     },
     "execution_count": 132,
     "metadata": {},
     "output_type": "execute_result"
    }
   ],
   "source": [
    "l1"
   ]
  },
  {
   "cell_type": "code",
   "execution_count": 133,
   "id": "513432ca-2c4c-4c15-b635-4c3cd4cfb486",
   "metadata": {},
   "outputs": [
    {
     "name": "stdout",
     "output_type": "stream",
     "text": [
      "'10.Functions part2.ipynb'           'If,Else,For Loop.ipynb'\n",
      "'8.Python Program discussion.ipynb'  'Iterator Generator, File System.ipynb'\n",
      " 9.Functions.ipynb                    test1.txt\n",
      "'9.Functions Solns.ipynb'             test2.txt\n",
      " Day2.ipynb                           test.txt\n",
      "'For Loops & While Loops.ipynb'      'Tuple,Set & Dict.ipynb'\n",
      " google.txt\n"
     ]
    }
   ],
   "source": [
    "%ls"
   ]
  },
  {
   "cell_type": "code",
   "execution_count": 143,
   "id": "3999c7da-58ea-42cd-b327-4676fbdbbb19",
   "metadata": {},
   "outputs": [],
   "source": [
    "f=open(\"google.txt\",'r+')"
   ]
  },
  {
   "cell_type": "code",
   "execution_count": 137,
   "id": "314a215b-8ca4-4e04-b4df-92f49a62333d",
   "metadata": {},
   "outputs": [
    {
     "data": {
      "text/plain": [
       "'google.txt'"
      ]
     },
     "execution_count": 137,
     "metadata": {},
     "output_type": "execute_result"
    }
   ],
   "source": [
    "f.name"
   ]
  },
  {
   "cell_type": "code",
   "execution_count": 138,
   "id": "480d6519-5696-41ae-8cc7-c22bc35121d8",
   "metadata": {},
   "outputs": [],
   "source": [
    "l=[\"this is my line1\",\"Ths is my line2\",\"This is my line3\",\"This is my line4\"]"
   ]
  },
  {
   "cell_type": "code",
   "execution_count": 140,
   "id": "2bee8fa9-0a7e-456b-b110-802755dd20eb",
   "metadata": {},
   "outputs": [
    {
     "data": {
      "text/plain": [
       "35"
      ]
     },
     "execution_count": 140,
     "metadata": {},
     "output_type": "execute_result"
    }
   ],
   "source": [
    "f.write(\"I can write lines at cureent cursor\")"
   ]
  },
  {
   "cell_type": "code",
   "execution_count": 141,
   "id": "2a7648c6-a9e3-4073-9441-268a03af331f",
   "metadata": {},
   "outputs": [],
   "source": [
    "f.writelines(l)"
   ]
  },
  {
   "cell_type": "code",
   "execution_count": 142,
   "id": "d0858ec5-be96-42e3-9f7c-db70c3310385",
   "metadata": {},
   "outputs": [],
   "source": [
    "f.close()"
   ]
  },
  {
   "cell_type": "code",
   "execution_count": 144,
   "id": "59fddfe4-37d0-472d-9132-efddd69175bf",
   "metadata": {},
   "outputs": [
    {
     "data": {
      "text/plain": [
       "[\"I can write lines at cureent cursorthis is my line1Ths is my line2This is my line3This is my line4s at Stanford University in California. Together they own about 14% of its publicly listed shares and control 56% of the stockholder voting power through super-voting stock. The company went public via an initial public offering (IPO) in 2004. In 2015, Google was reorganized as a wholly owned subsidiary of Alphabet Inc. Google is Alphabet's largest subsidiary and is a holding company for Alphabet's Internet properties and interests. Sundar Pichai was appointed CEO of Google on October 24, 2015, replacing Larry Page, who became the CEO of Alphabet. On December 3, 2019, Pichai also became the CEO of Alphabet.[14]\\n\",\n",
       " '\\n',\n",
       " 'The company has since rapidly grown to offer a multitude of products and services beyond Google Search, many of which hold dominant market positions. These products address a wide range of use cases, including email (Gmail), navigation (Maps), cloud computing (Cloud), web browsing (Chrome), video sharing (YouTube), productivity (Workspace), operating systems (Android), cloud storage (Drive), language translation (Translate), photo storage (Photo), video calling (Meet), smart home (Nest), smartphones (Pixel), wearable technology (Fitbit), gaming (Stadia), music streaming (YouTube Music), video on demand (TV), artificial intelligence (Assistant), machine learning APIs (TensorFlow), AI chips (TPU), and more. Discontinued Google products include Glass,[citation needed] Google+, Reader, Play Music, Nexus, Hangouts, and Inbox by Gmail.[15][16]\\n',\n",
       " '\\n',\n",
       " \"Google's other ventures outside of internet services and consumer electronics include quantum computing (Sycamore), self-driving cars (Waymo, formerly the Google Self-Driving Car Project), smart cities (Sidewalk Labs), and transformer models (Google Brain).[17]\\n\",\n",
       " '\\n',\n",
       " 'Google and YouTube are the two most visited websites worldwide followed by Facebook and Twitter. Google is also the largest search engine, mapping and navigation application, email provider, office suite, video sharing platform, photo and cloud storage provider, mobile operating system, web browser, ML framework, and AI virtual assistant provider in the world as measured by market share. On the list of most valuable brands, Google is ranked second by Forbes[18] and fourth by Interbrand.[19] It has received significant criticism involving issues such as privacy concerns, tax avoidance, censorship, search neutrality, antitrust and abuse of its monopoly position.\\n',\n",
       " \"ContentsGoogle was founded on September 4, 1998, by Larry Page and Sergey Brin while they were PhD students at Stanford University in California. Together they own about 14% of its publicly listed shares and control 56% of the stockholder voting power through super-voting stock. The company went public via an initial public offering (IPO) in 2004. In 2015, Google was reorganized as a wholly owned subsidiary of Alphabet Inc. Google is Alphabet's largest subsidiary and is a holding company for Alphabet's Internet properties and interests. Sundar Pichai was appointed CEO of Google on October 24, 2015, replacing Larry Page, who became the CEO of Alphabet. On December 3, 2019, Pichai also became the CEO of Alphabet.[14]\\n\"]"
      ]
     },
     "execution_count": 144,
     "metadata": {},
     "output_type": "execute_result"
    }
   ],
   "source": [
    "f.readlines()"
   ]
  },
  {
   "cell_type": "code",
   "execution_count": 145,
   "id": "e256571d-2d49-4a59-8f18-20318ebe40b8",
   "metadata": {},
   "outputs": [],
   "source": [
    "f.close()"
   ]
  },
  {
   "cell_type": "code",
   "execution_count": 146,
   "id": "7151f33a-a97b-43ee-926d-4bc1e78abb46",
   "metadata": {},
   "outputs": [
    {
     "ename": "ValueError",
     "evalue": "I/O operation on closed file.",
     "output_type": "error",
     "traceback": [
      "\u001b[0;31m---------------------------------------------------------------------------\u001b[0m",
      "\u001b[0;31mValueError\u001b[0m                                Traceback (most recent call last)",
      "Input \u001b[0;32mIn [146]\u001b[0m, in \u001b[0;36m<cell line: 1>\u001b[0;34m()\u001b[0m\n\u001b[0;32m----> 1\u001b[0m \u001b[43mf\u001b[49m\u001b[38;5;241;43m.\u001b[39;49m\u001b[43mflush\u001b[49m\u001b[43m(\u001b[49m\u001b[43m)\u001b[49m\n",
      "\u001b[0;31mValueError\u001b[0m: I/O operation on closed file."
     ]
    }
   ],
   "source": [
    "f.flush()"
   ]
  },
  {
   "cell_type": "code",
   "execution_count": 147,
   "id": "12246357-5509-4457-9477-5917cf211a21",
   "metadata": {},
   "outputs": [],
   "source": [
    "f=open(\"google.txt\",\"r+\")"
   ]
  },
  {
   "cell_type": "code",
   "execution_count": 148,
   "id": "1e111ab2-13a8-478c-81e1-7c2366ea6419",
   "metadata": {},
   "outputs": [
    {
     "data": {
      "text/plain": [
       "59"
      ]
     },
     "execution_count": 148,
     "metadata": {},
     "output_type": "execute_result"
    }
   ],
   "source": [
    "f.fileno()"
   ]
  },
  {
   "cell_type": "code",
   "execution_count": 149,
   "id": "085dfc25-d180-47f0-a370-c539ce59d0e7",
   "metadata": {},
   "outputs": [
    {
     "name": "stdout",
     "output_type": "stream",
     "text": [
      "'10.Functions part2.ipynb'           'If,Else,For Loop.ipynb'\n",
      "'8.Python Program discussion.ipynb'  'Iterator Generator, File System.ipynb'\n",
      " 9.Functions.ipynb                    test1.txt\n",
      "'9.Functions Solns.ipynb'             test2.txt\n",
      " Day2.ipynb                           test.txt\n",
      "'For Loops & While Loops.ipynb'      'Tuple,Set & Dict.ipynb'\n",
      " google.txt\n"
     ]
    }
   ],
   "source": [
    "%ls"
   ]
  },
  {
   "cell_type": "code",
   "execution_count": 150,
   "id": "717b27cd-722c-4318-b953-4fea27a0f8b0",
   "metadata": {},
   "outputs": [],
   "source": [
    "import os"
   ]
  },
  {
   "cell_type": "code",
   "execution_count": 151,
   "id": "024dad8d-9a91-4ea6-b2b7-1fbad94f06dd",
   "metadata": {},
   "outputs": [],
   "source": [
    "os.remove('google.txt')"
   ]
  },
  {
   "cell_type": "code",
   "execution_count": 152,
   "id": "4b23fa4a-8d3c-496c-98cd-ba3d5fef86e1",
   "metadata": {},
   "outputs": [
    {
     "name": "stdout",
     "output_type": "stream",
     "text": [
      "'10.Functions part2.ipynb'           'If,Else,For Loop.ipynb'\n",
      "'8.Python Program discussion.ipynb'  'Iterator Generator, File System.ipynb'\n",
      " 9.Functions.ipynb                    test1.txt\n",
      "'9.Functions Solns.ipynb'             test2.txt\n",
      " Day2.ipynb                           test.txt\n",
      "'For Loops & While Loops.ipynb'      'Tuple,Set & Dict.ipynb'\n"
     ]
    }
   ],
   "source": [
    "%ls"
   ]
  },
  {
   "cell_type": "code",
   "execution_count": 153,
   "id": "9cfd87c2-66ae-4b14-81ca-f8815ad3b815",
   "metadata": {},
   "outputs": [
    {
     "data": {
      "text/plain": [
       "'/home/15081998kr18ine'"
      ]
     },
     "execution_count": 153,
     "metadata": {},
     "output_type": "execute_result"
    }
   ],
   "source": [
    "os.getcwd()"
   ]
  },
  {
   "cell_type": "code",
   "execution_count": 154,
   "id": "0c3ba87d-83fc-4604-8e47-57e9b47b321c",
   "metadata": {},
   "outputs": [
    {
     "data": {
      "text/plain": [
       "['test.txt',\n",
       " '.ipython',\n",
       " '.local',\n",
       " '.jupyter',\n",
       " 'Tuple,Set & Dict.ipynb',\n",
       " 'test2.txt',\n",
       " 'test1.txt',\n",
       " 'Iterator Generator, File System.ipynb',\n",
       " '9.Functions Solns.ipynb',\n",
       " 'If,Else,For Loop.ipynb',\n",
       " 'Day2.ipynb',\n",
       " '10.Functions part2.ipynb',\n",
       " '.bash_logout',\n",
       " '8.Python Program discussion.ipynb',\n",
       " '.profile',\n",
       " 'For Loops & While Loops.ipynb',\n",
       " '.cache',\n",
       " '9.Functions.ipynb',\n",
       " '.bashrc',\n",
       " '.ipynb_checkpoints']"
      ]
     },
     "execution_count": 154,
     "metadata": {},
     "output_type": "execute_result"
    }
   ],
   "source": [
    "os.listdir()"
   ]
  },
  {
   "cell_type": "code",
   "execution_count": null,
   "id": "ea4b7442-3a85-4b2b-9ff7-48fa1556a5f1",
   "metadata": {},
   "outputs": [],
   "source": []
  }
 ],
 "metadata": {
  "kernelspec": {
   "display_name": "Python 3 (ipykernel)",
   "language": "python",
   "name": "python3"
  },
  "language_info": {
   "codemirror_mode": {
    "name": "ipython",
    "version": 3
   },
   "file_extension": ".py",
   "mimetype": "text/x-python",
   "name": "python",
   "nbconvert_exporter": "python",
   "pygments_lexer": "ipython3",
   "version": "3.9.12"
  }
 },
 "nbformat": 4,
 "nbformat_minor": 5
}
