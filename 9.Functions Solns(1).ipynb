{
 "cells": [
  {
   "cell_type": "raw",
   "id": "18e22acf-64e4-43be-9724-0c899a4b7f6d",
   "metadata": {},
   "source": [
    "1. Fn which will take string and return a len of it without using a inbuilt fun len\n",
    "2. Fn which will be able to print an index of all primitive element which you will pass(list, string)\n",
    "3. Fn which will take a input as a dictionary and give me output as a list of all the values even in case of 2 level testing should work\n",
    "4. Fn to take other fn as input and return me an output\n",
    "5. Fn which will take multiple list as a input and give me concatnation of all the elements as and output\n",
    "6. Fn which will take list as an input  and return an index of each element like a inbuilt index function but even if we have repetative element it should return indexes\n",
    "7. Fn which will return list of all the file names from a directory.\n",
    "8. Fn which will show your system configuration\n",
    "9. Fn which will show date and time\n",
    "10. Fn which will be able to read a image file and show it to you\n",
    "11. Fn which can read video file and play for you\n",
    "12. Fn which can move file from one dir to other dir\n",
    "13. Fn which will shutdown your system\n",
    "14. Fn which will be able to access your maul\n",
    "15. Fn which which can send a mail to anyonw\n",
    "16. FN to read a complete pdf file.\n",
    "17. Fn to read a word file\n",
    "18. Fn which can help you to filter only word file from a dir\n",
    "19. Fn which can print ip address of your system\n",
    "20. Fn which will be able to append 2 pdf files."
   ]
  },
  {
   "cell_type": "markdown",
   "id": "efb9ff1f-8030-436d-a74b-cf01f5b9464e",
   "metadata": {},
   "source": [
    "#1. Fn which will take string and return a len of it without using a inbuilt fun len"
   ]
  },
  {
   "cell_type": "code",
   "execution_count": 9,
   "id": "425168e9-6b90-47aa-8717-b75e45e9c77e",
   "metadata": {},
   "outputs": [],
   "source": [
    "def strlen(s):\n",
    "    \"\"\"\n",
    "    This Func returns the length of a string, for the string passed\n",
    "    \"\"\"\n",
    "    if type(s)!=str:\n",
    "        return \"Please provide a strinf for the proper output\"\n",
    "    count=0\n",
    "    for i in s:\n",
    "        count+=1\n",
    "    return count\n"
   ]
  },
  {
   "cell_type": "code",
   "execution_count": 10,
   "id": "575a7e91-f7f3-4d32-b0a0-ebebe8029b70",
   "metadata": {},
   "outputs": [
    {
     "data": {
      "text/plain": [
       "4"
      ]
     },
     "execution_count": 10,
     "metadata": {},
     "output_type": "execute_result"
    }
   ],
   "source": [
    "strlen(\"sdfs\")"
   ]
  },
  {
   "cell_type": "code",
   "execution_count": null,
   "id": "eaf63d63-bb12-4753-8e14-4e5ebc92c5ff",
   "metadata": {},
   "outputs": [
    {
     "ename": "IndexError",
     "evalue": "string index out of range",
     "output_type": "error",
     "traceback": [
      "\u001b[0;31m---------------------------------------------------------------------------\u001b[0m",
      "\u001b[0;31mIndexError\u001b[0m                                Traceback (most recent call last)",
      "Input \u001b[0;32mIn [5]\u001b[0m, in \u001b[0;36m<cell line: 2>\u001b[0;34m()\u001b[0m\n\u001b[1;32m      1\u001b[0m s\u001b[38;5;241m=\u001b[39m\u001b[38;5;124m\"\u001b[39m\u001b[38;5;124mKrish\u001b[39m\u001b[38;5;124m\"\u001b[39m\n\u001b[0;32m----> 2\u001b[0m \u001b[43ms\u001b[49m\u001b[43m[\u001b[49m\u001b[38;5;241;43m6\u001b[39;49m\u001b[43m]\u001b[49m\n",
      "\u001b[0;31mIndexError\u001b[0m: string index out of range"
     ]
    }
   ],
   "source": [
    "s=\"Krish\"\n",
    "s[6]"
   ]
  },
  {
   "cell_type": "markdown",
   "id": "2bae7a6d-e599-4883-9971-afaf7c7d1ba5",
   "metadata": {},
   "source": [
    "#2. Fn which will be able to print an index of all primitive element which you will pass(list, string)"
   ]
  },
  {
   "cell_type": "code",
   "execution_count": 36,
   "id": "1efbd37b-3a96-4009-9d7f-8e969375ded7",
   "metadata": {},
   "outputs": [],
   "source": [
    "def primindex(l):\n",
    "    \"\"\"\n",
    "    This Fcn takes list as an input and prints all the indexes that have primitive data types(i.e.int,\n",
    "    bool,str,float)\n",
    "    \"\"\"\n",
    "    if type(l)!=list:\n",
    "        print(\"Please provide proper inputs i.e.list\")\n",
    "    else:\n",
    "        for i in range(len(l)):\n",
    "            if type(l[i]) in(int,str,bool,float):\n",
    "                #print(\"The type of \",i,\" th pos is primitive(\",type(l[i]),\") type\")\n",
    "                print(i,end=\" \")"
   ]
  },
  {
   "cell_type": "code",
   "execution_count": 37,
   "id": "1831b0e4-a818-4c27-b23a-fac06adc9c64",
   "metadata": {},
   "outputs": [],
   "source": [
    "l=[23,544,False,4+72j,\"Rajesh\",73.342,[23,34,13,\"see\"],(123,34,\"rewah\"),\"sign\",123,34.32]"
   ]
  },
  {
   "cell_type": "code",
   "execution_count": 39,
   "id": "4574cd0f-32c3-40b5-8ef7-3fae27703e52",
   "metadata": {},
   "outputs": [
    {
     "name": "stdout",
     "output_type": "stream",
     "text": [
      "0 1 2 4 5 8 9 10 "
     ]
    }
   ],
   "source": [
    "primindex(l)"
   ]
  },
  {
   "cell_type": "markdown",
   "id": "16726dc1-a88e-4cef-a967-d9958f38bd46",
   "metadata": {},
   "source": [
    "#3. Fn which will take a input as a dictionary and give me output as a list of \n",
    "#all the values even in case of 2 level testing should work\n",
    "#4. Fn to take other fn as input and return me an output"
   ]
  },
  {
   "cell_type": "code",
   "execution_count": 41,
   "id": "26ac2cb7-608b-4a04-90d1-cf910d3b7165",
   "metadata": {},
   "outputs": [],
   "source": [
    "def listOfValsInDict(d):\n",
    "    \"\"\"\n",
    "    This Fun takes dict as input and returns list of values(even for dict inside a dict)\n",
    "    \"\"\"\n",
    "    l=[]\n",
    "    if type(d)!=dict:\n",
    "        return \"Please provide a dict object\"\n",
    "    for i in d.values():\n",
    "        if type(i) ==dict:\n",
    "            l1=listOfValsInDict(i)\n",
    "            l.extend(l1)\n",
    "        else:\n",
    "            l.append(i)\n",
    "    return l;\n",
    "        "
   ]
  },
  {
   "cell_type": "code",
   "execution_count": 42,
   "id": "538231db-54c7-4d0b-8fb1-7555d57e3b7b",
   "metadata": {},
   "outputs": [
    {
     "data": {
      "text/plain": [
       "'Please provide a dict object'"
      ]
     },
     "execution_count": 42,
     "metadata": {},
     "output_type": "execute_result"
    }
   ],
   "source": [
    "listOfValsInDict(l)"
   ]
  },
  {
   "cell_type": "code",
   "execution_count": 47,
   "id": "84b24a50-06d1-49f8-96ba-bed09794c572",
   "metadata": {},
   "outputs": [],
   "source": [
    "d={'a':\"Gon\",'b':\"Hisoka\",'c':\"Leorio\",'d':True,'e':(12,23,{\"s1\":90,'s2':98,'s3':96},8,34),\n",
    "   'f':{'d1':23,'d2':{'e1':\"Naruto\",'e2':\"Sasuke\",'e3':\"Sai\"},'d3':34},'g':[23.3,234,232]}"
   ]
  },
  {
   "cell_type": "code",
   "execution_count": 48,
   "id": "6affb3aa-d2de-473f-9b6b-eb42bade7e86",
   "metadata": {},
   "outputs": [
    {
     "data": {
      "text/plain": [
       "['Gon',\n",
       " 'Hisoka',\n",
       " 'Leorio',\n",
       " True,\n",
       " (12, 23, {'s1': 90, 's2': 98, 's3': 96}, 8, 34),\n",
       " 23,\n",
       " 'Naruto',\n",
       " 'Sasuke',\n",
       " 'Sai',\n",
       " 34,\n",
       " [23.3, 234, 232]]"
      ]
     },
     "execution_count": 48,
     "metadata": {},
     "output_type": "execute_result"
    }
   ],
   "source": [
    "listOfValsInDict(d)"
   ]
  },
  {
   "cell_type": "markdown",
   "id": "d4f71d4f-b3cf-4d10-96c1-4f4f1d05d1da",
   "metadata": {},
   "source": [
    "#5. Fn which will take multiple list as a input and give me concatnation of all the elements as and output\n"
   ]
  },
  {
   "cell_type": "code",
   "execution_count": 2,
   "id": "0c141038-f89c-4172-922e-c8074e0714f3",
   "metadata": {},
   "outputs": [],
   "source": [
    "def additionoflists(*args):\n",
    "    \"\"\"\n",
    "    This Func returns concatination of all the lists passed as the inputs\n",
    "    \"\"\"\n",
    "    l=[]\n",
    "    for i in args:\n",
    "        if type(i)== list:\n",
    "            l.extend(i)\n",
    "    return l\n",
    "        "
   ]
  },
  {
   "cell_type": "code",
   "execution_count": 4,
   "id": "a011a533-9c16-48e4-af33-7901632dce8c",
   "metadata": {},
   "outputs": [
    {
     "data": {
      "text/plain": [
       "[2, 3, 2, 34, 53, 'wf', 34, True, (5+6j)]"
      ]
     },
     "execution_count": 4,
     "metadata": {},
     "output_type": "execute_result"
    }
   ],
   "source": [
    "additionoflists([2,3,2,34,53],[\"wf\",34,True,5+6j],(234,435,2134,234),\"fd\",\"jfg\")"
   ]
  },
  {
   "cell_type": "code",
   "execution_count": 5,
   "id": "5f76017a-15a8-4e2b-b5b0-a8fa3454902b",
   "metadata": {},
   "outputs": [
    {
     "data": {
      "text/plain": [
       "[2, 3, 2, 34, 53, 'wf', 34, True, (5+6j)]"
      ]
     },
     "execution_count": 5,
     "metadata": {},
     "output_type": "execute_result"
    }
   ],
   "source": [
    "[2,3,2,34,53]+[\"wf\",34,True,5+6j]"
   ]
  },
  {
   "cell_type": "markdown",
   "id": "90731784-6a96-4ed6-8c57-dbbabe1d366f",
   "metadata": {},
   "source": [
    "#6. Fn which will take list as an input  and return an index of each element like a inbuilt index function\n",
    "#but even if we have repetative element it should return indexes"
   ]
  },
  {
   "cell_type": "code",
   "execution_count": 6,
   "id": "8c0d44d2-0d20-4e30-bc54-44861869b4f6",
   "metadata": {},
   "outputs": [],
   "source": [
    "def indices(l,a):\n",
    "    \"\"\"\n",
    "    This Func returns indexes of all the positions where the parameter passed appears in either list,tuple,string\n",
    "    \"\"\"\n",
    "    l1=[]\n",
    "    for i in range(len(l)):\n",
    "        if l[i]==a:\n",
    "            l1.append(i)\n",
    "    return l1"
   ]
  },
  {
   "cell_type": "code",
   "execution_count": 7,
   "id": "05fd8f98-fa04-410f-ab43-538511198ea0",
   "metadata": {},
   "outputs": [
    {
     "data": {
      "text/plain": [
       "[1, 3, 7, 13, 16, 19]"
      ]
     },
     "execution_count": 7,
     "metadata": {},
     "output_type": "execute_result"
    }
   ],
   "source": [
    "indices(\"sakashdafvfhkajkahhaejjd\",'a')"
   ]
  },
  {
   "cell_type": "markdown",
   "id": "aa607d28-122b-4066-b4c7-4e9e8fcc236d",
   "metadata": {},
   "source": [
    "#7. Fn which will return list of all the file names from a directory."
   ]
  },
  {
   "cell_type": "code",
   "execution_count": 11,
   "id": "db3488fe-2d6a-4172-8b46-84f8b45e52d0",
   "metadata": {},
   "outputs": [
    {
     "data": {
      "text/plain": [
       "'/home/15081998kr18ine'"
      ]
     },
     "execution_count": 11,
     "metadata": {},
     "output_type": "execute_result"
    }
   ],
   "source": [
    "pwd()"
   ]
  },
  {
   "cell_type": "code",
   "execution_count": 17,
   "id": "8e2f95ee-f5e9-44cc-a00c-0271009507c3",
   "metadata": {},
   "outputs": [],
   "source": [
    "def listofdir(path):\n",
    "    \"\"\"\n",
    "    This Func returns a list of all the files present in the path provided\n",
    "    \"\"\"\n",
    "    import os\n",
    "    return os.listdir(path)"
   ]
  },
  {
   "cell_type": "code",
   "execution_count": 18,
   "id": "5a9dccd8-fd08-42a0-8e74-29575442fc40",
   "metadata": {},
   "outputs": [
    {
     "data": {
      "text/plain": [
       "['test.txt',\n",
       " '.ipython',\n",
       " '.local',\n",
       " '.jupyter',\n",
       " 'Tuple,Set & Dict.ipynb',\n",
       " 'test2.txt',\n",
       " 'test1.txt',\n",
       " '14.Iterator Generator, File System.ipynb',\n",
       " '9.Functions Solns.ipynb',\n",
       " 'If,Else,For Loop.ipynb',\n",
       " 'Day2.ipynb',\n",
       " '10.Functions part2.ipynb',\n",
       " '.bash_logout',\n",
       " '8.Python Program discussion.ipynb',\n",
       " 'Untitled.ipynb',\n",
       " '.profile',\n",
       " 'For Loops & While Loops.ipynb',\n",
       " '.cache',\n",
       " '9.Functions.ipynb',\n",
       " '.bashrc',\n",
       " '.ipynb_checkpoints']"
      ]
     },
     "execution_count": 18,
     "metadata": {},
     "output_type": "execute_result"
    }
   ],
   "source": [
    "listofdir('/home/15081998kr18ine')"
   ]
  },
  {
   "cell_type": "code",
   "execution_count": 19,
   "id": "74381835-34c2-4db9-b929-5f61f500b0bb",
   "metadata": {},
   "outputs": [
    {
     "data": {
      "text/plain": [
       "['15081998kr18ine', 'common', 'jovyan']"
      ]
     },
     "execution_count": 19,
     "metadata": {},
     "output_type": "execute_result"
    }
   ],
   "source": [
    "listofdir('/home')"
   ]
  },
  {
   "cell_type": "markdown",
   "id": "a14c6b23-c727-4cae-a604-58b0b1c489c0",
   "metadata": {},
   "source": [
    "#8. Fn which will show your system configuration\n"
   ]
  },
  {
   "cell_type": "code",
   "execution_count": 23,
   "id": "ea93945e-33a3-4f27-b90d-4a851bca42a5",
   "metadata": {},
   "outputs": [],
   "source": [
    "def sysconfig():\n",
    "    \"\"\"\n",
    "    This returns the configuration of your system\n",
    "    \"\"\"\n",
    "    import platform as pi\n",
    "    return pi.uname()"
   ]
  },
  {
   "cell_type": "code",
   "execution_count": 24,
   "id": "3c436fe2-87bf-446a-a350-90733d0f06a6",
   "metadata": {},
   "outputs": [
    {
     "data": {
      "text/plain": [
       "uname_result(system='Linux', node='215e78b1067f', release='5.15.0-1019-aws', version='#23~20.04.1-Ubuntu SMP Thu Aug 18 03:20:14 UTC 2022', machine='x86_64')"
      ]
     },
     "execution_count": 24,
     "metadata": {},
     "output_type": "execute_result"
    }
   ],
   "source": [
    "sysconfig()"
   ]
  },
  {
   "cell_type": "markdown",
   "id": "40d4dc13-de54-48cd-854f-5c86c06ca6bf",
   "metadata": {},
   "source": [
    "#9. Fn which will show date and time"
   ]
  },
  {
   "cell_type": "code",
   "execution_count": 26,
   "id": "2b2b9561-df47-4952-b083-9119a6f300c2",
   "metadata": {},
   "outputs": [
    {
     "ename": "NameError",
     "evalue": "name 'today' is not defined",
     "output_type": "error",
     "traceback": [
      "\u001b[0;31m---------------------------------------------------------------------------\u001b[0m",
      "\u001b[0;31mNameError\u001b[0m                                 Traceback (most recent call last)",
      "Input \u001b[0;32mIn [26]\u001b[0m, in \u001b[0;36m<cell line: 1>\u001b[0;34m()\u001b[0m\n\u001b[0;32m----> 1\u001b[0m \u001b[43mtoday\u001b[49m()\n",
      "\u001b[0;31mNameError\u001b[0m: name 'today' is not defined"
     ]
    }
   ],
   "source": [
    "today()"
   ]
  },
  {
   "cell_type": "code",
   "execution_count": 33,
   "id": "0579eac9-a679-44ae-a34f-b819d7a51c72",
   "metadata": {},
   "outputs": [
    {
     "name": "stdout",
     "output_type": "stream",
     "text": [
      "2022-09-19 13:56:46.074945\n"
     ]
    }
   ],
   "source": [
    "import datetime\n",
    "\n",
    "x = datetime.datetime.now()\n",
    "print(x) "
   ]
  },
  {
   "cell_type": "code",
   "execution_count": 36,
   "id": "748627df-8f3e-46c6-8c27-127334f8afdc",
   "metadata": {},
   "outputs": [],
   "source": [
    "def date_time():\n",
    "    import datetime as dt\n",
    "    x= dt.datetime.now()\n",
    "    return x"
   ]
  },
  {
   "cell_type": "code",
   "execution_count": 52,
   "id": "b8a65124-fc4d-45a1-a8e7-57cee01a993e",
   "metadata": {},
   "outputs": [],
   "source": [
    "def date_time1():\n",
    "    \"\"\"\n",
    "    This Func prints the date and time\n",
    "    \"\"\"\n",
    "    import datetime as dt\n",
    "    print(dt.datetime.now().strftime(\"%d-%b-%Y, %I:%M:%S%p\"))"
   ]
  },
  {
   "cell_type": "code",
   "execution_count": 53,
   "id": "524e88d6-b9a8-4ffe-b1ab-424052a75b00",
   "metadata": {},
   "outputs": [
    {
     "data": {
      "text/plain": [
       "datetime.datetime(2022, 9, 19, 14, 17, 13, 983478)"
      ]
     },
     "execution_count": 53,
     "metadata": {},
     "output_type": "execute_result"
    }
   ],
   "source": [
    "date_time()"
   ]
  },
  {
   "cell_type": "code",
   "execution_count": 54,
   "id": "3e2bc11d-51a7-4628-bed1-323a9620c6ff",
   "metadata": {},
   "outputs": [
    {
     "name": "stdout",
     "output_type": "stream",
     "text": [
      "19-Sep-2022, 02:17:14PM\n"
     ]
    }
   ],
   "source": [
    "date_time1()"
   ]
  },
  {
   "cell_type": "markdown",
   "id": "f9f1c599-de7d-447f-ba36-948029411410",
   "metadata": {},
   "source": [
    "#10. Fn which will be able to read a image file and show it to you"
   ]
  },
  {
   "cell_type": "code",
   "execution_count": 3,
   "id": "bfe26fe3-25e3-45c8-93bd-5cca3c99c171",
   "metadata": {},
   "outputs": [],
   "source": [
    "def showpic(filename):\n",
    "    \"\"\"\n",
    "    Open an image of the given path/image\n",
    "    \"\"\"\n",
    "    from PIL import Image\n",
    "    img=Image.open(filename,'r')\n",
    "    return display(img)"
   ]
  },
  {
   "cell_type": "markdown",
   "id": "ac59b91b-92bc-4da4-a44f-389636dfa483",
   "metadata": {},
   "source": [
    "#12. Fn which can move file from one dir to other dir"
   ]
  },
  {
   "cell_type": "code",
   "execution_count": 5,
   "id": "ab45a0a4-1af3-4d33-b5e0-3fd12a517f5e",
   "metadata": {},
   "outputs": [],
   "source": [
    "def changedir(sd,dd):\n",
    "    \"\"\"\n",
    "    Moves a file or a folder from from sourse dir sd to dest dir dd\n",
    "    \"\"\"\n",
    "    import shutil\n",
    "    shutil.move(sd,dd)"
   ]
  },
  {
   "cell_type": "code",
   "execution_count": null,
   "id": "f395f59d-b051-469a-a2ee-88f4eff05d18",
   "metadata": {},
   "outputs": [],
   "source": [
    "sd=input(\"ENnter source directory\")\n",
    "dd=input(\"ENter destination dir\")\n",
    "changedir(sd,dd)"
   ]
  },
  {
   "cell_type": "code",
   "execution_count": 5,
   "id": "a38e5397-39e7-4e6e-9618-b1e5082c0af1",
   "metadata": {},
   "outputs": [
    {
     "data": {
      "text/plain": [
       "'/home/15081998kr18ine'"
      ]
     },
     "execution_count": 5,
     "metadata": {},
     "output_type": "execute_result"
    }
   ],
   "source": [
    "pwd()"
   ]
  },
  {
   "cell_type": "code",
   "execution_count": 2,
   "id": "5733c6b5-f65a-4233-92e7-22e107dab565",
   "metadata": {},
   "outputs": [],
   "source": [
    "def shutdown():\n",
    "    \"\"\"\n",
    "    This shutsdown th system\n",
    "    \"\"\"\n",
    "    import os\n",
    "    os.system(\"shutdown /s /t 1\")"
   ]
  },
  {
   "cell_type": "markdown",
   "id": "630af352-0ef1-49c3-b70c-2807c7901f43",
   "metadata": {},
   "source": [
    "#14. Fn which will be able to access your maul"
   ]
  },
  {
   "cell_type": "code",
   "execution_count": null,
   "id": "4a837809-8c2e-4e6f-95e8-7bddcf5a1d16",
   "metadata": {},
   "outputs": [],
   "source": []
  },
  {
   "cell_type": "markdown",
   "id": "6375f983-7627-459f-9c47-0ed54cf39370",
   "metadata": {},
   "source": [
    "#17. Fn to read a word file"
   ]
  },
  {
   "cell_type": "code",
   "execution_count": 8,
   "id": "161a2bc4-aba8-43ec-8d90-fab518693190",
   "metadata": {},
   "outputs": [],
   "source": [
    "def readdoc(path):\n",
    "    f=open(path,'r')\n",
    "    print(f.read())"
   ]
  },
  {
   "cell_type": "code",
   "execution_count": 9,
   "id": "fbf166ac-ed2b-4e01-be73-153ecdb1ff6a",
   "metadata": {},
   "outputs": [
    {
     "name": "stdout",
     "output_type": "stream",
     "text": [
      "This is my 1st file op in a text file from python,\n",
      "fhsdjfksdapfd;skffkjha\n",
      "fiisdjfds\n",
      "dfndskag\n",
      "dfjdakf\n",
      "fdjsfksdalf\n",
      "asfdajfk\n",
      "sadfklksdflkda\n",
      "dagkadokkla\n",
      "dsfaadkfkk\n"
     ]
    }
   ],
   "source": [
    "readdoc('test1.txt')"
   ]
  },
  {
   "cell_type": "code",
   "execution_count": 10,
   "id": "311dacc1-4370-4ead-97e1-b8b95b70c0e1",
   "metadata": {},
   "outputs": [],
   "source": [
    "import os"
   ]
  },
  {
   "cell_type": "code",
   "execution_count": 15,
   "id": "3d74d41f-c377-4b6b-a644-89ff5c949b13",
   "metadata": {},
   "outputs": [
    {
     "data": {
      "text/plain": [
       "[('/home/15081998kr18ine',\n",
       "  ['.ipython', '.local', '.jupyter', 'Test1', '.cache', '.ipynb_checkpoints'],\n",
       "  ['Tuple,Set & Dict.ipynb',\n",
       "   'test2.txt',\n",
       "   'test1.txt',\n",
       "   '14.Iterator Generator, File System.ipynb',\n",
       "   '9.Functions Solns.ipynb',\n",
       "   'If,Else,For Loop.ipynb',\n",
       "   'Day2.ipynb',\n",
       "   '10.Functions part2.ipynb',\n",
       "   '.bash_logout',\n",
       "   '8.Python Program discussion.ipynb',\n",
       "   '.profile',\n",
       "   'For Loops & While Loops.ipynb',\n",
       "   '9.Functions.ipynb',\n",
       "   '.bashrc']),\n",
       " ('/home/15081998kr18ine/.ipython', ['profile_default'], []),\n",
       " ('/home/15081998kr18ine/.ipython/profile_default',\n",
       "  ['log', 'db', 'startup', 'security', 'pid'],\n",
       "  ['history.sqlite', 'history.sqlite-journal']),\n",
       " ('/home/15081998kr18ine/.ipython/profile_default/log', [], []),\n",
       " ('/home/15081998kr18ine/.ipython/profile_default/db', [], []),\n",
       " ('/home/15081998kr18ine/.ipython/profile_default/startup', [], ['README']),\n",
       " ('/home/15081998kr18ine/.ipython/profile_default/security', [], []),\n",
       " ('/home/15081998kr18ine/.ipython/profile_default/pid', [], []),\n",
       " ('/home/15081998kr18ine/.local', ['share'], []),\n",
       " ('/home/15081998kr18ine/.local/share', ['jupyter'], []),\n",
       " ('/home/15081998kr18ine/.local/share/jupyter',\n",
       "  ['runtime'],\n",
       "  ['nbsignatures.db', 'notebook_secret']),\n",
       " ('/home/15081998kr18ine/.local/share/jupyter/runtime',\n",
       "  [],\n",
       "  ['nbserver-27-open.html',\n",
       "   'kernel-c2c7534d-8bf2-4f97-9be2-3afce9cf0e18.json',\n",
       "   'nbserver-27.json',\n",
       "   'kernel-9ef22a93-3826-4215-8943-3c166ef27cb8.json']),\n",
       " ('/home/15081998kr18ine/.jupyter', ['lab'], ['migrated']),\n",
       " ('/home/15081998kr18ine/.jupyter/lab', ['workspaces'], []),\n",
       " ('/home/15081998kr18ine/.jupyter/lab/workspaces',\n",
       "  [],\n",
       "  ['auto-5-7d69.jupyterlab-workspace',\n",
       "   'default-37a8.jupyterlab-workspace',\n",
       "   'auto-8-26f8.jupyterlab-workspace',\n",
       "   'auto-q-549e.jupyterlab-workspace']),\n",
       " ('/home/15081998kr18ine/Test1', [], ['test.txt']),\n",
       " ('/home/15081998kr18ine/.cache', ['jedi'], []),\n",
       " ('/home/15081998kr18ine/.cache/jedi',\n",
       "  ['CPython-39-33'],\n",
       "  ['PARSO-CACHE-LOCK']),\n",
       " ('/home/15081998kr18ine/.cache/jedi/CPython-39-33',\n",
       "  [],\n",
       "  ['29eef7fec4dc8afb41b76ae425aa0d6225daff32de9e10abf7a1ce54fa5907f1-dbc3517aff246dae9dbcf0c118639e051bceb1328e205b5dd86b6b3822d2df10.pkl',\n",
       "   '29eef7fec4dc8afb41b76ae425aa0d6225daff32de9e10abf7a1ce54fa5907f1-edc5f9f23c9f2be4d4fbda01a8eb9e5f7d075630e944989a7d2443a8716e8362.pkl',\n",
       "   '715ad56c5f4f8395092c58b6b6f2deb4f906f81380929a836bd86ab253634875-463b30be901af94632939ed037c527858166c7cdaf9df73bf375d4034db97ef7.pkl',\n",
       "   '29eef7fec4dc8afb41b76ae425aa0d6225daff32de9e10abf7a1ce54fa5907f1-b9024801600756d8d73786b971a64244d14df63e37ee0ef18c95843064e85749.pkl',\n",
       "   '29eef7fec4dc8afb41b76ae425aa0d6225daff32de9e10abf7a1ce54fa5907f1-5d50a09094715975182127ad7b0d9a434e5ee613d094b3979e4d5c579c16f47a.pkl',\n",
       "   '29eef7fec4dc8afb41b76ae425aa0d6225daff32de9e10abf7a1ce54fa5907f1-52bdeb5fbcf33bfb7b58cbd715d915424e2f4579b6e834852d5cd17666be4ec7.pkl',\n",
       "   '29eef7fec4dc8afb41b76ae425aa0d6225daff32de9e10abf7a1ce54fa5907f1-950a7bb06e8b937a485bc1c1ddcfff30ef685928715e96123bcfd7510a9284da.pkl',\n",
       "   '29eef7fec4dc8afb41b76ae425aa0d6225daff32de9e10abf7a1ce54fa5907f1-f6070a9a84a94397dd4e2cd32cc4685707f376b06540113b6d45fa5a774e15ca.pkl',\n",
       "   '715ad56c5f4f8395092c58b6b6f2deb4f906f81380929a836bd86ab253634875-79c8f050e617360acaa73091b76374682184510917058e21c62af939c2f4bda5.pkl',\n",
       "   '29eef7fec4dc8afb41b76ae425aa0d6225daff32de9e10abf7a1ce54fa5907f1-45d3bcdf669f81ae5a14f6c1aa4279ff00f2b23948cb592b9918fd9decf53141.pkl',\n",
       "   '715ad56c5f4f8395092c58b6b6f2deb4f906f81380929a836bd86ab253634875-5b83469b7c705973b59d21990e42f5b2a425234ad1e7d4c3d1005abd8a0c0522.pkl',\n",
       "   '715ad56c5f4f8395092c58b6b6f2deb4f906f81380929a836bd86ab253634875-dd053124a281a06bf7dcc857fdf65f6cbe2bc2cac654bd1a830ae81c177fbbe9.pkl',\n",
       "   '29eef7fec4dc8afb41b76ae425aa0d6225daff32de9e10abf7a1ce54fa5907f1-f4ea6892a18cdcfa94bdddf6e78b644d3e4c3196fbf70fdcfab0110dcd939950.pkl',\n",
       "   '715ad56c5f4f8395092c58b6b6f2deb4f906f81380929a836bd86ab253634875-b85243382815a83114ed4914b69be486742b458db7d06a54d7c6fda711dbc883.pkl',\n",
       "   '715ad56c5f4f8395092c58b6b6f2deb4f906f81380929a836bd86ab253634875-a3e1246c5171c88d34b06d5a4859a32b77f3d96dfc769f483a38e5c8c1256642.pkl',\n",
       "   '715ad56c5f4f8395092c58b6b6f2deb4f906f81380929a836bd86ab253634875-ebcb26ed112dc72192a39c135761cc0e142782ca2655bbcc940697062b968b9e.pkl']),\n",
       " ('/home/15081998kr18ine/.ipynb_checkpoints',\n",
       "  [],\n",
       "  ['10.Functions part2-checkpoint.ipynb',\n",
       "   '8.Python Program discussion-checkpoint.ipynb',\n",
       "   'test1-checkpoint.txt',\n",
       "   'test2-checkpoint.txt',\n",
       "   '9.Functions Solns-checkpoint.ipynb',\n",
       "   'For Loops & While Loops-checkpoint.ipynb',\n",
       "   'test-checkpoint.txt',\n",
       "   '9.Functions-checkpoint.ipynb',\n",
       "   'If,Else,For Loop-checkpoint.ipynb',\n",
       "   'Tuple,Set & Dict-checkpoint.ipynb',\n",
       "   '14.Iterator Generator, File System-checkpoint.ipynb',\n",
       "   'Day2-checkpoint.ipynb',\n",
       "   'google-checkpoint.txt'])]"
      ]
     },
     "execution_count": 15,
     "metadata": {},
     "output_type": "execute_result"
    }
   ],
   "source": [
    "list(os.walk('/home/15081998kr18ine'))"
   ]
  },
  {
   "cell_type": "code",
   "execution_count": 12,
   "id": "cabfcf79-98e0-4567-84bc-9cbb3343e1ef",
   "metadata": {},
   "outputs": [
    {
     "data": {
      "text/plain": [
       "'/home/15081998kr18ine'"
      ]
     },
     "execution_count": 12,
     "metadata": {},
     "output_type": "execute_result"
    }
   ],
   "source": [
    "pwd()"
   ]
  },
  {
   "cell_type": "code",
   "execution_count": 16,
   "id": "fbedb5a4-7d65-437a-9d66-1b6373be6c4a",
   "metadata": {},
   "outputs": [
    {
     "data": {
      "text/plain": [
       "['In',\n",
       " 'Out',\n",
       " '_',\n",
       " '_12',\n",
       " '_14',\n",
       " '_15',\n",
       " '__',\n",
       " '___',\n",
       " '__builtin__',\n",
       " '__builtins__',\n",
       " '__doc__',\n",
       " '__loader__',\n",
       " '__name__',\n",
       " '__package__',\n",
       " '__spec__',\n",
       " '_dh',\n",
       " '_i',\n",
       " '_i1',\n",
       " '_i10',\n",
       " '_i11',\n",
       " '_i12',\n",
       " '_i13',\n",
       " '_i14',\n",
       " '_i15',\n",
       " '_i16',\n",
       " '_i2',\n",
       " '_i3',\n",
       " '_i4',\n",
       " '_i5',\n",
       " '_i6',\n",
       " '_i7',\n",
       " '_i8',\n",
       " '_i9',\n",
       " '_ih',\n",
       " '_ii',\n",
       " '_iii',\n",
       " '_oh',\n",
       " 'exit',\n",
       " 'get_ipython',\n",
       " 'os',\n",
       " 'quit',\n",
       " 'readdoc']"
      ]
     },
     "execution_count": 16,
     "metadata": {},
     "output_type": "execute_result"
    }
   ],
   "source": [
    "dir()"
   ]
  },
  {
   "cell_type": "code",
   "execution_count": 18,
   "id": "a283091a-d6d2-4211-8690-dba2373fbd2c",
   "metadata": {},
   "outputs": [
    {
     "data": {
      "text/plain": [
       "['.ipython',\n",
       " '.local',\n",
       " '.jupyter',\n",
       " 'Tuple,Set & Dict.ipynb',\n",
       " 'test2.txt',\n",
       " 'test1.txt',\n",
       " '14.Iterator Generator, File System.ipynb',\n",
       " 'Test1',\n",
       " '9.Functions Solns.ipynb',\n",
       " 'If,Else,For Loop.ipynb',\n",
       " 'Day2.ipynb',\n",
       " '10.Functions part2.ipynb',\n",
       " '.bash_logout',\n",
       " '8.Python Program discussion.ipynb',\n",
       " '.profile',\n",
       " 'For Loops & While Loops.ipynb',\n",
       " '.cache',\n",
       " '9.Functions.ipynb',\n",
       " '.bashrc',\n",
       " '.ipynb_checkpoints']"
      ]
     },
     "execution_count": 18,
     "metadata": {},
     "output_type": "execute_result"
    }
   ],
   "source": [
    "os.listdir()"
   ]
  },
  {
   "cell_type": "code",
   "execution_count": 36,
   "id": "a652cdd7-0eae-4de4-91d2-832202d70847",
   "metadata": {},
   "outputs": [],
   "source": [
    "def onlytxt(path):\n",
    "    import os\n",
    "    k=os.listdir(path)\n",
    "    l=[]\n",
    "    for i in k:\n",
    "        if i[-4:len(k)] == '.txt':\n",
    "            l.append(i)\n",
    "    return l"
   ]
  },
  {
   "cell_type": "code",
   "execution_count": 37,
   "id": "c7366299-8628-429e-a440-21c5e6d25d25",
   "metadata": {},
   "outputs": [
    {
     "data": {
      "text/plain": [
       "['test2.txt', 'test1.txt']"
      ]
     },
     "execution_count": 37,
     "metadata": {},
     "output_type": "execute_result"
    }
   ],
   "source": [
    "onlytxt('/home/15081998kr18ine')"
   ]
  },
  {
   "cell_type": "code",
   "execution_count": 22,
   "id": "afe88b8b-28cb-40af-8328-5cdc137e6905",
   "metadata": {},
   "outputs": [
    {
     "data": {
      "text/plain": [
       "'/home/15081998kr18ine'"
      ]
     },
     "execution_count": 22,
     "metadata": {},
     "output_type": "execute_result"
    }
   ],
   "source": [
    "pwd()"
   ]
  },
  {
   "cell_type": "code",
   "execution_count": 30,
   "id": "a7399e5e-b055-4638-b976-c1fbd796f159",
   "metadata": {},
   "outputs": [],
   "source": [
    "a='test2.txt'"
   ]
  },
  {
   "cell_type": "code",
   "execution_count": 33,
   "id": "58ae6580-60f8-40d4-aa39-bea10f9c9051",
   "metadata": {},
   "outputs": [
    {
     "data": {
      "text/plain": [
       "'.txt'"
      ]
     },
     "execution_count": 33,
     "metadata": {},
     "output_type": "execute_result"
    }
   ],
   "source": [
    "a[-4:100]"
   ]
  },
  {
   "cell_type": "markdown",
   "id": "87ecc9c9-2bce-4c33-ae96-5f30d7cbadb6",
   "metadata": {},
   "source": [
    "19. Fn which can print ip address of your system"
   ]
  },
  {
   "cell_type": "code",
   "execution_count": 42,
   "id": "d095eb25-0f4c-4e59-906b-06cafef1a49e",
   "metadata": {},
   "outputs": [],
   "source": [
    "def ipaddress():\n",
    "    \"\"\"\n",
    "    Prints the id address\n",
    "    \"\"\"\n",
    "    import socket\n",
    "    name=socket.gethostname()\n",
    "    addr=socket.gethostbyname(name)\n",
    "    return name,addr"
   ]
  },
  {
   "cell_type": "code",
   "execution_count": 43,
   "id": "fdeddecc-05a3-4f11-a91a-69353dc99d17",
   "metadata": {},
   "outputs": [
    {
     "data": {
      "text/plain": [
       "('03cd0d9d56da', '172.17.0.7')"
      ]
     },
     "execution_count": 43,
     "metadata": {},
     "output_type": "execute_result"
    }
   ],
   "source": [
    "ipaddress()"
   ]
  },
  {
   "cell_type": "code",
   "execution_count": null,
   "id": "0dcd5f60-1ab9-4bba-bf9b-53eb262ac4a0",
   "metadata": {},
   "outputs": [],
   "source": []
  }
 ],
 "metadata": {
  "kernelspec": {
   "display_name": "Python 3 (ipykernel)",
   "language": "python",
   "name": "python3"
  },
  "language_info": {
   "codemirror_mode": {
    "name": "ipython",
    "version": 3
   },
   "file_extension": ".py",
   "mimetype": "text/x-python",
   "name": "python",
   "nbconvert_exporter": "python",
   "pygments_lexer": "ipython3",
   "version": "3.9.12"
  }
 },
 "nbformat": 4,
 "nbformat_minor": 5
}
