{
 "cells": [
  {
   "cell_type": "code",
   "execution_count": 1,
   "id": "f230023d-cea7-4438-9260-5c868d2ebcce",
   "metadata": {},
   "outputs": [
    {
     "name": "stdout",
     "output_type": "stream",
     "text": [
      "hello All\n"
     ]
    }
   ],
   "source": [
    "print(\"hello All\")"
   ]
  },
  {
   "cell_type": "code",
   "execution_count": 3,
   "id": "9b0bf4eb-ea8b-4406-9bd6-1c27d1d424bc",
   "metadata": {},
   "outputs": [
    {
     "data": {
      "text/plain": [
       "0.5"
      ]
     },
     "execution_count": 3,
     "metadata": {},
     "output_type": "execute_result"
    }
   ],
   "source": [
    "a=5\n",
    "a/10"
   ]
  },
  {
   "cell_type": "code",
   "execution_count": 5,
   "id": "ac1b7b78-fc4d-4033-bc91-2d7daca418ec",
   "metadata": {},
   "outputs": [
    {
     "ename": "ZeroDivisionError",
     "evalue": "division by zero",
     "output_type": "error",
     "traceback": [
      "\u001b[0;31m---------------------------------------------------------------------------\u001b[0m",
      "\u001b[0;31mZeroDivisionError\u001b[0m                         Traceback (most recent call last)",
      "Input \u001b[0;32mIn [5]\u001b[0m, in \u001b[0;36m<cell line: 1>\u001b[0;34m()\u001b[0m\n\u001b[0;32m----> 1\u001b[0m \u001b[43ma\u001b[49m\u001b[38;5;241;43m/\u001b[39;49m\u001b[38;5;241;43m0\u001b[39;49m\n\u001b[1;32m      2\u001b[0m \u001b[38;5;28mprint\u001b[39m(\u001b[38;5;124m\"\u001b[39m\u001b[38;5;124mKrishna\u001b[39m\u001b[38;5;124m\"\u001b[39m)\n",
      "\u001b[0;31mZeroDivisionError\u001b[0m: division by zero"
     ]
    }
   ],
   "source": [
    "a/0\n",
    "print(\"Krishna\")"
   ]
  },
  {
   "cell_type": "code",
   "execution_count": 7,
   "id": "1250907c-7a09-491e-88f5-1138d07d3109",
   "metadata": {},
   "outputs": [
    {
     "name": "stdin",
     "output_type": "stream",
     "text": [
      " 0\n"
     ]
    },
    {
     "ename": "ZeroDivisionError",
     "evalue": "division by zero",
     "output_type": "error",
     "traceback": [
      "\u001b[0;31m---------------------------------------------------------------------------\u001b[0m",
      "\u001b[0;31mZeroDivisionError\u001b[0m                         Traceback (most recent call last)",
      "Input \u001b[0;32mIn [7]\u001b[0m, in \u001b[0;36m<cell line: 3>\u001b[0;34m()\u001b[0m\n\u001b[1;32m      1\u001b[0m a\u001b[38;5;241m=\u001b[39m\u001b[38;5;241m5\u001b[39m\n\u001b[1;32m      2\u001b[0m b\u001b[38;5;241m=\u001b[39m\u001b[38;5;28mint\u001b[39m(\u001b[38;5;28minput\u001b[39m())\n\u001b[0;32m----> 3\u001b[0m \u001b[43ma\u001b[49m\u001b[38;5;241;43m/\u001b[39;49m\u001b[43mb\u001b[49m\n",
      "\u001b[0;31mZeroDivisionError\u001b[0m: division by zero"
     ]
    }
   ],
   "source": [
    "a=5\n",
    "b=int(input())\n",
    "a/b"
   ]
  },
  {
   "cell_type": "code",
   "execution_count": 16,
   "id": "21860fa9-dfc0-4b5f-a643-b367b35cd0d1",
   "metadata": {},
   "outputs": [
    {
     "name": "stdout",
     "output_type": "stream",
     "text": [
      "This is my code\n"
     ]
    }
   ],
   "source": [
    "f=open(\"test4.txt\",\"w\")\n",
    "f.write(\"sdfisjfjfosj\")\n",
    "print(\"This is my code\")          "
   ]
  },
  {
   "cell_type": "code",
   "execution_count": 17,
   "id": "1a2139b2-a8bd-4bd7-8f04-83d21bce0886",
   "metadata": {},
   "outputs": [],
   "source": [
    "f.close()"
   ]
  },
  {
   "cell_type": "code",
   "execution_count": 15,
   "id": "66b5bd11-ae25-4e63-a594-c57c7a547590",
   "metadata": {},
   "outputs": [
    {
     "name": "stdout",
     "output_type": "stream",
     "text": [
      "There is a mistake\n",
      "This is my code\n"
     ]
    }
   ],
   "source": [
    "try:\n",
    "    f=open(\"test5.txt\",\"r\")\n",
    "    f.write(\"Krishna is my name\")\n",
    "    \n",
    "#try handles run time error, not syntactical error\n",
    "except:\n",
    "    print(\"There is a mistake\")\n",
    "print(\"This is my code\")          "
   ]
  },
  {
   "cell_type": "code",
   "execution_count": 18,
   "id": "c7094e8d-f77b-4076-b878-09c25d206f37",
   "metadata": {},
   "outputs": [
    {
     "ename": "SyntaxError",
     "evalue": "unexpected EOF while parsing (2855758598.py, line 3)",
     "output_type": "error",
     "traceback": [
      "\u001b[0;36m  Input \u001b[0;32mIn [18]\u001b[0;36m\u001b[0m\n\u001b[0;31m    f.write(\"Krishna is my name\")\u001b[0m\n\u001b[0m                                 ^\u001b[0m\n\u001b[0;31mSyntaxError\u001b[0m\u001b[0;31m:\u001b[0m unexpected EOF while parsing\n"
     ]
    }
   ],
   "source": [
    "try:\n",
    "    f=open(\"test5.txt\",\"r\")\n",
    "    f.write(\"Krishna is my name\")"
   ]
  },
  {
   "cell_type": "code",
   "execution_count": 28,
   "id": "a5860615-a3e1-496c-bee0-f4817025465b",
   "metadata": {},
   "outputs": [
    {
     "name": "stdout",
     "output_type": "stream",
     "text": [
      "23\n",
      "43\n",
      "22\n",
      "3\n",
      "3\n",
      "4\n",
      "Lets seee\n",
      "I am almighty\n"
     ]
    }
   ],
   "source": [
    "try:\n",
    "    l=[23,43,22,3,3,4]\n",
    "    for i in range(len(l)+1):\n",
    "        print(l[i])\n",
    "except:\n",
    "    print(\"Lets seee\")\n",
    "print(\"I am almighty\")"
   ]
  },
  {
   "cell_type": "code",
   "execution_count": 27,
   "id": "cd2af6bf-3d54-43d4-8727-efb1ca444b0b",
   "metadata": {},
   "outputs": [
    {
     "name": "stdout",
     "output_type": "stream",
     "text": [
      "23\n",
      "43\n",
      "22\n",
      "3\n",
      "3\n",
      "4\n"
     ]
    },
    {
     "ename": "IndexError",
     "evalue": "list index out of range",
     "output_type": "error",
     "traceback": [
      "\u001b[0;31m---------------------------------------------------------------------------\u001b[0m",
      "\u001b[0;31mIndexError\u001b[0m                                Traceback (most recent call last)",
      "Input \u001b[0;32mIn [27]\u001b[0m, in \u001b[0;36m<cell line: 2>\u001b[0;34m()\u001b[0m\n\u001b[1;32m      1\u001b[0m l\u001b[38;5;241m=\u001b[39m[\u001b[38;5;241m23\u001b[39m,\u001b[38;5;241m43\u001b[39m,\u001b[38;5;241m22\u001b[39m,\u001b[38;5;241m3\u001b[39m,\u001b[38;5;241m3\u001b[39m,\u001b[38;5;241m4\u001b[39m]\n\u001b[1;32m      2\u001b[0m \u001b[38;5;28;01mfor\u001b[39;00m i \u001b[38;5;129;01min\u001b[39;00m \u001b[38;5;28mrange\u001b[39m(\u001b[38;5;28mlen\u001b[39m(l)\u001b[38;5;241m+\u001b[39m\u001b[38;5;241m1\u001b[39m):\n\u001b[0;32m----> 3\u001b[0m     \u001b[38;5;28mprint\u001b[39m(\u001b[43ml\u001b[49m\u001b[43m[\u001b[49m\u001b[43mi\u001b[49m\u001b[43m]\u001b[49m)\n",
      "\u001b[0;31mIndexError\u001b[0m: list index out of range"
     ]
    }
   ],
   "source": [
    "l=[23,43,22,3,3,4]\n",
    "for i in range(len(l)+1):\n",
    "    print(l[i])"
   ]
  },
  {
   "cell_type": "code",
   "execution_count": 29,
   "id": "d1e2ea52-e2ac-4cc7-8e95-1988f67c1167",
   "metadata": {},
   "outputs": [
    {
     "ename": "ZeroDivisionError",
     "evalue": "division by zero",
     "output_type": "error",
     "traceback": [
      "\u001b[0;31m---------------------------------------------------------------------------\u001b[0m",
      "\u001b[0;31mZeroDivisionError\u001b[0m                         Traceback (most recent call last)",
      "Input \u001b[0;32mIn [29]\u001b[0m, in \u001b[0;36m<cell line: 1>\u001b[0;34m()\u001b[0m\n\u001b[0;32m----> 1\u001b[0m \u001b[38;5;241;43m5\u001b[39;49m\u001b[38;5;241;43m/\u001b[39;49m\u001b[38;5;241;43m0\u001b[39;49m\n",
      "\u001b[0;31mZeroDivisionError\u001b[0m: division by zero"
     ]
    }
   ],
   "source": [
    "5/0"
   ]
  },
  {
   "cell_type": "code",
   "execution_count": 34,
   "id": "e857e291-62ed-4a6e-8398-b29c5cc93db8",
   "metadata": {},
   "outputs": [
    {
     "name": "stdout",
     "output_type": "stream",
     "text": [
      "23\n",
      "43\n",
      "22\n",
      "3\n",
      "3\n",
      "4\n",
      "Lets seee the issue-  list index out of range\n",
      "I am almighty\n"
     ]
    }
   ],
   "source": [
    "try:\n",
    "    l=[23,43,22,3,3,4]\n",
    "    for i in range(len(l)+1):\n",
    "        print(l[i])\n",
    "except Exception as e:\n",
    "    print(\"Lets seee the issue- \", e)\n",
    "print(\"I am almighty\")"
   ]
  },
  {
   "cell_type": "code",
   "execution_count": 37,
   "id": "d7aba5c4-d3d9-4f2d-ba60-505f461eef43",
   "metadata": {},
   "outputs": [
    {
     "name": "stdin",
     "output_type": "stream",
     "text": [
      " ewrew\n"
     ]
    },
    {
     "name": "stdout",
     "output_type": "stream",
     "text": [
      "invalid literal for int() with base 10: 'ewrew'\n",
      "Rama is a king\n"
     ]
    }
   ],
   "source": [
    "try:\n",
    "    a=int(input())\n",
    "    b=int(input())\n",
    "except Exception as e:\n",
    "    print(e)\n",
    "print(\"Rama is a king\")"
   ]
  },
  {
   "cell_type": "code",
   "execution_count": 1,
   "id": "2d14559a-9fc9-4833-a307-68aa66ef2bb5",
   "metadata": {},
   "outputs": [
    {
     "ename": "SyntaxError",
     "evalue": "unexpected EOF while parsing (3538166558.py, line 1)",
     "output_type": "error",
     "traceback": [
      "\u001b[0;36m  Input \u001b[0;32mIn [1]\u001b[0;36m\u001b[0m\n\u001b[0;31m    print(\"fkasjfj\"\u001b[0m\n\u001b[0m                   ^\u001b[0m\n\u001b[0;31mSyntaxError\u001b[0m\u001b[0;31m:\u001b[0m unexpected EOF while parsing\n"
     ]
    }
   ],
   "source": [
    "print(\"fkasjfj\""
   ]
  },
  {
   "cell_type": "code",
   "execution_count": 2,
   "id": "7b8f35f7-6631-4d93-b997-d2c4cf10f566",
   "metadata": {},
   "outputs": [
    {
     "name": "stdin",
     "output_type": "stream",
     "text": [
      " jfdog\n"
     ]
    },
    {
     "ename": "ValueError",
     "evalue": "invalid literal for int() with base 10: 'jfdog'",
     "output_type": "error",
     "traceback": [
      "\u001b[0;31m---------------------------------------------------------------------------\u001b[0m",
      "\u001b[0;31mValueError\u001b[0m                                Traceback (most recent call last)",
      "Input \u001b[0;32mIn [2]\u001b[0m, in \u001b[0;36m<cell line: 1>\u001b[0;34m()\u001b[0m\n\u001b[0;32m----> 1\u001b[0m a\u001b[38;5;241m=\u001b[39m\u001b[38;5;28;43mint\u001b[39;49m\u001b[43m(\u001b[49m\u001b[38;5;28;43minput\u001b[39;49m\u001b[43m(\u001b[49m\u001b[43m)\u001b[49m\u001b[43m)\u001b[49m\n",
      "\u001b[0;31mValueError\u001b[0m: invalid literal for int() with base 10: 'jfdog'"
     ]
    }
   ],
   "source": [
    "a=int(input())"
   ]
  },
  {
   "cell_type": "code",
   "execution_count": 5,
   "id": "abb268ce-4eb9-4144-a165-1875f6e59330",
   "metadata": {},
   "outputs": [
    {
     "name": "stdout",
     "output_type": "stream",
     "text": [
      "This ismy handler\n",
      "1\n",
      "2\n",
      "3\n",
      "4\n",
      "5\n",
      "6\n"
     ]
    }
   ],
   "source": [
    "try:\n",
    "    f=open('test','r')\n",
    "    f.write(\"This is my code with exception handling\")\n",
    "    print(\"This is my code afte write ops\")\n",
    "except:\n",
    "    print(\"This ismy handler\")\n",
    "try:\n",
    "    l=[1,2,3,4,5,6]\n",
    "    for i in l:\n",
    "        print(i)\n",
    "except:\n",
    "    print(\"This is a handler for for loop\")"
   ]
  },
  {
   "cell_type": "code",
   "execution_count": 3,
   "id": "abb42ee0-e1f0-420d-9b76-8b13074e9fb4",
   "metadata": {},
   "outputs": [
    {
     "ename": "FileNotFoundError",
     "evalue": "[Errno 2] No such file or directory: 'test'",
     "output_type": "error",
     "traceback": [
      "\u001b[0;31m---------------------------------------------------------------------------\u001b[0m",
      "\u001b[0;31mFileNotFoundError\u001b[0m                         Traceback (most recent call last)",
      "Input \u001b[0;32mIn [3]\u001b[0m, in \u001b[0;36m<cell line: 1>\u001b[0;34m()\u001b[0m\n\u001b[0;32m----> 1\u001b[0m f\u001b[38;5;241m=\u001b[39m\u001b[38;5;28;43mopen\u001b[39;49m\u001b[43m(\u001b[49m\u001b[38;5;124;43m'\u001b[39;49m\u001b[38;5;124;43mtest\u001b[39;49m\u001b[38;5;124;43m'\u001b[39;49m\u001b[43m,\u001b[49m\u001b[38;5;124;43m'\u001b[39;49m\u001b[38;5;124;43mr\u001b[39;49m\u001b[38;5;124;43m'\u001b[39;49m\u001b[43m)\u001b[49m\n\u001b[1;32m      2\u001b[0m f\u001b[38;5;241m.\u001b[39mwrite(\u001b[38;5;124m\"\u001b[39m\u001b[38;5;124mThis is my code with exception handling\u001b[39m\u001b[38;5;124m\"\u001b[39m)\n\u001b[1;32m      3\u001b[0m \u001b[38;5;28mprint\u001b[39m(\u001b[38;5;124m\"\u001b[39m\u001b[38;5;124mThis is my code afte write ops\u001b[39m\u001b[38;5;124m\"\u001b[39m)\n",
      "\u001b[0;31mFileNotFoundError\u001b[0m: [Errno 2] No such file or directory: 'test'"
     ]
    }
   ],
   "source": [
    "\n",
    "f=open('test','r')\n",
    "f.write(\"This is my code with exception handling\")\n",
    "print(\"This is my code afte write ops\")\n",
    "\n",
    "print(\"This ismy handler\")\n",
    "l=[1,2,3,4,5,6]\n",
    "for i in l:\n",
    "    print(i)"
   ]
  },
  {
   "cell_type": "code",
   "execution_count": 9,
   "id": "03cac661-3090-4a5b-9604-2c42710621d4",
   "metadata": {},
   "outputs": [
    {
     "name": "stdin",
     "output_type": "stream",
     "text": [
      " uh\n"
     ]
    },
    {
     "name": "stdout",
     "output_type": "stream",
     "text": [
      "invalid literal for int() with base 10: 'uh'\n"
     ]
    }
   ],
   "source": [
    "try:\n",
    "    d={'key1':\"Krish\",'key2':[1,2,3,4,5],\"key3\": (4,5,6,7,8,9)}\n",
    "    d['key4']=int(input())\n",
    "except Exception as e:\n",
    "    print(e)"
   ]
  },
  {
   "cell_type": "code",
   "execution_count": 10,
   "id": "96b359a1-277d-4daa-a94e-a3eda8354731",
   "metadata": {},
   "outputs": [
    {
     "name": "stdin",
     "output_type": "stream",
     "text": [
      " sidfa\n"
     ]
    },
    {
     "ename": "ValueError",
     "evalue": "invalid literal for int() with base 10: 'sidfa'",
     "output_type": "error",
     "traceback": [
      "\u001b[0;31m---------------------------------------------------------------------------\u001b[0m",
      "\u001b[0;31mValueError\u001b[0m                                Traceback (most recent call last)",
      "Input \u001b[0;32mIn [10]\u001b[0m, in \u001b[0;36m<cell line: 2>\u001b[0;34m()\u001b[0m\n\u001b[1;32m      1\u001b[0m d\u001b[38;5;241m=\u001b[39m{\u001b[38;5;124m'\u001b[39m\u001b[38;5;124mkey1\u001b[39m\u001b[38;5;124m'\u001b[39m:\u001b[38;5;124m\"\u001b[39m\u001b[38;5;124mKrish\u001b[39m\u001b[38;5;124m\"\u001b[39m,\u001b[38;5;124m'\u001b[39m\u001b[38;5;124mkey2\u001b[39m\u001b[38;5;124m'\u001b[39m:[\u001b[38;5;241m1\u001b[39m,\u001b[38;5;241m2\u001b[39m,\u001b[38;5;241m3\u001b[39m,\u001b[38;5;241m4\u001b[39m,\u001b[38;5;241m5\u001b[39m],\u001b[38;5;124m\"\u001b[39m\u001b[38;5;124mkey3\u001b[39m\u001b[38;5;124m\"\u001b[39m: (\u001b[38;5;241m4\u001b[39m,\u001b[38;5;241m5\u001b[39m,\u001b[38;5;241m6\u001b[39m,\u001b[38;5;241m7\u001b[39m,\u001b[38;5;241m8\u001b[39m,\u001b[38;5;241m9\u001b[39m)}\n\u001b[0;32m----> 2\u001b[0m d[\u001b[38;5;124m'\u001b[39m\u001b[38;5;124mkey4\u001b[39m\u001b[38;5;124m'\u001b[39m]\u001b[38;5;241m=\u001b[39m\u001b[38;5;28;43mint\u001b[39;49m\u001b[43m(\u001b[49m\u001b[38;5;28;43minput\u001b[39;49m\u001b[43m(\u001b[49m\u001b[43m)\u001b[49m\u001b[43m)\u001b[49m\n",
      "\u001b[0;31mValueError\u001b[0m: invalid literal for int() with base 10: 'sidfa'"
     ]
    }
   ],
   "source": [
    "    d={'key1':\"Krish\",'key2':[1,2,3,4,5],\"key3\": (4,5,6,7,8,9)}\n",
    "    d['key4']=int(input())"
   ]
  },
  {
   "cell_type": "code",
   "execution_count": 11,
   "id": "258b765a-119a-49c3-ac2e-4b3ce51273de",
   "metadata": {},
   "outputs": [
    {
     "name": "stdin",
     "output_type": "stream",
     "text": [
      " dsiujf\n"
     ]
    },
    {
     "name": "stdout",
     "output_type": "stream",
     "text": [
      "invalid literal for int() with base 10: 'dsiujf'\n"
     ]
    }
   ],
   "source": [
    "try:\n",
    "    d={'key1':\"Krish\",'key2':[1,2,3,4,5],\"key3\": (4,5,6,7,8,9)}\n",
    "    d['key4']=int(input())\n",
    "except ValueError as e:\n",
    "    print(e)"
   ]
  },
  {
   "cell_type": "code",
   "execution_count": 13,
   "id": "e2732fa9-c4d3-45b3-9a15-234f7dc15e71",
   "metadata": {},
   "outputs": [
    {
     "name": "stdin",
     "output_type": "stream",
     "text": [
      " 23\n"
     ]
    },
    {
     "ename": "FileNotFoundError",
     "evalue": "[Errno 2] No such file or directory: 'test8'",
     "output_type": "error",
     "traceback": [
      "\u001b[0;31m---------------------------------------------------------------------------\u001b[0m",
      "\u001b[0;31mFileNotFoundError\u001b[0m                         Traceback (most recent call last)",
      "Input \u001b[0;32mIn [13]\u001b[0m, in \u001b[0;36m<cell line: 1>\u001b[0;34m()\u001b[0m\n\u001b[1;32m      2\u001b[0m     d\u001b[38;5;241m=\u001b[39m{\u001b[38;5;124m'\u001b[39m\u001b[38;5;124mkey1\u001b[39m\u001b[38;5;124m'\u001b[39m:\u001b[38;5;124m\"\u001b[39m\u001b[38;5;124mKrish\u001b[39m\u001b[38;5;124m\"\u001b[39m,\u001b[38;5;124m'\u001b[39m\u001b[38;5;124mkey2\u001b[39m\u001b[38;5;124m'\u001b[39m:[\u001b[38;5;241m1\u001b[39m,\u001b[38;5;241m2\u001b[39m,\u001b[38;5;241m3\u001b[39m,\u001b[38;5;241m4\u001b[39m,\u001b[38;5;241m5\u001b[39m],\u001b[38;5;124m\"\u001b[39m\u001b[38;5;124mkey3\u001b[39m\u001b[38;5;124m\"\u001b[39m: (\u001b[38;5;241m4\u001b[39m,\u001b[38;5;241m5\u001b[39m,\u001b[38;5;241m6\u001b[39m,\u001b[38;5;241m7\u001b[39m,\u001b[38;5;241m8\u001b[39m,\u001b[38;5;241m9\u001b[39m)}\n\u001b[1;32m      3\u001b[0m     d[\u001b[38;5;124m'\u001b[39m\u001b[38;5;124mkey4\u001b[39m\u001b[38;5;124m'\u001b[39m]\u001b[38;5;241m=\u001b[39m\u001b[38;5;28mint\u001b[39m(\u001b[38;5;28minput\u001b[39m())\n\u001b[0;32m----> 4\u001b[0m     f\u001b[38;5;241m=\u001b[39m\u001b[38;5;28;43mopen\u001b[39;49m\u001b[43m(\u001b[49m\u001b[38;5;124;43m\"\u001b[39;49m\u001b[38;5;124;43mtest8\u001b[39;49m\u001b[38;5;124;43m\"\u001b[39;49m\u001b[43m,\u001b[49m\u001b[38;5;124;43m'\u001b[39;49m\u001b[38;5;124;43mr\u001b[39;49m\u001b[38;5;124;43m'\u001b[39;49m\u001b[43m)\u001b[49m\n\u001b[1;32m      5\u001b[0m \u001b[38;5;28;01mexcept\u001b[39;00m \u001b[38;5;167;01mValueError\u001b[39;00m \u001b[38;5;28;01mas\u001b[39;00m e:\n\u001b[1;32m      6\u001b[0m     \u001b[38;5;28mprint\u001b[39m(e)\n",
      "\u001b[0;31mFileNotFoundError\u001b[0m: [Errno 2] No such file or directory: 'test8'"
     ]
    }
   ],
   "source": [
    "try:\n",
    "    d={'key1':\"Krish\",'key2':[1,2,3,4,5],\"key3\": (4,5,6,7,8,9)}\n",
    "    d['key4']=int(input())\n",
    "    f=open(\"test8\",'r')\n",
    "except ValueError as e:\n",
    "    print(e)"
   ]
  },
  {
   "cell_type": "code",
   "execution_count": 14,
   "id": "81128807-a330-411f-a0be-64617ba5b93d",
   "metadata": {},
   "outputs": [
    {
     "name": "stdin",
     "output_type": "stream",
     "text": [
      " sdfh\n"
     ]
    },
    {
     "name": "stdout",
     "output_type": "stream",
     "text": [
      "invalid literal for int() with base 10: 'sdfh'\n"
     ]
    }
   ],
   "source": [
    "try:\n",
    "    d={'key1':\"Krish\",'key2':[1,2,3,4,5],\"key3\": (4,5,6,7,8,9)}\n",
    "    d['key4']=int(input())\n",
    "    f=open(\"test8\",'r')\n",
    "except ValueError as e:\n",
    "    print(e)"
   ]
  },
  {
   "cell_type": "code",
   "execution_count": 15,
   "id": "885749a6-3e05-4207-877d-7b2ef8a798e0",
   "metadata": {},
   "outputs": [
    {
     "name": "stdin",
     "output_type": "stream",
     "text": [
      " 334\n"
     ]
    },
    {
     "name": "stdout",
     "output_type": "stream",
     "text": [
      "[Errno 2] No such file or directory: 'test8'\n"
     ]
    }
   ],
   "source": [
    "try:\n",
    "    d={'key1':\"Krish\",'key2':[1,2,3,4,5],\"key3\": (4,5,6,7,8,9)}\n",
    "    d['key4']=int(input())\n",
    "    f=open(\"test8\",'r')\n",
    "except Exception as e:\n",
    "    print(e)"
   ]
  },
  {
   "cell_type": "code",
   "execution_count": 16,
   "id": "d8e3694d-e2a3-4229-be44-a0b5f5607d60",
   "metadata": {},
   "outputs": [
    {
     "name": "stdin",
     "output_type": "stream",
     "text": [
      " 24\n"
     ]
    },
    {
     "name": "stdout",
     "output_type": "stream",
     "text": [
      "[Errno 2] No such file or directory: 'test8'\n"
     ]
    }
   ],
   "source": [
    "try:\n",
    "    d={'key1':\"Krish\",'key2':[1,2,3,4,5],\"key3\": (4,5,6,7,8,9)}\n",
    "    d['key4']=int(input())\n",
    "    f=open(\"test8\",'r')\n",
    "except ValueError as e:\n",
    "    print(e)\n",
    "except FileNotFoundError as e:\n",
    "    print(e)"
   ]
  },
  {
   "cell_type": "code",
   "execution_count": 20,
   "id": "50fafb67-80e1-4915-a17d-a1d8bd6933ca",
   "metadata": {},
   "outputs": [
    {
     "name": "stdin",
     "output_type": "stream",
     "text": [
      " 234'\n"
     ]
    },
    {
     "name": "stdout",
     "output_type": "stream",
     "text": [
      "This my parent Exception invalid literal for int() with base 10: \"234'\"\n"
     ]
    }
   ],
   "source": [
    "try:\n",
    "    d={'key1':\"Krish\",'key2':[1,2,3,4,5],\"key3\": (4,5,6,7,8,9)}\n",
    "    d['key4']=int(input())\n",
    "    f=open(\"test8\",'r')\n",
    "except Exception as er:\n",
    "    print(\"This my parent Exception\", er)\n",
    "except ValueError as e:\n",
    "    print(e)\n",
    "except FileNotFoundError as e:\n",
    "    print(e)"
   ]
  },
  {
   "cell_type": "code",
   "execution_count": 22,
   "id": "57317a81-049c-42e7-9859-272076f038d5",
   "metadata": {},
   "outputs": [
    {
     "name": "stdin",
     "output_type": "stream",
     "text": [
      " 234\n"
     ]
    },
    {
     "name": "stdout",
     "output_type": "stream",
     "text": [
      "[Errno 2] No such file or directory: 'test8'\n"
     ]
    }
   ],
   "source": [
    "try:\n",
    "    d={'key1':\"Krish\",'key2':[1,2,3,4,5],\"key3\": (4,5,6,7,8,9)}\n",
    "    d['key4']=int(input())\n",
    "    f=open(\"test8\",'r')\n",
    "except ValueError as e:\n",
    "    print(e)\n",
    "except FileNotFoundError as e:\n",
    "    print(e)\n",
    "except Exception as er:\n",
    "    print(\"This my parent Exception\", er)"
   ]
  },
  {
   "cell_type": "code",
   "execution_count": 23,
   "id": "67787380-dced-4b3c-bed6-ef28e7f82e86",
   "metadata": {},
   "outputs": [
    {
     "name": "stdout",
     "output_type": "stream",
     "text": [
      "This will execute once my try block will be succefully excuted\n"
     ]
    }
   ],
   "source": [
    "try:\n",
    "    f=open(\"test2.txt\",\"w\")\n",
    "    f.write(\"This is my code in try block\")\n",
    "except Exception as e:\n",
    "    print(\"this handles the error\")\n",
    "else:\n",
    "    print(\"This will execute once my try block will be succefully excuted\")\n",
    "    f.close()"
   ]
  },
  {
   "cell_type": "code",
   "execution_count": 27,
   "id": "595ee60c-7016-4b25-b719-cf700d17c76a",
   "metadata": {},
   "outputs": [
    {
     "name": "stdout",
     "output_type": "stream",
     "text": [
      "this handles the error not writable\n"
     ]
    }
   ],
   "source": [
    "try:\n",
    "    f=open(\"test2.txt\",\"r\")\n",
    "    f.write(\"This is my code in try block\")\n",
    "except Exception as e:\n",
    "    print(\"this handles the error\",e)\n",
    "else:\n",
    "    print(\"This will execute once my try block will be succefully excuted\")\n",
    "    f.close()"
   ]
  },
  {
   "cell_type": "code",
   "execution_count": 29,
   "id": "456a723d-776c-47ca-ba5e-b3c5bf65e612",
   "metadata": {},
   "outputs": [
    {
     "name": "stdout",
     "output_type": "stream",
     "text": [
      "do this on successfully excecution of try block\n",
      "do this for sure\n"
     ]
    }
   ],
   "source": [
    "try:\n",
    "    f=open(\"text34.txt\",'w')\n",
    "except Exception as e:\n",
    "    print(\"This is the error\",e)\n",
    "else:\n",
    "    print(\"do this on successfully excecution of try block\")\n",
    "finally:\n",
    "    print(\"do this for sure\")"
   ]
  },
  {
   "cell_type": "code",
   "execution_count": 31,
   "id": "db1ed197-5bef-442a-974f-01613684acbf",
   "metadata": {},
   "outputs": [
    {
     "name": "stdout",
     "output_type": "stream",
     "text": [
      "do this on successfully excecution of try block\n",
      "do this for sure\n",
      "Handle this\n",
      "it will come to this nonetheless\n"
     ]
    }
   ],
   "source": [
    "try:\n",
    "    f=open(\"text34.txt\",'w')\n",
    "except Exception as e:\n",
    "    print(\"This is the error\",e)\n",
    "else:\n",
    "    print(\"do this on successfully excecution of try block\")\n",
    "finally:\n",
    "    print(\"do this for sure\")\n",
    "    try:\n",
    "        \n",
    "        f=open(\"text54\",'r')\n",
    "    except:\n",
    "        print(\"Handle this\")\n",
    "    finally:\n",
    "        print(\"it will come to this nonetheless\")"
   ]
  },
  {
   "cell_type": "code",
   "execution_count": 32,
   "id": "7ba9f397-769e-4bf5-bdab-9caf58d36a49",
   "metadata": {},
   "outputs": [],
   "source": [
    "#CREATE A FUNC TO ASK FOR INTEGER INPUT AND RETURN IT"
   ]
  },
  {
   "cell_type": "code",
   "execution_count": 36,
   "id": "5e0da853-ef9a-45ae-ad7c-86fc70a329c8",
   "metadata": {},
   "outputs": [],
   "source": [
    "def askint():\n",
    "    try:\n",
    "        a=int(input())\n",
    "        return a\n",
    "    except Exception as e:\n",
    "        print(\"This is my input error\",e)"
   ]
  },
  {
   "cell_type": "code",
   "execution_count": 37,
   "id": "e8fe6759-92ca-4ad3-b5f8-7e84db476a7c",
   "metadata": {},
   "outputs": [
    {
     "name": "stdin",
     "output_type": "stream",
     "text": [
      " 3dsg\n"
     ]
    },
    {
     "name": "stdout",
     "output_type": "stream",
     "text": [
      "This is my input error invalid literal for int() with base 10: '3dsg'\n"
     ]
    }
   ],
   "source": [
    "askint()"
   ]
  },
  {
   "cell_type": "code",
   "execution_count": 38,
   "id": "91609f34-8dc0-4254-a170-20a954285b31",
   "metadata": {},
   "outputs": [
    {
     "name": "stdin",
     "output_type": "stream",
     "text": [
      " 234\n"
     ]
    },
    {
     "data": {
      "text/plain": [
       "234"
      ]
     },
     "execution_count": 38,
     "metadata": {},
     "output_type": "execute_result"
    }
   ],
   "source": [
    "askint()"
   ]
  },
  {
   "cell_type": "code",
   "execution_count": 58,
   "id": "54b8ffde-a3aa-4e6c-8bd3-66a2ebfb6e7d",
   "metadata": {},
   "outputs": [],
   "source": [
    "def askint():\n",
    "    \"\"\"\n",
    "    FUNC TO ASKs FOR INTEGER INPUT AND RETURN IT\n",
    "    \"\"\"\n",
    "    a=[]\n",
    "    while type(a)!=int:\n",
    "        try: \n",
    "            a=int(input(\"Please provide proper integer\"))\n",
    "            \n",
    "        except Exception as e:\n",
    "            pass\n",
    "    return a"
   ]
  },
  {
   "cell_type": "code",
   "execution_count": 59,
   "id": "b6b3ea8e-c8e3-4d92-9633-84bf98edb7fa",
   "metadata": {},
   "outputs": [
    {
     "name": "stdin",
     "output_type": "stream",
     "text": [
      "Please provide proper integer ew\n",
      "Please provide proper integer rew\n",
      "Please provide proper integer 23\n"
     ]
    },
    {
     "data": {
      "text/plain": [
       "23"
      ]
     },
     "execution_count": 59,
     "metadata": {},
     "output_type": "execute_result"
    }
   ],
   "source": [
    "askint()"
   ]
  },
  {
   "cell_type": "code",
   "execution_count": 63,
   "id": "0916dd77-73b8-457e-929e-3afbe7a9670b",
   "metadata": {},
   "outputs": [],
   "source": [
    "def askint2():\n",
    "    while True:\n",
    "        try:\n",
    "            num=int(input(\"Enter an integer\"))\n",
    "            break\n",
    "        except Exception as e:\n",
    "            print(\"The provided input is not an integer\")"
   ]
  },
  {
   "cell_type": "code",
   "execution_count": 64,
   "id": "9c2af274-84c4-4c6f-96db-b6cb8a23a30a",
   "metadata": {},
   "outputs": [
    {
     "name": "stdin",
     "output_type": "stream",
     "text": [
      "Enter an integer f\n"
     ]
    },
    {
     "name": "stdout",
     "output_type": "stream",
     "text": [
      "The provided input is not an integer\n"
     ]
    },
    {
     "name": "stdin",
     "output_type": "stream",
     "text": [
      "Enter an integer sf\n"
     ]
    },
    {
     "name": "stdout",
     "output_type": "stream",
     "text": [
      "The provided input is not an integer\n"
     ]
    },
    {
     "name": "stdin",
     "output_type": "stream",
     "text": [
      "Enter an integer sfd\n"
     ]
    },
    {
     "name": "stdout",
     "output_type": "stream",
     "text": [
      "The provided input is not an integer\n"
     ]
    },
    {
     "name": "stdin",
     "output_type": "stream",
     "text": [
      "Enter an integer 23\n"
     ]
    }
   ],
   "source": [
    "askint2()"
   ]
  },
  {
   "cell_type": "code",
   "execution_count": 65,
   "id": "65cb69af-2661-4940-b751-d9fd5384d005",
   "metadata": {},
   "outputs": [
    {
     "data": {
      "text/plain": [
       "1.3333333333333333"
      ]
     },
     "execution_count": 65,
     "metadata": {},
     "output_type": "execute_result"
    }
   ],
   "source": [
    "4/3"
   ]
  },
  {
   "cell_type": "code",
   "execution_count": 66,
   "id": "ad5c4cd1-4215-4133-abbf-e8e5d903114b",
   "metadata": {},
   "outputs": [
    {
     "ename": "ZeroDivisionError",
     "evalue": "division by zero",
     "output_type": "error",
     "traceback": [
      "\u001b[0;31m---------------------------------------------------------------------------\u001b[0m",
      "\u001b[0;31mZeroDivisionError\u001b[0m                         Traceback (most recent call last)",
      "Input \u001b[0;32mIn [66]\u001b[0m, in \u001b[0;36m<cell line: 1>\u001b[0;34m()\u001b[0m\n\u001b[0;32m----> 1\u001b[0m \u001b[38;5;241;43m1\u001b[39;49m\u001b[38;5;241;43m/\u001b[39;49m\u001b[38;5;241;43m0\u001b[39;49m\n",
      "\u001b[0;31mZeroDivisionError\u001b[0m: division by zero"
     ]
    }
   ],
   "source": [
    "1/0"
   ]
  },
  {
   "cell_type": "code",
   "execution_count": 80,
   "id": "40e267f0-3ed3-476a-ab69-aea384b6ff60",
   "metadata": {},
   "outputs": [],
   "source": [
    "def test(a):\n",
    "    if a<0:\n",
    "        raise ZeroDivisionError(\"You have entered a neg number\",a)\n",
    "    return a"
   ]
  },
  {
   "cell_type": "code",
   "execution_count": 81,
   "id": "8d30cc6e-f02b-4e1a-88a2-88363a555b0b",
   "metadata": {},
   "outputs": [
    {
     "ename": "ZeroDivisionError",
     "evalue": "('You have entered a neg number', -2)",
     "output_type": "error",
     "traceback": [
      "\u001b[0;31m---------------------------------------------------------------------------\u001b[0m",
      "\u001b[0;31mZeroDivisionError\u001b[0m                         Traceback (most recent call last)",
      "Input \u001b[0;32mIn [81]\u001b[0m, in \u001b[0;36m<cell line: 1>\u001b[0;34m()\u001b[0m\n\u001b[0;32m----> 1\u001b[0m \u001b[43mtest\u001b[49m\u001b[43m(\u001b[49m\u001b[38;5;241;43m-\u001b[39;49m\u001b[38;5;241;43m2\u001b[39;49m\u001b[43m)\u001b[49m\n",
      "Input \u001b[0;32mIn [80]\u001b[0m, in \u001b[0;36mtest\u001b[0;34m(a)\u001b[0m\n\u001b[1;32m      1\u001b[0m \u001b[38;5;28;01mdef\u001b[39;00m \u001b[38;5;21mtest\u001b[39m(a):\n\u001b[1;32m      2\u001b[0m     \u001b[38;5;28;01mif\u001b[39;00m a\u001b[38;5;241m<\u001b[39m\u001b[38;5;241m0\u001b[39m:\n\u001b[0;32m----> 3\u001b[0m         \u001b[38;5;28;01mraise\u001b[39;00m \u001b[38;5;167;01mZeroDivisionError\u001b[39;00m(\u001b[38;5;124m\"\u001b[39m\u001b[38;5;124mYou have entered a neg number\u001b[39m\u001b[38;5;124m\"\u001b[39m,a)\n\u001b[1;32m      4\u001b[0m     \u001b[38;5;28;01mreturn\u001b[39;00m a\n",
      "\u001b[0;31mZeroDivisionError\u001b[0m: ('You have entered a neg number', -2)"
     ]
    }
   ],
   "source": [
    "test(-2)"
   ]
  },
  {
   "cell_type": "code",
   "execution_count": 73,
   "id": "8e8a4c37-8f7e-4ff9-b6e2-3e583ffcc75b",
   "metadata": {},
   "outputs": [
    {
     "data": {
      "text/plain": [
       "3"
      ]
     },
     "execution_count": 73,
     "metadata": {},
     "output_type": "execute_result"
    }
   ],
   "source": [
    "test(3)"
   ]
  },
  {
   "cell_type": "code",
   "execution_count": 70,
   "id": "6b758f9d-ffb9-4ee1-939c-f37f6bf8aede",
   "metadata": {},
   "outputs": [
    {
     "ename": "FileNotFoundError",
     "evalue": "[Errno 2] No such file or directory: 'dsbjdf'",
     "output_type": "error",
     "traceback": [
      "\u001b[0;31m---------------------------------------------------------------------------\u001b[0m",
      "\u001b[0;31mFileNotFoundError\u001b[0m                         Traceback (most recent call last)",
      "Input \u001b[0;32mIn [70]\u001b[0m, in \u001b[0;36m<cell line: 1>\u001b[0;34m()\u001b[0m\n\u001b[0;32m----> 1\u001b[0m \u001b[38;5;28;43mopen\u001b[39;49m\u001b[43m(\u001b[49m\u001b[38;5;124;43m\"\u001b[39;49m\u001b[38;5;124;43mdsbjdf\u001b[39;49m\u001b[38;5;124;43m\"\u001b[39;49m\u001b[43m,\u001b[49m\u001b[38;5;124;43m'\u001b[39;49m\u001b[38;5;124;43mr\u001b[39;49m\u001b[38;5;124;43m'\u001b[39;49m\u001b[43m)\u001b[49m\n",
      "\u001b[0;31mFileNotFoundError\u001b[0m: [Errno 2] No such file or directory: 'dsbjdf'"
     ]
    }
   ],
   "source": [
    "open(\"dsbjdf\",'r')"
   ]
  },
  {
   "cell_type": "code",
   "execution_count": 83,
   "id": "cbdd6769-7aa9-427c-b48a-0de1b09d072d",
   "metadata": {},
   "outputs": [
    {
     "name": "stdout",
     "output_type": "stream",
     "text": [
      "calling a raised execption ('You have entered a neg number', -3)\n"
     ]
    }
   ],
   "source": [
    "try:\n",
    "    test(-3)\n",
    "except Exception as e:\n",
    "    print(\"calling a raised execption\",e)"
   ]
  },
  {
   "cell_type": "code",
   "execution_count": null,
   "id": "3cad07e9-f2a6-433d-b204-4e3e88ce44fa",
   "metadata": {},
   "outputs": [],
   "source": []
  }
 ],
 "metadata": {
  "kernelspec": {
   "display_name": "Python 3 (ipykernel)",
   "language": "python",
   "name": "python3"
  },
  "language_info": {
   "codemirror_mode": {
    "name": "ipython",
    "version": 3
   },
   "file_extension": ".py",
   "mimetype": "text/x-python",
   "name": "python",
   "nbconvert_exporter": "python",
   "pygments_lexer": "ipython3",
   "version": "3.9.12"
  }
 },
 "nbformat": 4,
 "nbformat_minor": 5
}
