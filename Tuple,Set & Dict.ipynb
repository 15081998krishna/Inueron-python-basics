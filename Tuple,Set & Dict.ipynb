{
 "cells": [
  {
   "cell_type": "markdown",
   "id": "67a07336-69e8-42c9-a181-f0bfd9cee99d",
   "metadata": {},
   "source": [
    "# Tuple"
   ]
  },
  {
   "cell_type": "code",
   "execution_count": null,
   "id": "b6f78aed-02c0-42bc-8402-a561147126d4",
   "metadata": {},
   "outputs": [],
   "source": []
  },
  {
   "cell_type": "code",
   "execution_count": 2,
   "id": "e75fc26d-6833-446b-9b44-0f12979529ec",
   "metadata": {},
   "outputs": [],
   "source": [
    "t=(1,2,3,4,5,6,7,8,9,10)"
   ]
  },
  {
   "cell_type": "code",
   "execution_count": 3,
   "id": "2d4406d0-bee5-414f-9bbf-41131b57e6a1",
   "metadata": {
    "tags": []
   },
   "outputs": [
    {
     "data": {
      "text/plain": [
       "tuple"
      ]
     },
     "execution_count": 3,
     "metadata": {},
     "output_type": "execute_result"
    }
   ],
   "source": [
    "type(t)"
   ]
  },
  {
   "cell_type": "code",
   "execution_count": 4,
   "id": "7d41bbb1-91f8-4589-bc70-6f163b77cd5c",
   "metadata": {},
   "outputs": [],
   "source": [
    "t1=(2+3j,\"Sid\",23,34.4,True)"
   ]
  },
  {
   "cell_type": "code",
   "execution_count": 5,
   "id": "a192906a-7e7b-4e4a-b508-b1aa8e6cb842",
   "metadata": {},
   "outputs": [
    {
     "data": {
      "text/plain": [
       "((2+3j), 'Sid', 23, 34.4, True)"
      ]
     },
     "execution_count": 5,
     "metadata": {},
     "output_type": "execute_result"
    }
   ],
   "source": [
    "t1"
   ]
  },
  {
   "cell_type": "code",
   "execution_count": 6,
   "id": "509716c7-a2f9-4f1b-a506-4a2155b488fe",
   "metadata": {},
   "outputs": [],
   "source": [
    "l=[2+3j,\"Sid\",23,34.4,True];"
   ]
  },
  {
   "cell_type": "code",
   "execution_count": 7,
   "id": "f79d0c78-a7bc-4dbd-99f8-4e4c003198cb",
   "metadata": {},
   "outputs": [
    {
     "data": {
      "text/plain": [
       "tuple"
      ]
     },
     "execution_count": 7,
     "metadata": {},
     "output_type": "execute_result"
    }
   ],
   "source": [
    "type(t1)"
   ]
  },
  {
   "cell_type": "code",
   "execution_count": 8,
   "id": "d53eea4a-161f-44ed-a501-d84db8323b6a",
   "metadata": {},
   "outputs": [
    {
     "data": {
      "text/plain": [
       "list"
      ]
     },
     "execution_count": 8,
     "metadata": {},
     "output_type": "execute_result"
    }
   ],
   "source": [
    "type(l)"
   ]
  },
  {
   "cell_type": "code",
   "execution_count": 9,
   "id": "adceffc1-e8e0-484c-b6cc-eb804b0c29dd",
   "metadata": {},
   "outputs": [
    {
     "data": {
      "text/plain": [
       "((2+3j), 'Sid', 23, 34.4, True)"
      ]
     },
     "execution_count": 9,
     "metadata": {},
     "output_type": "execute_result"
    }
   ],
   "source": [
    "t1"
   ]
  },
  {
   "cell_type": "code",
   "execution_count": 12,
   "id": "46827b97-8340-4424-92f2-7e5f604a1778",
   "metadata": {},
   "outputs": [
    {
     "data": {
      "text/plain": [
       "((2+3j), 'Sid')"
      ]
     },
     "execution_count": 12,
     "metadata": {},
     "output_type": "execute_result"
    }
   ],
   "source": [
    "#Slicing is same in tuple, list & string\n",
    "t1[0:2]"
   ]
  },
  {
   "cell_type": "code",
   "execution_count": 13,
   "id": "2bf5f88d-defc-4f98-879c-e78b13474f3f",
   "metadata": {},
   "outputs": [
    {
     "data": {
      "text/plain": [
       "[(2+3j), 'Sid']"
      ]
     },
     "execution_count": 13,
     "metadata": {},
     "output_type": "execute_result"
    }
   ],
   "source": [
    "l[0:2]"
   ]
  },
  {
   "cell_type": "code",
   "execution_count": 14,
   "id": "3933d841-bf2c-45c8-b10d-5870309ab9f8",
   "metadata": {},
   "outputs": [
    {
     "data": {
      "text/plain": [
       "(True, 34.4, 23, 'Sid', (2+3j))"
      ]
     },
     "execution_count": 14,
     "metadata": {},
     "output_type": "execute_result"
    }
   ],
   "source": [
    "t1[::-1]"
   ]
  },
  {
   "cell_type": "code",
   "execution_count": 15,
   "id": "b50daea6-a0e7-412a-b023-c150bb59dad9",
   "metadata": {},
   "outputs": [
    {
     "data": {
      "text/plain": [
       "True"
      ]
     },
     "execution_count": 15,
     "metadata": {},
     "output_type": "execute_result"
    }
   ],
   "source": [
    "t1[-1]"
   ]
  },
  {
   "cell_type": "code",
   "execution_count": 16,
   "id": "bda3c477-e063-48cf-afbd-083cd9e5d65a",
   "metadata": {},
   "outputs": [
    {
     "data": {
      "text/plain": [
       "((2+3j), 23, True)"
      ]
     },
     "execution_count": 16,
     "metadata": {},
     "output_type": "execute_result"
    }
   ],
   "source": [
    "t1[::2]"
   ]
  },
  {
   "cell_type": "code",
   "execution_count": 17,
   "id": "0d3dba73-7620-4c08-a498-10c679defecb",
   "metadata": {},
   "outputs": [
    {
     "data": {
      "text/plain": [
       "[(2+3j), 'Sid', 23, 34.4, True]"
      ]
     },
     "execution_count": 17,
     "metadata": {},
     "output_type": "execute_result"
    }
   ],
   "source": [
    "l"
   ]
  },
  {
   "cell_type": "code",
   "execution_count": 18,
   "id": "e9dc4134-c05e-4a00-81c9-f2e45223d6e0",
   "metadata": {},
   "outputs": [],
   "source": [
    "l1=[2,5,1,4]"
   ]
  },
  {
   "cell_type": "code",
   "execution_count": 19,
   "id": "093ccb57-03c0-4a28-a0e5-adb6816aeed5",
   "metadata": {},
   "outputs": [
    {
     "data": {
      "text/plain": [
       "[2, 5, 1, 4]"
      ]
     },
     "execution_count": 19,
     "metadata": {},
     "output_type": "execute_result"
    }
   ],
   "source": [
    "l1"
   ]
  },
  {
   "cell_type": "code",
   "execution_count": 20,
   "id": "33893e12-83f0-4331-ae17-b13bcba538c6",
   "metadata": {},
   "outputs": [],
   "source": [
    "l[0]=3"
   ]
  },
  {
   "cell_type": "code",
   "execution_count": 21,
   "id": "f079856e-0640-450b-b1f0-5b2326416596",
   "metadata": {},
   "outputs": [
    {
     "data": {
      "text/plain": [
       "[3, 'Sid', 23, 34.4, True]"
      ]
     },
     "execution_count": 21,
     "metadata": {},
     "output_type": "execute_result"
    }
   ],
   "source": [
    "l"
   ]
  },
  {
   "cell_type": "code",
   "execution_count": 22,
   "id": "9349cd33-9f1a-445b-ba99-90ceec00f991",
   "metadata": {},
   "outputs": [
    {
     "data": {
      "text/plain": [
       "((2+3j), 'Sid', 23, 34.4, True)"
      ]
     },
     "execution_count": 22,
     "metadata": {},
     "output_type": "execute_result"
    }
   ],
   "source": [
    "t1"
   ]
  },
  {
   "cell_type": "code",
   "execution_count": 23,
   "id": "57f5d8c5-94db-4de6-80ef-cdf26ecdaa20",
   "metadata": {},
   "outputs": [
    {
     "data": {
      "text/plain": [
       "(2+3j)"
      ]
     },
     "execution_count": 23,
     "metadata": {},
     "output_type": "execute_result"
    }
   ],
   "source": [
    "t1[0]"
   ]
  },
  {
   "cell_type": "code",
   "execution_count": 24,
   "id": "ff848925-b876-47fe-abe1-b54734334ab5",
   "metadata": {},
   "outputs": [
    {
     "ename": "TypeError",
     "evalue": "'tuple' object does not support item assignment",
     "output_type": "error",
     "traceback": [
      "\u001b[0;31m---------------------------------------------------------------------------\u001b[0m",
      "\u001b[0;31mTypeError\u001b[0m                                 Traceback (most recent call last)",
      "Input \u001b[0;32mIn [24]\u001b[0m, in \u001b[0;36m<cell line: 1>\u001b[0;34m()\u001b[0m\n\u001b[0;32m----> 1\u001b[0m t1[\u001b[38;5;241m0\u001b[39m]\u001b[38;5;241m=\u001b[39m\u001b[38;5;241m3\u001b[39m\n",
      "\u001b[0;31mTypeError\u001b[0m: 'tuple' object does not support item assignment"
     ]
    }
   ],
   "source": [
    "t1[0]=3"
   ]
  },
  {
   "cell_type": "code",
   "execution_count": 25,
   "id": "aa5a967f-7df8-4a0e-b0bf-1f7f509af7e0",
   "metadata": {},
   "outputs": [],
   "source": [
    "#Tuple is immutable "
   ]
  },
  {
   "cell_type": "code",
   "execution_count": 26,
   "id": "be5e9174-d0b8-4e40-8f0e-934c0a50cb45",
   "metadata": {},
   "outputs": [],
   "source": [
    "t2=(23,45,56,34,45)"
   ]
  },
  {
   "cell_type": "code",
   "execution_count": 27,
   "id": "4ec29151-205c-4491-98a6-f7ee3810338f",
   "metadata": {},
   "outputs": [
    {
     "data": {
      "text/plain": [
       "((2+3j), 'Sid', 23, 34.4, True, 23, 45, 56, 34, 45)"
      ]
     },
     "execution_count": 27,
     "metadata": {},
     "output_type": "execute_result"
    }
   ],
   "source": [
    "t1+t2"
   ]
  },
  {
   "cell_type": "code",
   "execution_count": 29,
   "id": "b7071b91-fe30-4c87-be73-d7fc13081f5f",
   "metadata": {},
   "outputs": [
    {
     "data": {
      "text/plain": [
       "<function tuple.count(value, /)>"
      ]
     },
     "execution_count": 29,
     "metadata": {},
     "output_type": "execute_result"
    }
   ],
   "source": [
    "t1.count"
   ]
  },
  {
   "cell_type": "code",
   "execution_count": 30,
   "id": "e13822c9-619e-4548-ac83-318b12748b90",
   "metadata": {},
   "outputs": [
    {
     "data": {
      "text/plain": [
       "[3, 'Sid', 23, 34.4, True, 2, 5, 1, 4]"
      ]
     },
     "execution_count": 30,
     "metadata": {},
     "output_type": "execute_result"
    }
   ],
   "source": [
    "l+l1"
   ]
  },
  {
   "cell_type": "code",
   "execution_count": 31,
   "id": "f392c103-e810-4a4d-bb70-b6018260e4a1",
   "metadata": {},
   "outputs": [
    {
     "data": {
      "text/plain": [
       "((2+3j), 'Sid', 23, 34.4, True)"
      ]
     },
     "execution_count": 31,
     "metadata": {},
     "output_type": "execute_result"
    }
   ],
   "source": [
    "t1"
   ]
  },
  {
   "cell_type": "code",
   "execution_count": 32,
   "id": "65f4d4c8-3a42-4b24-a265-bb0213d758bf",
   "metadata": {},
   "outputs": [
    {
     "data": {
      "text/plain": [
       "((2+3j), 'Sid', 23, 34.4, True, (2+3j), 'Sid', 23, 34.4, True)"
      ]
     },
     "execution_count": 32,
     "metadata": {},
     "output_type": "execute_result"
    }
   ],
   "source": [
    "t1*2"
   ]
  },
  {
   "cell_type": "code",
   "execution_count": 33,
   "id": "613c3ad6-7f2a-49f4-a7e9-cbbf13220f00",
   "metadata": {},
   "outputs": [
    {
     "data": {
      "text/plain": [
       "1"
      ]
     },
     "execution_count": 33,
     "metadata": {},
     "output_type": "execute_result"
    }
   ],
   "source": [
    "t1.count('Sid')"
   ]
  },
  {
   "cell_type": "code",
   "execution_count": 35,
   "id": "d9c5bddc-869e-4bae-9bca-dc11aafc7dc5",
   "metadata": {},
   "outputs": [
    {
     "data": {
      "text/plain": [
       "1"
      ]
     },
     "execution_count": 35,
     "metadata": {},
     "output_type": "execute_result"
    }
   ],
   "source": [
    "t1.count(23)"
   ]
  },
  {
   "cell_type": "code",
   "execution_count": 36,
   "id": "de218eb2-bb12-4a22-94f7-a2380917f02a",
   "metadata": {},
   "outputs": [
    {
     "data": {
      "text/plain": [
       "2"
      ]
     },
     "execution_count": 36,
     "metadata": {},
     "output_type": "execute_result"
    }
   ],
   "source": [
    "t1.index(23)"
   ]
  },
  {
   "cell_type": "code",
   "execution_count": 37,
   "id": "972233e2-a2fd-4735-bc22-01fea391f5e1",
   "metadata": {},
   "outputs": [
    {
     "ename": "ValueError",
     "evalue": "tuple.index(x): x not in tuple",
     "output_type": "error",
     "traceback": [
      "\u001b[0;31m---------------------------------------------------------------------------\u001b[0m",
      "\u001b[0;31mValueError\u001b[0m                                Traceback (most recent call last)",
      "Input \u001b[0;32mIn [37]\u001b[0m, in \u001b[0;36m<cell line: 1>\u001b[0;34m()\u001b[0m\n\u001b[0;32m----> 1\u001b[0m \u001b[43mt1\u001b[49m\u001b[38;5;241;43m.\u001b[39;49m\u001b[43mindex\u001b[49m\u001b[43m(\u001b[49m\u001b[38;5;241;43m223\u001b[39;49m\u001b[43m)\u001b[49m\n",
      "\u001b[0;31mValueError\u001b[0m: tuple.index(x): x not in tuple"
     ]
    }
   ],
   "source": [
    "t1.index(223)"
   ]
  },
  {
   "cell_type": "code",
   "execution_count": 39,
   "id": "4b886bca-2cf9-4076-88a2-611bfbe861d7",
   "metadata": {},
   "outputs": [],
   "source": [
    "#Tuple is used where immutability is needed, like storing passwords, \n",
    "#input data to make sure no one makes changes to it"
   ]
  },
  {
   "cell_type": "code",
   "execution_count": 42,
   "id": "87f5aa29-9644-4835-a205-3af2a7292632",
   "metadata": {},
   "outputs": [],
   "source": [
    "t=(23,24,35,(2,3,5,6),\"Sudh\",('Krish'))"
   ]
  },
  {
   "cell_type": "code",
   "execution_count": 43,
   "id": "287567c5-028a-4490-aa04-1e3b71038a89",
   "metadata": {},
   "outputs": [
    {
     "data": {
      "text/plain": [
       "(23, 24, 35, (2, 3, 5, 6), 'Sudh', 'Krish')"
      ]
     },
     "execution_count": 43,
     "metadata": {},
     "output_type": "execute_result"
    }
   ],
   "source": [
    "t"
   ]
  },
  {
   "cell_type": "code",
   "execution_count": 44,
   "id": "a3da46c5-f34a-4ff4-884e-3a158f0d64f8",
   "metadata": {},
   "outputs": [
    {
     "data": {
      "text/plain": [
       "str"
      ]
     },
     "execution_count": 44,
     "metadata": {},
     "output_type": "execute_result"
    }
   ],
   "source": [
    "type(t[-2])"
   ]
  },
  {
   "cell_type": "code",
   "execution_count": 46,
   "id": "5370d840-a196-4045-bc78-473df9b65ede",
   "metadata": {},
   "outputs": [
    {
     "data": {
      "text/plain": [
       "str"
      ]
     },
     "execution_count": 46,
     "metadata": {},
     "output_type": "execute_result"
    }
   ],
   "source": [
    "type(t[-1])"
   ]
  },
  {
   "cell_type": "code",
   "execution_count": 47,
   "id": "9c9e5fff-0b4f-41ab-abf0-0c03403dda52",
   "metadata": {},
   "outputs": [],
   "source": [
    "t1=((2,5,2),[\"sid\",\"Ram\"],[\"Ramesh\"],(\"Sita\"))"
   ]
  },
  {
   "cell_type": "code",
   "execution_count": 48,
   "id": "2cb4c644-01a6-46fb-946e-ff2b3d0a61c8",
   "metadata": {},
   "outputs": [
    {
     "data": {
      "text/plain": [
       "((2, 5, 2), ['sid', 'Ram'], ['Ramesh'], 'Sita')"
      ]
     },
     "execution_count": 48,
     "metadata": {},
     "output_type": "execute_result"
    }
   ],
   "source": [
    "t1"
   ]
  },
  {
   "cell_type": "code",
   "execution_count": 50,
   "id": "9a1ee342-6004-47bd-a03a-18a6d71b2e1f",
   "metadata": {},
   "outputs": [],
   "source": [
    "t1[1][1]=\"SITA\""
   ]
  },
  {
   "cell_type": "code",
   "execution_count": 51,
   "id": "347c45d9-6cc9-4b6f-ab15-96893b6c726b",
   "metadata": {},
   "outputs": [
    {
     "data": {
      "text/plain": [
       "((2, 5, 2), ['sid', 'SITA'], ['Ramesh'], 'Sita')"
      ]
     },
     "execution_count": 51,
     "metadata": {},
     "output_type": "execute_result"
    }
   ],
   "source": [
    "t1"
   ]
  },
  {
   "cell_type": "code",
   "execution_count": 53,
   "id": "963f60a0-832f-478e-a9e0-d43b84b95171",
   "metadata": {},
   "outputs": [],
   "source": [
    "l3=list(t1)"
   ]
  },
  {
   "cell_type": "code",
   "execution_count": 54,
   "id": "c89e9e37-5c12-4d22-9417-0813a75849b1",
   "metadata": {},
   "outputs": [
    {
     "data": {
      "text/plain": [
       "[(2, 5, 2), ['sid', 'SITA'], ['Ramesh'], 'Sita']"
      ]
     },
     "execution_count": 54,
     "metadata": {},
     "output_type": "execute_result"
    }
   ],
   "source": [
    "l3"
   ]
  },
  {
   "cell_type": "code",
   "execution_count": 55,
   "id": "68473f2f-9a70-4b01-8b3a-2e16cafe47d0",
   "metadata": {},
   "outputs": [
    {
     "data": {
      "text/plain": [
       "((2, 5, 2), ['sid', 'SITA'], ['Ramesh'], 'Sita')"
      ]
     },
     "execution_count": 55,
     "metadata": {},
     "output_type": "execute_result"
    }
   ],
   "source": [
    "tuple(l3)"
   ]
  },
  {
   "cell_type": "markdown",
   "id": "cfd3ac2c-3aff-4332-ba42-2e5f08227b4c",
   "metadata": {
    "tags": []
   },
   "source": [
    "# Set"
   ]
  },
  {
   "cell_type": "code",
   "execution_count": 58,
   "id": "2f85b099-2596-4bc2-9645-005579cbcceb",
   "metadata": {},
   "outputs": [],
   "source": [
    "l=[23,23,1,1,2,34,46,2,4,5,6,8,9,6,4,\"sid\",2,2,45,5,77,432,2,2,23,4,432,2,2,3]"
   ]
  },
  {
   "cell_type": "code",
   "execution_count": 59,
   "id": "beadee5e-46f4-4fb2-8877-7666eb4c871b",
   "metadata": {},
   "outputs": [],
   "source": [
    "s=set(l)"
   ]
  },
  {
   "cell_type": "code",
   "execution_count": 60,
   "id": "1a213fdf-13ae-4b1d-9f43-0a4c04ce2666",
   "metadata": {},
   "outputs": [
    {
     "data": {
      "text/plain": [
       "{1, 2, 23, 3, 34, 4, 432, 45, 46, 5, 6, 77, 8, 9, 'sid'}"
      ]
     },
     "execution_count": 60,
     "metadata": {},
     "output_type": "execute_result"
    }
   ],
   "source": [
    "s"
   ]
  },
  {
   "cell_type": "code",
   "execution_count": 61,
   "id": "e18ae457-4be0-4006-b261-7e62cbdfefb2",
   "metadata": {},
   "outputs": [],
   "source": [
    "s={}"
   ]
  },
  {
   "cell_type": "code",
   "execution_count": 62,
   "id": "478b42a9-7ec2-4e18-9a41-b3bb4d773c76",
   "metadata": {},
   "outputs": [
    {
     "data": {
      "text/plain": [
       "dict"
      ]
     },
     "execution_count": 62,
     "metadata": {},
     "output_type": "execute_result"
    }
   ],
   "source": [
    "type(s)"
   ]
  },
  {
   "cell_type": "code",
   "execution_count": 63,
   "id": "797f975c-9647-4971-bb8c-4378a52a22c0",
   "metadata": {},
   "outputs": [],
   "source": [
    "s={2,3,4}"
   ]
  },
  {
   "cell_type": "code",
   "execution_count": 64,
   "id": "8360b218-18e5-480a-afad-ba047636a5b7",
   "metadata": {},
   "outputs": [
    {
     "data": {
      "text/plain": [
       "set"
      ]
     },
     "execution_count": 64,
     "metadata": {},
     "output_type": "execute_result"
    }
   ],
   "source": [
    "type(s)"
   ]
  },
  {
   "cell_type": "code",
   "execution_count": 26,
   "id": "f516bcac-2eff-46fe-a32e-eb011790a141",
   "metadata": {},
   "outputs": [],
   "source": [
    "s={1,1,3,2,3,4,44,2,2,1,3,4,3,22,3,2,13,3}"
   ]
  },
  {
   "cell_type": "code",
   "execution_count": 27,
   "id": "9a88398e-1dbf-4106-ab97-be552894f860",
   "metadata": {},
   "outputs": [
    {
     "data": {
      "text/plain": [
       "{1, 2, 3, 4, 13, 22, 44}"
      ]
     },
     "execution_count": 27,
     "metadata": {},
     "output_type": "execute_result"
    }
   ],
   "source": [
    "s"
   ]
  },
  {
   "cell_type": "code",
   "execution_count": 28,
   "id": "a0ff5a64-9521-4e1a-9756-6dfb70ebb8c2",
   "metadata": {},
   "outputs": [
    {
     "ename": "TypeError",
     "evalue": "'set' object is not subscriptable",
     "output_type": "error",
     "traceback": [
      "\u001b[0;31m---------------------------------------------------------------------------\u001b[0m",
      "\u001b[0;31mTypeError\u001b[0m                                 Traceback (most recent call last)",
      "Input \u001b[0;32mIn [28]\u001b[0m, in \u001b[0;36m<cell line: 1>\u001b[0;34m()\u001b[0m\n\u001b[0;32m----> 1\u001b[0m \u001b[43ms\u001b[49m\u001b[43m[\u001b[49m\u001b[38;5;241;43m1\u001b[39;49m\u001b[43m]\u001b[49m\n",
      "\u001b[0;31mTypeError\u001b[0m: 'set' object is not subscriptable"
     ]
    }
   ],
   "source": [
    "s[1]"
   ]
  },
  {
   "cell_type": "code",
   "execution_count": 29,
   "id": "412a50ea-3811-43c6-a4dc-71e058667fe1",
   "metadata": {},
   "outputs": [],
   "source": [
    "l=list(s)"
   ]
  },
  {
   "cell_type": "code",
   "execution_count": 30,
   "id": "abea5ce2-2023-4512-a716-eeedfccfd737",
   "metadata": {},
   "outputs": [
    {
     "data": {
      "text/plain": [
       "3"
      ]
     },
     "execution_count": 30,
     "metadata": {},
     "output_type": "execute_result"
    }
   ],
   "source": [
    "l[2]"
   ]
  },
  {
   "cell_type": "code",
   "execution_count": 31,
   "id": "2c78462d-2c17-445c-acc5-6e85bdcdd8b1",
   "metadata": {},
   "outputs": [],
   "source": [
    "s.add(\"Krish\")"
   ]
  },
  {
   "cell_type": "code",
   "execution_count": 32,
   "id": "f75fa22e-2abe-4da0-bff5-15ab892c6290",
   "metadata": {},
   "outputs": [
    {
     "data": {
      "text/plain": [
       "{1, 13, 2, 22, 3, 4, 44, 'Krish'}"
      ]
     },
     "execution_count": 32,
     "metadata": {},
     "output_type": "execute_result"
    }
   ],
   "source": [
    "s"
   ]
  },
  {
   "cell_type": "code",
   "execution_count": 33,
   "id": "2682c732-96dd-4b30-b7f4-6d9f8e72a527",
   "metadata": {},
   "outputs": [
    {
     "ename": "TypeError",
     "evalue": "unhashable type: 'list'",
     "output_type": "error",
     "traceback": [
      "\u001b[0;31m---------------------------------------------------------------------------\u001b[0m",
      "\u001b[0;31mTypeError\u001b[0m                                 Traceback (most recent call last)",
      "Input \u001b[0;32mIn [33]\u001b[0m, in \u001b[0;36m<cell line: 1>\u001b[0;34m()\u001b[0m\n\u001b[0;32m----> 1\u001b[0m \u001b[43ms\u001b[49m\u001b[38;5;241;43m.\u001b[39;49m\u001b[43madd\u001b[49m\u001b[43m(\u001b[49m\u001b[43m[\u001b[49m\u001b[38;5;241;43m2\u001b[39;49m\u001b[43m,\u001b[49m\u001b[38;5;241;43m2\u001b[39;49m\u001b[43m,\u001b[49m\u001b[38;5;241;43m4\u001b[39;49m\u001b[43m,\u001b[49m\u001b[38;5;241;43m5\u001b[39;49m\u001b[43m]\u001b[49m\u001b[43m)\u001b[49m\n",
      "\u001b[0;31mTypeError\u001b[0m: unhashable type: 'list'"
     ]
    }
   ],
   "source": [
    "s.add([2,2,4,5])"
   ]
  },
  {
   "cell_type": "code",
   "execution_count": 34,
   "id": "8881f920-dfbc-4c48-8f7d-68f1de7a3373",
   "metadata": {},
   "outputs": [
    {
     "ename": "TypeError",
     "evalue": "unhashable type: 'list'",
     "output_type": "error",
     "traceback": [
      "\u001b[0;31m---------------------------------------------------------------------------\u001b[0m",
      "\u001b[0;31mTypeError\u001b[0m                                 Traceback (most recent call last)",
      "Input \u001b[0;32mIn [34]\u001b[0m, in \u001b[0;36m<cell line: 1>\u001b[0;34m()\u001b[0m\n\u001b[0;32m----> 1\u001b[0m {[\u001b[38;5;241m1.2\u001b[39m,\u001b[38;5;241m3\u001b[39m,\u001b[38;5;241m2\u001b[39m],\u001b[38;5;241m23\u001b[39m,\u001b[38;5;124m\"\u001b[39m\u001b[38;5;124mRaj\u001b[39m\u001b[38;5;124m\"\u001b[39m}\n",
      "\u001b[0;31mTypeError\u001b[0m: unhashable type: 'list'"
     ]
    }
   ],
   "source": [
    "{[1.2,3,2],23,\"Raj\"}"
   ]
  },
  {
   "cell_type": "code",
   "execution_count": 35,
   "id": "b23b79ac-ceef-454b-8b56-9852c2ed1bf3",
   "metadata": {},
   "outputs": [],
   "source": [
    "#only immutable datatypes allowed"
   ]
  },
  {
   "cell_type": "code",
   "execution_count": 36,
   "id": "0cf5b907-7201-46b4-accb-9b56497700d7",
   "metadata": {},
   "outputs": [
    {
     "data": {
      "text/plain": [
       "{(1, 2, 3, 1), (12, 34, 35), 23, 'Raj'}"
      ]
     },
     "execution_count": 36,
     "metadata": {},
     "output_type": "execute_result"
    }
   ],
   "source": [
    "{(1,2,3,1),(1,2,3,1),23,\"Raj\",(12,34,35)}"
   ]
  },
  {
   "cell_type": "code",
   "execution_count": 37,
   "id": "f3aeedfc-0590-4154-ae18-01c1afb3fc41",
   "metadata": {},
   "outputs": [
    {
     "data": {
      "text/plain": [
       "{1, 13, 2, 22, 3, 4, 44, 'Krish'}"
      ]
     },
     "execution_count": 37,
     "metadata": {},
     "output_type": "execute_result"
    }
   ],
   "source": [
    "s"
   ]
  },
  {
   "cell_type": "code",
   "execution_count": 38,
   "id": "869c49f7-115d-45c5-a8c6-586dd5b1a232",
   "metadata": {},
   "outputs": [],
   "source": [
    "s.remove(4)"
   ]
  },
  {
   "cell_type": "code",
   "execution_count": 39,
   "id": "1f6a8d2b-6237-4305-9ea7-7f4fa73d8b63",
   "metadata": {},
   "outputs": [
    {
     "data": {
      "text/plain": [
       "{1, 13, 2, 22, 3, 44, 'Krish'}"
      ]
     },
     "execution_count": 39,
     "metadata": {},
     "output_type": "execute_result"
    }
   ],
   "source": [
    "s"
   ]
  },
  {
   "cell_type": "code",
   "execution_count": 40,
   "id": "e50f6b6e-a9f0-4975-9032-624d5788d1a4",
   "metadata": {},
   "outputs": [],
   "source": [
    "s.discard(2)"
   ]
  },
  {
   "cell_type": "code",
   "execution_count": 41,
   "id": "b0948409-b9b8-447e-9226-5ac46f92b1c4",
   "metadata": {},
   "outputs": [
    {
     "data": {
      "text/plain": [
       "{1, 13, 22, 3, 44, 'Krish'}"
      ]
     },
     "execution_count": 41,
     "metadata": {},
     "output_type": "execute_result"
    }
   ],
   "source": [
    "s"
   ]
  },
  {
   "cell_type": "code",
   "execution_count": 42,
   "id": "552de8d3-ea0b-4184-8499-aa28ce497d5e",
   "metadata": {},
   "outputs": [
    {
     "ename": "KeyError",
     "evalue": "23",
     "output_type": "error",
     "traceback": [
      "\u001b[0;31m---------------------------------------------------------------------------\u001b[0m",
      "\u001b[0;31mKeyError\u001b[0m                                  Traceback (most recent call last)",
      "Input \u001b[0;32mIn [42]\u001b[0m, in \u001b[0;36m<cell line: 1>\u001b[0;34m()\u001b[0m\n\u001b[0;32m----> 1\u001b[0m \u001b[43ms\u001b[49m\u001b[38;5;241;43m.\u001b[39;49m\u001b[43mremove\u001b[49m\u001b[43m(\u001b[49m\u001b[38;5;241;43m23\u001b[39;49m\u001b[43m)\u001b[49m\n",
      "\u001b[0;31mKeyError\u001b[0m: 23"
     ]
    }
   ],
   "source": [
    "s.remove(23)"
   ]
  },
  {
   "cell_type": "code",
   "execution_count": 43,
   "id": "fe783d92-1efc-4985-8ca3-4ecb911e17a3",
   "metadata": {},
   "outputs": [],
   "source": [
    "s.discard(23)"
   ]
  },
  {
   "cell_type": "code",
   "execution_count": 44,
   "id": "5637edc5-00e1-4129-9d36-368cdd9bc7e0",
   "metadata": {},
   "outputs": [
    {
     "data": {
      "text/plain": [
       "{1, 13, 22, 3, 44, 'Krish'}"
      ]
     },
     "execution_count": 44,
     "metadata": {},
     "output_type": "execute_result"
    }
   ],
   "source": [
    "s"
   ]
  },
  {
   "cell_type": "code",
   "execution_count": 45,
   "id": "cb6a4fe4-2411-4dfb-8e7f-c9172b01faf0",
   "metadata": {},
   "outputs": [
    {
     "data": {
      "text/plain": [
       "{'Sudh', 'sudh'}"
      ]
     },
     "execution_count": 45,
     "metadata": {},
     "output_type": "execute_result"
    }
   ],
   "source": [
    "{\"sudh\",\"Sudh\"}"
   ]
  },
  {
   "cell_type": "code",
   "execution_count": 46,
   "id": "6919731f-81e2-42f2-ba3d-6771cd0d1203",
   "metadata": {},
   "outputs": [
    {
     "data": {
      "text/plain": [
       "{1, 13, 22, 3, 44, 'Krish'}"
      ]
     },
     "execution_count": 46,
     "metadata": {},
     "output_type": "execute_result"
    }
   ],
   "source": [
    "s"
   ]
  },
  {
   "cell_type": "code",
   "execution_count": 47,
   "id": "01c792a9-5347-468b-936e-6dc78c18db1c",
   "metadata": {},
   "outputs": [],
   "source": [
    "s.clear()"
   ]
  },
  {
   "cell_type": "code",
   "execution_count": 48,
   "id": "c22c2e16-3c82-4780-8098-ffdec5713144",
   "metadata": {},
   "outputs": [
    {
     "data": {
      "text/plain": [
       "set()"
      ]
     },
     "execution_count": 48,
     "metadata": {},
     "output_type": "execute_result"
    }
   ],
   "source": [
    "s"
   ]
  },
  {
   "cell_type": "markdown",
   "id": "6918fcb5-1ec4-40a4-a08f-29c3e37acb7b",
   "metadata": {},
   "source": [
    "# Dictionary"
   ]
  },
  {
   "cell_type": "code",
   "execution_count": 49,
   "id": "3798dce1-2f32-4b61-874e-d78c1c806d38",
   "metadata": {},
   "outputs": [],
   "source": [
    "d={}"
   ]
  },
  {
   "cell_type": "code",
   "execution_count": 50,
   "id": "d4ef297b-bcac-4554-b482-9940fba5dd71",
   "metadata": {},
   "outputs": [
    {
     "data": {
      "text/plain": [
       "{}"
      ]
     },
     "execution_count": 50,
     "metadata": {},
     "output_type": "execute_result"
    }
   ],
   "source": [
    "d"
   ]
  },
  {
   "cell_type": "code",
   "execution_count": 53,
   "id": "062bc8b7-692a-4c1c-8e0c-5922cb4c94f7",
   "metadata": {},
   "outputs": [],
   "source": [
    "d={4:\"south\",3:\"sat\"}"
   ]
  },
  {
   "cell_type": "code",
   "execution_count": 54,
   "id": "34c4912d-2f3c-49e5-92d3-3fd7becb315f",
   "metadata": {},
   "outputs": [
    {
     "data": {
      "text/plain": [
       "{4: 'south', 3: 'sat'}"
      ]
     },
     "execution_count": 54,
     "metadata": {},
     "output_type": "execute_result"
    }
   ],
   "source": [
    "d"
   ]
  },
  {
   "cell_type": "code",
   "execution_count": 55,
   "id": "f1783be4-d065-4de3-bc46-dd107ba73774",
   "metadata": {},
   "outputs": [],
   "source": [
    "d={4:\"south\",3:\"sat\",\"sit\":(1,2,5,3)}"
   ]
  },
  {
   "cell_type": "code",
   "execution_count": 56,
   "id": "b4732a64-b0a1-4726-8b96-ff7129231bd8",
   "metadata": {},
   "outputs": [
    {
     "data": {
      "text/plain": [
       "{4: 'south', 3: 'sat', 'sit': (1, 2, 5, 3)}"
      ]
     },
     "execution_count": 56,
     "metadata": {},
     "output_type": "execute_result"
    }
   ],
   "source": [
    "d"
   ]
  },
  {
   "cell_type": "code",
   "execution_count": 57,
   "id": "e24965fa-a99e-467f-8d6d-3faa91af25ec",
   "metadata": {},
   "outputs": [
    {
     "data": {
      "text/plain": [
       "'south'"
      ]
     },
     "execution_count": 57,
     "metadata": {},
     "output_type": "execute_result"
    }
   ],
   "source": [
    "d[4]"
   ]
  },
  {
   "cell_type": "code",
   "execution_count": 65,
   "id": "f19d11e7-0434-40cd-8fda-f4c3d12d9460",
   "metadata": {},
   "outputs": [],
   "source": [
    "d1={.4:{23,12,23,13}}"
   ]
  },
  {
   "cell_type": "code",
   "execution_count": 66,
   "id": "462d003f-7002-4e7a-931d-c4344c30cf57",
   "metadata": {},
   "outputs": [],
   "source": [
    "d1={\"key1\":[1,32,234,2],\"key2\":\"Raj\",\"key1\":34}"
   ]
  },
  {
   "cell_type": "code",
   "execution_count": 67,
   "id": "c334e18f-01c6-40aa-9093-ee3dffb42439",
   "metadata": {},
   "outputs": [
    {
     "data": {
      "text/plain": [
       "{'key1': 34, 'key2': 'Raj'}"
      ]
     },
     "execution_count": 67,
     "metadata": {},
     "output_type": "execute_result"
    }
   ],
   "source": [
    "d1"
   ]
  },
  {
   "cell_type": "code",
   "execution_count": 71,
   "id": "cb14b37e-2eb0-46c0-b6db-acdab64c5e51",
   "metadata": {},
   "outputs": [],
   "source": [
    "d={\"name\":\"Krishna\",\"ph.no\":23213122,\"mail_id\":\"qweqj@mail.com\",\"key1\":[23,22,32], \"key2\":{23,\"kar\",\"marx\"},\"key3\":(23,23,12)}"
   ]
  },
  {
   "cell_type": "code",
   "execution_count": 72,
   "id": "9239d165-f770-4d07-9920-8c4ee7ee45c4",
   "metadata": {},
   "outputs": [
    {
     "data": {
      "text/plain": [
       "{'name': 'Krishna',\n",
       " 'ph.no': 23213122,\n",
       " 'mail_id': 'qweqj@mail.com',\n",
       " 'key1': [23, 22, 32],\n",
       " 'key2': {23, 'kar', 'marx'},\n",
       " 'key3': (23, 23, 12)}"
      ]
     },
     "execution_count": 72,
     "metadata": {},
     "output_type": "execute_result"
    }
   ],
   "source": [
    "d"
   ]
  },
  {
   "cell_type": "code",
   "execution_count": 73,
   "id": "bd34d2ea-3441-40d8-91ca-e8b22c3cd26e",
   "metadata": {},
   "outputs": [
    {
     "data": {
      "text/plain": [
       "{23, 'kar', 'marx'}"
      ]
     },
     "execution_count": 73,
     "metadata": {},
     "output_type": "execute_result"
    }
   ],
   "source": [
    "d[\"key2\"]"
   ]
  },
  {
   "cell_type": "code",
   "execution_count": 74,
   "id": "c86a7fc3-2b0b-42cb-8434-b7b12cb475cf",
   "metadata": {},
   "outputs": [
    {
     "data": {
      "text/plain": [
       "set"
      ]
     },
     "execution_count": 74,
     "metadata": {},
     "output_type": "execute_result"
    }
   ],
   "source": [
    "type(d[\"key2\"])"
   ]
  },
  {
   "cell_type": "code",
   "execution_count": 76,
   "id": "85dd4ebe-752d-428f-812e-21a269b0c294",
   "metadata": {},
   "outputs": [
    {
     "data": {
      "text/plain": [
       "32"
      ]
     },
     "execution_count": 76,
     "metadata": {},
     "output_type": "execute_result"
    }
   ],
   "source": [
    "d[\"key1\"][2]"
   ]
  },
  {
   "cell_type": "code",
   "execution_count": 77,
   "id": "de35ca58-7904-4381-9f54-592d715a8f54",
   "metadata": {},
   "outputs": [
    {
     "data": {
      "text/plain": [
       "dict_keys(['name', 'ph.no', 'mail_id', 'key1', 'key2', 'key3'])"
      ]
     },
     "execution_count": 77,
     "metadata": {},
     "output_type": "execute_result"
    }
   ],
   "source": [
    "d.keys()"
   ]
  },
  {
   "cell_type": "code",
   "execution_count": 78,
   "id": "68a06c66-1ac5-4e66-827b-b1439aeb80f2",
   "metadata": {},
   "outputs": [
    {
     "data": {
      "text/plain": [
       "dict_values(['Krishna', 23213122, 'qweqj@mail.com', [23, 22, 32], {'marx', 'kar', 23}, (23, 23, 12)])"
      ]
     },
     "execution_count": 78,
     "metadata": {},
     "output_type": "execute_result"
    }
   ],
   "source": [
    "d.values()"
   ]
  },
  {
   "cell_type": "code",
   "execution_count": 79,
   "id": "667f13dd-6727-442c-a0bc-4e016eb3a48c",
   "metadata": {},
   "outputs": [
    {
     "data": {
      "text/plain": [
       "dict_items([('name', 'Krishna'), ('ph.no', 23213122), ('mail_id', 'qweqj@mail.com'), ('key1', [23, 22, 32]), ('key2', {'marx', 'kar', 23}), ('key3', (23, 23, 12))])"
      ]
     },
     "execution_count": 79,
     "metadata": {},
     "output_type": "execute_result"
    }
   ],
   "source": [
    "d.items()"
   ]
  },
  {
   "cell_type": "code",
   "execution_count": 80,
   "id": "fc72d162-ccd5-451a-ab0c-c6f4a7ba91c0",
   "metadata": {},
   "outputs": [],
   "source": [
    "d2={\"key1\":\"Raj\",\"key2\":23}"
   ]
  },
  {
   "cell_type": "code",
   "execution_count": 81,
   "id": "e3a15b4f-4d53-49d5-ac5d-9cbc5c8a50e5",
   "metadata": {},
   "outputs": [
    {
     "data": {
      "text/plain": [
       "{'key1': 'Raj', 'key2': 23}"
      ]
     },
     "execution_count": 81,
     "metadata": {},
     "output_type": "execute_result"
    }
   ],
   "source": [
    "d2"
   ]
  },
  {
   "cell_type": "code",
   "execution_count": 82,
   "id": "d0fe0e1a-4080-471c-a14e-b092af1c7c88",
   "metadata": {},
   "outputs": [],
   "source": [
    "d2[\"key3\"]=\"Simha\""
   ]
  },
  {
   "cell_type": "code",
   "execution_count": 83,
   "id": "6bc6ad21-054c-4014-b665-00c08d5cdc3a",
   "metadata": {},
   "outputs": [
    {
     "data": {
      "text/plain": [
       "{'key1': 'Raj', 'key2': 23, 'key3': 'Simha'}"
      ]
     },
     "execution_count": 83,
     "metadata": {},
     "output_type": "execute_result"
    }
   ],
   "source": [
    "d2"
   ]
  },
  {
   "cell_type": "code",
   "execution_count": 84,
   "id": "1b9dee89-d247-4f91-9053-0567073f8357",
   "metadata": {},
   "outputs": [],
   "source": [
    "d2[\"key1\"]=\"Shyam Singha Roy\""
   ]
  },
  {
   "cell_type": "code",
   "execution_count": 85,
   "id": "66b0eb64-deaa-4656-a8d0-4de96830fa2f",
   "metadata": {},
   "outputs": [
    {
     "data": {
      "text/plain": [
       "{'key1': 'Shyam Singha Roy', 'key2': 23, 'key3': 'Simha'}"
      ]
     },
     "execution_count": 85,
     "metadata": {},
     "output_type": "execute_result"
    }
   ],
   "source": [
    "d2"
   ]
  },
  {
   "cell_type": "code",
   "execution_count": 86,
   "id": "227cb716-1898-4f4c-a009-934d1c5ebd76",
   "metadata": {},
   "outputs": [],
   "source": [
    "del d[\"key1\"]"
   ]
  },
  {
   "cell_type": "code",
   "execution_count": 87,
   "id": "01d656ee-eb77-4499-b7ab-b9dc102dd6ba",
   "metadata": {},
   "outputs": [
    {
     "data": {
      "text/plain": [
       "{'name': 'Krishna',\n",
       " 'ph.no': 23213122,\n",
       " 'mail_id': 'qweqj@mail.com',\n",
       " 'key2': {23, 'kar', 'marx'},\n",
       " 'key3': (23, 23, 12)}"
      ]
     },
     "execution_count": 87,
     "metadata": {},
     "output_type": "execute_result"
    }
   ],
   "source": [
    "d"
   ]
  },
  {
   "cell_type": "code",
   "execution_count": 88,
   "id": "7b0e62a3-5c34-491c-b487-f56b5e92eb57",
   "metadata": {},
   "outputs": [],
   "source": [
    "del d"
   ]
  },
  {
   "cell_type": "code",
   "execution_count": 89,
   "id": "160221c9-6214-4d2f-bc4e-b09199fd8f25",
   "metadata": {},
   "outputs": [
    {
     "ename": "NameError",
     "evalue": "name 'd' is not defined",
     "output_type": "error",
     "traceback": [
      "\u001b[0;31m---------------------------------------------------------------------------\u001b[0m",
      "\u001b[0;31mNameError\u001b[0m                                 Traceback (most recent call last)",
      "Input \u001b[0;32mIn [89]\u001b[0m, in \u001b[0;36m<cell line: 1>\u001b[0;34m()\u001b[0m\n\u001b[0;32m----> 1\u001b[0m \u001b[43md\u001b[49m\n",
      "\u001b[0;31mNameError\u001b[0m: name 'd' is not defined"
     ]
    }
   ],
   "source": [
    "d"
   ]
  },
  {
   "cell_type": "code",
   "execution_count": 90,
   "id": "7861896b-fde6-491b-97d4-fd53c1343e73",
   "metadata": {},
   "outputs": [],
   "source": [
    "d1={\"key1\":\"Krishna\",\"key2\":[234,345,2345]}"
   ]
  },
  {
   "cell_type": "code",
   "execution_count": 92,
   "id": "92271d48-dff8-435f-af0f-88df2f53de0d",
   "metadata": {},
   "outputs": [
    {
     "data": {
      "text/plain": [
       "{'key1': 'Krishna', 'key2': [234, 345, 2345]}"
      ]
     },
     "execution_count": 92,
     "metadata": {},
     "output_type": "execute_result"
    }
   ],
   "source": [
    "d1"
   ]
  },
  {
   "cell_type": "code",
   "execution_count": 93,
   "id": "638d4e86-c630-4db4-b5fa-5a7f9849d17f",
   "metadata": {},
   "outputs": [
    {
     "ename": "TypeError",
     "evalue": "unhashable type: 'list'",
     "output_type": "error",
     "traceback": [
      "\u001b[0;31m---------------------------------------------------------------------------\u001b[0m",
      "\u001b[0;31mTypeError\u001b[0m                                 Traceback (most recent call last)",
      "Input \u001b[0;32mIn [93]\u001b[0m, in \u001b[0;36m<cell line: 1>\u001b[0;34m()\u001b[0m\n\u001b[0;32m----> 1\u001b[0m d1[[\u001b[38;5;241m1\u001b[39m,\u001b[38;5;241m3\u001b[39m,\u001b[38;5;241m4\u001b[39m]]\u001b[38;5;241m=\u001b[39m\u001b[38;5;124m\"\u001b[39m\u001b[38;5;124mSigh\u001b[39m\u001b[38;5;124m\"\u001b[39m\n",
      "\u001b[0;31mTypeError\u001b[0m: unhashable type: 'list'"
     ]
    }
   ],
   "source": [
    "d1[[1,3,4]]=\"Sigh\""
   ]
  },
  {
   "cell_type": "code",
   "execution_count": 94,
   "id": "44ee21a4-ff2e-4bbf-b6f2-464f38258bf3",
   "metadata": {},
   "outputs": [],
   "source": [
    "d1[(2,3,1)]=\"sigh\""
   ]
  },
  {
   "cell_type": "code",
   "execution_count": 95,
   "id": "b53724d1-8745-4ea9-88c0-6b444831fbee",
   "metadata": {},
   "outputs": [
    {
     "data": {
      "text/plain": [
       "{'key1': 'Krishna', 'key2': [234, 345, 2345], (2, 3, 1): 'sigh'}"
      ]
     },
     "execution_count": 95,
     "metadata": {},
     "output_type": "execute_result"
    }
   ],
   "source": [
    "d1"
   ]
  },
  {
   "cell_type": "code",
   "execution_count": 100,
   "id": "926408f2-e4d5-4ec7-8710-46abfe2d818c",
   "metadata": {},
   "outputs": [
    {
     "data": {
      "text/plain": [
       "'Krishna'"
      ]
     },
     "execution_count": 100,
     "metadata": {},
     "output_type": "execute_result"
    }
   ],
   "source": [
    "d1.get(\"key1\")"
   ]
  },
  {
   "cell_type": "code",
   "execution_count": 111,
   "id": "25585386-e708-4efc-8cfa-33eca8acd401",
   "metadata": {},
   "outputs": [],
   "source": [
    "d1={\"key1\":\"iTACHI\",\"key2\":34}"
   ]
  },
  {
   "cell_type": "code",
   "execution_count": 112,
   "id": "c8538ed0-58be-44ee-8324-661c157a915d",
   "metadata": {},
   "outputs": [],
   "source": [
    "d2={\"key2\":\"Luffy\",\"key4\":\"Imu\"}"
   ]
  },
  {
   "cell_type": "code",
   "execution_count": 107,
   "id": "782f9ff8-7c03-4cc3-8be1-bc378bce305e",
   "metadata": {},
   "outputs": [],
   "source": [
    "d1.update(d2)"
   ]
  },
  {
   "cell_type": "code",
   "execution_count": 108,
   "id": "c9f5f1bf-a88b-41b0-b7e1-325135f50880",
   "metadata": {},
   "outputs": [
    {
     "data": {
      "text/plain": [
       "{'key1': 'iTACHI', 'key2': 'Luffy', 'key4': 'Imu'}"
      ]
     },
     "execution_count": 108,
     "metadata": {},
     "output_type": "execute_result"
    }
   ],
   "source": [
    "d1"
   ]
  },
  {
   "cell_type": "code",
   "execution_count": 113,
   "id": "0a7ee806-4976-4a06-95c7-5dd44e1a9c45",
   "metadata": {},
   "outputs": [],
   "source": [
    "d2.update(d1)"
   ]
  },
  {
   "cell_type": "code",
   "execution_count": 114,
   "id": "ac6bd8f0-1a0e-466e-aac0-58812562ad3b",
   "metadata": {},
   "outputs": [
    {
     "data": {
      "text/plain": [
       "{'key2': 34, 'key4': 'Imu', 'key1': 'iTACHI'}"
      ]
     },
     "execution_count": 114,
     "metadata": {},
     "output_type": "execute_result"
    }
   ],
   "source": [
    "d2"
   ]
  },
  {
   "cell_type": "code",
   "execution_count": 115,
   "id": "01e41810-a6b5-41d4-a2e0-b6ccd4079a8d",
   "metadata": {},
   "outputs": [
    {
     "ename": "TypeError",
     "evalue": "unsupported operand type(s) for +: 'dict' and 'dict'",
     "output_type": "error",
     "traceback": [
      "\u001b[0;31m---------------------------------------------------------------------------\u001b[0m",
      "\u001b[0;31mTypeError\u001b[0m                                 Traceback (most recent call last)",
      "Input \u001b[0;32mIn [115]\u001b[0m, in \u001b[0;36m<cell line: 1>\u001b[0;34m()\u001b[0m\n\u001b[0;32m----> 1\u001b[0m \u001b[43md1\u001b[49m\u001b[38;5;241;43m+\u001b[39;49m\u001b[43md2\u001b[49m\n",
      "\u001b[0;31mTypeError\u001b[0m: unsupported operand type(s) for +: 'dict' and 'dict'"
     ]
    }
   ],
   "source": [
    "d1+d2"
   ]
  },
  {
   "cell_type": "code",
   "execution_count": 116,
   "id": "71679650-9d25-4e87-9638-8d4b5e71ed06",
   "metadata": {},
   "outputs": [
    {
     "data": {
      "text/plain": [
       "'iTACHI'"
      ]
     },
     "execution_count": 116,
     "metadata": {},
     "output_type": "execute_result"
    }
   ],
   "source": [
    "d1[\"key1\"]"
   ]
  },
  {
   "cell_type": "code",
   "execution_count": 117,
   "id": "26acb036-fefd-414d-a890-124ecfc1b521",
   "metadata": {},
   "outputs": [
    {
     "ename": "KeyError",
     "evalue": "'sat'",
     "output_type": "error",
     "traceback": [
      "\u001b[0;31m---------------------------------------------------------------------------\u001b[0m",
      "\u001b[0;31mKeyError\u001b[0m                                  Traceback (most recent call last)",
      "Input \u001b[0;32mIn [117]\u001b[0m, in \u001b[0;36m<cell line: 1>\u001b[0;34m()\u001b[0m\n\u001b[0;32m----> 1\u001b[0m \u001b[43md1\u001b[49m\u001b[43m[\u001b[49m\u001b[38;5;124;43m\"\u001b[39;49m\u001b[38;5;124;43msat\u001b[39;49m\u001b[38;5;124;43m\"\u001b[39;49m\u001b[43m]\u001b[49m\n",
      "\u001b[0;31mKeyError\u001b[0m: 'sat'"
     ]
    }
   ],
   "source": [
    "d1[\"sat\"]"
   ]
  },
  {
   "cell_type": "code",
   "execution_count": 118,
   "id": "f6064e08-c49d-4fb5-ae4c-4afbb6c60e2f",
   "metadata": {},
   "outputs": [
    {
     "data": {
      "text/plain": [
       "'iTACHI'"
      ]
     },
     "execution_count": 118,
     "metadata": {},
     "output_type": "execute_result"
    }
   ],
   "source": [
    "d1.get(\"key1\")"
   ]
  },
  {
   "cell_type": "code",
   "execution_count": 119,
   "id": "b5045ae1-107e-42e7-a1db-2df874e216f4",
   "metadata": {},
   "outputs": [],
   "source": [
    "d1.get(\"sat\")"
   ]
  },
  {
   "cell_type": "code",
   "execution_count": 120,
   "id": "bdec0b4d-340e-4d84-ab19-91e5f60794f9",
   "metadata": {},
   "outputs": [],
   "source": [
    "key=(\"name\",\"ph.no\",\"email_id\")\n",
    "val=\"Krish\""
   ]
  },
  {
   "cell_type": "code",
   "execution_count": 121,
   "id": "943daf80-78af-4e8f-8bd8-42b0d451afe6",
   "metadata": {},
   "outputs": [],
   "source": [
    "d=d1.fromkeys(key,val)"
   ]
  },
  {
   "cell_type": "code",
   "execution_count": 122,
   "id": "26de8d93-fcf7-4d21-ab32-a80622e765ab",
   "metadata": {},
   "outputs": [
    {
     "data": {
      "text/plain": [
       "{'name': 'Krish', 'ph.no': 'Krish', 'email_id': 'Krish'}"
      ]
     },
     "execution_count": 122,
     "metadata": {},
     "output_type": "execute_result"
    }
   ],
   "source": [
    "d"
   ]
  },
  {
   "cell_type": "code",
   "execution_count": 123,
   "id": "a2d67e95-e43c-40fd-8bfd-1b092a9d4b36",
   "metadata": {},
   "outputs": [
    {
     "data": {
      "text/plain": [
       "{'key1': 'iTACHI', 'key2': 34}"
      ]
     },
     "execution_count": 123,
     "metadata": {},
     "output_type": "execute_result"
    }
   ],
   "source": [
    "d1"
   ]
  },
  {
   "cell_type": "code",
   "execution_count": 124,
   "id": "bd69c13f-3806-4648-8396-c5b7b832cfbb",
   "metadata": {},
   "outputs": [],
   "source": [
    "i=4,5"
   ]
  },
  {
   "cell_type": "code",
   "execution_count": 125,
   "id": "efe9a6b0-d877-40e0-b5c6-c9b27f37fa0f",
   "metadata": {},
   "outputs": [
    {
     "data": {
      "text/plain": [
       "(4, 5)"
      ]
     },
     "execution_count": 125,
     "metadata": {},
     "output_type": "execute_result"
    }
   ],
   "source": [
    "i"
   ]
  },
  {
   "cell_type": "code",
   "execution_count": null,
   "id": "ce0c47d7-df73-4e58-adcf-c9b36b8157d9",
   "metadata": {},
   "outputs": [],
   "source": []
  },
  {
   "cell_type": "code",
   "execution_count": null,
   "id": "ade9e380-9e67-4415-add0-53174adcdb4a",
   "metadata": {},
   "outputs": [],
   "source": []
  },
  {
   "cell_type": "code",
   "execution_count": null,
   "id": "822cee92-cd74-44d0-8c01-134291383f7c",
   "metadata": {},
   "outputs": [],
   "source": []
  },
  {
   "cell_type": "code",
   "execution_count": null,
   "id": "d11f6fff-9d5b-4104-9a39-1e76e08aaebe",
   "metadata": {},
   "outputs": [],
   "source": []
  },
  {
   "cell_type": "code",
   "execution_count": null,
   "id": "01545fd1-54cf-4899-a47f-6feb5e5af309",
   "metadata": {},
   "outputs": [],
   "source": []
  },
  {
   "cell_type": "code",
   "execution_count": null,
   "id": "220f7065-b3a6-443a-9828-cdaa285ee076",
   "metadata": {},
   "outputs": [],
   "source": []
  },
  {
   "cell_type": "code",
   "execution_count": null,
   "id": "c6ef813e-2dfb-4e29-82fd-48b51db8c41a",
   "metadata": {},
   "outputs": [],
   "source": []
  },
  {
   "cell_type": "code",
   "execution_count": null,
   "id": "20c85aa5-be3c-41a3-8192-2ab0c9669595",
   "metadata": {},
   "outputs": [],
   "source": []
  }
 ],
 "metadata": {
  "kernelspec": {
   "display_name": "Python 3 (ipykernel)",
   "language": "python",
   "name": "python3"
  },
  "language_info": {
   "codemirror_mode": {
    "name": "ipython",
    "version": 3
   },
   "file_extension": ".py",
   "mimetype": "text/x-python",
   "name": "python",
   "nbconvert_exporter": "python",
   "pygments_lexer": "ipython3",
   "version": "3.9.12"
  }
 },
 "nbformat": 4,
 "nbformat_minor": 5
}
