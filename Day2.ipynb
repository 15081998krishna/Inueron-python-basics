{
 "cells": [
  {
   "cell_type": "code",
   "execution_count": 1,
   "id": "d399a7c4-c3ff-452a-a386-4f72aac34b0d",
   "metadata": {},
   "outputs": [],
   "source": [
    "s=\"Krishna\""
   ]
  },
  {
   "cell_type": "code",
   "execution_count": 2,
   "id": "b7324439-f7d5-4a5e-8b5b-ec21b990e44a",
   "metadata": {},
   "outputs": [
    {
     "data": {
      "text/plain": [
       "str"
      ]
     },
     "execution_count": 2,
     "metadata": {},
     "output_type": "execute_result"
    }
   ],
   "source": [
    "type(s)"
   ]
  },
  {
   "cell_type": "code",
   "execution_count": 3,
   "id": "cd2abf7e-9bc3-4455-b16e-a488a90b1493",
   "metadata": {},
   "outputs": [
    {
     "data": {
      "text/plain": [
       "'K'"
      ]
     },
     "execution_count": 3,
     "metadata": {},
     "output_type": "execute_result"
    }
   ],
   "source": [
    "s[0]"
   ]
  },
  {
   "cell_type": "code",
   "execution_count": 4,
   "id": "100e3928-5bbd-428c-81b1-112cecc44272",
   "metadata": {},
   "outputs": [
    {
     "data": {
      "text/plain": [
       "'h'"
      ]
     },
     "execution_count": 4,
     "metadata": {},
     "output_type": "execute_result"
    }
   ],
   "source": [
    "s[4]"
   ]
  },
  {
   "cell_type": "code",
   "execution_count": 6,
   "id": "5db68382-f6cc-4e65-b8aa-7bbf1fb1f804",
   "metadata": {},
   "outputs": [
    {
     "data": {
      "text/plain": [
       "'n'"
      ]
     },
     "execution_count": 6,
     "metadata": {},
     "output_type": "execute_result"
    }
   ],
   "source": [
    "s[5]"
   ]
  },
  {
   "cell_type": "raw",
   "id": "18e98a66-3f8d-4d30-a99a-29d384dbf8b9",
   "metadata": {},
   "source": [
    "# 0  1  2  3  4  5  6\n",
    "  K  r  i  s  h  n  a\n",
    " -7 -6 -5 -4 -3 -2 -1"
   ]
  },
  {
   "cell_type": "code",
   "execution_count": 7,
   "id": "c1ea64cb-285d-4838-8891-34a57f91ca16",
   "metadata": {},
   "outputs": [
    {
     "data": {
      "text/plain": [
       "'s'"
      ]
     },
     "execution_count": 7,
     "metadata": {},
     "output_type": "execute_result"
    }
   ],
   "source": [
    "s[-4]"
   ]
  },
  {
   "cell_type": "code",
   "execution_count": 8,
   "id": "154a21f3-4c1d-4467-b687-a857c809a8aa",
   "metadata": {},
   "outputs": [
    {
     "data": {
      "text/plain": [
       "'a'"
      ]
     },
     "execution_count": 8,
     "metadata": {},
     "output_type": "execute_result"
    }
   ],
   "source": [
    "s[-1]"
   ]
  },
  {
   "cell_type": "code",
   "execution_count": 9,
   "id": "3faee80b-5249-48ac-b743-06d293cfecf5",
   "metadata": {},
   "outputs": [
    {
     "data": {
      "text/plain": [
       "'K'"
      ]
     },
     "execution_count": 9,
     "metadata": {},
     "output_type": "execute_result"
    }
   ],
   "source": [
    "s[0]"
   ]
  },
  {
   "cell_type": "code",
   "execution_count": 10,
   "id": "61688fb0-11f7-4211-9270-4f5bee365119",
   "metadata": {},
   "outputs": [],
   "source": [
    "s=\"My nickname is Raj\""
   ]
  },
  {
   "cell_type": "code",
   "execution_count": 11,
   "id": "2551ec14-2d70-4cb4-8de9-676363eebfa1",
   "metadata": {},
   "outputs": [
    {
     "ename": "IndexError",
     "evalue": "string index out of range",
     "output_type": "error",
     "traceback": [
      "\u001b[0;31m---------------------------------------------------------------------------\u001b[0m",
      "\u001b[0;31mIndexError\u001b[0m                                Traceback (most recent call last)",
      "Input \u001b[0;32mIn [11]\u001b[0m, in \u001b[0;36m<cell line: 1>\u001b[0;34m()\u001b[0m\n\u001b[0;32m----> 1\u001b[0m \u001b[43ms\u001b[49m\u001b[43m[\u001b[49m\u001b[38;5;241;43m100\u001b[39;49m\u001b[43m]\u001b[49m\n",
      "\u001b[0;31mIndexError\u001b[0m: string index out of range"
     ]
    }
   ],
   "source": [
    "s[100]"
   ]
  },
  {
   "cell_type": "code",
   "execution_count": 12,
   "id": "dd4e5e28-ffa4-4f4f-b2be-2444d422bd5e",
   "metadata": {},
   "outputs": [
    {
     "data": {
      "text/plain": [
       "'nickname is '"
      ]
     },
     "execution_count": 12,
     "metadata": {},
     "output_type": "execute_result"
    }
   ],
   "source": [
    "s[3:-3]"
   ]
  },
  {
   "cell_type": "raw",
   "id": "ddcf5fdb-99b8-473f-b6d9-8fe84a8d33d3",
   "metadata": {},
   "source": [
    "# doesn't include 2nd index specfied(-3 in this case)"
   ]
  },
  {
   "cell_type": "code",
   "execution_count": 13,
   "id": "dd2ee291-26a6-478c-bff2-9518a17d1063",
   "metadata": {},
   "outputs": [
    {
     "data": {
      "text/plain": [
       "'ineu'"
      ]
     },
     "execution_count": 13,
     "metadata": {},
     "output_type": "execute_result"
    }
   ],
   "source": [
    "b=\"ineuron\"\n",
    "b[0:4]"
   ]
  },
  {
   "cell_type": "code",
   "execution_count": 15,
   "id": "4ad56708-ef51-4dd4-9873-332dcd1cfd64",
   "metadata": {},
   "outputs": [
    {
     "data": {
      "text/plain": [
       "'ineuron'"
      ]
     },
     "execution_count": 15,
     "metadata": {},
     "output_type": "execute_result"
    }
   ],
   "source": [
    "# if 2nd index crossess end one, it gives full string\n",
    "b[0:300]"
   ]
  },
  {
   "cell_type": "code",
   "execution_count": 16,
   "id": "44c1ae34-67aa-47f8-9132-6c9781c01978",
   "metadata": {},
   "outputs": [
    {
     "ename": "IndexError",
     "evalue": "string index out of range",
     "output_type": "error",
     "traceback": [
      "\u001b[0;31m---------------------------------------------------------------------------\u001b[0m",
      "\u001b[0;31mIndexError\u001b[0m                                Traceback (most recent call last)",
      "Input \u001b[0;32mIn [16]\u001b[0m, in \u001b[0;36m<cell line: 1>\u001b[0;34m()\u001b[0m\n\u001b[0;32m----> 1\u001b[0m \u001b[43mb\u001b[49m\u001b[43m[\u001b[49m\u001b[38;5;241;43m300\u001b[39;49m\u001b[43m]\u001b[49m\n",
      "\u001b[0;31mIndexError\u001b[0m: string index out of range"
     ]
    }
   ],
   "source": [
    "b[300]"
   ]
  },
  {
   "cell_type": "code",
   "execution_count": 17,
   "id": "26effff5-2035-4c56-9557-8b9ffcc09f2d",
   "metadata": {},
   "outputs": [
    {
     "ename": "IndexError",
     "evalue": "string index out of range",
     "output_type": "error",
     "traceback": [
      "\u001b[0;31m---------------------------------------------------------------------------\u001b[0m",
      "\u001b[0;31mIndexError\u001b[0m                                Traceback (most recent call last)",
      "Input \u001b[0;32mIn [17]\u001b[0m, in \u001b[0;36m<cell line: 1>\u001b[0;34m()\u001b[0m\n\u001b[0;32m----> 1\u001b[0m \u001b[43mb\u001b[49m\u001b[43m[\u001b[49m\u001b[38;5;241;43m-\u001b[39;49m\u001b[38;5;241;43m100\u001b[39;49m\u001b[43m]\u001b[49m\n",
      "\u001b[0;31mIndexError\u001b[0m: string index out of range"
     ]
    }
   ],
   "source": [
    "b[-100]"
   ]
  },
  {
   "cell_type": "code",
   "execution_count": 19,
   "id": "b144e809-664e-41d7-9215-608edb764c30",
   "metadata": {},
   "outputs": [
    {
     "data": {
      "text/plain": [
       "''"
      ]
     },
     "execution_count": 19,
     "metadata": {},
     "output_type": "execute_result"
    }
   ],
   "source": [
    "b[-1:-20]"
   ]
  },
  {
   "cell_type": "code",
   "execution_count": 32,
   "id": "b0aba33d-1f99-4f58-aafc-7c267da188bf",
   "metadata": {},
   "outputs": [],
   "source": [
    "a='Kumar'"
   ]
  },
  {
   "cell_type": "code",
   "execution_count": 24,
   "id": "b3828d8d-1a8e-4e40-95e7-3ca4ea6584ad",
   "metadata": {},
   "outputs": [
    {
     "data": {
      "text/plain": [
       "'Kmr'"
      ]
     },
     "execution_count": 24,
     "metadata": {},
     "output_type": "execute_result"
    }
   ],
   "source": [
    "# in this case jump size is 2\n",
    "a[0:200:2]"
   ]
  },
  {
   "cell_type": "code",
   "execution_count": 25,
   "id": "24b78389-fadd-44a9-8830-0cb5f9ef2df5",
   "metadata": {},
   "outputs": [
    {
     "data": {
      "text/plain": [
       "''"
      ]
     },
     "execution_count": 25,
     "metadata": {},
     "output_type": "execute_result"
    }
   ],
   "source": [
    "a[0:100:-1]"
   ]
  },
  {
   "cell_type": "raw",
   "id": "b0f2b6a4-39b8-458e-95c4-46098affa096",
   "metadata": {},
   "source": [
    "# reason: as the dir is forward and jump as neg(scale concept) "
   ]
  },
  {
   "cell_type": "code",
   "execution_count": 26,
   "id": "78121f3f-63ea-4bdc-8571-bed552ef15b9",
   "metadata": {},
   "outputs": [
    {
     "data": {
      "text/plain": [
       "''"
      ]
     },
     "execution_count": 26,
     "metadata": {},
     "output_type": "execute_result"
    }
   ],
   "source": [
    "a[-1:-4]"
   ]
  },
  {
   "cell_type": "raw",
   "id": "f9f0e5ec-ef1e-4fa6-949f-2b56a6fe286f",
   "metadata": {},
   "source": [
    "# Reason: as default scale is +1,and dir is neg and step size is +1; so empty string"
   ]
  },
  {
   "cell_type": "code",
   "execution_count": 29,
   "id": "fc96f46c-88ec-4973-97cc-95e9277cf1ee",
   "metadata": {},
   "outputs": [
    {
     "data": {
      "text/plain": [
       "'ram'"
      ]
     },
     "execution_count": 29,
     "metadata": {},
     "output_type": "execute_result"
    }
   ],
   "source": [
    "a[-1:-4:-1]"
   ]
  },
  {
   "cell_type": "code",
   "execution_count": 33,
   "id": "359f4490-0173-43a3-9365-ed735e8c3998",
   "metadata": {},
   "outputs": [
    {
     "data": {
      "text/plain": [
       "''"
      ]
     },
     "execution_count": 33,
     "metadata": {},
     "output_type": "execute_result"
    }
   ],
   "source": [
    "a[-100:-4:-2]"
   ]
  },
  {
   "cell_type": "code",
   "execution_count": 34,
   "id": "84e04149-c716-4a80-b2d0-6b0465c3afa4",
   "metadata": {},
   "outputs": [
    {
     "data": {
      "text/plain": [
       "'K'"
      ]
     },
     "execution_count": 34,
     "metadata": {},
     "output_type": "execute_result"
    }
   ],
   "source": [
    "a[0:-10:-1]"
   ]
  },
  {
   "cell_type": "code",
   "execution_count": 35,
   "id": "240a3ec6-77b5-4a85-9ca4-c40fa01fe3c7",
   "metadata": {},
   "outputs": [],
   "source": [
    "#Reason: as it rotates it only includes till one end of a side"
   ]
  },
  {
   "cell_type": "code",
   "execution_count": 36,
   "id": "b28caf1e-01d7-4616-ac1e-e0782353b26a",
   "metadata": {},
   "outputs": [
    {
     "data": {
      "text/plain": [
       "'Kumar'"
      ]
     },
     "execution_count": 36,
     "metadata": {},
     "output_type": "execute_result"
    }
   ],
   "source": [
    "a[::]"
   ]
  },
  {
   "cell_type": "code",
   "execution_count": 37,
   "id": "2d509d7d-ced5-49fb-ba65-05ef8569c4b4",
   "metadata": {},
   "outputs": [
    {
     "data": {
      "text/plain": [
       "'Kumar'"
      ]
     },
     "execution_count": 37,
     "metadata": {},
     "output_type": "execute_result"
    }
   ],
   "source": [
    "a[:8]"
   ]
  },
  {
   "cell_type": "code",
   "execution_count": 38,
   "id": "072d8637-6afb-4b43-a89c-c0fc18c0aa0f",
   "metadata": {},
   "outputs": [
    {
     "data": {
      "text/plain": [
       "'umar'"
      ]
     },
     "execution_count": 38,
     "metadata": {},
     "output_type": "execute_result"
    }
   ],
   "source": [
    "a[1:]"
   ]
  },
  {
   "cell_type": "code",
   "execution_count": 39,
   "id": "afc74251-7fbd-42da-9983-82832a8cad16",
   "metadata": {},
   "outputs": [
    {
     "data": {
      "text/plain": [
       "'ar'"
      ]
     },
     "execution_count": 39,
     "metadata": {},
     "output_type": "execute_result"
    }
   ],
   "source": [
    "a[-2:]"
   ]
  },
  {
   "cell_type": "code",
   "execution_count": 40,
   "id": "573730bc-31be-496a-a00d-aec939102373",
   "metadata": {},
   "outputs": [
    {
     "data": {
      "text/plain": [
       "'a'"
      ]
     },
     "execution_count": 40,
     "metadata": {},
     "output_type": "execute_result"
    }
   ],
   "source": [
    "a[-2:-1]"
   ]
  },
  {
   "cell_type": "code",
   "execution_count": 42,
   "id": "fee196c9-0848-4558-8b08-4a35c7c570af",
   "metadata": {},
   "outputs": [
    {
     "data": {
      "text/plain": [
       "''"
      ]
     },
     "execution_count": 42,
     "metadata": {},
     "output_type": "execute_result"
    }
   ],
   "source": [
    "a[-1:-1]"
   ]
  },
  {
   "cell_type": "code",
   "execution_count": 50,
   "id": "d54d1c21-e74d-44b3-b36a-f042eeeb4f23",
   "metadata": {},
   "outputs": [
    {
     "data": {
      "text/plain": [
       "'ramuK'"
      ]
     },
     "execution_count": 50,
     "metadata": {},
     "output_type": "execute_result"
    }
   ],
   "source": [
    "a[::-1]"
   ]
  },
  {
   "cell_type": "code",
   "execution_count": 51,
   "id": "2ab91ddb-cfe9-4d32-90d7-baf62afc5296",
   "metadata": {},
   "outputs": [],
   "source": [
    "# Here it considers only dir i.e.-1"
   ]
  },
  {
   "cell_type": "code",
   "execution_count": 44,
   "id": "204bca86-6fe0-484b-a3f0-16efe5321212",
   "metadata": {},
   "outputs": [
    {
     "data": {
      "text/plain": [
       "'ramuK'"
      ]
     },
     "execution_count": 44,
     "metadata": {},
     "output_type": "execute_result"
    }
   ],
   "source": [
    "a[-1::-1]"
   ]
  },
  {
   "cell_type": "code",
   "execution_count": 45,
   "id": "20a4ad6a-d75d-46b5-88c1-5b36a6f5cbd0",
   "metadata": {},
   "outputs": [
    {
     "data": {
      "text/plain": [
       "'rmK'"
      ]
     },
     "execution_count": 45,
     "metadata": {},
     "output_type": "execute_result"
    }
   ],
   "source": [
    "a[-1::-2]"
   ]
  },
  {
   "cell_type": "code",
   "execution_count": 70,
   "id": "19222afe-6e8e-4cab-9a67-935b59b3b6c9",
   "metadata": {},
   "outputs": [],
   "source": [
    "k=\"I am working in O9\""
   ]
  },
  {
   "cell_type": "code",
   "execution_count": 47,
   "id": "99246ee2-a413-428f-8ab1-f6a8cf1d04fe",
   "metadata": {},
   "outputs": [
    {
     "data": {
      "text/plain": [
       "'9O ni gnikrow ma I'"
      ]
     },
     "execution_count": 47,
     "metadata": {},
     "output_type": "execute_result"
    }
   ],
   "source": [
    "k[-1::-1]"
   ]
  },
  {
   "cell_type": "code",
   "execution_count": 48,
   "id": "7da4f12f-904f-41aa-b399-938301eab1e8",
   "metadata": {},
   "outputs": [
    {
     "data": {
      "text/plain": [
       "''"
      ]
     },
     "execution_count": 48,
     "metadata": {},
     "output_type": "execute_result"
    }
   ],
   "source": [
    "k[-5:-5]"
   ]
  },
  {
   "cell_type": "code",
   "execution_count": 49,
   "id": "8471e721-e3d3-45a4-bd1a-9903660b4555",
   "metadata": {},
   "outputs": [
    {
     "data": {
      "text/plain": [
       "'i gnikro'"
      ]
     },
     "execution_count": 49,
     "metadata": {},
     "output_type": "execute_result"
    }
   ],
   "source": [
    "k[-5:5:-1]"
   ]
  },
  {
   "cell_type": "code",
   "execution_count": 54,
   "id": "caf53e86-6443-4177-864e-32c0fee24c98",
   "metadata": {},
   "outputs": [
    {
     "data": {
      "text/plain": [
       "'Imoi  '"
      ]
     },
     "execution_count": 54,
     "metadata": {},
     "output_type": "execute_result"
    }
   ],
   "source": [
    "k[0:100:3]"
   ]
  },
  {
   "cell_type": "code",
   "execution_count": 64,
   "id": "1b63ea5c-6768-4bc7-a3ce-f986d6925638",
   "metadata": {},
   "outputs": [],
   "source": [
    "k=k*3"
   ]
  },
  {
   "cell_type": "code",
   "execution_count": 65,
   "id": "fe6bc8a6-8629-4304-a82e-ca833d09cda6",
   "metadata": {},
   "outputs": [
    {
     "data": {
      "text/plain": [
       "54"
      ]
     },
     "execution_count": 65,
     "metadata": {},
     "output_type": "execute_result"
    }
   ],
   "source": [
    "len(k)"
   ]
  },
  {
   "cell_type": "code",
   "execution_count": 66,
   "id": "d5ecf2b7-e87e-4d07-8273-224e801feb81",
   "metadata": {},
   "outputs": [
    {
     "data": {
      "text/plain": [
       "9"
      ]
     },
     "execution_count": 66,
     "metadata": {},
     "output_type": "execute_result"
    }
   ],
   "source": [
    "k.index('i')"
   ]
  },
  {
   "cell_type": "code",
   "execution_count": 67,
   "id": "15399aad-2176-4320-8abf-24d58b81658d",
   "metadata": {},
   "outputs": [
    {
     "data": {
      "text/plain": [
       "9"
      ]
     },
     "execution_count": 67,
     "metadata": {},
     "output_type": "execute_result"
    }
   ],
   "source": [
    "k.find('i')"
   ]
  },
  {
   "cell_type": "code",
   "execution_count": 68,
   "id": "37569fcc-6bb5-4965-9bd0-4926bf743e83",
   "metadata": {},
   "outputs": [
    {
     "data": {
      "text/plain": [
       "-1"
      ]
     },
     "execution_count": 68,
     "metadata": {},
     "output_type": "execute_result"
    }
   ],
   "source": [
    "k.find('zi')"
   ]
  },
  {
   "cell_type": "code",
   "execution_count": 69,
   "id": "6c46d38c-c2de-4caa-8b1e-ffa773312ad6",
   "metadata": {},
   "outputs": [
    {
     "data": {
      "text/plain": [
       "6"
      ]
     },
     "execution_count": 69,
     "metadata": {},
     "output_type": "execute_result"
    }
   ],
   "source": [
    "k.count('i')"
   ]
  },
  {
   "cell_type": "code",
   "execution_count": 74,
   "id": "50c608ac-0a5e-4d2f-8c7f-fa6b5c6475da",
   "metadata": {},
   "outputs": [],
   "source": [
    "l=k.split()"
   ]
  },
  {
   "cell_type": "code",
   "execution_count": 75,
   "id": "f1d4dcf2-9d85-46f0-ad27-28037138cfbe",
   "metadata": {},
   "outputs": [
    {
     "data": {
      "text/plain": [
       "list"
      ]
     },
     "execution_count": 75,
     "metadata": {},
     "output_type": "execute_result"
    }
   ],
   "source": [
    "type(k.split())"
   ]
  },
  {
   "cell_type": "code",
   "execution_count": 76,
   "id": "e0bd455f-6b3c-4d32-bffe-ae29096d3ee0",
   "metadata": {},
   "outputs": [],
   "source": [
    "#indexing is same in both string and list in Python"
   ]
  },
  {
   "cell_type": "code",
   "execution_count": 77,
   "id": "469b567c-197e-4f1f-90cc-f7e88db3868d",
   "metadata": {},
   "outputs": [
    {
     "data": {
      "text/plain": [
       "'working'"
      ]
     },
     "execution_count": 77,
     "metadata": {},
     "output_type": "execute_result"
    }
   ],
   "source": [
    "l[2]"
   ]
  },
  {
   "cell_type": "code",
   "execution_count": 78,
   "id": "f28ec5a6-afb9-40d9-896f-fb189bc6baec",
   "metadata": {},
   "outputs": [
    {
     "data": {
      "text/plain": [
       "['I', 'am']"
      ]
     },
     "execution_count": 78,
     "metadata": {},
     "output_type": "execute_result"
    }
   ],
   "source": [
    "l[0:2]"
   ]
  },
  {
   "cell_type": "code",
   "execution_count": 79,
   "id": "48020928-ff49-4a5c-b5dc-0c84edf2d72c",
   "metadata": {},
   "outputs": [
    {
     "data": {
      "text/plain": [
       "['I am work', 'ng ', 'n O9']"
      ]
     },
     "execution_count": 79,
     "metadata": {},
     "output_type": "execute_result"
    }
   ],
   "source": [
    "k.split('i')"
   ]
  },
  {
   "cell_type": "code",
   "execution_count": 80,
   "id": "a415dc75-1bfa-4c08-ad68-f074d54dcea7",
   "metadata": {},
   "outputs": [
    {
     "data": {
      "text/plain": [
       "'I am working in O9'"
      ]
     },
     "execution_count": 80,
     "metadata": {},
     "output_type": "execute_result"
    }
   ],
   "source": [
    "k"
   ]
  },
  {
   "cell_type": "code",
   "execution_count": 81,
   "id": "3800cee6-74ae-4ca0-a0a1-1d088fe69702",
   "metadata": {},
   "outputs": [
    {
     "data": {
      "text/plain": [
       "['I am work', ' in O9']"
      ]
     },
     "execution_count": 81,
     "metadata": {},
     "output_type": "execute_result"
    }
   ],
   "source": [
    "k.split('ing')"
   ]
  },
  {
   "cell_type": "code",
   "execution_count": 83,
   "id": "14038929-1c45-46f7-8315-de647dee66ce",
   "metadata": {},
   "outputs": [
    {
     "data": {
      "text/plain": [
       "'I AM WORKING IN O9'"
      ]
     },
     "execution_count": 83,
     "metadata": {},
     "output_type": "execute_result"
    }
   ],
   "source": [
    "k.upper()"
   ]
  },
  {
   "cell_type": "code",
   "execution_count": 84,
   "id": "30dd150b-c0cd-4ad1-9f8b-c6a876bbdec5",
   "metadata": {},
   "outputs": [
    {
     "data": {
      "text/plain": [
       "'i AM WORKING IN o9'"
      ]
     },
     "execution_count": 84,
     "metadata": {},
     "output_type": "execute_result"
    }
   ],
   "source": [
    "k.swapcase()"
   ]
  },
  {
   "cell_type": "code",
   "execution_count": 85,
   "id": "85186634-614b-436b-bd78-8e708ab47adb",
   "metadata": {},
   "outputs": [
    {
     "data": {
      "text/plain": [
       "'My Nickname Is Raj'"
      ]
     },
     "execution_count": 85,
     "metadata": {},
     "output_type": "execute_result"
    }
   ],
   "source": [
    "s.title()"
   ]
  },
  {
   "cell_type": "code",
   "execution_count": 86,
   "id": "3483ea73-a452-447f-9018-9decc173acb8",
   "metadata": {},
   "outputs": [
    {
     "data": {
      "text/plain": [
       "'My nickname is raj'"
      ]
     },
     "execution_count": 86,
     "metadata": {},
     "output_type": "execute_result"
    }
   ],
   "source": [
    "s.capitalize()"
   ]
  },
  {
   "cell_type": "code",
   "execution_count": 2,
   "id": "ef930a39-1649-41cd-8fe2-617c9c3234a1",
   "metadata": {},
   "outputs": [],
   "source": [
    "b=\"RAJ\"\n",
    "c=\"krish\""
   ]
  },
  {
   "cell_type": "code",
   "execution_count": 95,
   "id": "0e8d8129-1950-47be-acfc-41dadcee9b5e",
   "metadata": {},
   "outputs": [
    {
     "data": {
      "text/plain": [
       "'RkrishAkrishJ'"
      ]
     },
     "execution_count": 95,
     "metadata": {},
     "output_type": "execute_result"
    }
   ],
   "source": [
    "c.join(b)"
   ]
  },
  {
   "cell_type": "code",
   "execution_count": 97,
   "id": "60a3794a-5833-4a5a-9185-a4d57b70ca20",
   "metadata": {},
   "outputs": [
    {
     "data": {
      "text/plain": [
       "'RAJ.krish.Vamsi'"
      ]
     },
     "execution_count": 97,
     "metadata": {},
     "output_type": "execute_result"
    }
   ],
   "source": [
    "\".\".join([b,c,\"Vamsi\"])"
   ]
  },
  {
   "cell_type": "code",
   "execution_count": 98,
   "id": "69be3410-93a2-4669-b31b-72242e9d37e8",
   "metadata": {},
   "outputs": [
    {
     "data": {
      "text/plain": [
       "'RAJ krish Vamsi'"
      ]
     },
     "execution_count": 98,
     "metadata": {},
     "output_type": "execute_result"
    }
   ],
   "source": [
    "\" \".join([b,c,\"Vamsi\"])"
   ]
  },
  {
   "cell_type": "code",
   "execution_count": 99,
   "id": "4644dc23-0c65-4664-ba37-826eb3c0570a",
   "metadata": {},
   "outputs": [
    {
     "data": {
      "text/plain": [
       "'RAJRAJkrishRAJVamsi'"
      ]
     },
     "execution_count": 99,
     "metadata": {},
     "output_type": "execute_result"
    }
   ],
   "source": [
    "b.join([b,c,\"Vamsi\"])"
   ]
  },
  {
   "cell_type": "code",
   "execution_count": null,
   "id": "5fd1f140-89ef-424e-bc37-379d1e30b02f",
   "metadata": {},
   "outputs": [],
   "source": []
  },
  {
   "cell_type": "code",
   "execution_count": 92,
   "id": "3a1c2b8d-18e5-466d-abd1-b698db25b73b",
   "metadata": {},
   "outputs": [
    {
     "data": {
      "text/plain": [
       "'k r i s h'"
      ]
     },
     "execution_count": 92,
     "metadata": {},
     "output_type": "execute_result"
    }
   ],
   "source": [
    "\" \".join(c)"
   ]
  },
  {
   "cell_type": "code",
   "execution_count": 93,
   "id": "0a9ed8aa-cb7f-4ca6-8a3e-245f7b1358ca",
   "metadata": {},
   "outputs": [
    {
     "data": {
      "text/plain": [
       "<reversed at 0x7fed7d386eb0>"
      ]
     },
     "execution_count": 93,
     "metadata": {},
     "output_type": "execute_result"
    }
   ],
   "source": [
    "reversed(c)"
   ]
  },
  {
   "cell_type": "code",
   "execution_count": 94,
   "id": "bd75f210-8018-4938-a2e8-ba7f5e86ecc9",
   "metadata": {},
   "outputs": [
    {
     "name": "stdout",
     "output_type": "stream",
     "text": [
      "h\n",
      "s\n",
      "i\n",
      "r\n",
      "k\n"
     ]
    }
   ],
   "source": [
    "for i in reversed(c):\n",
    "    print(i)"
   ]
  },
  {
   "cell_type": "code",
   "execution_count": 3,
   "id": "5f74db13-2046-4416-afd6-21549cac5c1e",
   "metadata": {},
   "outputs": [
    {
     "data": {
      "text/plain": [
       "'hsirk'"
      ]
     },
     "execution_count": 3,
     "metadata": {},
     "output_type": "execute_result"
    }
   ],
   "source": [
    "c[::-1]"
   ]
  },
  {
   "cell_type": "code",
   "execution_count": 5,
   "id": "b54ece74-4112-4147-8716-6a0170cdcbcf",
   "metadata": {},
   "outputs": [],
   "source": [
    "k=\" Krishna  \""
   ]
  },
  {
   "cell_type": "code",
   "execution_count": 6,
   "id": "4bd8ab52-7c08-4bea-bbd8-1d0c87bea305",
   "metadata": {},
   "outputs": [
    {
     "data": {
      "text/plain": [
       "' Krishna'"
      ]
     },
     "execution_count": 6,
     "metadata": {},
     "output_type": "execute_result"
    }
   ],
   "source": [
    "k.rstrip()"
   ]
  },
  {
   "cell_type": "code",
   "execution_count": 7,
   "id": "0b94ab8d-14b4-4358-ab36-a2ee62dff6f4",
   "metadata": {},
   "outputs": [
    {
     "data": {
      "text/plain": [
       "'Krishna  '"
      ]
     },
     "execution_count": 7,
     "metadata": {},
     "output_type": "execute_result"
    }
   ],
   "source": [
    "k.lstrip()"
   ]
  },
  {
   "cell_type": "code",
   "execution_count": 8,
   "id": "c9d6a27b-795c-42c5-9b71-d0defa9b277d",
   "metadata": {},
   "outputs": [
    {
     "data": {
      "text/plain": [
       "'Krishna'"
      ]
     },
     "execution_count": 8,
     "metadata": {},
     "output_type": "execute_result"
    }
   ],
   "source": [
    "k.strip()"
   ]
  },
  {
   "cell_type": "code",
   "execution_count": 9,
   "id": "b0cc5486-f0f9-409e-b643-5ae11e5e2403",
   "metadata": {},
   "outputs": [
    {
     "data": {
      "text/plain": [
       "' Kryshna  '"
      ]
     },
     "execution_count": 9,
     "metadata": {},
     "output_type": "execute_result"
    }
   ],
   "source": [
    "k.replace(\"i\",\"y\")"
   ]
  },
  {
   "cell_type": "code",
   "execution_count": 10,
   "id": "121ae0fd-ecb3-4371-9ba3-dcfd0e16d7e0",
   "metadata": {},
   "outputs": [
    {
     "data": {
      "text/plain": [
       "' Krishna  '"
      ]
     },
     "execution_count": 10,
     "metadata": {},
     "output_type": "execute_result"
    }
   ],
   "source": [
    "k.replace(\"u\",\"HUIDH\")"
   ]
  },
  {
   "cell_type": "code",
   "execution_count": 22,
   "id": "5c3adc4e-3bb1-438b-bdc2-38acc8052bc9",
   "metadata": {},
   "outputs": [
    {
     "data": {
      "text/plain": [
       "'vamsi   krishna'"
      ]
     },
     "execution_count": 22,
     "metadata": {},
     "output_type": "execute_result"
    }
   ],
   "source": [
    "\"vamsi\\tkrishna\".expandtabs()"
   ]
  },
  {
   "cell_type": "code",
   "execution_count": 14,
   "id": "2739d2c6-9248-4824-9dfb-306879bdd0dc",
   "metadata": {},
   "outputs": [],
   "source": [
    "s=\"kukukuku\""
   ]
  },
  {
   "cell_type": "code",
   "execution_count": 21,
   "id": "f0f6ecfb-9714-4b72-a516-5b66303d59e6",
   "metadata": {},
   "outputs": [
    {
     "data": {
      "text/plain": [
       "'lukukuku'"
      ]
     },
     "execution_count": 21,
     "metadata": {},
     "output_type": "execute_result"
    }
   ],
   "source": [
    "s.replace(\"k\",\"l\",1)"
   ]
  },
  {
   "cell_type": "code",
   "execution_count": 24,
   "id": "ad6e7956-c0cf-4eec-86b5-5e41db3c0eb5",
   "metadata": {},
   "outputs": [
    {
     "data": {
      "text/plain": [
       "'######kukukuku######'"
      ]
     },
     "execution_count": 24,
     "metadata": {},
     "output_type": "execute_result"
    }
   ],
   "source": [
    "s.center(20,'#')"
   ]
  },
  {
   "cell_type": "code",
   "execution_count": 25,
   "id": "5f256114-6c91-44ac-8bfc-6675a0c0ed0b",
   "metadata": {},
   "outputs": [
    {
     "ename": "TypeError",
     "evalue": "The fill character must be exactly one character long",
     "output_type": "error",
     "traceback": [
      "\u001b[0;31m---------------------------------------------------------------------------\u001b[0m",
      "\u001b[0;31mTypeError\u001b[0m                                 Traceback (most recent call last)",
      "Input \u001b[0;32mIn [25]\u001b[0m, in \u001b[0;36m<cell line: 1>\u001b[0;34m()\u001b[0m\n\u001b[0;32m----> 1\u001b[0m \u001b[43ms\u001b[49m\u001b[38;5;241;43m.\u001b[39;49m\u001b[43mcenter\u001b[49m\u001b[43m(\u001b[49m\u001b[38;5;241;43m20\u001b[39;49m\u001b[43m,\u001b[49m\u001b[38;5;124;43m'\u001b[39;49m\u001b[38;5;124;43m#s\u001b[39;49m\u001b[38;5;124;43m'\u001b[39;49m\u001b[43m)\u001b[49m\n",
      "\u001b[0;31mTypeError\u001b[0m: The fill character must be exactly one character long"
     ]
    }
   ],
   "source": []
  },
  {
   "cell_type": "code",
   "execution_count": 26,
   "id": "bc6d7502-c9ec-4e73-9753-af287f57451c",
   "metadata": {},
   "outputs": [],
   "source": [
    "s=\"areareareare\""
   ]
  },
  {
   "cell_type": "code",
   "execution_count": 27,
   "id": "ceca69af-0740-41ac-b64f-31e2e904d8e7",
   "metadata": {},
   "outputs": [
    {
     "data": {
      "text/plain": [
       "''"
      ]
     },
     "execution_count": 27,
     "metadata": {},
     "output_type": "execute_result"
    }
   ],
   "source": [
    "s.strip(\"are\")"
   ]
  },
  {
   "cell_type": "code",
   "execution_count": 28,
   "id": "6bfd8845-fb71-4313-b613-12b6483986d0",
   "metadata": {},
   "outputs": [
    {
     "data": {
      "text/plain": [
       "'AREAREAREARE'"
      ]
     },
     "execution_count": 28,
     "metadata": {},
     "output_type": "execute_result"
    }
   ],
   "source": [
    "s.upper()"
   ]
  },
  {
   "cell_type": "code",
   "execution_count": 29,
   "id": "c14ced1d-2418-4f4d-a0bb-e7e5df629414",
   "metadata": {},
   "outputs": [
    {
     "data": {
      "text/plain": [
       "False"
      ]
     },
     "execution_count": 29,
     "metadata": {},
     "output_type": "execute_result"
    }
   ],
   "source": [
    "s.isupper()"
   ]
  },
  {
   "cell_type": "code",
   "execution_count": 30,
   "id": "66235599-f663-491b-b3d7-fa495bf4a03d",
   "metadata": {},
   "outputs": [
    {
     "data": {
      "text/plain": [
       "True"
      ]
     },
     "execution_count": 30,
     "metadata": {},
     "output_type": "execute_result"
    }
   ],
   "source": [
    "s.islower()"
   ]
  },
  {
   "cell_type": "code",
   "execution_count": 32,
   "id": "3e6e23a0-d684-4562-bcf5-a81c298de029",
   "metadata": {},
   "outputs": [
    {
     "data": {
      "text/plain": [
       "False"
      ]
     },
     "execution_count": 32,
     "metadata": {},
     "output_type": "execute_result"
    }
   ],
   "source": [
    "s=\"Are\"\n",
    "s.isupper()"
   ]
  },
  {
   "cell_type": "code",
   "execution_count": 33,
   "id": "f3fc0eaa-8063-448b-99c3-caefedd40253",
   "metadata": {},
   "outputs": [
    {
     "data": {
      "text/plain": [
       "False"
      ]
     },
     "execution_count": 33,
     "metadata": {},
     "output_type": "execute_result"
    }
   ],
   "source": [
    "s.islower()"
   ]
  },
  {
   "cell_type": "code",
   "execution_count": 34,
   "id": "24cf488c-353b-4437-8c13-2cf7fe74498f",
   "metadata": {},
   "outputs": [
    {
     "data": {
      "text/plain": [
       "False"
      ]
     },
     "execution_count": 34,
     "metadata": {},
     "output_type": "execute_result"
    }
   ],
   "source": [
    "s.isspace()"
   ]
  },
  {
   "cell_type": "code",
   "execution_count": 35,
   "id": "e9879292-cd55-4c0b-a051-bacdc2637af4",
   "metadata": {},
   "outputs": [
    {
     "data": {
      "text/plain": [
       "False"
      ]
     },
     "execution_count": 35,
     "metadata": {},
     "output_type": "execute_result"
    }
   ],
   "source": [
    "s=\"\"\n",
    "s.isspace()"
   ]
  },
  {
   "cell_type": "code",
   "execution_count": 36,
   "id": "3b1bff87-d131-4f78-9d84-7ee4ded1ab8a",
   "metadata": {},
   "outputs": [
    {
     "data": {
      "text/plain": [
       "True"
      ]
     },
     "execution_count": 36,
     "metadata": {},
     "output_type": "execute_result"
    }
   ],
   "source": [
    "s=\"   \"\n",
    "s.isspace()"
   ]
  },
  {
   "cell_type": "code",
   "execution_count": 37,
   "id": "7101ba07-1d03-42d9-8586-62a6368632fc",
   "metadata": {},
   "outputs": [
    {
     "data": {
      "text/plain": [
       "False"
      ]
     },
     "execution_count": 37,
     "metadata": {},
     "output_type": "execute_result"
    }
   ],
   "source": [
    "s.isdigit()"
   ]
  },
  {
   "cell_type": "code",
   "execution_count": 38,
   "id": "4f54bc61-accf-4649-9853-ccbb97eb6174",
   "metadata": {},
   "outputs": [
    {
     "data": {
      "text/plain": [
       "True"
      ]
     },
     "execution_count": 38,
     "metadata": {},
     "output_type": "execute_result"
    }
   ],
   "source": [
    "s.endswith(\" \")"
   ]
  },
  {
   "cell_type": "code",
   "execution_count": 39,
   "id": "ead64583-8ded-4bc8-8f62-c7eae132e11a",
   "metadata": {},
   "outputs": [
    {
     "data": {
      "text/plain": [
       "False"
      ]
     },
     "execution_count": 39,
     "metadata": {},
     "output_type": "execute_result"
    }
   ],
   "source": [
    "s.startswith(\"s\")"
   ]
  },
  {
   "cell_type": "code",
   "execution_count": 40,
   "id": "d989da51-801b-4801-8b7c-65661d16b885",
   "metadata": {},
   "outputs": [
    {
     "data": {
      "text/plain": [
       "True"
      ]
     },
     "execution_count": 40,
     "metadata": {},
     "output_type": "execute_result"
    }
   ],
   "source": [
    "s=\"Krish\"\n",
    "s.istitle()"
   ]
  },
  {
   "cell_type": "code",
   "execution_count": 41,
   "id": "c4de1789-9105-4b1f-b808-1131d612babe",
   "metadata": {},
   "outputs": [
    {
     "data": {
      "text/plain": [
       "b'Krish'"
      ]
     },
     "execution_count": 41,
     "metadata": {},
     "output_type": "execute_result"
    }
   ],
   "source": [
    "s.encode()"
   ]
  },
  {
   "cell_type": "code",
   "execution_count": 42,
   "id": "672217c8-9eeb-4a6a-8b28-1f0c79c4e1c2",
   "metadata": {},
   "outputs": [],
   "source": [
    "l=[\"krish\",34,True,\"Rajesh\",45.23,2+7j]"
   ]
  },
  {
   "cell_type": "code",
   "execution_count": 43,
   "id": "dd988d51-84f7-435f-a19f-46055206a708",
   "metadata": {},
   "outputs": [
    {
     "data": {
      "text/plain": [
       "list"
      ]
     },
     "execution_count": 43,
     "metadata": {},
     "output_type": "execute_result"
    }
   ],
   "source": [
    "type(l)"
   ]
  },
  {
   "cell_type": "code",
   "execution_count": 44,
   "id": "11385df4-af8f-4988-b810-73d5420b225c",
   "metadata": {},
   "outputs": [
    {
     "data": {
      "text/plain": [
       "True"
      ]
     },
     "execution_count": 44,
     "metadata": {},
     "output_type": "execute_result"
    }
   ],
   "source": [
    "l[2]"
   ]
  },
  {
   "cell_type": "code",
   "execution_count": 45,
   "id": "536200ec-d9fe-4899-ae31-1e36c66da31d",
   "metadata": {},
   "outputs": [
    {
     "data": {
      "text/plain": [
       "34"
      ]
     },
     "execution_count": 45,
     "metadata": {},
     "output_type": "execute_result"
    }
   ],
   "source": [
    "l[-5]"
   ]
  },
  {
   "cell_type": "code",
   "execution_count": 46,
   "id": "aca705ee-9bfd-43cb-9195-7b642600a222",
   "metadata": {},
   "outputs": [
    {
     "data": {
      "text/plain": [
       "[(2+7j), 45.23, 'Rajesh', True, 34, 'krish']"
      ]
     },
     "execution_count": 46,
     "metadata": {},
     "output_type": "execute_result"
    }
   ],
   "source": [
    "l[::-1]"
   ]
  },
  {
   "cell_type": "code",
   "execution_count": 47,
   "id": "d1e6134f-2973-4403-a1b4-73b6ddccc205",
   "metadata": {},
   "outputs": [
    {
     "data": {
      "text/plain": [
       "[(2+7j), 'Rajesh']"
      ]
     },
     "execution_count": 47,
     "metadata": {},
     "output_type": "execute_result"
    }
   ],
   "source": [
    "l[-1:-4:-2]"
   ]
  },
  {
   "cell_type": "code",
   "execution_count": 48,
   "id": "42ddf8e5-bdda-4a13-8016-ab84a9f8e732",
   "metadata": {},
   "outputs": [
    {
     "data": {
      "text/plain": [
       "[]"
      ]
     },
     "execution_count": 48,
     "metadata": {},
     "output_type": "execute_result"
    }
   ],
   "source": [
    "l[-1:-4:2]"
   ]
  },
  {
   "cell_type": "code",
   "execution_count": 50,
   "id": "8efc68a5-bded-49a6-8a60-38d3e8605c39",
   "metadata": {},
   "outputs": [
    {
     "data": {
      "text/plain": [
       "True"
      ]
     },
     "execution_count": 50,
     "metadata": {},
     "output_type": "execute_result"
    }
   ],
   "source": [
    "l[2]"
   ]
  },
  {
   "cell_type": "code",
   "execution_count": 52,
   "id": "776d548a-cbb4-4827-abd9-492bcc9f867f",
   "metadata": {},
   "outputs": [
    {
     "data": {
      "text/plain": [
       "'j'"
      ]
     },
     "execution_count": 52,
     "metadata": {},
     "output_type": "execute_result"
    }
   ],
   "source": [
    "l[3][2]"
   ]
  },
  {
   "cell_type": "code",
   "execution_count": 53,
   "id": "b25fc101-8a18-46ce-981c-3b920cb8c5de",
   "metadata": {},
   "outputs": [
    {
     "data": {
      "text/plain": [
       "2.0"
      ]
     },
     "execution_count": 53,
     "metadata": {},
     "output_type": "execute_result"
    }
   ],
   "source": [
    "l[5].real"
   ]
  },
  {
   "cell_type": "code",
   "execution_count": 54,
   "id": "48c3517a-fb6d-442c-981e-0e09a2cb5e76",
   "metadata": {},
   "outputs": [
    {
     "data": {
      "text/plain": [
       "7.0"
      ]
     },
     "execution_count": 54,
     "metadata": {},
     "output_type": "execute_result"
    }
   ],
   "source": [
    "l[5].imag"
   ]
  },
  {
   "cell_type": "code",
   "execution_count": 2,
   "id": "9f230ccc-d44f-45e9-b26b-2b8256abb2d7",
   "metadata": {},
   "outputs": [
    {
     "data": {
      "text/plain": [
       "['ke', 'fe', 34, 'jd', 'raj', 'gaer', 3456, 245]"
      ]
     },
     "execution_count": 2,
     "metadata": {},
     "output_type": "execute_result"
    }
   ],
   "source": [
    "l1=[\"ke\",\"fe\",34,\"jd\"]\n",
    "l2=[\"raj\",\"gaer\",3456,245]\n",
    "l1+l2"
   ]
  },
  {
   "cell_type": "code",
   "execution_count": 3,
   "id": "2a237117-0162-4cd9-8327-f656ffc107ca",
   "metadata": {},
   "outputs": [
    {
     "data": {
      "text/plain": [
       "['ke', 'fe', 34, 'jd', 'str']"
      ]
     },
     "execution_count": 3,
     "metadata": {},
     "output_type": "execute_result"
    }
   ],
   "source": [
    "l1+[\"str\"]"
   ]
  },
  {
   "cell_type": "code",
   "execution_count": 4,
   "id": "b5f344e9-41c4-470a-af89-f4405af74ff1",
   "metadata": {},
   "outputs": [
    {
     "data": {
      "text/plain": [
       "['ke',\n",
       " 'fe',\n",
       " 34,\n",
       " 'jd',\n",
       " 'ke',\n",
       " 'fe',\n",
       " 34,\n",
       " 'jd',\n",
       " 'ke',\n",
       " 'fe',\n",
       " 34,\n",
       " 'jd',\n",
       " 'ke',\n",
       " 'fe',\n",
       " 34,\n",
       " 'jd']"
      ]
     },
     "execution_count": 4,
     "metadata": {},
     "output_type": "execute_result"
    }
   ],
   "source": [
    "l1*4"
   ]
  },
  {
   "cell_type": "code",
   "execution_count": 5,
   "id": "c8b0ac91-a5ea-42f0-a0c5-7dda8b954c83",
   "metadata": {},
   "outputs": [
    {
     "data": {
      "text/plain": [
       "['raj', 'gaer', 3456, 245, 'raj', 'gaer', 3456, 245]"
      ]
     },
     "execution_count": 5,
     "metadata": {},
     "output_type": "execute_result"
    }
   ],
   "source": [
    "l2*2"
   ]
  },
  {
   "cell_type": "code",
   "execution_count": 6,
   "id": "4dc7be6d-c53f-457c-9316-efa6afa0cfff",
   "metadata": {},
   "outputs": [
    {
     "data": {
      "text/plain": [
       "['ke', 'fe', 34, 'jd']"
      ]
     },
     "execution_count": 6,
     "metadata": {},
     "output_type": "execute_result"
    }
   ],
   "source": [
    "l1"
   ]
  },
  {
   "cell_type": "code",
   "execution_count": 7,
   "id": "6304725c-4942-4bb7-b00a-3f747a64e718",
   "metadata": {},
   "outputs": [],
   "source": [
    "l1[0]=\"krishna\""
   ]
  },
  {
   "cell_type": "code",
   "execution_count": 8,
   "id": "778dc609-1126-44bd-83fd-0976415c0e14",
   "metadata": {},
   "outputs": [
    {
     "data": {
      "text/plain": [
       "['krishna', 'fe', 34, 'jd']"
      ]
     },
     "execution_count": 8,
     "metadata": {},
     "output_type": "execute_result"
    }
   ],
   "source": [
    "l1"
   ]
  },
  {
   "cell_type": "code",
   "execution_count": 9,
   "id": "f649eed1-786c-46c2-97ab-dd1f8d62958d",
   "metadata": {},
   "outputs": [
    {
     "ename": "TypeError",
     "evalue": "'str' object does not support item assignment",
     "output_type": "error",
     "traceback": [
      "\u001b[0;31m---------------------------------------------------------------------------\u001b[0m",
      "\u001b[0;31mTypeError\u001b[0m                                 Traceback (most recent call last)",
      "Input \u001b[0;32mIn [9]\u001b[0m, in \u001b[0;36m<cell line: 1>\u001b[0;34m()\u001b[0m\n\u001b[0;32m----> 1\u001b[0m l1[\u001b[38;5;241m1\u001b[39m][\u001b[38;5;241m1\u001b[39m]\u001b[38;5;241m=\u001b[39m\u001b[38;5;124m'\u001b[39m\u001b[38;5;124mS\u001b[39m\u001b[38;5;124m'\u001b[39m\n",
      "\u001b[0;31mTypeError\u001b[0m: 'str' object does not support item assignment"
     ]
    }
   ],
   "source": [
    "l1[1][1]='S'"
   ]
  },
  {
   "cell_type": "code",
   "execution_count": 10,
   "id": "c12d48be-c13b-446c-b1cb-23d1b16bd26d",
   "metadata": {},
   "outputs": [],
   "source": [
    "# Reason: Strings are immutable while list is mutable"
   ]
  },
  {
   "cell_type": "code",
   "execution_count": 11,
   "id": "e5e858bf-0bc4-43ff-a817-067b851a4a64",
   "metadata": {},
   "outputs": [],
   "source": [
    "k=\"Krishna\""
   ]
  },
  {
   "cell_type": "code",
   "execution_count": 12,
   "id": "4954533f-8888-4167-8481-411275ff192b",
   "metadata": {},
   "outputs": [
    {
     "data": {
      "text/plain": [
       "'srishna'"
      ]
     },
     "execution_count": 12,
     "metadata": {},
     "output_type": "execute_result"
    }
   ],
   "source": [
    "k.replace('K','s')"
   ]
  },
  {
   "cell_type": "code",
   "execution_count": 13,
   "id": "4cb7bb38-98db-41e3-877d-cbfc80ca4a5c",
   "metadata": {},
   "outputs": [
    {
     "data": {
      "text/plain": [
       "['krishna', 'fe', 34, 'jd']"
      ]
     },
     "execution_count": 13,
     "metadata": {},
     "output_type": "execute_result"
    }
   ],
   "source": [
    "l1"
   ]
  },
  {
   "cell_type": "code",
   "execution_count": 17,
   "id": "9c2a42c3-10e3-42a8-81ba-02b4ef41f090",
   "metadata": {},
   "outputs": [
    {
     "data": {
      "text/plain": [
       "True"
      ]
     },
     "execution_count": 17,
     "metadata": {},
     "output_type": "execute_result"
    }
   ],
   "source": [
    "\"krishna\" in l1"
   ]
  },
  {
   "cell_type": "code",
   "execution_count": 18,
   "id": "415a8cba-e00b-40d6-af17-59c8aabca32d",
   "metadata": {},
   "outputs": [
    {
     "data": {
      "text/plain": [
       "False"
      ]
     },
     "execution_count": 18,
     "metadata": {},
     "output_type": "execute_result"
    }
   ],
   "source": [
    "3 in l1"
   ]
  },
  {
   "cell_type": "code",
   "execution_count": 19,
   "id": "736c26bf-2ea4-4577-9127-1880b5959b35",
   "metadata": {},
   "outputs": [
    {
     "data": {
      "text/plain": [
       "['raj', 'gaer', 3456, 245]"
      ]
     },
     "execution_count": 19,
     "metadata": {},
     "output_type": "execute_result"
    }
   ],
   "source": [
    "l2"
   ]
  },
  {
   "cell_type": "code",
   "execution_count": 20,
   "id": "35108107-ab4e-4cd1-ac82-6f7c5f166ca4",
   "metadata": {},
   "outputs": [],
   "source": [
    "l2.append(\"Krish\")"
   ]
  },
  {
   "cell_type": "code",
   "execution_count": 21,
   "id": "7dc189d1-b5fe-4c7a-9248-54fd24dc52cf",
   "metadata": {},
   "outputs": [
    {
     "data": {
      "text/plain": [
       "['raj', 'gaer', 3456, 245, 'Krish']"
      ]
     },
     "execution_count": 21,
     "metadata": {},
     "output_type": "execute_result"
    }
   ],
   "source": [
    "l2"
   ]
  },
  {
   "cell_type": "code",
   "execution_count": 22,
   "id": "4f9bea76-7493-4879-b4e9-1e611dbe8d7b",
   "metadata": {},
   "outputs": [
    {
     "data": {
      "text/plain": [
       "'Krish'"
      ]
     },
     "execution_count": 22,
     "metadata": {},
     "output_type": "execute_result"
    }
   ],
   "source": [
    "l2.pop()"
   ]
  },
  {
   "cell_type": "code",
   "execution_count": 23,
   "id": "4291621a-4781-4826-a655-0c3db038e409",
   "metadata": {},
   "outputs": [
    {
     "data": {
      "text/plain": [
       "['raj', 'gaer', 3456, 245]"
      ]
     },
     "execution_count": 23,
     "metadata": {},
     "output_type": "execute_result"
    }
   ],
   "source": [
    "l2"
   ]
  },
  {
   "cell_type": "code",
   "execution_count": 25,
   "id": "e157f88c-25d5-413d-ad51-630efafc6b06",
   "metadata": {},
   "outputs": [
    {
     "data": {
      "text/plain": [
       "'gaer'"
      ]
     },
     "execution_count": 25,
     "metadata": {},
     "output_type": "execute_result"
    }
   ],
   "source": [
    "l2.pop(1)"
   ]
  },
  {
   "cell_type": "code",
   "execution_count": 26,
   "id": "93bdd342-19cf-4430-905d-b8eb6e228995",
   "metadata": {},
   "outputs": [
    {
     "data": {
      "text/plain": [
       "['raj', 3456, 245]"
      ]
     },
     "execution_count": 26,
     "metadata": {},
     "output_type": "execute_result"
    }
   ],
   "source": [
    "l2"
   ]
  },
  {
   "cell_type": "code",
   "execution_count": 27,
   "id": "9acc6b11-cede-4b7e-b21a-47120f456191",
   "metadata": {},
   "outputs": [],
   "source": [
    "l2.append('Sasuke')"
   ]
  },
  {
   "cell_type": "code",
   "execution_count": 28,
   "id": "8a265f88-9f47-4646-ac03-8f8ea1a2a824",
   "metadata": {},
   "outputs": [
    {
     "data": {
      "text/plain": [
       "['raj', 3456, 245, 'Sasuke']"
      ]
     },
     "execution_count": 28,
     "metadata": {},
     "output_type": "execute_result"
    }
   ],
   "source": [
    "l2"
   ]
  },
  {
   "cell_type": "code",
   "execution_count": 29,
   "id": "735bf0b4-585a-4039-b0f9-0cdebfd7e9de",
   "metadata": {},
   "outputs": [],
   "source": [
    "l2.insert(1,\"Naruto\")"
   ]
  },
  {
   "cell_type": "code",
   "execution_count": 30,
   "id": "bc72c990-4b13-4f8b-914a-5bbf66cd75ee",
   "metadata": {},
   "outputs": [
    {
     "data": {
      "text/plain": [
       "['raj', 'Naruto', 3456, 245, 'Sasuke']"
      ]
     },
     "execution_count": 30,
     "metadata": {},
     "output_type": "execute_result"
    }
   ],
   "source": [
    "l2"
   ]
  },
  {
   "cell_type": "code",
   "execution_count": 31,
   "id": "82416412-a9ee-499e-a090-61b5f177692a",
   "metadata": {},
   "outputs": [],
   "source": [
    "l2.insert(2,[23,24235,\"Krish\"])"
   ]
  },
  {
   "cell_type": "code",
   "execution_count": 32,
   "id": "7203d702-9676-4806-a350-eb64fd92783c",
   "metadata": {},
   "outputs": [
    {
     "data": {
      "text/plain": [
       "['raj', 'Naruto', [23, 24235, 'Krish'], 3456, 245, 'Sasuke']"
      ]
     },
     "execution_count": 32,
     "metadata": {},
     "output_type": "execute_result"
    }
   ],
   "source": [
    "l2"
   ]
  },
  {
   "cell_type": "code",
   "execution_count": 33,
   "id": "e2c30b09-4a3c-4cee-a159-cdf74a4e656a",
   "metadata": {},
   "outputs": [
    {
     "data": {
      "text/plain": [
       "['Sasuke', 245, 3456, [23, 24235, 'Krish'], 'Naruto', 'raj']"
      ]
     },
     "execution_count": 33,
     "metadata": {},
     "output_type": "execute_result"
    }
   ],
   "source": [
    "l2[::-1]"
   ]
  },
  {
   "cell_type": "code",
   "execution_count": 34,
   "id": "9b51d16c-774f-43d1-973e-8c45f94bca7c",
   "metadata": {},
   "outputs": [],
   "source": [
    "l2.reverse()"
   ]
  },
  {
   "cell_type": "code",
   "execution_count": 35,
   "id": "05d936a5-7975-4858-baf5-085cae415d51",
   "metadata": {},
   "outputs": [
    {
     "data": {
      "text/plain": [
       "['Sasuke', 245, 3456, [23, 24235, 'Krish'], 'Naruto', 'raj']"
      ]
     },
     "execution_count": 35,
     "metadata": {},
     "output_type": "execute_result"
    }
   ],
   "source": [
    "l2"
   ]
  },
  {
   "cell_type": "code",
   "execution_count": 36,
   "id": "5eb446cc-9952-4a28-9226-55334426e672",
   "metadata": {},
   "outputs": [
    {
     "data": {
      "text/plain": [
       "'Krish'"
      ]
     },
     "execution_count": 36,
     "metadata": {},
     "output_type": "execute_result"
    }
   ],
   "source": [
    "l2[3][2]"
   ]
  },
  {
   "cell_type": "code",
   "execution_count": 38,
   "id": "087d002b-825b-44b9-aa13-82bf3762de11",
   "metadata": {},
   "outputs": [
    {
     "data": {
      "text/plain": [
       "1"
      ]
     },
     "execution_count": 38,
     "metadata": {},
     "output_type": "execute_result"
    }
   ],
   "source": [
    "l2.count('raj')"
   ]
  },
  {
   "cell_type": "code",
   "execution_count": 39,
   "id": "dbf4bae3-5e91-4864-b97f-e92d293bf592",
   "metadata": {},
   "outputs": [],
   "source": [
    "l2.append(\"Triha\")"
   ]
  },
  {
   "cell_type": "code",
   "execution_count": 40,
   "id": "f500168e-b1ac-442d-ac7a-a5dc6a4788a4",
   "metadata": {},
   "outputs": [
    {
     "data": {
      "text/plain": [
       "['Sasuke', 245, 3456, [23, 24235, 'Krish'], 'Naruto', 'raj', 'Triha']"
      ]
     },
     "execution_count": 40,
     "metadata": {},
     "output_type": "execute_result"
    }
   ],
   "source": [
    "l2"
   ]
  },
  {
   "cell_type": "code",
   "execution_count": 41,
   "id": "e03acdcc-5a93-4d63-b656-c008e5058e6a",
   "metadata": {},
   "outputs": [],
   "source": [
    "l2.append(l2)"
   ]
  },
  {
   "cell_type": "code",
   "execution_count": 46,
   "id": "51e95e44-28aa-475b-bbfb-c3cf97ff18ed",
   "metadata": {},
   "outputs": [
    {
     "data": {
      "text/plain": [
       "'raj'"
      ]
     },
     "execution_count": 46,
     "metadata": {},
     "output_type": "execute_result"
    }
   ],
   "source": [
    "l2.pop()"
   ]
  },
  {
   "cell_type": "code",
   "execution_count": 47,
   "id": "69278522-fe67-45fe-94e6-14dc2d7e2724",
   "metadata": {},
   "outputs": [
    {
     "data": {
      "text/plain": [
       "['Sasuke', 245, 3456, [23, 24235, 'Krish'], 'Naruto']"
      ]
     },
     "execution_count": 47,
     "metadata": {},
     "output_type": "execute_result"
    }
   ],
   "source": [
    "l2"
   ]
  },
  {
   "cell_type": "code",
   "execution_count": 48,
   "id": "0fc96ecd-effd-4d8a-953b-2c324b57b405",
   "metadata": {},
   "outputs": [],
   "source": [
    "l2.append([34,12,34,'Raj'])"
   ]
  },
  {
   "cell_type": "code",
   "execution_count": 49,
   "id": "d170479c-5ac2-4f41-ade4-c1694472204a",
   "metadata": {},
   "outputs": [
    {
     "data": {
      "text/plain": [
       "['Sasuke', 245, 3456, [23, 24235, 'Krish'], 'Naruto', [34, 12, 34, 'Raj']]"
      ]
     },
     "execution_count": 49,
     "metadata": {},
     "output_type": "execute_result"
    }
   ],
   "source": [
    "l2"
   ]
  },
  {
   "cell_type": "code",
   "execution_count": 50,
   "id": "18cf880a-9110-48cd-a1b9-b2bcc1a79e2c",
   "metadata": {},
   "outputs": [
    {
     "data": {
      "text/plain": [
       "['krishna', 'fe', 34, 'jd']"
      ]
     },
     "execution_count": 50,
     "metadata": {},
     "output_type": "execute_result"
    }
   ],
   "source": [
    "l1"
   ]
  },
  {
   "cell_type": "code",
   "execution_count": 51,
   "id": "de42a565-c058-4b51-bce2-9e6e5a84f83c",
   "metadata": {},
   "outputs": [],
   "source": [
    "l1.extend([\"Sakura\",\"Jiraiya\"])"
   ]
  },
  {
   "cell_type": "code",
   "execution_count": 52,
   "id": "8ad5c6ea-9b17-4bc3-b742-71688aa9f844",
   "metadata": {},
   "outputs": [
    {
     "data": {
      "text/plain": [
       "['krishna', 'fe', 34, 'jd', 'Sakura', 'Jiraiya']"
      ]
     },
     "execution_count": 52,
     "metadata": {},
     "output_type": "execute_result"
    }
   ],
   "source": [
    "l1"
   ]
  },
  {
   "cell_type": "code",
   "execution_count": 53,
   "id": "b1e07e7c-0f86-457f-a418-95c0e98fceb3",
   "metadata": {},
   "outputs": [],
   "source": [
    "l1.extend(\"Krish\")"
   ]
  },
  {
   "cell_type": "code",
   "execution_count": 54,
   "id": "88b7e114-2862-4de9-ac1d-67a13ac5ea5b",
   "metadata": {},
   "outputs": [
    {
     "data": {
      "text/plain": [
       "['krishna', 'fe', 34, 'jd', 'Sakura', 'Jiraiya', 'K', 'r', 'i', 's', 'h']"
      ]
     },
     "execution_count": 54,
     "metadata": {},
     "output_type": "execute_result"
    }
   ],
   "source": [
    "l1"
   ]
  },
  {
   "cell_type": "code",
   "execution_count": 55,
   "id": "2fb9133d-cb46-4a5e-8655-f29d0f352841",
   "metadata": {},
   "outputs": [
    {
     "data": {
      "text/plain": [
       "['u', 'u', 's', 'd']"
      ]
     },
     "execution_count": 55,
     "metadata": {},
     "output_type": "execute_result"
    }
   ],
   "source": [
    "list(\"uusd\")"
   ]
  },
  {
   "cell_type": "code",
   "execution_count": 56,
   "id": "e48c19d6-8bf6-41ef-a802-06a370cc8e2b",
   "metadata": {},
   "outputs": [],
   "source": [
    "k=\"ast\""
   ]
  },
  {
   "cell_type": "code",
   "execution_count": 57,
   "id": "58407071-91a7-48f7-88fd-6735f3248687",
   "metadata": {},
   "outputs": [
    {
     "data": {
      "text/plain": [
       "True"
      ]
     },
     "execution_count": 57,
     "metadata": {},
     "output_type": "execute_result"
    }
   ],
   "source": [
    "k.endswith(\"\")"
   ]
  },
  {
   "cell_type": "code",
   "execution_count": null,
   "id": "bafb36af-0766-4bf0-8bc0-24a74165211b",
   "metadata": {},
   "outputs": [],
   "source": []
  },
  {
   "cell_type": "code",
   "execution_count": null,
   "id": "206d33bf-210b-4245-a7cf-f30608b76010",
   "metadata": {},
   "outputs": [],
   "source": []
  },
  {
   "cell_type": "code",
   "execution_count": null,
   "id": "c92ccde6-db58-4c36-a7f1-853d0a9b31b2",
   "metadata": {},
   "outputs": [],
   "source": []
  },
  {
   "cell_type": "code",
   "execution_count": null,
   "id": "17da4bf3-9de7-48f9-84b6-ee5ed7800a5b",
   "metadata": {},
   "outputs": [],
   "source": []
  },
  {
   "cell_type": "code",
   "execution_count": null,
   "id": "a201157b-13d6-4f6e-b972-0c7b09ace630",
   "metadata": {},
   "outputs": [],
   "source": []
  },
  {
   "cell_type": "code",
   "execution_count": null,
   "id": "c4d5887b-3175-4b2c-8906-ee283572ebe1",
   "metadata": {},
   "outputs": [],
   "source": []
  },
  {
   "cell_type": "code",
   "execution_count": null,
   "id": "e7bfac22-877a-4bc6-b378-ee843baecab4",
   "metadata": {},
   "outputs": [],
   "source": []
  },
  {
   "cell_type": "code",
   "execution_count": null,
   "id": "7938f94e-d66c-462d-a163-2216061c05fb",
   "metadata": {},
   "outputs": [],
   "source": []
  },
  {
   "cell_type": "code",
   "execution_count": null,
   "id": "b0bcc7c8-4605-44a2-8005-fa879fb23cb9",
   "metadata": {},
   "outputs": [],
   "source": []
  },
  {
   "cell_type": "code",
   "execution_count": null,
   "id": "0dd52c3f-3f40-45fb-9361-3c82f288947c",
   "metadata": {},
   "outputs": [],
   "source": []
  },
  {
   "cell_type": "code",
   "execution_count": null,
   "id": "21bbd90f-e36c-421c-a266-3e65a64e616a",
   "metadata": {},
   "outputs": [],
   "source": []
  },
  {
   "cell_type": "code",
   "execution_count": null,
   "id": "79ef91db-5cb0-429e-9b02-303c523c93ce",
   "metadata": {},
   "outputs": [],
   "source": []
  },
  {
   "cell_type": "code",
   "execution_count": null,
   "id": "5a9bb44a-6f4b-45d2-8bff-e50f76a11d33",
   "metadata": {},
   "outputs": [],
   "source": []
  },
  {
   "cell_type": "code",
   "execution_count": null,
   "id": "1ba93f0f-c66b-472b-a5e0-12232bf8595c",
   "metadata": {},
   "outputs": [],
   "source": []
  },
  {
   "cell_type": "code",
   "execution_count": null,
   "id": "8b0b794d-2871-4382-9dcb-9dfbc1def3fe",
   "metadata": {},
   "outputs": [],
   "source": []
  },
  {
   "cell_type": "code",
   "execution_count": null,
   "id": "91b1afd4-6715-4e2f-bf36-1b4f60afbce4",
   "metadata": {},
   "outputs": [],
   "source": []
  },
  {
   "cell_type": "code",
   "execution_count": null,
   "id": "31264e05-cb12-45de-8caa-3e9c9c978b18",
   "metadata": {},
   "outputs": [],
   "source": []
  }
 ],
 "metadata": {
  "kernelspec": {
   "display_name": "Python 3 (ipykernel)",
   "language": "python",
   "name": "python3"
  },
  "language_info": {
   "codemirror_mode": {
    "name": "ipython",
    "version": 3
   },
   "file_extension": ".py",
   "mimetype": "text/x-python",
   "name": "python",
   "nbconvert_exporter": "python",
   "pygments_lexer": "ipython3",
   "version": "3.9.12"
  }
 },
 "nbformat": 4,
 "nbformat_minor": 5
}
