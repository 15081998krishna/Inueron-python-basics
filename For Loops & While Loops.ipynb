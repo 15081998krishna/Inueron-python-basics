{
 "cells": [
  {
   "cell_type": "code",
   "execution_count": 1,
   "id": "6b722891-26c5-43b9-87e8-a8c43fdd89a9",
   "metadata": {},
   "outputs": [],
   "source": [
    "l=[\"list\",\"ph.no\",\"email_id\",\"address\"]"
   ]
  },
  {
   "cell_type": "code",
   "execution_count": 2,
   "id": "4c3d5ab8-adc8-4882-a2cd-908ff1166067",
   "metadata": {},
   "outputs": [
    {
     "data": {
      "text/plain": [
       "['list', 'ph.no', 'email_id', 'address']"
      ]
     },
     "execution_count": 2,
     "metadata": {},
     "output_type": "execute_result"
    }
   ],
   "source": [
    "l"
   ]
  },
  {
   "cell_type": "code",
   "execution_count": 3,
   "id": "9ffe25d0-0b88-46e3-bdb8-1e6e0210cb8d",
   "metadata": {},
   "outputs": [
    {
     "name": "stdout",
     "output_type": "stream",
     "text": [
      "list\n",
      "ph.no\n",
      "email_id\n",
      "address\n"
     ]
    }
   ],
   "source": [
    "for i in l:\n",
    "    print(i)"
   ]
  },
  {
   "cell_type": "code",
   "execution_count": 4,
   "id": "fca10ca5-9ab6-4af4-b77e-14234c205039",
   "metadata": {},
   "outputs": [
    {
     "name": "stdout",
     "output_type": "stream",
     "text": [
      "R\n",
      "a\n",
      "m\n",
      "K\n",
      "r\n",
      "i\n",
      "s\n",
      "h\n",
      "n\n",
      "a\n"
     ]
    }
   ],
   "source": [
    "s=\"RamKrishna\"\n",
    "for i in s:\n",
    "    print(i)"
   ]
  },
  {
   "cell_type": "code",
   "execution_count": 9,
   "id": "71c112c2-a35b-406c-8743-96c4d44ff3a1",
   "metadata": {},
   "outputs": [
    {
     "data": {
      "text/plain": [
       "['list', 'ph.no', 'email_id', 'address']"
      ]
     },
     "execution_count": 9,
     "metadata": {},
     "output_type": "execute_result"
    }
   ],
   "source": [
    "l"
   ]
  },
  {
   "cell_type": "code",
   "execution_count": 8,
   "id": "d983b4c2-4a46-45f8-857b-ddd4e7213055",
   "metadata": {},
   "outputs": [
    {
     "name": "stdout",
     "output_type": "stream",
     "text": [
      "list\n",
      "ph.no\n",
      "email_id\n",
      "address\n",
      "If for loop  get executed it comes to else statement\n"
     ]
    }
   ],
   "source": [
    "for i in l:\n",
    "    print(i)\n",
    "else:\n",
    "    print(\"If for loop  get executed it comes to else statement\")"
   ]
  },
  {
   "cell_type": "code",
   "execution_count": 13,
   "id": "112b5f36-b8d8-4d36-a002-39303d647c6b",
   "metadata": {},
   "outputs": [
    {
     "name": "stdout",
     "output_type": "stream",
     "text": [
      "list\n",
      "ph.no\n",
      "email_id\n"
     ]
    }
   ],
   "source": [
    "for i in l:\n",
    "    if i==\"address\":\n",
    "        break\n",
    "    print(i)\n",
    "else:\n",
    "    print(\"Checking whether for loop got executed completely or not\")"
   ]
  },
  {
   "cell_type": "code",
   "execution_count": 14,
   "id": "74409079-7739-4290-b238-c451afb006bf",
   "metadata": {},
   "outputs": [],
   "source": [
    "k=\"Krishna\"\n"
   ]
  },
  {
   "cell_type": "code",
   "execution_count": 16,
   "id": "2e1631e6-8971-4935-9d68-aa40dc5d9339",
   "metadata": {},
   "outputs": [
    {
     "name": "stdout",
     "output_type": "stream",
     "text": [
      "K\n",
      "r\n"
     ]
    }
   ],
   "source": [
    "for i in k:\n",
    "    if i=='i':\n",
    "        break;\n",
    "    print(i)\n",
    "else:\n",
    "    print(\"Full name printed\")"
   ]
  },
  {
   "cell_type": "markdown",
   "id": "98870d87-35df-499f-b724-83e1aa11282a",
   "metadata": {},
   "source": [
    "# While"
   ]
  },
  {
   "cell_type": "code",
   "execution_count": 25,
   "id": "af13e953-be3c-499e-b4cc-da1a59546768",
   "metadata": {},
   "outputs": [
    {
     "name": "stdout",
     "output_type": "stream",
     "text": [
      "2\n",
      "3\n",
      "4\n",
      "5\n"
     ]
    }
   ],
   "source": [
    "a=2\n",
    "while a<6:\n",
    "    print(a)\n",
    "    a=a+1"
   ]
  },
  {
   "cell_type": "code",
   "execution_count": 26,
   "id": "fe9dd71f-72d1-4736-80bc-718186869cce",
   "metadata": {},
   "outputs": [
    {
     "name": "stdout",
     "output_type": "stream",
     "text": [
      "1\n",
      "2\n",
      "3\n",
      "4\n"
     ]
    }
   ],
   "source": [
    "a=1\n",
    "while a<6:\n",
    "    print(a)\n",
    "    if a==4:\n",
    "        break\n",
    "    a=a+1\n",
    "    "
   ]
  },
  {
   "cell_type": "code",
   "execution_count": 27,
   "id": "ef8452e5-6e02-46ee-a6d6-ec3ebcd36908",
   "metadata": {},
   "outputs": [
    {
     "data": {
      "text/plain": [
       "4"
      ]
     },
     "execution_count": 27,
     "metadata": {},
     "output_type": "execute_result"
    }
   ],
   "source": [
    "a"
   ]
  },
  {
   "cell_type": "code",
   "execution_count": 28,
   "id": "d63e93aa-9e4e-473d-a4df-7b5aa14608f9",
   "metadata": {},
   "outputs": [
    {
     "name": "stdout",
     "output_type": "stream",
     "text": [
      "4\n",
      "5\n",
      "6\n",
      "7\n",
      "8\n",
      "9\n"
     ]
    }
   ],
   "source": [
    "a\n",
    "while a<10:\n",
    "    print(a)\n",
    "    a=a+1\n",
    "    if a==8:\n",
    "        continue\n",
    "   "
   ]
  },
  {
   "cell_type": "code",
   "execution_count": 36,
   "id": "9d33be77-6d7e-442e-9795-f145c054625c",
   "metadata": {},
   "outputs": [
    {
     "name": "stdout",
     "output_type": "stream",
     "text": [
      "1\n",
      "2\n",
      "3\n",
      "4\n"
     ]
    }
   ],
   "source": [
    "a=1\n",
    "while a<5:\n",
    "    pass\n",
    "    print(a)\n",
    "    a=a+1"
   ]
  },
  {
   "cell_type": "code",
   "execution_count": null,
   "id": "1b762276-6b76-4a3f-a009-bf6fa0d3774a",
   "metadata": {},
   "outputs": [],
   "source": []
  },
  {
   "cell_type": "code",
   "execution_count": 31,
   "id": "ae2faef7-2589-45d8-8424-c2490cd052f1",
   "metadata": {},
   "outputs": [],
   "source": [
    "for i in l:\n",
    "    pass"
   ]
  },
  {
   "cell_type": "code",
   "execution_count": 37,
   "id": "4a54ff0b-c029-447e-b0b3-8ccc6dd61af1",
   "metadata": {},
   "outputs": [
    {
     "data": {
      "text/plain": [
       "range(0, 6)"
      ]
     },
     "execution_count": 37,
     "metadata": {},
     "output_type": "execute_result"
    }
   ],
   "source": [
    "range(6)"
   ]
  },
  {
   "cell_type": "code",
   "execution_count": 38,
   "id": "028121cc-dee1-4830-8909-92d58fa0082c",
   "metadata": {},
   "outputs": [
    {
     "data": {
      "text/plain": [
       "[0, 1, 2, 3, 4, 5]"
      ]
     },
     "execution_count": 38,
     "metadata": {},
     "output_type": "execute_result"
    }
   ],
   "source": [
    "list(range(6))"
   ]
  },
  {
   "cell_type": "code",
   "execution_count": 39,
   "id": "958e5287-2960-43ab-bc08-4c77c174004a",
   "metadata": {},
   "outputs": [
    {
     "data": {
      "text/plain": [
       "(0, 1, 2, 3, 4, 5)"
      ]
     },
     "execution_count": 39,
     "metadata": {},
     "output_type": "execute_result"
    }
   ],
   "source": [
    "tuple(range(6))"
   ]
  },
  {
   "cell_type": "code",
   "execution_count": 40,
   "id": "4c9a1a8e-3b4f-47ed-9f91-50b1b83716d5",
   "metadata": {},
   "outputs": [
    {
     "data": {
      "text/plain": [
       "[2, 3, 4, 5, 6, 7, 8]"
      ]
     },
     "execution_count": 40,
     "metadata": {},
     "output_type": "execute_result"
    }
   ],
   "source": [
    "list(range(2,9))"
   ]
  },
  {
   "cell_type": "code",
   "execution_count": 41,
   "id": "1612e3cd-1853-47b5-a079-3e0efd1af955",
   "metadata": {},
   "outputs": [
    {
     "data": {
      "text/plain": [
       "[2, 6, 10, 14, 18, 22, 26]"
      ]
     },
     "execution_count": 41,
     "metadata": {},
     "output_type": "execute_result"
    }
   ],
   "source": [
    "list(range(2,30,4))"
   ]
  },
  {
   "cell_type": "code",
   "execution_count": 44,
   "id": "90a25291-848c-483b-9f83-8ecfb91dc9a4",
   "metadata": {},
   "outputs": [
    {
     "data": {
      "text/plain": [
       "[3, 1, -1, -3, -5, -7, -9]"
      ]
     },
     "execution_count": 44,
     "metadata": {},
     "output_type": "execute_result"
    }
   ],
   "source": [
    "list(range(3,-10,-2))"
   ]
  },
  {
   "cell_type": "code",
   "execution_count": 45,
   "id": "9930cd57-8bc2-4c93-8828-88bb069e4b92",
   "metadata": {},
   "outputs": [
    {
     "data": {
      "text/plain": [
       "[]"
      ]
     },
     "execution_count": 45,
     "metadata": {},
     "output_type": "execute_result"
    }
   ],
   "source": [
    "list(range(2,5,-1))"
   ]
  },
  {
   "cell_type": "code",
   "execution_count": 50,
   "id": "49dcc7f1-c392-4046-852f-82f01b6c78b4",
   "metadata": {},
   "outputs": [
    {
     "data": {
      "text/plain": [
       "[10, 9, 8, 7, 6, 5, 4, 3, 2, 1]"
      ]
     },
     "execution_count": 50,
     "metadata": {},
     "output_type": "execute_result"
    }
   ],
   "source": [
    "list(range(10,0,-1))"
   ]
  },
  {
   "cell_type": "code",
   "execution_count": 52,
   "id": "d13c815f-a237-4930-bdb7-a34bf8f5c7ff",
   "metadata": {},
   "outputs": [
    {
     "name": "stdout",
     "output_type": "stream",
     "text": [
      "0\n",
      "1\n",
      "2\n",
      "3\n"
     ]
    }
   ],
   "source": [
    "for i in range(4):\n",
    "    print(i)"
   ]
  },
  {
   "cell_type": "code",
   "execution_count": 63,
   "id": "6fd7944b-1624-405d-945b-b97c50947b95",
   "metadata": {},
   "outputs": [
    {
     "name": "stdout",
     "output_type": "stream",
     "text": [
      "* \n",
      "* * \n",
      "* * * \n",
      "* * * * \n",
      "* * * * * \n"
     ]
    }
   ],
   "source": [
    "for i in range(5):\n",
    "    for j in range(i+1):\n",
    "        print(\"* \", end=\"\")\n",
    "    print(\"\\r\\r\")"
   ]
  },
  {
   "cell_type": "code",
   "execution_count": null,
   "id": "546374bf-4fc8-4741-89dd-8f10e7f894f2",
   "metadata": {},
   "outputs": [],
   "source": []
  },
  {
   "cell_type": "code",
   "execution_count": null,
   "id": "d6e82ba7-7236-4c5f-a6f6-2fb4a7c6a247",
   "metadata": {},
   "outputs": [],
   "source": []
  },
  {
   "cell_type": "code",
   "execution_count": null,
   "id": "6955baf3-4f11-49fe-8ad4-91c15e7f9248",
   "metadata": {},
   "outputs": [],
   "source": []
  },
  {
   "cell_type": "code",
   "execution_count": null,
   "id": "9e8c6455-9055-444f-91a5-5b655d9a8078",
   "metadata": {},
   "outputs": [],
   "source": []
  },
  {
   "cell_type": "code",
   "execution_count": null,
   "id": "6e84d3b9-3354-43fd-8dd9-f436451f9adc",
   "metadata": {},
   "outputs": [],
   "source": []
  },
  {
   "cell_type": "code",
   "execution_count": null,
   "id": "ea5b872f-1a71-40b7-a796-0f272e3aff61",
   "metadata": {},
   "outputs": [],
   "source": []
  },
  {
   "cell_type": "code",
   "execution_count": null,
   "id": "cd2e4847-f83a-4d99-8183-3d80900dbae2",
   "metadata": {},
   "outputs": [],
   "source": []
  },
  {
   "cell_type": "code",
   "execution_count": null,
   "id": "3b99d544-2b87-45f6-8946-aee719ba7486",
   "metadata": {},
   "outputs": [],
   "source": []
  },
  {
   "cell_type": "code",
   "execution_count": null,
   "id": "29ebe2e5-3439-4728-8da4-c907df941786",
   "metadata": {},
   "outputs": [],
   "source": []
  },
  {
   "cell_type": "code",
   "execution_count": null,
   "id": "1156d5d8-8504-4046-beb9-4fa58008e2a7",
   "metadata": {},
   "outputs": [],
   "source": []
  },
  {
   "cell_type": "code",
   "execution_count": null,
   "id": "547201e5-6c53-4860-97fb-e65535d444a2",
   "metadata": {},
   "outputs": [],
   "source": []
  },
  {
   "cell_type": "code",
   "execution_count": null,
   "id": "d2587550-cf74-4797-8274-775b86014dff",
   "metadata": {},
   "outputs": [],
   "source": []
  },
  {
   "cell_type": "code",
   "execution_count": null,
   "id": "a174a17f-15d1-49bd-8204-bd66737ff982",
   "metadata": {},
   "outputs": [],
   "source": []
  },
  {
   "cell_type": "code",
   "execution_count": null,
   "id": "a69a14ac-d4e0-463b-b2e2-c360674d6a7f",
   "metadata": {},
   "outputs": [],
   "source": []
  },
  {
   "cell_type": "code",
   "execution_count": null,
   "id": "9d81af8e-6e8a-4604-a446-642d37a4255f",
   "metadata": {},
   "outputs": [],
   "source": []
  },
  {
   "cell_type": "code",
   "execution_count": null,
   "id": "fdbeed77-d86e-4987-99a4-e1737b7eeac1",
   "metadata": {},
   "outputs": [],
   "source": []
  },
  {
   "cell_type": "code",
   "execution_count": null,
   "id": "1cc603ea-0cee-458b-ad9f-ed4e8965c149",
   "metadata": {},
   "outputs": [],
   "source": []
  },
  {
   "cell_type": "code",
   "execution_count": null,
   "id": "a6db828c-0ad5-4a11-b06d-c0f7dae2b284",
   "metadata": {},
   "outputs": [],
   "source": []
  },
  {
   "cell_type": "code",
   "execution_count": null,
   "id": "0b89086b-8f2a-4e35-876f-e46b0fab4cdc",
   "metadata": {},
   "outputs": [],
   "source": []
  },
  {
   "cell_type": "code",
   "execution_count": null,
   "id": "6eecfa09-2aad-4179-9d55-9e6559982661",
   "metadata": {},
   "outputs": [],
   "source": []
  }
 ],
 "metadata": {
  "kernelspec": {
   "display_name": "Python 3 (ipykernel)",
   "language": "python",
   "name": "python3"
  },
  "language_info": {
   "codemirror_mode": {
    "name": "ipython",
    "version": 3
   },
   "file_extension": ".py",
   "mimetype": "text/x-python",
   "name": "python",
   "nbconvert_exporter": "python",
   "pygments_lexer": "ipython3",
   "version": "3.9.12"
  }
 },
 "nbformat": 4,
 "nbformat_minor": 5
}
