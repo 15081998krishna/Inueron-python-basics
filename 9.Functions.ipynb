{
 "cells": [
  {
   "cell_type": "markdown",
   "id": "e244a80f-c384-43f6-ba12-02d7102414f5",
   "metadata": {},
   "source": [
    "# Functions"
   ]
  },
  {
   "cell_type": "code",
   "execution_count": 1,
   "id": "eea7d9d2-909c-4872-8678-ddc6670b9405",
   "metadata": {},
   "outputs": [
    {
     "data": {
      "text/plain": [
       "4"
      ]
     },
     "execution_count": 1,
     "metadata": {},
     "output_type": "execute_result"
    }
   ],
   "source": [
    "len(\"Kris\")"
   ]
  },
  {
   "cell_type": "code",
   "execution_count": 2,
   "id": "4f941697-7487-4ce4-9ff7-d206e8319cc4",
   "metadata": {},
   "outputs": [
    {
     "name": "stdout",
     "output_type": "stream",
     "text": [
      "Krishna is the best\n"
     ]
    }
   ],
   "source": [
    "print(\"Krishna is the best\")"
   ]
  },
  {
   "cell_type": "code",
   "execution_count": 3,
   "id": "eca7beec-1e5a-43c4-9867-f34a7114a2e4",
   "metadata": {},
   "outputs": [],
   "source": [
    "#Modular coding approach"
   ]
  },
  {
   "cell_type": "code",
   "execution_count": 4,
   "id": "33200f69-d56b-465d-9527-0a535b2a7263",
   "metadata": {},
   "outputs": [],
   "source": [
    "def test():\n",
    "    pass"
   ]
  },
  {
   "cell_type": "code",
   "execution_count": 5,
   "id": "e435adf1-f5e6-41da-95ba-e0b313252c83",
   "metadata": {},
   "outputs": [],
   "source": [
    "def test1():\n",
    "    print(\"This is my first fun\")"
   ]
  },
  {
   "cell_type": "code",
   "execution_count": 6,
   "id": "0e3caa99-8421-4445-b62c-d0fea01630a6",
   "metadata": {},
   "outputs": [
    {
     "name": "stdout",
     "output_type": "stream",
     "text": [
      "This is my first fun\n"
     ]
    }
   ],
   "source": [
    "test1()"
   ]
  },
  {
   "cell_type": "code",
   "execution_count": 7,
   "id": "f3ff95b5-dabb-40fb-9f4d-d61ac6691f76",
   "metadata": {},
   "outputs": [
    {
     "name": "stdout",
     "output_type": "stream",
     "text": [
      "This is my first fun\n"
     ]
    }
   ],
   "source": [
    "a= test1()"
   ]
  },
  {
   "cell_type": "code",
   "execution_count": 8,
   "id": "49c8ea4b-2def-443e-ad80-71e0ae71ab30",
   "metadata": {},
   "outputs": [],
   "source": [
    "a"
   ]
  },
  {
   "cell_type": "code",
   "execution_count": 9,
   "id": "606b321b-be45-4eb5-82a4-75b3ffde29b5",
   "metadata": {},
   "outputs": [
    {
     "data": {
      "text/plain": [
       "NoneType"
      ]
     },
     "execution_count": 9,
     "metadata": {},
     "output_type": "execute_result"
    }
   ],
   "source": [
    "type(a)"
   ]
  },
  {
   "cell_type": "code",
   "execution_count": 10,
   "id": "05860483-ac69-4594-91ef-ca9b51235454",
   "metadata": {},
   "outputs": [
    {
     "ename": "TypeError",
     "evalue": "unsupported operand type(s) for +: 'NoneType' and 'str'",
     "output_type": "error",
     "traceback": [
      "\u001b[0;31m---------------------------------------------------------------------------\u001b[0m",
      "\u001b[0;31mTypeError\u001b[0m                                 Traceback (most recent call last)",
      "Input \u001b[0;32mIn [10]\u001b[0m, in \u001b[0;36m<cell line: 1>\u001b[0;34m()\u001b[0m\n\u001b[0;32m----> 1\u001b[0m \u001b[43ma\u001b[49m\u001b[38;5;241;43m+\u001b[39;49m\u001b[38;5;124;43m\"\u001b[39;49m\u001b[38;5;124;43mThis\u001b[39;49m\u001b[38;5;124;43m\"\u001b[39;49m\n",
      "\u001b[0;31mTypeError\u001b[0m: unsupported operand type(s) for +: 'NoneType' and 'str'"
     ]
    }
   ],
   "source": [
    "a+\"This\""
   ]
  },
  {
   "cell_type": "code",
   "execution_count": 11,
   "id": "fd08fb09-3132-4ade-816f-bf83e931bcfb",
   "metadata": {},
   "outputs": [
    {
     "ename": "NameError",
     "evalue": "name 'type1' is not defined",
     "output_type": "error",
     "traceback": [
      "\u001b[0;31m---------------------------------------------------------------------------\u001b[0m",
      "\u001b[0;31mNameError\u001b[0m                                 Traceback (most recent call last)",
      "Input \u001b[0;32mIn [11]\u001b[0m, in \u001b[0;36m<cell line: 1>\u001b[0;34m()\u001b[0m\n\u001b[0;32m----> 1\u001b[0m \u001b[43mtype1\u001b[49m()\u001b[38;5;241m+\u001b[39m\u001b[38;5;124m\"\u001b[39m\u001b[38;5;124mKrish\u001b[39m\u001b[38;5;124m\"\u001b[39m\n",
      "\u001b[0;31mNameError\u001b[0m: name 'type1' is not defined"
     ]
    }
   ],
   "source": [
    "type1()+\"Krish\""
   ]
  },
  {
   "cell_type": "code",
   "execution_count": 12,
   "id": "3f457cae-8cd1-40ff-a869-d6bdc245bcbd",
   "metadata": {},
   "outputs": [
    {
     "data": {
      "text/plain": [
       "'Vamsi Krish'"
      ]
     },
     "execution_count": 12,
     "metadata": {},
     "output_type": "execute_result"
    }
   ],
   "source": [
    "\"Vamsi \"+\"Krish\""
   ]
  },
  {
   "cell_type": "code",
   "execution_count": 13,
   "id": "76cc1c22-b80d-45f0-becb-92b4adc2fcfa",
   "metadata": {},
   "outputs": [
    {
     "name": "stdout",
     "output_type": "stream",
     "text": [
      "This is my first fun\n"
     ]
    },
    {
     "data": {
      "text/plain": [
       "NoneType"
      ]
     },
     "execution_count": 13,
     "metadata": {},
     "output_type": "execute_result"
    }
   ],
   "source": [
    "type(test1())"
   ]
  },
  {
   "cell_type": "code",
   "execution_count": 14,
   "id": "3b402fe9-dc54-417e-b8e5-4c91c2e6571a",
   "metadata": {},
   "outputs": [
    {
     "name": "stdout",
     "output_type": "stream",
     "text": [
      "This is my first fun\n"
     ]
    }
   ],
   "source": [
    "a=test1()"
   ]
  },
  {
   "cell_type": "code",
   "execution_count": 15,
   "id": "4b14c8e9-069b-4a4c-a6fc-5a3064bce5e8",
   "metadata": {},
   "outputs": [],
   "source": [
    "a"
   ]
  },
  {
   "cell_type": "code",
   "execution_count": 16,
   "id": "66a6929f-be27-4bfe-87eb-8a5125e1a86c",
   "metadata": {},
   "outputs": [
    {
     "data": {
      "text/plain": [
       "'None'"
      ]
     },
     "execution_count": 16,
     "metadata": {},
     "output_type": "execute_result"
    }
   ],
   "source": [
    "str(a)"
   ]
  },
  {
   "cell_type": "code",
   "execution_count": 17,
   "id": "4ffe9064-0631-4158-b64a-e3f4cd658fda",
   "metadata": {},
   "outputs": [],
   "source": [
    "def test2():\n",
    "    return \"this is my 2nd sun\""
   ]
  },
  {
   "cell_type": "code",
   "execution_count": 18,
   "id": "d7747723-7c2c-4b03-ad60-0150d4b52220",
   "metadata": {},
   "outputs": [],
   "source": [
    "a=test2()"
   ]
  },
  {
   "cell_type": "code",
   "execution_count": 19,
   "id": "d895cdf5-e8b3-4e32-99b5-7e7168d0bd71",
   "metadata": {},
   "outputs": [
    {
     "data": {
      "text/plain": [
       "str"
      ]
     },
     "execution_count": 19,
     "metadata": {},
     "output_type": "execute_result"
    }
   ],
   "source": [
    "type(a)"
   ]
  },
  {
   "cell_type": "code",
   "execution_count": 20,
   "id": "749635e7-9cba-4f53-9652-5d75451dceca",
   "metadata": {},
   "outputs": [
    {
     "data": {
      "text/plain": [
       "'this is my 2nd sun Fun*'"
      ]
     },
     "execution_count": 20,
     "metadata": {},
     "output_type": "execute_result"
    }
   ],
   "source": [
    "a+\" Fun*\""
   ]
  },
  {
   "cell_type": "code",
   "execution_count": 21,
   "id": "1669e0ee-f1ba-4510-88b8-b56ed781c479",
   "metadata": {},
   "outputs": [],
   "source": [
    "def test3():\n",
    "    return 342235"
   ]
  },
  {
   "cell_type": "code",
   "execution_count": 22,
   "id": "4395626f-45ab-4b4e-bfa2-b80cd3083fab",
   "metadata": {},
   "outputs": [
    {
     "data": {
      "text/plain": [
       "342235"
      ]
     },
     "execution_count": 22,
     "metadata": {},
     "output_type": "execute_result"
    }
   ],
   "source": [
    "test3()"
   ]
  },
  {
   "cell_type": "code",
   "execution_count": 23,
   "id": "700b00ae-d969-42f0-83c7-35edf6ad25f0",
   "metadata": {},
   "outputs": [
    {
     "data": {
      "text/plain": [
       "int"
      ]
     },
     "execution_count": 23,
     "metadata": {},
     "output_type": "execute_result"
    }
   ],
   "source": [
    "type(test3())"
   ]
  },
  {
   "cell_type": "code",
   "execution_count": 24,
   "id": "486a89b7-ca82-4f98-9aa3-8822460467b9",
   "metadata": {},
   "outputs": [],
   "source": [
    "def test4():\n",
    "    return 4,2,\"krish\",[23,34,\"s\",\"sdfsa\",230]"
   ]
  },
  {
   "cell_type": "code",
   "execution_count": 25,
   "id": "7ddd652e-8d23-41c1-ae79-2a00d076ef71",
   "metadata": {},
   "outputs": [
    {
     "data": {
      "text/plain": [
       "(4, 2, 'krish', [23, 34, 's', 'sdfsa', 230])"
      ]
     },
     "execution_count": 25,
     "metadata": {},
     "output_type": "execute_result"
    }
   ],
   "source": [
    "test4()"
   ]
  },
  {
   "cell_type": "code",
   "execution_count": 26,
   "id": "7d4d4dba-5fc6-4c8f-994d-870008b3ce6e",
   "metadata": {},
   "outputs": [
    {
     "data": {
      "text/plain": [
       "tuple"
      ]
     },
     "execution_count": 26,
     "metadata": {},
     "output_type": "execute_result"
    }
   ],
   "source": [
    "type(test4())"
   ]
  },
  {
   "cell_type": "code",
   "execution_count": 27,
   "id": "6420f642-e7c9-40b3-a0c4-8d59688c19f4",
   "metadata": {},
   "outputs": [],
   "source": [
    "b=test4()"
   ]
  },
  {
   "cell_type": "code",
   "execution_count": 28,
   "id": "c366caa0-fe8b-46c3-bd57-c292a54448f7",
   "metadata": {},
   "outputs": [
    {
     "data": {
      "text/plain": [
       "(4, 2, 'krish', [23, 34, 's', 'sdfsa', 230])"
      ]
     },
     "execution_count": 28,
     "metadata": {},
     "output_type": "execute_result"
    }
   ],
   "source": [
    "b"
   ]
  },
  {
   "cell_type": "code",
   "execution_count": 29,
   "id": "724201bf-bd64-409e-9a01-dc3a4c047a81",
   "metadata": {},
   "outputs": [
    {
     "data": {
      "text/plain": [
       "2"
      ]
     },
     "execution_count": 29,
     "metadata": {},
     "output_type": "execute_result"
    }
   ],
   "source": [
    "b[1]"
   ]
  },
  {
   "cell_type": "code",
   "execution_count": 30,
   "id": "32fea9e2-4827-4ae4-a491-3d5a5ba45acd",
   "metadata": {},
   "outputs": [
    {
     "data": {
      "text/plain": [
       "[23, 34, 's', 'sdfsa', 230]"
      ]
     },
     "execution_count": 30,
     "metadata": {},
     "output_type": "execute_result"
    }
   ],
   "source": [
    "b[-1]"
   ]
  },
  {
   "cell_type": "code",
   "execution_count": 31,
   "id": "735cf57f-95b6-48a0-9f2d-ce5b1c5540cf",
   "metadata": {},
   "outputs": [],
   "source": [
    "a,b,c,d=test4()"
   ]
  },
  {
   "cell_type": "code",
   "execution_count": 32,
   "id": "c3333eeb-b199-4666-ad98-366378eafb3e",
   "metadata": {},
   "outputs": [
    {
     "data": {
      "text/plain": [
       "4"
      ]
     },
     "execution_count": 32,
     "metadata": {},
     "output_type": "execute_result"
    }
   ],
   "source": [
    "a"
   ]
  },
  {
   "cell_type": "code",
   "execution_count": 33,
   "id": "b22d6908-b429-449d-a748-2c4a2313a8f9",
   "metadata": {},
   "outputs": [
    {
     "data": {
      "text/plain": [
       "[23, 34, 's', 'sdfsa', 230]"
      ]
     },
     "execution_count": 33,
     "metadata": {},
     "output_type": "execute_result"
    }
   ],
   "source": [
    "d"
   ]
  },
  {
   "cell_type": "code",
   "execution_count": 34,
   "id": "c5fe36fb-6ea7-45f3-89d0-639be81742ec",
   "metadata": {},
   "outputs": [],
   "source": [
    "x,y,u,g=test4()"
   ]
  },
  {
   "cell_type": "code",
   "execution_count": 35,
   "id": "b0009c44-49ea-4db4-9dfa-c87bea5578ae",
   "metadata": {},
   "outputs": [
    {
     "name": "stdout",
     "output_type": "stream",
     "text": [
      "4 2 krish [23, 34, 's', 'sdfsa', 230]\n"
     ]
    }
   ],
   "source": [
    "print(x,y,u,g)"
   ]
  },
  {
   "cell_type": "code",
   "execution_count": 36,
   "id": "20fe3257-25c1-40a0-992a-eb828254da50",
   "metadata": {},
   "outputs": [],
   "source": [
    "def test5():\n",
    "    a=6*7/6\n",
    "    return a;"
   ]
  },
  {
   "cell_type": "code",
   "execution_count": 37,
   "id": "b9e01a98-7b40-4ee8-a9d1-dc7b79f161e2",
   "metadata": {},
   "outputs": [
    {
     "data": {
      "text/plain": [
       "7.0"
      ]
     },
     "execution_count": 37,
     "metadata": {},
     "output_type": "execute_result"
    }
   ],
   "source": [
    "test5()"
   ]
  },
  {
   "cell_type": "code",
   "execution_count": 39,
   "id": "f7ee7e39-8380-46e4-9a4a-6c7f7607025f",
   "metadata": {},
   "outputs": [
    {
     "data": {
      "text/plain": [
       "1.0"
      ]
     },
     "execution_count": 39,
     "metadata": {},
     "output_type": "execute_result"
    }
   ],
   "source": [
    "test5()%3"
   ]
  },
  {
   "cell_type": "code",
   "execution_count": 40,
   "id": "8bbf794b-065a-4879-b6e8-c73b8d3576f7",
   "metadata": {},
   "outputs": [
    {
     "data": {
      "text/plain": [
       "9"
      ]
     },
     "execution_count": 40,
     "metadata": {},
     "output_type": "execute_result"
    }
   ],
   "source": [
    "len(\"Sidhartha\")"
   ]
  },
  {
   "cell_type": "code",
   "execution_count": 48,
   "id": "c6e52a2e-c675-4a8d-8208-560c6194aef4",
   "metadata": {},
   "outputs": [],
   "source": [
    "def test6(l):\n",
    "    l1=[]\n",
    "    if type(l)!=list:\n",
    "        return l1\n",
    "    for i in l:\n",
    "        if type(i)==int:\n",
    "            l1.append(i)\n",
    "    return l1"
   ]
  },
  {
   "cell_type": "code",
   "execution_count": 49,
   "id": "f0bf4bb8-e4fa-4db8-a4f4-4172f1a3535f",
   "metadata": {},
   "outputs": [],
   "source": [
    "l=[3,5,2,\"djf\",\"sdkfsd\",4535.4,4+109j,\"sdfs\"]"
   ]
  },
  {
   "cell_type": "code",
   "execution_count": 50,
   "id": "14ad3e69-4d73-46fc-9fa3-a542eb365e71",
   "metadata": {},
   "outputs": [
    {
     "data": {
      "text/plain": [
       "[3, 5, 2]"
      ]
     },
     "execution_count": 50,
     "metadata": {},
     "output_type": "execute_result"
    }
   ],
   "source": [
    "test6(l)"
   ]
  },
  {
   "cell_type": "code",
   "execution_count": 52,
   "id": "5a717e7b-1219-47d6-a081-de80433f2fca",
   "metadata": {},
   "outputs": [
    {
     "data": {
      "text/plain": [
       "list"
      ]
     },
     "execution_count": 52,
     "metadata": {},
     "output_type": "execute_result"
    }
   ],
   "source": [
    "type(test6(l))"
   ]
  },
  {
   "cell_type": "code",
   "execution_count": 51,
   "id": "6c40307b-a1e9-4cfb-a98a-769aa49bdcce",
   "metadata": {},
   "outputs": [
    {
     "ename": "TypeError",
     "evalue": "len() takes exactly one argument (0 given)",
     "output_type": "error",
     "traceback": [
      "\u001b[0;31m---------------------------------------------------------------------------\u001b[0m",
      "\u001b[0;31mTypeError\u001b[0m                                 Traceback (most recent call last)",
      "Input \u001b[0;32mIn [51]\u001b[0m, in \u001b[0;36m<cell line: 1>\u001b[0;34m()\u001b[0m\n\u001b[0;32m----> 1\u001b[0m \u001b[38;5;28;43mlen\u001b[39;49m\u001b[43m(\u001b[49m\u001b[43m)\u001b[49m\n",
      "\u001b[0;31mTypeError\u001b[0m: len() takes exactly one argument (0 given)"
     ]
    }
   ],
   "source": [
    "len()"
   ]
  },
  {
   "cell_type": "code",
   "execution_count": 53,
   "id": "ed39ee11-4790-44d8-a422-6979a8a4d6e6",
   "metadata": {},
   "outputs": [
    {
     "data": {
      "text/plain": [
       "[]"
      ]
     },
     "execution_count": 53,
     "metadata": {},
     "output_type": "execute_result"
    }
   ],
   "source": [
    "test6(32)"
   ]
  },
  {
   "cell_type": "code",
   "execution_count": 54,
   "id": "b3bf4126-d159-46b6-b1d2-cfe83c4a075b",
   "metadata": {},
   "outputs": [
    {
     "data": {
      "text/plain": [
       "[2332, 84]"
      ]
     },
     "execution_count": 54,
     "metadata": {},
     "output_type": "execute_result"
    }
   ],
   "source": [
    "test6([2332,84,\"fhsdf\",[\"asds\",324,452,12,\"daf\"]])"
   ]
  },
  {
   "cell_type": "code",
   "execution_count": 65,
   "id": "5ca08227-a9c3-4eca-ba63-279bbe5cf20c",
   "metadata": {},
   "outputs": [],
   "source": [
    "def test7(d):\n",
    "    if type(d)==dict:\n",
    "        return d.keys()\n",
    "    else:\n",
    "        return \" Pass a dict object not a \",type(d),\" object\"\n",
    "        "
   ]
  },
  {
   "cell_type": "code",
   "execution_count": 66,
   "id": "93437895-f0c1-4739-b458-8fdbb8d4e609",
   "metadata": {},
   "outputs": [
    {
     "data": {
      "text/plain": [
       "(' Pass a dict object not a ', str, ' object')"
      ]
     },
     "execution_count": 66,
     "metadata": {},
     "output_type": "execute_result"
    }
   ],
   "source": [
    "test7(\"sidh\")"
   ]
  },
  {
   "cell_type": "code",
   "execution_count": 67,
   "id": "0473d1c9-02ef-4499-b9f5-3b39ac71d230",
   "metadata": {},
   "outputs": [
    {
     "data": {
      "text/plain": [
       "dict_keys([4, 'a', 'cass'])"
      ]
     },
     "execution_count": 67,
     "metadata": {},
     "output_type": "execute_result"
    }
   ],
   "source": [
    "a={4:\"sidh\",'a':2342,\"cass\":\"sidhharth\"}\n",
    "test7(a)"
   ]
  },
  {
   "cell_type": "code",
   "execution_count": 80,
   "id": "180398d2-7aff-4b9a-964a-ae329de211e9",
   "metadata": {},
   "outputs": [],
   "source": [
    "def test8(a,b):\n",
    "    if type(a) ==list and type(b)==list:\n",
    "        a.extend(b)\n",
    "        return a\n",
    "    else:\n",
    "        return \"either of your data is not a list\""
   ]
  },
  {
   "cell_type": "code",
   "execution_count": 81,
   "id": "2f3b0c94-713a-481b-a17b-a7ebd4708d9e",
   "metadata": {},
   "outputs": [
    {
     "ename": "TypeError",
     "evalue": "test8() missing 1 required positional argument: 'b'",
     "output_type": "error",
     "traceback": [
      "\u001b[0;31m---------------------------------------------------------------------------\u001b[0m",
      "\u001b[0;31mTypeError\u001b[0m                                 Traceback (most recent call last)",
      "Input \u001b[0;32mIn [81]\u001b[0m, in \u001b[0;36m<cell line: 1>\u001b[0;34m()\u001b[0m\n\u001b[0;32m----> 1\u001b[0m \u001b[43mtest8\u001b[49m\u001b[43m(\u001b[49m\u001b[38;5;241;43m34234\u001b[39;49m\u001b[43m)\u001b[49m\n",
      "\u001b[0;31mTypeError\u001b[0m: test8() missing 1 required positional argument: 'b'"
     ]
    }
   ],
   "source": [
    "test8(34234)"
   ]
  },
  {
   "cell_type": "code",
   "execution_count": 82,
   "id": "8d3b340d-b8f2-4176-8faa-b9336b62ce26",
   "metadata": {},
   "outputs": [
    {
     "data": {
      "text/plain": [
       "'either of your data is not a list'"
      ]
     },
     "execution_count": 82,
     "metadata": {},
     "output_type": "execute_result"
    }
   ],
   "source": [
    "test8(\"asid\",234)"
   ]
  },
  {
   "cell_type": "code",
   "execution_count": 83,
   "id": "bf312cf2-3c68-4757-a166-9e911d2123e0",
   "metadata": {},
   "outputs": [],
   "source": [
    "n=test8([324,34,342,\"sidh\"],[234,\"sjd\",948,8])"
   ]
  },
  {
   "cell_type": "code",
   "execution_count": 84,
   "id": "90ab35ce-9977-4eff-afc7-a5dd982e2f72",
   "metadata": {},
   "outputs": [
    {
     "data": {
      "text/plain": [
       "[324, 34, 342, 'sidh', 234, 'sjd', 948, 8]"
      ]
     },
     "execution_count": 84,
     "metadata": {},
     "output_type": "execute_result"
    }
   ],
   "source": [
    "n"
   ]
  },
  {
   "cell_type": "code",
   "execution_count": 85,
   "id": "eac8049d-422e-4ccd-a441-ee98f1ce3f2e",
   "metadata": {},
   "outputs": [],
   "source": [
    "a=[324,34,342,\"sidh\"]\n",
    "b=[234,\"sjd\",948,8]"
   ]
  },
  {
   "cell_type": "code",
   "execution_count": 86,
   "id": "7b61a474-16cd-4d9f-b655-59ee174eeece",
   "metadata": {},
   "outputs": [
    {
     "data": {
      "text/plain": [
       "[324, 34, 342, 'sidh', 234, 'sjd', 948, 8]"
      ]
     },
     "execution_count": 86,
     "metadata": {},
     "output_type": "execute_result"
    }
   ],
   "source": [
    "test8(a,b)"
   ]
  },
  {
   "cell_type": "code",
   "execution_count": 87,
   "id": "ad8ec13e-fe83-4220-b9c7-eaa3c482d193",
   "metadata": {},
   "outputs": [
    {
     "data": {
      "text/plain": [
       "[324, 34, 342, 'sidh', 234, 'sjd', 948, 8]"
      ]
     },
     "execution_count": 87,
     "metadata": {},
     "output_type": "execute_result"
    }
   ],
   "source": [
    "a"
   ]
  },
  {
   "cell_type": "code",
   "execution_count": 110,
   "id": "71b78483-555e-4a07-9c09-b68248a50216",
   "metadata": {},
   "outputs": [],
   "source": [
    "def test10(m):\n",
    "    \"\"\"THIS IS A FUNC THAT HELPS TO CREATE A TRINAGLE WITH NO OF ROWS\n",
    "    for ex: for input of 2 gives\n",
    "    *\n",
    "    * *\n",
    "    \"\"\"\n",
    "    if type(m)!=int:\n",
    "        return\"Please pass the integers\"\n",
    "    for i in range(m):\n",
    "        for j in range(i+1):\n",
    "            print('* ',end=\"\")\n",
    "        print('\\r')\n",
    "    "
   ]
  },
  {
   "cell_type": "code",
   "execution_count": 111,
   "id": "a74d0483-8aab-42a0-a6c9-7f32318439ab",
   "metadata": {},
   "outputs": [
    {
     "name": "stdout",
     "output_type": "stream",
     "text": [
      "* \n",
      "* * \n"
     ]
    }
   ],
   "source": [
    "test10(2)"
   ]
  },
  {
   "cell_type": "code",
   "execution_count": 112,
   "id": "b8e54d5b-4750-4643-b8b8-ca5770e70afa",
   "metadata": {},
   "outputs": [
    {
     "name": "stdout",
     "output_type": "stream",
     "text": [
      "* \n",
      "* * \n",
      "* * * \n",
      "* * * * \n",
      "* * * * * \n",
      "* * * * * * \n",
      "* * * * * * * \n"
     ]
    }
   ],
   "source": [
    "test10(7)"
   ]
  },
  {
   "cell_type": "code",
   "execution_count": 113,
   "id": "29271c8c-36c0-452a-9644-9e675e9f08fa",
   "metadata": {},
   "outputs": [
    {
     "name": "stdout",
     "output_type": "stream",
     "text": [
      "Help on function test10 in module __main__:\n",
      "\n",
      "test10(m)\n",
      "    THIS IS A FUNC THAT HELPS TO CREATE A TRINAGLE WITH NO OF ROWS\n",
      "    for ex: for input of 2 gives\n",
      "    *\n",
      "    * *\n",
      "\n"
     ]
    }
   ],
   "source": [
    "help(test10)"
   ]
  },
  {
   "cell_type": "code",
   "execution_count": 114,
   "id": "1426f03c-fe7f-48f0-8f69-d8ef1ce3c68b",
   "metadata": {},
   "outputs": [],
   "source": [
    "#sshfh fdsa fdshf ijksdahfkh"
   ]
  },
  {
   "cell_type": "code",
   "execution_count": 115,
   "id": "d4a7f9b0-1dc7-4032-8c46-714b1c21ccc5",
   "metadata": {},
   "outputs": [
    {
     "data": {
      "text/plain": [
       "'fsdaf\\n\\nfsdfjjf\\ndsnfakjds\\nsfjsf'"
      ]
     },
     "execution_count": 115,
     "metadata": {},
     "output_type": "execute_result"
    }
   ],
   "source": [
    "\"\"\"fsdaf\n",
    "\n",
    "fsdfjjf\n",
    "dsnfakjds\n",
    "sfjsf\"\"\""
   ]
  },
  {
   "cell_type": "code",
   "execution_count": 1,
   "id": "9c54939a-7d26-47dc-a2aa-498b0ee0d878",
   "metadata": {},
   "outputs": [],
   "source": [
    "#print always returns nonetype"
   ]
  },
  {
   "cell_type": "raw",
   "id": "6b83f339-7fc5-4d22-a293-6b9ee742cfbf",
   "metadata": {},
   "source": [
    "1. Fn which will take string and return a len of it without using a inbuilt fun len\n",
    "2. Fn which will be able to print an index of all primitive element which you will pass(list)\n",
    "3. Fn which will take a input as a dictionary and give me output as a list of all the values even in case of 2 level testing should work\n",
    "4. Fn to take other fn as input and return me an output\n",
    "5. Fn which will take list as a input and give me concatnation of all the elements as and output\n",
    "6. Fn which will take list as an input  and return an index of each element like a inbuilt index function but even if we have repetative element it should return index\n",
    "7. Fn which will return list of all the file names from a directory.\n",
    "8. Fn which will show your system configuration\n",
    "9. Fn which will show date and time\n",
    "10. Fn which will be able to read a image file and show it to you\n",
    "11. Fn which can read video file and play for you\n",
    "12. Fn which can move file from one dir to other dir\n",
    "13. Fn which will shutdown your system\n",
    "14. Fn which will be able to access your maul\n",
    "15. Fn which which can send a mail to anyonw\n",
    "16. FN to read a complete pdf file.\n",
    "17. Fn to read a word file\n",
    "18. Fn which can help you to filter only word file from a dir\n",
    "19. Fn which can print ip address of your system\n",
    "20. Fn which will be able to append 2 pdf files."
   ]
  },
  {
   "cell_type": "code",
   "execution_count": null,
   "id": "e6f1090e-9a49-48fa-987a-3f71a34f3fd7",
   "metadata": {},
   "outputs": [],
   "source": []
  }
 ],
 "metadata": {
  "kernelspec": {
   "display_name": "Python 3 (ipykernel)",
   "language": "python",
   "name": "python3"
  },
  "language_info": {
   "codemirror_mode": {
    "name": "ipython",
    "version": 3
   },
   "file_extension": ".py",
   "mimetype": "text/x-python",
   "name": "python",
   "nbconvert_exporter": "python",
   "pygments_lexer": "ipython3",
   "version": "3.9.12"
  }
 },
 "nbformat": 4,
 "nbformat_minor": 5
}
