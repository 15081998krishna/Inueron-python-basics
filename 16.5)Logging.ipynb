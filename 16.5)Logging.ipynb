{
 "cells": [
  {
   "cell_type": "code",
   "execution_count": 1,
   "id": "40ea4c18",
   "metadata": {},
   "outputs": [
    {
     "data": {
      "text/plain": [
       "'C:\\\\Users\\\\vamsi.k\\\\Python\\\\INEURON'"
      ]
     },
     "execution_count": 1,
     "metadata": {},
     "output_type": "execute_result"
    }
   ],
   "source": [
    "pwd()"
   ]
  },
  {
   "cell_type": "code",
   "execution_count": 2,
   "id": "8a48e789",
   "metadata": {},
   "outputs": [],
   "source": [
    "import logging"
   ]
  },
  {
   "cell_type": "code",
   "execution_count": 3,
   "id": "08aa5fa1",
   "metadata": {},
   "outputs": [],
   "source": [
    "logging.basicConfig(filename=\"test2.log\", level= logging.INFO, format=\"%(asctime)s;%(levelname)s;%(message)s\")"
   ]
  },
  {
   "cell_type": "code",
   "execution_count": 4,
   "id": "58a20ff9",
   "metadata": {},
   "outputs": [],
   "source": [
    "logging.info(\"this is my log info\")\n",
    "logging.warning(\"this is my warning log\")\n",
    "logging.error(\"this is my error log\")"
   ]
  },
  {
   "cell_type": "code",
   "execution_count": 4,
   "id": "33aba33f",
   "metadata": {},
   "outputs": [],
   "source": [
    "logging.shutdown()"
   ]
  },
  {
   "cell_type": "code",
   "execution_count": 4,
   "id": "efe6a72a",
   "metadata": {},
   "outputs": [],
   "source": [
    "logging.info(\"This is my info log\")\n",
    "logging.warning(\"This is my warning log\")\n",
    "logging.debug(\"this is my debug log\")\n",
    "logging.error(\"this is my error log\")"
   ]
  },
  {
   "cell_type": "raw",
   "id": "3ddbc15e",
   "metadata": {},
   "source": [
    "DEBUG\n",
    "INFO\n",
    "WARNING\n",
    "ERROR"
   ]
  },
  {
   "cell_type": "code",
   "execution_count": 2,
   "id": "f5707923",
   "metadata": {},
   "outputs": [],
   "source": [
    "import logging"
   ]
  },
  {
   "cell_type": "code",
   "execution_count": 5,
   "id": "5a116da9",
   "metadata": {},
   "outputs": [],
   "source": [
    "logging.basicConfig(filename='test3.log', level=logging.DEBUG,format=\"%(asctime)s:%(levelname)s:%(message)s\")"
   ]
  },
  {
   "cell_type": "code",
   "execution_count": 14,
   "id": "e3c0f27e",
   "metadata": {},
   "outputs": [],
   "source": [
    "def divbyzero(a,b):\n",
    "    logging.info(\"this is a start of my code and I am trying to enter %s and %s \",a,b)\n",
    "    try:\n",
    "        div=a/b\n",
    "        logging.info(\"executed successfully\")\n",
    "    except Exception as e:\n",
    "        logging.error(\"error has happened\")\n",
    "        logging.exception(\"Exception has occured\" +str(e))"
   ]
  },
  {
   "cell_type": "code",
   "execution_count": 15,
   "id": "a5809b31",
   "metadata": {},
   "outputs": [],
   "source": [
    "divbyzero(5,2)"
   ]
  },
  {
   "cell_type": "code",
   "execution_count": 16,
   "id": "dbafd16a",
   "metadata": {},
   "outputs": [],
   "source": [
    "divbyzero(5,0)"
   ]
  },
  {
   "cell_type": "code",
   "execution_count": null,
   "id": "870adbf5",
   "metadata": {},
   "outputs": [],
   "source": []
  }
 ],
 "metadata": {
  "kernelspec": {
   "display_name": "Python 3 (ipykernel)",
   "language": "python",
   "name": "python3"
  },
  "language_info": {
   "codemirror_mode": {
    "name": "ipython",
    "version": 3
   },
   "file_extension": ".py",
   "mimetype": "text/x-python",
   "name": "python",
   "nbconvert_exporter": "python",
   "pygments_lexer": "ipython3",
   "version": "3.9.12"
  }
 },
 "nbformat": 4,
 "nbformat_minor": 5
}
