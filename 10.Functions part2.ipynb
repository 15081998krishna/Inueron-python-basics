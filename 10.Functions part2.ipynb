{
 "cells": [
  {
   "cell_type": "code",
   "execution_count": 1,
   "id": "0b491326-e3ac-42b1-a131-a09d3eaac0fa",
   "metadata": {},
   "outputs": [],
   "source": [
    "#Create a func that takes multiple inputs"
   ]
  },
  {
   "cell_type": "code",
   "execution_count": 2,
   "id": "352b2943-9136-41ae-9cc5-2237042e8ce2",
   "metadata": {},
   "outputs": [],
   "source": [
    "def test(a,b,c,d,e):\n",
    "    return a,b,c,d,e"
   ]
  },
  {
   "cell_type": "code",
   "execution_count": 3,
   "id": "206b4934-4d9a-4c4f-b8dc-1f6eb5688815",
   "metadata": {},
   "outputs": [
    {
     "data": {
      "text/plain": [
       "(23, 2343, 23, 324, 23)"
      ]
     },
     "execution_count": 3,
     "metadata": {},
     "output_type": "execute_result"
    }
   ],
   "source": [
    "test(23,2343,23,324,23)"
   ]
  },
  {
   "cell_type": "code",
   "execution_count": 4,
   "id": "57295b1a-6add-4bb5-b742-5c51af4056a2",
   "metadata": {},
   "outputs": [],
   "source": [
    "def test1(*args):\n",
    "    return args"
   ]
  },
  {
   "cell_type": "code",
   "execution_count": 6,
   "id": "d6e27e72-2823-412f-a369-019fb80d1591",
   "metadata": {},
   "outputs": [
    {
     "data": {
      "text/plain": [
       "(123, 23, 12)"
      ]
     },
     "execution_count": 6,
     "metadata": {},
     "output_type": "execute_result"
    }
   ],
   "source": [
    "test1(123,23,12)"
   ]
  },
  {
   "cell_type": "code",
   "execution_count": 7,
   "id": "9ac46c8a-aa9d-4083-8ac5-546ea774e75e",
   "metadata": {},
   "outputs": [
    {
     "data": {
      "text/plain": [
       "('dddfa', (23, 43, 'dsd'), True, (3+6j))"
      ]
     },
     "execution_count": 7,
     "metadata": {},
     "output_type": "execute_result"
    }
   ],
   "source": [
    "test1(\"dddfa\",(23,43,\"dsd\"),True,3+6j)"
   ]
  },
  {
   "cell_type": "code",
   "execution_count": 8,
   "id": "7ccc492f-8596-446c-a439-6360ef67bdfb",
   "metadata": {},
   "outputs": [],
   "source": [
    "def test2(*krish):\n",
    "    return krish"
   ]
  },
  {
   "cell_type": "code",
   "execution_count": 9,
   "id": "86a3207b-62ad-439e-bf21-6cdea6524649",
   "metadata": {},
   "outputs": [
    {
     "data": {
      "text/plain": [
       "(23, 34, 'dssf')"
      ]
     },
     "execution_count": 9,
     "metadata": {},
     "output_type": "execute_result"
    }
   ],
   "source": [
    "test2(23,34,\"dssf\")"
   ]
  },
  {
   "cell_type": "code",
   "execution_count": 10,
   "id": "a39ad1e5-343d-4bd1-b780-3704b367a882",
   "metadata": {},
   "outputs": [],
   "source": [
    "def test3(*kris,a):\n",
    "    return kris,a"
   ]
  },
  {
   "cell_type": "code",
   "execution_count": 11,
   "id": "fa07ac6c-f551-44cd-bb11-3727310572b4",
   "metadata": {},
   "outputs": [
    {
     "ename": "TypeError",
     "evalue": "test3() missing 1 required keyword-only argument: 'a'",
     "output_type": "error",
     "traceback": [
      "\u001b[0;31m---------------------------------------------------------------------------\u001b[0m",
      "\u001b[0;31mTypeError\u001b[0m                                 Traceback (most recent call last)",
      "Input \u001b[0;32mIn [11]\u001b[0m, in \u001b[0;36m<cell line: 1>\u001b[0;34m()\u001b[0m\n\u001b[0;32m----> 1\u001b[0m \u001b[43mtest3\u001b[49m\u001b[43m(\u001b[49m\u001b[38;5;241;43m23\u001b[39;49m\u001b[43m,\u001b[49m\u001b[38;5;241;43m34\u001b[39;49m\u001b[43m,\u001b[49m\u001b[38;5;241;43m25\u001b[39;49m\u001b[43m,\u001b[49m\u001b[38;5;124;43m\"\u001b[39;49m\u001b[38;5;124;43mda\u001b[39;49m\u001b[38;5;124;43m\"\u001b[39;49m\u001b[43m)\u001b[49m\n",
      "\u001b[0;31mTypeError\u001b[0m: test3() missing 1 required keyword-only argument: 'a'"
     ]
    }
   ],
   "source": [
    "test3(23,34,25,\"da\")"
   ]
  },
  {
   "cell_type": "code",
   "execution_count": 14,
   "id": "8af52402-8bff-4e97-baf4-b50a698635a2",
   "metadata": {},
   "outputs": [
    {
     "data": {
      "text/plain": [
       "((23, 34), 25)"
      ]
     },
     "execution_count": 14,
     "metadata": {},
     "output_type": "execute_result"
    }
   ],
   "source": [
    "test3(23,34,a=25)"
   ]
  },
  {
   "cell_type": "code",
   "execution_count": 15,
   "id": "d22bacd8-9dc6-41c2-a714-fc5ebcf74174",
   "metadata": {},
   "outputs": [],
   "source": [
    "def test4(*kris,a,f,s,d):\n",
    "    return kris,a,f,s,d"
   ]
  },
  {
   "cell_type": "code",
   "execution_count": 17,
   "id": "49270782-b5c4-40a5-b559-64138c9e8628",
   "metadata": {},
   "outputs": [
    {
     "data": {
      "text/plain": [
       "((23, 3, 34132), 'dajsf', 23, 231, 13)"
      ]
     },
     "execution_count": 17,
     "metadata": {},
     "output_type": "execute_result"
    }
   ],
   "source": [
    "test4(23,3,34132,a=\"dajsf\",f=23,s=231,d=13)"
   ]
  },
  {
   "cell_type": "code",
   "execution_count": 18,
   "id": "fb307f52-984b-41b0-bf8a-0af02f17ad1b",
   "metadata": {},
   "outputs": [],
   "source": [
    "def test3(a,*kris):\n",
    "    return kris,a"
   ]
  },
  {
   "cell_type": "code",
   "execution_count": 20,
   "id": "f027135c-484d-4277-91b0-b8558a984054",
   "metadata": {},
   "outputs": [
    {
     "ename": "TypeError",
     "evalue": "test3() got multiple values for argument 'a'",
     "output_type": "error",
     "traceback": [
      "\u001b[0;31m---------------------------------------------------------------------------\u001b[0m",
      "\u001b[0;31mTypeError\u001b[0m                                 Traceback (most recent call last)",
      "Input \u001b[0;32mIn [20]\u001b[0m, in \u001b[0;36m<cell line: 1>\u001b[0;34m()\u001b[0m\n\u001b[0;32m----> 1\u001b[0m \u001b[43mtest3\u001b[49m\u001b[43m(\u001b[49m\u001b[38;5;124;43m\"\u001b[39;49m\u001b[38;5;124;43mfdsd\u001b[39;49m\u001b[38;5;124;43m\"\u001b[39;49m\u001b[43m,\u001b[49m\u001b[38;5;241;43m24\u001b[39;49m\u001b[43m,\u001b[49m\u001b[38;5;241;43m24\u001b[39;49m\u001b[43m,\u001b[49m\u001b[38;5;124;43m\"\u001b[39;49m\u001b[38;5;124;43msfsd\u001b[39;49m\u001b[38;5;124;43m\"\u001b[39;49m\u001b[43m,\u001b[49m\u001b[43ma\u001b[49m\u001b[38;5;241;43m=\u001b[39;49m\u001b[38;5;124;43m\"\u001b[39;49m\u001b[38;5;124;43mdsfs\u001b[39;49m\u001b[38;5;124;43m\"\u001b[39;49m\u001b[43m)\u001b[49m\n",
      "\u001b[0;31mTypeError\u001b[0m: test3() got multiple values for argument 'a'"
     ]
    }
   ],
   "source": [
    "test3(\"fdsd\",24,24,\"sfsd\",a=\"dsfs\")"
   ]
  },
  {
   "cell_type": "code",
   "execution_count": 21,
   "id": "e23b22ae-d720-4efc-b5d7-a6c5f5450f82",
   "metadata": {},
   "outputs": [
    {
     "data": {
      "text/plain": [
       "((24, 24, 'sfsd'), 'fdsd')"
      ]
     },
     "execution_count": 21,
     "metadata": {},
     "output_type": "execute_result"
    }
   ],
   "source": [
    "test3(\"fdsd\",24,24,\"sfsd\")"
   ]
  },
  {
   "cell_type": "code",
   "execution_count": 22,
   "id": "901b119f-5c43-4d0a-9e13-85a7d565dda3",
   "metadata": {},
   "outputs": [
    {
     "ename": "SyntaxError",
     "evalue": "positional argument follows keyword argument (3762878877.py, line 1)",
     "output_type": "error",
     "traceback": [
      "\u001b[0;36m  Input \u001b[0;32mIn [22]\u001b[0;36m\u001b[0m\n\u001b[0;31m    test3(a=\"fdsd\",24,24,\"sfsd\")\u001b[0m\n\u001b[0m                               ^\u001b[0m\n\u001b[0;31mSyntaxError\u001b[0m\u001b[0;31m:\u001b[0m positional argument follows keyword argument\n"
     ]
    }
   ],
   "source": [
    "test3(a=\"fdsd\",24,24,\"sfsd\")"
   ]
  },
  {
   "cell_type": "code",
   "execution_count": 1,
   "id": "66ed0cf3-4420-43b3-87db-e8ee706e31b0",
   "metadata": {},
   "outputs": [],
   "source": [
    "def test5(a,*kris,b,c):\n",
    "    return a,kris,b,c"
   ]
  },
  {
   "cell_type": "code",
   "execution_count": 3,
   "id": "77ea4653-4017-42f3-ac97-f1673076028f",
   "metadata": {},
   "outputs": [
    {
     "ename": "TypeError",
     "evalue": "test5() missing 2 required keyword-only arguments: 'b' and 'c'",
     "output_type": "error",
     "traceback": [
      "\u001b[0;31m---------------------------------------------------------------------------\u001b[0m",
      "\u001b[0;31mTypeError\u001b[0m                                 Traceback (most recent call last)",
      "Input \u001b[0;32mIn [3]\u001b[0m, in \u001b[0;36m<cell line: 1>\u001b[0;34m()\u001b[0m\n\u001b[0;32m----> 1\u001b[0m \u001b[43mtest5\u001b[49m\u001b[43m(\u001b[49m\u001b[38;5;124;43m\"\u001b[39;49m\u001b[38;5;124;43msaaf\u001b[39;49m\u001b[38;5;124;43m\"\u001b[39;49m\u001b[43m,\u001b[49m\u001b[38;5;241;43m23\u001b[39;49m\u001b[43m,\u001b[49m\u001b[38;5;241;43m44\u001b[39;49m\u001b[43m,\u001b[49m\u001b[38;5;241;43m234\u001b[39;49m\u001b[43m,\u001b[49m\u001b[38;5;241;43m2343\u001b[39;49m\u001b[43m,\u001b[49m\u001b[38;5;241;43m34\u001b[39;49m\u001b[43m)\u001b[49m\n",
      "\u001b[0;31mTypeError\u001b[0m: test5() missing 2 required keyword-only arguments: 'b' and 'c'"
     ]
    }
   ],
   "source": [
    "test5(\"saaf\",23,44,234,2343,34)"
   ]
  },
  {
   "cell_type": "code",
   "execution_count": 6,
   "id": "f4fa207f-640f-4106-95a6-fd6bc78cf22b",
   "metadata": {},
   "outputs": [
    {
     "data": {
      "text/plain": [
       "('saaf', (23, 44, 234), 34, 2343)"
      ]
     },
     "execution_count": 6,
     "metadata": {},
     "output_type": "execute_result"
    }
   ],
   "source": [
    "test5(\"saaf\",23,44,234,c=2343,b=34)"
   ]
  },
  {
   "cell_type": "code",
   "execution_count": 7,
   "id": "1d76bcb8-8ad2-40aa-8066-cc96b4436d88",
   "metadata": {},
   "outputs": [],
   "source": [
    "# create a func to accept anything , retun only list part"
   ]
  },
  {
   "cell_type": "code",
   "execution_count": 14,
   "id": "fb5de568-86a5-4682-b0fa-5c633881888f",
   "metadata": {},
   "outputs": [],
   "source": [
    "def test6(*kris):\n",
    "    l=[]\n",
    "    for i in kris:\n",
    "        if type(i)==list:\n",
    "            l.append(i)\n",
    "    return l"
   ]
  },
  {
   "cell_type": "code",
   "execution_count": 15,
   "id": "850f78dc-c8a3-4dba-82a2-343bb882f024",
   "metadata": {},
   "outputs": [
    {
     "data": {
      "text/plain": [
       "[[24, 'mfjdsfh', 342, 'fjsd']]"
      ]
     },
     "execution_count": 15,
     "metadata": {},
     "output_type": "execute_result"
    }
   ],
   "source": [
    "test6(33,54,34,[24,\"mfjdsfh\",342,\"fjsd\"],343.34)"
   ]
  },
  {
   "cell_type": "code",
   "execution_count": 16,
   "id": "b4f7bcbb-e04c-4e3d-a884-54dc2525c429",
   "metadata": {},
   "outputs": [
    {
     "data": {
      "text/plain": [
       "[[24, 'mfjdsfh', 342, 'fjsd'], [343.34, 543, 'sfd']]"
      ]
     },
     "execution_count": 16,
     "metadata": {},
     "output_type": "execute_result"
    }
   ],
   "source": [
    "test6(33,54,34,[24,\"mfjdsfh\",342,\"fjsd\"],[343.34,543,\"sfd\"],343,32)"
   ]
  },
  {
   "cell_type": "code",
   "execution_count": 18,
   "id": "83d882f2-2ec2-4d8f-a35c-b7b65bf19370",
   "metadata": {},
   "outputs": [],
   "source": [
    "d={'a':[3,43,3,324,32],'b':[34,4,234,2]}"
   ]
  },
  {
   "cell_type": "code",
   "execution_count": 19,
   "id": "a5fb714c-006b-4d6f-9c4d-21614e6c96d1",
   "metadata": {},
   "outputs": [
    {
     "data": {
      "text/plain": [
       "[3, 43, 3, 324, 32]"
      ]
     },
     "execution_count": 19,
     "metadata": {},
     "output_type": "execute_result"
    }
   ],
   "source": [
    "d['a']"
   ]
  },
  {
   "cell_type": "code",
   "execution_count": 21,
   "id": "5e2a367c-977d-493d-a603-9c96a569cc76",
   "metadata": {},
   "outputs": [],
   "source": [
    "def test7(**kwargs):\n",
    "    return kwargs"
   ]
  },
  {
   "cell_type": "code",
   "execution_count": 22,
   "id": "1cad305d-3c1a-451f-8542-6239d591e72e",
   "metadata": {},
   "outputs": [
    {
     "ename": "TypeError",
     "evalue": "test7() takes 0 positional arguments but 6 were given",
     "output_type": "error",
     "traceback": [
      "\u001b[0;31m---------------------------------------------------------------------------\u001b[0m",
      "\u001b[0;31mTypeError\u001b[0m                                 Traceback (most recent call last)",
      "Input \u001b[0;32mIn [22]\u001b[0m, in \u001b[0;36m<cell line: 1>\u001b[0;34m()\u001b[0m\n\u001b[0;32m----> 1\u001b[0m \u001b[43mtest7\u001b[49m\u001b[43m(\u001b[49m\u001b[38;5;241;43m32\u001b[39;49m\u001b[43m,\u001b[49m\u001b[38;5;241;43m34\u001b[39;49m\u001b[43m,\u001b[49m\u001b[38;5;241;43m24\u001b[39;49m\u001b[43m,\u001b[49m\u001b[38;5;241;43m33\u001b[39;49m\u001b[43m,\u001b[49m\u001b[38;5;124;43m\"\u001b[39;49m\u001b[38;5;124;43m:dfds\u001b[39;49m\u001b[38;5;124;43m\"\u001b[39;49m\u001b[43m,\u001b[49m\u001b[38;5;124;43m\"\u001b[39;49m\u001b[38;5;124;43mdfssd\u001b[39;49m\u001b[38;5;124;43m\"\u001b[39;49m\u001b[43m)\u001b[49m\n",
      "\u001b[0;31mTypeError\u001b[0m: test7() takes 0 positional arguments but 6 were given"
     ]
    }
   ],
   "source": [
    "test7(32,34,24,33,\":dfds\",\"dfssd\")"
   ]
  },
  {
   "cell_type": "code",
   "execution_count": 32,
   "id": "0e46746f-1f1d-4b79-9c73-e899b8fe2cef",
   "metadata": {},
   "outputs": [
    {
     "data": {
      "text/plain": [
       "{'a': 'a', 'b': [23, 234, 23]}"
      ]
     },
     "execution_count": 32,
     "metadata": {},
     "output_type": "execute_result"
    }
   ],
   "source": [
    "test7(a='a',b=[23,234,23])"
   ]
  },
  {
   "cell_type": "code",
   "execution_count": 30,
   "id": "1ee78397-ef4d-47fe-870a-bccef805051a",
   "metadata": {},
   "outputs": [
    {
     "data": {
      "text/plain": [
       "{'a': 'shantharam'}"
      ]
     },
     "execution_count": 30,
     "metadata": {},
     "output_type": "execute_result"
    }
   ],
   "source": [
    "test7(a=\"shantharam\")"
   ]
  },
  {
   "cell_type": "code",
   "execution_count": 33,
   "id": "a5045da7-9ca6-4c96-8a81-060527519cca",
   "metadata": {},
   "outputs": [],
   "source": [
    "def test8(**kris):\n",
    "    return kris"
   ]
  },
  {
   "cell_type": "code",
   "execution_count": 34,
   "id": "94e01dc6-6826-4038-ac21-83afdaa6a0a4",
   "metadata": {},
   "outputs": [
    {
     "data": {
      "text/plain": [
       "{'a': 23, 'asd': 'fhdf', 'hfhs': 'shakira', 'f': 843.4}"
      ]
     },
     "execution_count": 34,
     "metadata": {},
     "output_type": "execute_result"
    }
   ],
   "source": [
    "test8(a=23,asd=\"fhdf\",hfhs=\"shakira\",f=843.4)"
   ]
  },
  {
   "cell_type": "code",
   "execution_count": 35,
   "id": "79df35fe-599f-469a-aed9-84e24ec307b4",
   "metadata": {},
   "outputs": [],
   "source": [
    "def test9(**kris):\n",
    "    return kris"
   ]
  },
  {
   "cell_type": "code",
   "execution_count": 36,
   "id": "4bfab7ca-9fdb-427a-b356-5a9cf3710f10",
   "metadata": {},
   "outputs": [
    {
     "data": {
      "text/plain": [
       "{}"
      ]
     },
     "execution_count": 36,
     "metadata": {},
     "output_type": "execute_result"
    }
   ],
   "source": [
    "test9()"
   ]
  },
  {
   "cell_type": "code",
   "execution_count": 37,
   "id": "62398d7e-fbd0-401b-b699-70b4b1995a24",
   "metadata": {},
   "outputs": [
    {
     "data": {
      "text/plain": [
       "{'name': 'krish', 'age': 25, 'ph_no': '234234323', 'mail_id': 'shfs@gmail.com'}"
      ]
     },
     "execution_count": 37,
     "metadata": {},
     "output_type": "execute_result"
    }
   ],
   "source": [
    "test9(name=\"krish\",age=25,ph_no=\"234234323\",mail_id=\"shfs@gmail.com\")"
   ]
  },
  {
   "cell_type": "code",
   "execution_count": 38,
   "id": "b67ccd49-72d9-4670-91ea-a79b249b74ea",
   "metadata": {},
   "outputs": [],
   "source": [
    "def test10(a,**kris):\n",
    "    return kris,a"
   ]
  },
  {
   "cell_type": "code",
   "execution_count": 41,
   "id": "6596faa7-ce3b-4434-81d2-9914b3dbbc52",
   "metadata": {},
   "outputs": [
    {
     "data": {
      "text/plain": [
       "({'t': 234, 'b': 'sfsa', 'c': 'sand', 'd': 34.4}, 34)"
      ]
     },
     "execution_count": 41,
     "metadata": {},
     "output_type": "execute_result"
    }
   ],
   "source": [
    "test10(34,t=234,b=\"sfsa\",c=\"sand\",d=34.4)"
   ]
  },
  {
   "cell_type": "code",
   "execution_count": 42,
   "id": "166ffc16-620a-4267-82d0-d670a3831965",
   "metadata": {},
   "outputs": [
    {
     "ename": "SyntaxError",
     "evalue": "invalid syntax (3929980731.py, line 1)",
     "output_type": "error",
     "traceback": [
      "\u001b[0;36m  Input \u001b[0;32mIn [42]\u001b[0;36m\u001b[0m\n\u001b[0;31m    def test11(a,**kris,*args):\u001b[0m\n\u001b[0m                        ^\u001b[0m\n\u001b[0;31mSyntaxError\u001b[0m\u001b[0;31m:\u001b[0m invalid syntax\n"
     ]
    }
   ],
   "source": [
    "def test11(a,**kris,*args):\n",
    "    return kris,a,args\n",
    "    "
   ]
  },
  {
   "cell_type": "code",
   "execution_count": 54,
   "id": "7da2a30b-df1a-4649-af1e-96a9815878bf",
   "metadata": {},
   "outputs": [],
   "source": [
    "def test12(a,*args,**kwargs):\n",
    "    return a,args,kwargs"
   ]
  },
  {
   "cell_type": "code",
   "execution_count": 55,
   "id": "e8bd63aa-f0cf-41a8-af1f-6a484e9de254",
   "metadata": {},
   "outputs": [
    {
     "data": {
      "text/plain": [
       "(123, (23, 23, 3), {'dfd': 'dhf', 'df': 31437.23})"
      ]
     },
     "execution_count": 55,
     "metadata": {},
     "output_type": "execute_result"
    }
   ],
   "source": [
    "test12(123,23,23,3,dfd=\"dhf\",df=31437.23)"
   ]
  },
  {
   "cell_type": "markdown",
   "id": "eb98a228-9978-4a79-ab54-be6ca4d95c48",
   "metadata": {},
   "source": [
    "One-Liner Function: Lambda Func"
   ]
  },
  {
   "cell_type": "code",
   "execution_count": 56,
   "id": "2541fe85-3012-44bf-b1df-95bd5c3534d7",
   "metadata": {},
   "outputs": [],
   "source": [
    "def test13(a,b):\n",
    "    return a*b"
   ]
  },
  {
   "cell_type": "code",
   "execution_count": 57,
   "id": "5a79b969-c98f-4226-bd7a-2164d65c3faf",
   "metadata": {},
   "outputs": [
    {
     "data": {
      "text/plain": [
       "1166.88"
      ]
     },
     "execution_count": 57,
     "metadata": {},
     "output_type": "execute_result"
    }
   ],
   "source": [
    "test13(34,34.32)"
   ]
  },
  {
   "cell_type": "code",
   "execution_count": 75,
   "id": "1d5b7709-8a26-4f1d-b0a8-b8f75f444fa7",
   "metadata": {},
   "outputs": [],
   "source": [
    "c=lambda a,b:(a*b,a+b)"
   ]
  },
  {
   "cell_type": "code",
   "execution_count": 76,
   "id": "69316944-5256-47d0-ac80-6a6088e08f50",
   "metadata": {},
   "outputs": [
    {
     "data": {
      "text/plain": [
       "(1156, 68)"
      ]
     },
     "execution_count": 76,
     "metadata": {},
     "output_type": "execute_result"
    }
   ],
   "source": [
    "c(34,34)"
   ]
  },
  {
   "cell_type": "code",
   "execution_count": 70,
   "id": "db819a2b-f875-4e58-8353-48d0107d4b52",
   "metadata": {},
   "outputs": [],
   "source": [
    "b=lambda *a:a"
   ]
  },
  {
   "cell_type": "code",
   "execution_count": 71,
   "id": "e131fffc-6eaf-489f-b16a-bae609760e96",
   "metadata": {},
   "outputs": [
    {
     "data": {
      "text/plain": [
       "(3242, 34, 23, 'ad')"
      ]
     },
     "execution_count": 71,
     "metadata": {},
     "output_type": "execute_result"
    }
   ],
   "source": [
    "b(3242,34,23,\"ad\")"
   ]
  },
  {
   "cell_type": "code",
   "execution_count": 73,
   "id": "d1761fd0-a3f2-46d0-83cd-e01b21617b66",
   "metadata": {},
   "outputs": [
    {
     "ename": "SyntaxError",
     "evalue": "invalid syntax (1368892786.py, line 1)",
     "output_type": "error",
     "traceback": [
      "\u001b[0;36m  Input \u001b[0;32mIn [73]\u001b[0;36m\u001b[0m\n\u001b[0;31m    x= lambda y:(for i in y:print(i))\u001b[0m\n\u001b[0m                 ^\u001b[0m\n\u001b[0;31mSyntaxError\u001b[0m\u001b[0;31m:\u001b[0m invalid syntax\n"
     ]
    }
   ],
   "source": [
    "x= lambda y:(for i in y:print(i))"
   ]
  },
  {
   "cell_type": "code",
   "execution_count": 83,
   "id": "90fa842b-2e84-4b33-bd05-3cb0e29346c8",
   "metadata": {},
   "outputs": [],
   "source": [
    "x= lambda x:[i for i in x]"
   ]
  },
  {
   "cell_type": "code",
   "execution_count": 84,
   "id": "daf10f7b-dce8-4d7a-a548-7528214ca556",
   "metadata": {},
   "outputs": [
    {
     "data": {
      "text/plain": [
       "[234.324, 131, 3]"
      ]
     },
     "execution_count": 84,
     "metadata": {},
     "output_type": "execute_result"
    }
   ],
   "source": [
    "x([234.324,131,3])"
   ]
  },
  {
   "cell_type": "code",
   "execution_count": 85,
   "id": "c34cc375-8bb4-4a44-a880-0f307393779f",
   "metadata": {},
   "outputs": [],
   "source": [
    "l=[2,32,2,23,34534,89.3]"
   ]
  },
  {
   "cell_type": "code",
   "execution_count": 86,
   "id": "7f41ddf7-1440-4921-944f-c114437edba2",
   "metadata": {},
   "outputs": [],
   "source": [
    "l1=[]\n",
    "for i in l:\n",
    "    l1.append(i)"
   ]
  },
  {
   "cell_type": "code",
   "execution_count": 87,
   "id": "6a907f43-4656-4edf-9df3-3766268e6bc2",
   "metadata": {},
   "outputs": [
    {
     "data": {
      "text/plain": [
       "[2, 32, 2, 23, 34534, 89.3]"
      ]
     },
     "execution_count": 87,
     "metadata": {},
     "output_type": "execute_result"
    }
   ],
   "source": [
    "l1"
   ]
  },
  {
   "cell_type": "code",
   "execution_count": 88,
   "id": "a16de6c5-d6d3-4211-b9ca-9b90dd7910d6",
   "metadata": {},
   "outputs": [
    {
     "data": {
      "text/plain": [
       "[2, 32, 2, 23, 34534, 89.3]"
      ]
     },
     "execution_count": 88,
     "metadata": {},
     "output_type": "execute_result"
    }
   ],
   "source": [
    "[i for i in l]"
   ]
  },
  {
   "cell_type": "code",
   "execution_count": 92,
   "id": "36a330a3-8148-4570-96e4-193d6a6db566",
   "metadata": {},
   "outputs": [
    {
     "name": "stdout",
     "output_type": "stream",
     "text": [
      "<generator object <genexpr> at 0x7fccc3f7c5f0>\n"
     ]
    }
   ],
   "source": [
    "k=(i for i in l)\n",
    "print(k)"
   ]
  },
  {
   "cell_type": "code",
   "execution_count": 90,
   "id": "08680d84-dcba-48f9-8034-ecf9dd3c4ba2",
   "metadata": {},
   "outputs": [
    {
     "data": {
      "text/plain": [
       "{2, 23, 32, 89.3, 34534}"
      ]
     },
     "execution_count": 90,
     "metadata": {},
     "output_type": "execute_result"
    }
   ],
   "source": [
    "{i for i in l}"
   ]
  },
  {
   "cell_type": "code",
   "execution_count": 93,
   "id": "17d03e01-c6be-40f3-90f0-e5cb1e111e13",
   "metadata": {},
   "outputs": [],
   "source": [
    "a=lambda **kwargs:kwargs"
   ]
  },
  {
   "cell_type": "code",
   "execution_count": 94,
   "id": "6c4fb519-1bca-44e2-8b0d-37e39f8e35b0",
   "metadata": {},
   "outputs": [
    {
     "data": {
      "text/plain": [
       "{'a': 'hf', 'b': 324}"
      ]
     },
     "execution_count": 94,
     "metadata": {},
     "output_type": "execute_result"
    }
   ],
   "source": [
    "a(a=\"hf\",b=324)"
   ]
  },
  {
   "cell_type": "code",
   "execution_count": 109,
   "id": "5ca1ee10-4cbb-4250-ab17-b3473223fe23",
   "metadata": {},
   "outputs": [],
   "source": [
    "c=10\n",
    "#global variable\n",
    "def test16(c,d):\n",
    "    c=5\n",
    "    #local variable\n",
    "    return c*d"
   ]
  },
  {
   "cell_type": "code",
   "execution_count": 110,
   "id": "74e4f5ec-0c7f-4d09-9320-7f6df8fc5927",
   "metadata": {},
   "outputs": [
    {
     "data": {
      "text/plain": [
       "10"
      ]
     },
     "execution_count": 110,
     "metadata": {},
     "output_type": "execute_result"
    }
   ],
   "source": [
    "test16(c,2)"
   ]
  },
  {
   "cell_type": "code",
   "execution_count": 111,
   "id": "19eef931-bef5-4c39-960c-662114ce0fd7",
   "metadata": {},
   "outputs": [
    {
     "data": {
      "text/plain": [
       "10"
      ]
     },
     "execution_count": 111,
     "metadata": {},
     "output_type": "execute_result"
    }
   ],
   "source": [
    "c"
   ]
  },
  {
   "cell_type": "code",
   "execution_count": 112,
   "id": "cf05b90d-0342-4a95-af3d-eba76413827b",
   "metadata": {},
   "outputs": [],
   "source": [
    "l=[2,34,2,4234,35,3,534,54,643,9]"
   ]
  },
  {
   "cell_type": "code",
   "execution_count": 114,
   "id": "064b57fd-f1d4-414a-b1fb-3c14556234d4",
   "metadata": {},
   "outputs": [],
   "source": [
    "l1=[]\n",
    "for i in l:\n",
    "    l1.append(i+2)"
   ]
  },
  {
   "cell_type": "code",
   "execution_count": 115,
   "id": "2e9aef20-9072-44f6-9823-2a91a560c9e3",
   "metadata": {},
   "outputs": [
    {
     "data": {
      "text/plain": [
       "[4, 36, 4, 4236, 37, 5, 536, 56, 645, 11]"
      ]
     },
     "execution_count": 115,
     "metadata": {},
     "output_type": "execute_result"
    }
   ],
   "source": [
    "l1"
   ]
  },
  {
   "cell_type": "markdown",
   "id": "a22afe79-427d-4eee-b716-a538a5f31650",
   "metadata": {},
   "source": [
    "#List comprehension"
   ]
  },
  {
   "cell_type": "code",
   "execution_count": 117,
   "id": "d64b7e5f-27e2-4f0b-9d5b-79b01c3e64ed",
   "metadata": {},
   "outputs": [],
   "source": [
    "def test17(l):\n",
    "    l1=[]\n",
    "    for i in l:\n",
    "        l1.append(i+2)\n",
    "    return l1"
   ]
  },
  {
   "cell_type": "code",
   "execution_count": 119,
   "id": "6865da63-f71e-4077-b305-1dac79c284b9",
   "metadata": {},
   "outputs": [
    {
     "data": {
      "text/plain": [
       "[6, 38, 6, 4238, 39, 7, 538, 58, 647, 13]"
      ]
     },
     "execution_count": 119,
     "metadata": {},
     "output_type": "execute_result"
    }
   ],
   "source": [
    "test17(l1)"
   ]
  },
  {
   "cell_type": "code",
   "execution_count": 121,
   "id": "f9354f73-1781-428f-81d2-3c0f60c34862",
   "metadata": {},
   "outputs": [],
   "source": [
    "a=lambda a:[i+2 for i in a ]"
   ]
  },
  {
   "cell_type": "code",
   "execution_count": 122,
   "id": "8b284835-534f-4907-bd36-da48110d5674",
   "metadata": {},
   "outputs": [
    {
     "data": {
      "text/plain": [
       "[6, 38, 6, 4238, 39, 7, 538, 58, 647, 13]"
      ]
     },
     "execution_count": 122,
     "metadata": {},
     "output_type": "execute_result"
    }
   ],
   "source": [
    "a(l1)"
   ]
  },
  {
   "cell_type": "code",
   "execution_count": 123,
   "id": "277d5441-8056-47d8-ba23-c25a0048034e",
   "metadata": {},
   "outputs": [
    {
     "data": {
      "text/plain": [
       "[7, 39, 7, 4239, 40, 8, 539, 59, 648, 14]"
      ]
     },
     "execution_count": 123,
     "metadata": {},
     "output_type": "execute_result"
    }
   ],
   "source": [
    "[i+3 for i in l1]"
   ]
  },
  {
   "cell_type": "code",
   "execution_count": 125,
   "id": "5c206815-9962-4ac7-aa09-2bfd3746dc5e",
   "metadata": {},
   "outputs": [
    {
     "data": {
      "text/plain": [
       "[(6, 16),\n",
       " (38, 1296),\n",
       " (6, 16),\n",
       " (4238, 17943696),\n",
       " (39, 1369),\n",
       " (7, 25),\n",
       " (538, 287296),\n",
       " (58, 3136),\n",
       " (647, 416025),\n",
       " (13, 121)]"
      ]
     },
     "execution_count": 125,
     "metadata": {},
     "output_type": "execute_result"
    }
   ],
   "source": [
    "[(i+2, i**2) for i in l1]"
   ]
  },
  {
   "cell_type": "code",
   "execution_count": 136,
   "id": "e07eff4b-719d-4bf6-a47a-9bc9168ab2b0",
   "metadata": {},
   "outputs": [
    {
     "data": {
      "text/plain": [
       "[{36, 1156}, {37, 1225}, {56, 2916}]"
      ]
     },
     "execution_count": 136,
     "metadata": {},
     "output_type": "execute_result"
    }
   ],
   "source": [
    "[{i+2, i**2} for i in l if i<100 and i>20]"
   ]
  },
  {
   "cell_type": "code",
   "execution_count": 137,
   "id": "aef9ebde-fb6f-491b-b9ae-2607ac866fb9",
   "metadata": {},
   "outputs": [
    {
     "data": {
      "text/plain": [
       "[2, 34, 2, 4234, 35, 3, 534, 54, 643, 9]"
      ]
     },
     "execution_count": 137,
     "metadata": {},
     "output_type": "execute_result"
    }
   ],
   "source": [
    "l"
   ]
  },
  {
   "cell_type": "code",
   "execution_count": 138,
   "id": "a1c04196-4f21-4e72-ab67-468c9a81a4e6",
   "metadata": {},
   "outputs": [],
   "source": [
    "l1=[]\n",
    "for i in l:\n",
    "    if i<100:\n",
    "        l1.append((i**2,i+3))"
   ]
  },
  {
   "cell_type": "code",
   "execution_count": 135,
   "id": "def1ae7a-6754-491e-bb33-e68efd0c2aaf",
   "metadata": {},
   "outputs": [
    {
     "data": {
      "text/plain": [
       "[(4, 5), (1156, 37), (4, 5), (1225, 38), (9, 6), (2916, 57), (81, 12)]"
      ]
     },
     "execution_count": 135,
     "metadata": {},
     "output_type": "execute_result"
    }
   ],
   "source": [
    "l1"
   ]
  },
  {
   "cell_type": "code",
   "execution_count": 139,
   "id": "4a2232b8-7cd7-4b2d-9cb8-a01eb182a787",
   "metadata": {},
   "outputs": [],
   "source": [
    "d={1:1,2:4,3:9}"
   ]
  },
  {
   "cell_type": "code",
   "execution_count": 140,
   "id": "0ad9aa43-6fbc-4b3d-b693-7e17f8a6dd5c",
   "metadata": {},
   "outputs": [
    {
     "data": {
      "text/plain": [
       "{0: 0, 1: 1, 2: 4, 3: 9, 4: 16, 5: 25, 6: 36, 7: 49, 8: 64, 9: 81}"
      ]
     },
     "execution_count": 140,
     "metadata": {},
     "output_type": "execute_result"
    }
   ],
   "source": [
    "{i:i**2for i in range(10)}"
   ]
  },
  {
   "cell_type": "code",
   "execution_count": 143,
   "id": "e41458ca-0cc6-4c61-8bae-3fb0dd1213a9",
   "metadata": {},
   "outputs": [],
   "source": [
    "d1={}\n",
    "for i in range(1,11):\n",
    "    d1[i]=i**2"
   ]
  },
  {
   "cell_type": "code",
   "execution_count": 144,
   "id": "573061fb-414d-4a39-8943-7e14bd329b3a",
   "metadata": {},
   "outputs": [
    {
     "data": {
      "text/plain": [
       "{1: 1, 2: 4, 3: 9, 4: 16, 5: 25, 6: 36, 7: 49, 8: 64, 9: 81, 10: 100}"
      ]
     },
     "execution_count": 144,
     "metadata": {},
     "output_type": "execute_result"
    }
   ],
   "source": [
    "d1"
   ]
  },
  {
   "cell_type": "code",
   "execution_count": 147,
   "id": "a1f692c7-9e3b-4fb1-969f-d79631670ad8",
   "metadata": {},
   "outputs": [
    {
     "data": {
      "text/plain": [
       "<generator object <genexpr> at 0x7fccc3f862e0>"
      ]
     },
     "execution_count": 147,
     "metadata": {},
     "output_type": "execute_result"
    }
   ],
   "source": [
    "(i for i in range(10))"
   ]
  },
  {
   "cell_type": "code",
   "execution_count": 148,
   "id": "7d37db03-d1df-4af9-acb4-d9e8c0c043d9",
   "metadata": {},
   "outputs": [
    {
     "data": {
      "text/plain": [
       "(0, 1, 2, 3, 4, 5, 6, 7, 8, 9)"
      ]
     },
     "execution_count": 148,
     "metadata": {},
     "output_type": "execute_result"
    }
   ],
   "source": [
    "tuple(i for i in range(10))"
   ]
  },
  {
   "cell_type": "markdown",
   "id": "221a6323-060b-4ae4-b3a5-9ba94cb8e807",
   "metadata": {},
   "source": [
    "# Iterator & Generator"
   ]
  },
  {
   "cell_type": "code",
   "execution_count": 149,
   "id": "0a477cc7-65a4-49ab-8eb2-08c818126fb2",
   "metadata": {},
   "outputs": [
    {
     "ename": "TypeError",
     "evalue": "'int' object is not iterable",
     "output_type": "error",
     "traceback": [
      "\u001b[0;31m---------------------------------------------------------------------------\u001b[0m",
      "\u001b[0;31mTypeError\u001b[0m                                 Traceback (most recent call last)",
      "Input \u001b[0;32mIn [149]\u001b[0m, in \u001b[0;36m<cell line: 2>\u001b[0;34m()\u001b[0m\n\u001b[1;32m      1\u001b[0m a\u001b[38;5;241m=\u001b[39m\u001b[38;5;241m56\u001b[39m\n\u001b[0;32m----> 2\u001b[0m \u001b[38;5;28;01mfor\u001b[39;00m i \u001b[38;5;129;01min\u001b[39;00m a:\n\u001b[1;32m      3\u001b[0m     \u001b[38;5;28mprint\u001b[39m(i)\n",
      "\u001b[0;31mTypeError\u001b[0m: 'int' object is not iterable"
     ]
    }
   ],
   "source": [
    "a=56\n",
    "for i in a:\n",
    "    print(i)"
   ]
  },
  {
   "cell_type": "code",
   "execution_count": 152,
   "id": "498883c9-6f88-4e26-9425-ff26854c2f11",
   "metadata": {},
   "outputs": [
    {
     "name": "stdout",
     "output_type": "stream",
     "text": [
      "K r i s h n a "
     ]
    }
   ],
   "source": [
    "k=\"Krishna\"\n",
    "for i in k:\n",
    "    print(i,end=\" \")"
   ]
  },
  {
   "cell_type": "code",
   "execution_count": 154,
   "id": "ca18255b-5963-4531-98ad-39566557256f",
   "metadata": {},
   "outputs": [
    {
     "ename": "TypeError",
     "evalue": "'str' object is not an iterator",
     "output_type": "error",
     "traceback": [
      "\u001b[0;31m---------------------------------------------------------------------------\u001b[0m",
      "\u001b[0;31mTypeError\u001b[0m                                 Traceback (most recent call last)",
      "Input \u001b[0;32mIn [154]\u001b[0m, in \u001b[0;36m<cell line: 1>\u001b[0;34m()\u001b[0m\n\u001b[0;32m----> 1\u001b[0m \u001b[38;5;28;43mnext\u001b[39;49m\u001b[43m(\u001b[49m\u001b[43mk\u001b[49m\u001b[43m)\u001b[49m\n",
      "\u001b[0;31mTypeError\u001b[0m: 'str' object is not an iterator"
     ]
    }
   ],
   "source": [
    "next(k)"
   ]
  },
  {
   "cell_type": "code",
   "execution_count": 155,
   "id": "19fe52fd-02ec-4117-9947-7d3f5875e114",
   "metadata": {},
   "outputs": [],
   "source": [
    "#string is an iterable object\n",
    "#string is not an iterator"
   ]
  },
  {
   "cell_type": "code",
   "execution_count": 156,
   "id": "ae5c6da1-d746-4813-8437-85bd8d959e7d",
   "metadata": {},
   "outputs": [],
   "source": [
    "#if an object is holding values by indices and able to access them using indices it is called iterable"
   ]
  },
  {
   "cell_type": "code",
   "execution_count": 157,
   "id": "4ddffe13-f1e4-4659-a24e-194a8f634813",
   "metadata": {},
   "outputs": [],
   "source": [
    "b=iter(k)"
   ]
  },
  {
   "cell_type": "code",
   "execution_count": 158,
   "id": "f3feef54-d7cc-47b8-ad03-6c57c269f917",
   "metadata": {},
   "outputs": [
    {
     "data": {
      "text/plain": [
       "<str_iterator at 0x7fcce810a3a0>"
      ]
     },
     "execution_count": 158,
     "metadata": {},
     "output_type": "execute_result"
    }
   ],
   "source": [
    "b"
   ]
  },
  {
   "cell_type": "code",
   "execution_count": 159,
   "id": "7033ad43-66c5-44db-902b-4564ffa78881",
   "metadata": {},
   "outputs": [
    {
     "data": {
      "text/plain": [
       "'K'"
      ]
     },
     "execution_count": 159,
     "metadata": {},
     "output_type": "execute_result"
    }
   ],
   "source": [
    "next(b)"
   ]
  },
  {
   "cell_type": "code",
   "execution_count": 162,
   "id": "b9c1264a-028f-4168-be45-e7a3f507d6b6",
   "metadata": {},
   "outputs": [
    {
     "data": {
      "text/plain": [
       "'s'"
      ]
     },
     "execution_count": 162,
     "metadata": {},
     "output_type": "execute_result"
    }
   ],
   "source": [
    "next(b)"
   ]
  },
  {
   "cell_type": "code",
   "execution_count": 166,
   "id": "60147b18-6495-446e-a057-a09ae13a264c",
   "metadata": {},
   "outputs": [
    {
     "ename": "StopIteration",
     "evalue": "",
     "output_type": "error",
     "traceback": [
      "\u001b[0;31m---------------------------------------------------------------------------\u001b[0m",
      "\u001b[0;31mStopIteration\u001b[0m                             Traceback (most recent call last)",
      "Input \u001b[0;32mIn [166]\u001b[0m, in \u001b[0;36m<cell line: 1>\u001b[0;34m()\u001b[0m\n\u001b[0;32m----> 1\u001b[0m \u001b[38;5;28;43mnext\u001b[39;49m\u001b[43m(\u001b[49m\u001b[43mb\u001b[49m\u001b[43m)\u001b[49m\n",
      "\u001b[0;31mStopIteration\u001b[0m: "
     ]
    }
   ],
   "source": [
    "next(b)"
   ]
  },
  {
   "cell_type": "code",
   "execution_count": 167,
   "id": "e909de9b-80a6-4671-8dba-0ee4b2d07872",
   "metadata": {},
   "outputs": [
    {
     "name": "stdout",
     "output_type": "stream",
     "text": [
      "h d j h 4 2 "
     ]
    }
   ],
   "source": [
    "s=\"hdjh42\"\n",
    "for i in s:\n",
    "    print(i,end=\" \")"
   ]
  },
  {
   "cell_type": "code",
   "execution_count": 168,
   "id": "20ee33c5-07bd-4090-8a75-e2936ee1c95b",
   "metadata": {},
   "outputs": [
    {
     "data": {
      "text/plain": [
       "'h'"
      ]
     },
     "execution_count": 168,
     "metadata": {},
     "output_type": "execute_result"
    }
   ],
   "source": [
    "s=iter(s)\n",
    "next(s)"
   ]
  },
  {
   "cell_type": "code",
   "execution_count": 169,
   "id": "102cd10d-b117-4d5d-aab5-c70832ae4fda",
   "metadata": {},
   "outputs": [
    {
     "data": {
      "text/plain": [
       "'d'"
      ]
     },
     "execution_count": 169,
     "metadata": {},
     "output_type": "execute_result"
    }
   ],
   "source": [
    "next(s)"
   ]
  },
  {
   "cell_type": "code",
   "execution_count": 170,
   "id": "2dad6492-50ec-4ace-a13c-d34aa9d8c3be",
   "metadata": {},
   "outputs": [
    {
     "data": {
      "text/plain": [
       "'j'"
      ]
     },
     "execution_count": 170,
     "metadata": {},
     "output_type": "execute_result"
    }
   ],
   "source": [
    "next(s)"
   ]
  },
  {
   "cell_type": "code",
   "execution_count": 171,
   "id": "1519422e-3897-4370-bb90-8038664ca4fa",
   "metadata": {},
   "outputs": [
    {
     "data": {
      "text/plain": [
       "'h'"
      ]
     },
     "execution_count": 171,
     "metadata": {},
     "output_type": "execute_result"
    }
   ],
   "source": [
    "next(s)"
   ]
  },
  {
   "cell_type": "code",
   "execution_count": 172,
   "id": "e212171b-1b48-4cd0-a397-164530abb244",
   "metadata": {},
   "outputs": [
    {
     "data": {
      "text/plain": [
       "'4'"
      ]
     },
     "execution_count": 172,
     "metadata": {},
     "output_type": "execute_result"
    }
   ],
   "source": [
    "next(s)"
   ]
  },
  {
   "cell_type": "code",
   "execution_count": 173,
   "id": "e5b20f0c-5169-4ce1-8f19-edffd5febf65",
   "metadata": {},
   "outputs": [
    {
     "data": {
      "text/plain": [
       "'2'"
      ]
     },
     "execution_count": 173,
     "metadata": {},
     "output_type": "execute_result"
    }
   ],
   "source": [
    "next(s)"
   ]
  },
  {
   "cell_type": "code",
   "execution_count": 174,
   "id": "77394dc3-22f9-4cb8-9d1a-3e4a58aa0cc7",
   "metadata": {},
   "outputs": [
    {
     "ename": "StopIteration",
     "evalue": "",
     "output_type": "error",
     "traceback": [
      "\u001b[0;31m---------------------------------------------------------------------------\u001b[0m",
      "\u001b[0;31mStopIteration\u001b[0m                             Traceback (most recent call last)",
      "Input \u001b[0;32mIn [174]\u001b[0m, in \u001b[0;36m<cell line: 1>\u001b[0;34m()\u001b[0m\n\u001b[0;32m----> 1\u001b[0m \u001b[38;5;28;43mnext\u001b[39;49m\u001b[43m(\u001b[49m\u001b[43ms\u001b[49m\u001b[43m)\u001b[49m\n",
      "\u001b[0;31mStopIteration\u001b[0m: "
     ]
    }
   ],
   "source": [
    "next(s)"
   ]
  },
  {
   "cell_type": "code",
   "execution_count": 175,
   "id": "2ad5c062-d690-4524-9a66-ea1422346bc6",
   "metadata": {},
   "outputs": [],
   "source": [
    "l=[3,342,23,43,23424,2]"
   ]
  },
  {
   "cell_type": "code",
   "execution_count": 176,
   "id": "fa387fc4-6444-420e-bcdd-239026cbadfd",
   "metadata": {},
   "outputs": [
    {
     "ename": "TypeError",
     "evalue": "'list' object is not an iterator",
     "output_type": "error",
     "traceback": [
      "\u001b[0;31m---------------------------------------------------------------------------\u001b[0m",
      "\u001b[0;31mTypeError\u001b[0m                                 Traceback (most recent call last)",
      "Input \u001b[0;32mIn [176]\u001b[0m, in \u001b[0;36m<cell line: 1>\u001b[0;34m()\u001b[0m\n\u001b[0;32m----> 1\u001b[0m \u001b[38;5;28;43mnext\u001b[39;49m\u001b[43m(\u001b[49m\u001b[43ml\u001b[49m\u001b[43m)\u001b[49m\n",
      "\u001b[0;31mTypeError\u001b[0m: 'list' object is not an iterator"
     ]
    }
   ],
   "source": [
    "next(l)"
   ]
  },
  {
   "cell_type": "code",
   "execution_count": 177,
   "id": "fcdc74cb-5b45-4dc6-995a-4c6977cbd8be",
   "metadata": {},
   "outputs": [],
   "source": [
    "l=iter(l)"
   ]
  },
  {
   "cell_type": "code",
   "execution_count": 178,
   "id": "dbc51e82-a596-4ea8-b878-0a8e9ec7519c",
   "metadata": {},
   "outputs": [
    {
     "data": {
      "text/plain": [
       "3"
      ]
     },
     "execution_count": 178,
     "metadata": {},
     "output_type": "execute_result"
    }
   ],
   "source": [
    "next(l)"
   ]
  },
  {
   "cell_type": "code",
   "execution_count": 179,
   "id": "70c8d4a0-913c-4aad-9672-30b1b0a1294b",
   "metadata": {},
   "outputs": [
    {
     "data": {
      "text/plain": [
       "342"
      ]
     },
     "execution_count": 179,
     "metadata": {},
     "output_type": "execute_result"
    }
   ],
   "source": [
    "next(l)"
   ]
  },
  {
   "cell_type": "code",
   "execution_count": 181,
   "id": "28fc12d8-209c-4a8c-b428-f2dc97f018e8",
   "metadata": {},
   "outputs": [],
   "source": [
    "t=(23,234,\"fsdafi\")"
   ]
  },
  {
   "cell_type": "code",
   "execution_count": 182,
   "id": "ad14a70f-47d3-4b0a-8751-b5b3187860f0",
   "metadata": {},
   "outputs": [],
   "source": [
    "t=iter(t)"
   ]
  },
  {
   "cell_type": "code",
   "execution_count": 183,
   "id": "6e5bfbb2-6895-44d7-b2e8-257a4f6c5dc9",
   "metadata": {},
   "outputs": [
    {
     "data": {
      "text/plain": [
       "23"
      ]
     },
     "execution_count": 183,
     "metadata": {},
     "output_type": "execute_result"
    }
   ],
   "source": [
    "next(t)"
   ]
  },
  {
   "cell_type": "code",
   "execution_count": 184,
   "id": "61cea3ec-0878-4dbc-a84f-35b95cf9ec7b",
   "metadata": {},
   "outputs": [
    {
     "data": {
      "text/plain": [
       "234"
      ]
     },
     "execution_count": 184,
     "metadata": {},
     "output_type": "execute_result"
    }
   ],
   "source": [
    "next(t)"
   ]
  },
  {
   "cell_type": "code",
   "execution_count": 186,
   "id": "1cc58932-01e5-437b-b80a-bea5e06bf0c8",
   "metadata": {},
   "outputs": [],
   "source": [
    "import functools"
   ]
  },
  {
   "cell_type": "code",
   "execution_count": 187,
   "id": "c155b6ad-23ed-4d50-8356-69104402d23b",
   "metadata": {},
   "outputs": [
    {
     "data": {
      "text/plain": [
       "6"
      ]
     },
     "execution_count": 187,
     "metadata": {},
     "output_type": "execute_result"
    }
   ],
   "source": [
    "functools.reduce(lambda a,b:a+b,[1,2,3])"
   ]
  },
  {
   "cell_type": "code",
   "execution_count": null,
   "id": "b729f06e-e335-424d-b5f2-8c28bb8418e8",
   "metadata": {},
   "outputs": [],
   "source": []
  },
  {
   "cell_type": "code",
   "execution_count": null,
   "id": "ac6b779f-15cf-4a71-bf59-2df2e961c994",
   "metadata": {},
   "outputs": [],
   "source": []
  }
 ],
 "metadata": {
  "kernelspec": {
   "display_name": "Python 3 (ipykernel)",
   "language": "python",
   "name": "python3"
  },
  "language_info": {
   "codemirror_mode": {
    "name": "ipython",
    "version": 3
   },
   "file_extension": ".py",
   "mimetype": "text/x-python",
   "name": "python",
   "nbconvert_exporter": "python",
   "pygments_lexer": "ipython3",
   "version": "3.9.12"
  }
 },
 "nbformat": 4,
 "nbformat_minor": 5
}
