{
 "cells": [
  {
   "cell_type": "code",
   "execution_count": 1,
   "id": "6a46cbd6-8684-425c-8421-893461382b9a",
   "metadata": {},
   "outputs": [],
   "source": [
    "a=10"
   ]
  },
  {
   "cell_type": "code",
   "execution_count": 2,
   "id": "4fb68225-83a4-464c-9316-99cca480bd7a",
   "metadata": {},
   "outputs": [
    {
     "name": "stdout",
     "output_type": "stream",
     "text": [
      "a=  10\n"
     ]
    }
   ],
   "source": [
    "if a<15 :\n",
    "    print(\"a= \",a)\n",
    "    pass"
   ]
  },
  {
   "cell_type": "code",
   "execution_count": null,
   "id": "761c2745-5bb2-40d5-bacb-0e362fad4f4d",
   "metadata": {},
   "outputs": [],
   "source": []
  },
  {
   "cell_type": "code",
   "execution_count": 3,
   "id": "eb1785f8-ddea-48db-aac7-d7a735ce8adf",
   "metadata": {},
   "outputs": [
    {
     "data": {
      "text/plain": [
       "True"
      ]
     },
     "execution_count": 3,
     "metadata": {},
     "output_type": "execute_result"
    }
   ],
   "source": [
    "a<15"
   ]
  },
  {
   "cell_type": "code",
   "execution_count": 4,
   "id": "9c64b1e9-3c68-4393-81d4-b1322fca0264",
   "metadata": {},
   "outputs": [],
   "source": [
    "if a<16:\n",
    "    pass"
   ]
  },
  {
   "cell_type": "code",
   "execution_count": 5,
   "id": "d213da18-b0c9-44a2-a54c-82eab87606ee",
   "metadata": {},
   "outputs": [],
   "source": [
    "if 24<14:\n",
    "    print(\"My name is Krish\")"
   ]
  },
  {
   "cell_type": "code",
   "execution_count": 6,
   "id": "61b16368-90d0-4cd5-98d0-10c92d97a734",
   "metadata": {},
   "outputs": [
    {
     "name": "stdout",
     "output_type": "stream",
     "text": [
      "10 is less then 5\n"
     ]
    }
   ],
   "source": [
    "if 10>5:\n",
    "    print(\"10 is less then 5\")\n",
    "else:\n",
    "    print(\" The statement is wrong\")"
   ]
  },
  {
   "cell_type": "code",
   "execution_count": 7,
   "id": "3bc553dc-67e6-45e7-b3d4-6d0c939a2d38",
   "metadata": {},
   "outputs": [
    {
     "name": "stdin",
     "output_type": "stream",
     "text": [
      " 30\n"
     ]
    },
    {
     "name": "stdout",
     "output_type": "stream",
     "text": [
      "I can buy a phone\n"
     ]
    }
   ],
   "source": [
    "income =int(input())\n",
    "if income<50 :\n",
    "    print(\"I can buy a phone\")\n",
    "elif income<70 :\n",
    "    print(\"I can buy a car\")\n",
    "elif income<90 :\n",
    "    print(\"I can buy a house\")\n",
    "else:\n",
    "    print(\"I can go abroad\")"
   ]
  },
  {
   "cell_type": "code",
   "execution_count": 8,
   "id": "0e6d28b6-8bf0-4874-8e64-c565c4401aa2",
   "metadata": {},
   "outputs": [
    {
     "name": "stdin",
     "output_type": "stream",
     "text": [
      " 15000\n"
     ]
    },
    {
     "name": "stdout",
     "output_type": "stream",
     "text": [
      "Final_cost=  14250.0  and discount=  750.0\n"
     ]
    }
   ],
   "source": [
    "Total_price=int(input())\n",
    "if Total_price > 20000:\n",
    "    discount=Total_price*.2\n",
    "elif Total_price >=7000:\n",
    "    discount=Total_price*.05\n",
    "else:\n",
    "    discount=0\n",
    "print(\"Final_cost= \",Total_price-discount, \" and discount= \", discount)"
   ]
  },
  {
   "cell_type": "code",
   "execution_count": 9,
   "id": "cce3adea-7cd2-4dd1-b223-2795838832aa",
   "metadata": {},
   "outputs": [
    {
     "data": {
      "text/plain": [
       "True"
      ]
     },
     "execution_count": 9,
     "metadata": {},
     "output_type": "execute_result"
    }
   ],
   "source": [
    "\"sudh\" == \"sudh\""
   ]
  },
  {
   "cell_type": "code",
   "execution_count": 10,
   "id": "37a146ca-a955-47de-95b4-00a9fcf68fef",
   "metadata": {},
   "outputs": [
    {
     "name": "stdin",
     "output_type": "stream",
     "text": [
      " sddf\n"
     ]
    },
    {
     "name": "stdout",
     "output_type": "stream",
     "text": [
      "Please enter a valid code\n"
     ]
    }
   ],
   "source": [
    "coup=input()\n",
    "cost=25000\n",
    "if coup==\"SUDH5\":\n",
    "    print(\" You will be able to get a discount of 5%\")\n",
    "    print(\"YOUR TOTAL COST WILL BE \",cost-cost*0.05)\n",
    "else:\n",
    "    print(\"Please enter a valid code\")"
   ]
  },
  {
   "cell_type": "code",
   "execution_count": 11,
   "id": "7973171a-7698-41d2-a0c8-0cacf0724e73",
   "metadata": {},
   "outputs": [
    {
     "name": "stdin",
     "output_type": "stream",
     "text": [
      " 5\n"
     ]
    },
    {
     "name": "stdout",
     "output_type": "stream",
     "text": [
      " It will take 3months to make a transition\n"
     ]
    }
   ],
   "source": [
    "study_hour=int(input())\n",
    "if(study_hour<1):\n",
    "    print(\"It will take more than 9months to complete the course\")\n",
    "elif study_hour>1 and study_hour<4:\n",
    "    print(\"It will take 6months to make a transition\")\n",
    "elif study_hour>4 :\n",
    "    print(\" It will take 3months to make a transition\")\n",
    "else:\n",
    "    print(\"It will be difficult to complete a transition\")\n"
   ]
  },
  {
   "cell_type": "code",
   "execution_count": 12,
   "id": "33d3455b-fb7c-468e-b081-e92cfbb1b474",
   "metadata": {},
   "outputs": [
    {
     "name": "stdout",
     "output_type": "stream",
     "text": [
      "valid\n"
     ]
    }
   ],
   "source": [
    "a=9\n",
    "if a==9: print(\"valid\")"
   ]
  },
  {
   "cell_type": "code",
   "execution_count": 13,
   "id": "a566b857-3d82-4b7c-919d-ba8711bb334f",
   "metadata": {},
   "outputs": [
    {
     "name": "stdin",
     "output_type": "stream",
     "text": [
      "enter a string to start \"oneneuron\n",
      "enter a course name sdifj\n",
      "enter your service required fjiwq\n"
     ]
    },
    {
     "name": "stdout",
     "output_type": "stream",
     "text": [
      "COnnect with our team\n"
     ]
    }
   ],
   "source": [
    "s=input(\"enter a string to start\")\n",
    "course=input(\"enter a course name\")\n",
    "servise=input(\"enter your service required\")\n",
    "if s== \"oneneuron\" :\n",
    "    if course== \"DSA\":\n",
    "        print(\"Yes, it's available\")\n",
    "    elif course== \"BlockChain\":\n",
    "        print(\"Currently it's not available, please raise on demand course\")\n",
    "    else:\n",
    "        print(\"Please raise a on demand request to look into it\")\n",
    "elif s==\"oneneuronservice\":\n",
    "    if service== \"courserequest\":\n",
    "        print(\" you are raising a new course, we are looking into it\")\n",
    "    elif service== \"module\":\n",
    "        print(\" you are raising issue on module, we are looking into it\")\n",
    "    elif service== \"doubt\":\n",
    "        print(\" you are raising a doubt, we are looking into it\")\n",
    "    else:\n",
    "        print(\"Kindly provide us a proper input\")\n",
    "else:\n",
    "    print(\"COnnect with our team\")\n",
    "    "
   ]
  },
  {
   "cell_type": "markdown",
   "id": "76b511ac-ca11-4737-96f2-16741df610ac",
   "metadata": {},
   "source": [
    "# While"
   ]
  },
  {
   "cell_type": "code",
   "execution_count": 14,
   "id": "a0a3c41a-7243-4654-8eef-1023cef55ea6",
   "metadata": {},
   "outputs": [],
   "source": [
    "l=[1,2,3,4,5,56,6,7]\n"
   ]
  },
  {
   "cell_type": "code",
   "execution_count": 16,
   "id": "8137c64d-d252-4d3d-a609-336c24b66aa0",
   "metadata": {},
   "outputs": [
    {
     "name": "stdout",
     "output_type": "stream",
     "text": [
      "1\n",
      "2\n",
      "3\n",
      "4\n",
      "5\n",
      "56\n",
      "6\n",
      "7\n"
     ]
    }
   ],
   "source": [
    "for i in l:\n",
    "    print(i)"
   ]
  },
  {
   "cell_type": "code",
   "execution_count": 17,
   "id": "62f9bd14-27a3-43de-aa7f-8bcebc1402ea",
   "metadata": {},
   "outputs": [
    {
     "name": "stdout",
     "output_type": "stream",
     "text": [
      "K\n",
      "r\n",
      "i\n",
      "s\n",
      "h\n",
      "n\n",
      "a\n"
     ]
    }
   ],
   "source": [
    "s=\"Krishna\"\n",
    "for i in s:\n",
    "    print(i)"
   ]
  },
  {
   "cell_type": "code",
   "execution_count": 20,
   "id": "1ae4b0d2-6b2e-43cf-9b7e-c8b547611e9b",
   "metadata": {},
   "outputs": [],
   "source": [
    "t=(2.35,\"Sudh\",.5,234,345,True,5+4j)"
   ]
  },
  {
   "cell_type": "code",
   "execution_count": 21,
   "id": "c0753e73-d528-417f-ae7e-a3ef57b62ab3",
   "metadata": {},
   "outputs": [
    {
     "name": "stdout",
     "output_type": "stream",
     "text": [
      "2.35\n",
      "Sudh\n",
      "0.5\n",
      "234\n",
      "345\n",
      "True\n",
      "(5+4j)\n"
     ]
    }
   ],
   "source": [
    "for i in t:\n",
    "    print(i)"
   ]
  },
  {
   "cell_type": "code",
   "execution_count": 24,
   "id": "f1dbae23-ac7f-4024-af35-c215ed362a45",
   "metadata": {},
   "outputs": [],
   "source": [
    "l=[12,3.4,True,7+23j,\"Krishna\",(23,2356,1,\"sidh\"),{}]"
   ]
  },
  {
   "cell_type": "code",
   "execution_count": 25,
   "id": "746625ca-fae6-4ca9-ad27-52e89bd0584b",
   "metadata": {},
   "outputs": [
    {
     "name": "stdout",
     "output_type": "stream",
     "text": [
      "<class 'int'>\n",
      "<class 'float'>\n",
      "<class 'bool'>\n",
      "<class 'complex'>\n",
      "<class 'str'>\n",
      "<class 'tuple'>\n",
      "<class 'dict'>\n"
     ]
    }
   ],
   "source": [
    "for i in l:\n",
    "    print(type(i))"
   ]
  },
  {
   "cell_type": "code",
   "execution_count": 26,
   "id": "9c41d4f4-25b3-45eb-941e-1d6ab57470a1",
   "metadata": {},
   "outputs": [],
   "source": [
    "t=(1.32,21,234.43,32,4)"
   ]
  },
  {
   "cell_type": "code",
   "execution_count": 27,
   "id": "0762124c-e6cc-405f-ad94-ff2c18f42557",
   "metadata": {},
   "outputs": [
    {
     "name": "stdout",
     "output_type": "stream",
     "text": [
      "3.3200000000000003\n",
      "23\n",
      "236.43\n",
      "34\n",
      "6\n"
     ]
    }
   ],
   "source": [
    "for i in t:\n",
    "    print(i+2)"
   ]
  },
  {
   "cell_type": "code",
   "execution_count": 30,
   "id": "b43f8e8d-3052-41f3-9ecf-102475de0a46",
   "metadata": {},
   "outputs": [],
   "source": [
    "l=[1.32,21,234.43,32,4]\n",
    "l2=[]"
   ]
  },
  {
   "cell_type": "code",
   "execution_count": 31,
   "id": "1adbc29f-c4dc-4586-a315-fc48cf5a9930",
   "metadata": {},
   "outputs": [
    {
     "name": "stdout",
     "output_type": "stream",
     "text": [
      "3.3200000000000003\n",
      "23\n",
      "236.43\n",
      "34\n",
      "6\n"
     ]
    }
   ],
   "source": [
    "for i in l:\n",
    "    print(i+2)\n",
    "    l2.append(i+2)"
   ]
  },
  {
   "cell_type": "code",
   "execution_count": 32,
   "id": "1c76540e-bb19-4138-abdd-7ca97ded1e8e",
   "metadata": {},
   "outputs": [
    {
     "data": {
      "text/plain": [
       "[3.3200000000000003, 23, 236.43, 34, 6]"
      ]
     },
     "execution_count": 32,
     "metadata": {},
     "output_type": "execute_result"
    }
   ],
   "source": [
    "l2"
   ]
  },
  {
   "cell_type": "code",
   "execution_count": 9,
   "id": "9a8a1ecc-0e6b-45bf-87ca-5e5e07c90b6d",
   "metadata": {},
   "outputs": [],
   "source": [
    "l=[1,34,565,\"Sid\",4+58j,True,43,67,[23,23,43,13,\"ad\"]]"
   ]
  },
  {
   "cell_type": "code",
   "execution_count": 11,
   "id": "3d38a52a-9ca4-451e-9698-df640a4d03a1",
   "metadata": {},
   "outputs": [
    {
     "name": "stdout",
     "output_type": "stream",
     "text": [
      "1\n",
      "34\n",
      "565\n",
      "43\n",
      "67\n",
      "23\n",
      "23\n",
      "43\n",
      "13\n"
     ]
    }
   ],
   "source": [
    "for i in l:\n",
    "    if type(i) is int :\n",
    "        print(i)\n",
    "    elif type(i) == list:\n",
    "        for j in i:\n",
    "            if type(j) == int:\n",
    "                print(j)"
   ]
  },
  {
   "cell_type": "markdown",
   "id": "e06848b0-5e66-468a-8ec8-8c04965c1103",
   "metadata": {},
   "source": [
    "q1: try to print index of all the elements\n",
    "q2: try to extract all the list of char if element is string\n",
    "q3: try to return a list after doing a square of all integers"
   ]
  },
  {
   "cell_type": "code",
   "execution_count": 20,
   "id": "d5fe506c-aeb1-4fee-870b-d0edb175ffd7",
   "metadata": {},
   "outputs": [
    {
     "name": "stdout",
     "output_type": "stream",
     "text": [
      "Index of  1  is  0\n",
      "Index of  34  is  1\n",
      "Index of  565  is  2\n",
      "Index of  Sid  is  3\n",
      "Index of  (4+58j)  is  4\n",
      "Index of  True  is  5\n",
      "Index of  43  is  6\n",
      "Index of  67  is  7\n",
      "Index of  [23, 23, 43, 13, 'ad']  is  8\n"
     ]
    }
   ],
   "source": [
    "for i in range(len(l)):\n",
    "    print(\"Index of \",l[i],\" is \", i)"
   ]
  },
  {
   "cell_type": "code",
   "execution_count": null,
   "id": "f43b0737-2a35-4a19-b889-96f4fec9c39e",
   "metadata": {},
   "outputs": [],
   "source": []
  },
  {
   "cell_type": "code",
   "execution_count": 23,
   "id": "9b711041-20fb-463f-8105-610da879d2a5",
   "metadata": {},
   "outputs": [
    {
     "name": "stdout",
     "output_type": "stream",
     "text": [
      "S\n",
      "i\n",
      "d\n",
      "a\n",
      "d\n"
     ]
    }
   ],
   "source": [
    "l2=[]\n",
    "for i in l:\n",
    "    if type(i) == str:\n",
    "        l2.append(i)\n",
    "    elif type(i) in (list,tuple,set):\n",
    "        for j in i:\n",
    "            if type(j) == str:\n",
    "                l2.append(j)\n",
    "for i in l2:\n",
    "    for j in i:\n",
    "        print(j)"
   ]
  },
  {
   "cell_type": "code",
   "execution_count": null,
   "id": "2775211c-ea3c-42d2-b886-31baf5030af3",
   "metadata": {},
   "outputs": [],
   "source": []
  },
  {
   "cell_type": "code",
   "execution_count": 18,
   "id": "ea6f70d1-615b-45b3-a602-a7bf1a3bc761",
   "metadata": {},
   "outputs": [
    {
     "data": {
      "text/plain": [
       "[1, 1156, 319225, 'Sid', (4+58j), True, 1849, 4489, [23, 23, 43, 13, 'ad']]"
      ]
     },
     "execution_count": 18,
     "metadata": {},
     "output_type": "execute_result"
    }
   ],
   "source": [
    "l2=[]\n",
    "for i in l:\n",
    "    if type(i) == int:\n",
    "        l2.append(i*i)\n",
    "    else:\n",
    "        l2.append(i)\n",
    "l2"
   ]
  },
  {
   "cell_type": "code",
   "execution_count": 22,
   "id": "40fa40bc-5b97-4cfd-b12d-eb6fdc4367ef",
   "metadata": {},
   "outputs": [
    {
     "name": "stdout",
     "output_type": "stream",
     "text": [
      "0   1\n",
      "1   34\n",
      "2   565\n",
      "3   Sid\n",
      "4   (4+58j)\n",
      "5   True\n",
      "6   43\n",
      "7   67\n",
      "8   [23, 23, 43, 13, 'ad']\n"
     ]
    }
   ],
   "source": [
    "for i,j in enumerate(l):\n",
    "    print(i,\" \",j)"
   ]
  },
  {
   "cell_type": "code",
   "execution_count": null,
   "id": "7683f791-3802-4abc-8b00-15d244350061",
   "metadata": {},
   "outputs": [],
   "source": []
  },
  {
   "cell_type": "code",
   "execution_count": null,
   "id": "8fb416b9-95e5-42ac-99ae-9a21d655f7e5",
   "metadata": {},
   "outputs": [],
   "source": []
  }
 ],
 "metadata": {
  "kernelspec": {
   "display_name": "Python 3 (ipykernel)",
   "language": "python",
   "name": "python3"
  },
  "language_info": {
   "codemirror_mode": {
    "name": "ipython",
    "version": 3
   },
   "file_extension": ".py",
   "mimetype": "text/x-python",
   "name": "python",
   "nbconvert_exporter": "python",
   "pygments_lexer": "ipython3",
   "version": "3.9.12"
  }
 },
 "nbformat": 4,
 "nbformat_minor": 5
}
