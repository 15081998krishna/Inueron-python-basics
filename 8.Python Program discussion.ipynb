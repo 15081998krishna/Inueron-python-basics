{
 "cells": [
  {
   "cell_type": "code",
   "execution_count": 1,
   "id": "5e04759c-c6e5-4165-a29e-3c728e2a2077",
   "metadata": {},
   "outputs": [],
   "source": [
    "s=\"This is Krishna\""
   ]
  },
  {
   "cell_type": "code",
   "execution_count": 2,
   "id": "148a64cc-0ef9-430f-a898-a2f7596132e8",
   "metadata": {},
   "outputs": [
    {
     "data": {
      "text/plain": [
       "15"
      ]
     },
     "execution_count": 2,
     "metadata": {},
     "output_type": "execute_result"
    }
   ],
   "source": [
    "len(s)"
   ]
  },
  {
   "cell_type": "code",
   "execution_count": 4,
   "id": "2863a3a7-5701-4429-8eda-d0252e73a3c5",
   "metadata": {},
   "outputs": [
    {
     "name": "stdout",
     "output_type": "stream",
     "text": [
      "15\n"
     ]
    }
   ],
   "source": [
    "count=0\n",
    "for i in s:\n",
    "    count+=1\n",
    "    #count=count+1\n",
    "print(count)"
   ]
  },
  {
   "cell_type": "code",
   "execution_count": 5,
   "id": "c2347b68-cb16-414a-b512-9de6c0669879",
   "metadata": {},
   "outputs": [
    {
     "data": {
      "text/plain": [
       "'anhsirK si sihT'"
      ]
     },
     "execution_count": 5,
     "metadata": {},
     "output_type": "execute_result"
    }
   ],
   "source": [
    "s[::-1]"
   ]
  },
  {
   "cell_type": "code",
   "execution_count": 14,
   "id": "d7536ac3-585b-4356-9fda-9c80659c9610",
   "metadata": {},
   "outputs": [
    {
     "name": "stdout",
     "output_type": "stream",
     "text": [
      "anhsirK si sihT"
     ]
    }
   ],
   "source": [
    "for i in range(len(s)-1,-1,-1):\n",
    "    print(s[i], end=\"\")"
   ]
  },
  {
   "cell_type": "code",
   "execution_count": 13,
   "id": "88b891c5-b561-4907-a0ed-3aa44dcf40c4",
   "metadata": {},
   "outputs": [
    {
     "name": "stdout",
     "output_type": "stream",
     "text": [
      "anhsirK si sihT"
     ]
    }
   ],
   "source": [
    "i=len(s)-1\n",
    "while i>-1:\n",
    "    print(s[i], end=\"\")\n",
    "    i-=1"
   ]
  },
  {
   "cell_type": "code",
   "execution_count": 16,
   "id": "ad32eb68-d56d-44ab-a806-a9a6b2a8265d",
   "metadata": {},
   "outputs": [
    {
     "data": {
      "text/plain": [
       "'This is Krishna'"
      ]
     },
     "execution_count": 16,
     "metadata": {},
     "output_type": "execute_result"
    }
   ],
   "source": [
    "s"
   ]
  },
  {
   "cell_type": "code",
   "execution_count": null,
   "id": "a8e353ba-2b2d-4a03-befb-94418abf25ba",
   "metadata": {},
   "outputs": [],
   "source": []
  },
  {
   "cell_type": "code",
   "execution_count": 18,
   "id": "50854967-3eac-45b6-96b5-a6ab3bace806",
   "metadata": {},
   "outputs": [
    {
     "name": "stdout",
     "output_type": "stream",
     "text": [
      "anhsirK si sihT"
     ]
    }
   ],
   "source": [
    "i=-1\n",
    "while i>(-len(s)-1):\n",
    "    print(s[i], end=\"\")\n",
    "    i-=1"
   ]
  },
  {
   "cell_type": "code",
   "execution_count": 20,
   "id": "ee5818af-263e-4384-9a8b-a00088fe9c3e",
   "metadata": {},
   "outputs": [],
   "source": [
    "s=\"ineuron\"\n",
    "v=\"AaEeIiOoUu\""
   ]
  },
  {
   "cell_type": "code",
   "execution_count": 22,
   "id": "d95d9276-35e9-40a4-9de3-284ab2d60019",
   "metadata": {},
   "outputs": [
    {
     "name": "stdout",
     "output_type": "stream",
     "text": [
      "vowel  i\n",
      "consonant  n\n",
      "vowel  e\n",
      "vowel  u\n",
      "consonant  r\n",
      "vowel  o\n",
      "consonant  n\n"
     ]
    }
   ],
   "source": [
    "for i in s:\n",
    "    if i in v:\n",
    "        print(\"vowel \",i)\n",
    "    else:\n",
    "        print(\"consonant \",i)"
   ]
  },
  {
   "cell_type": "code",
   "execution_count": 25,
   "id": "9b816614-e934-4b32-b291-a87e57b03a4e",
   "metadata": {},
   "outputs": [
    {
     "data": {
      "text/plain": [
       "True"
      ]
     },
     "execution_count": 25,
     "metadata": {},
     "output_type": "execute_result"
    }
   ],
   "source": [
    "'s' in \"sudh\""
   ]
  },
  {
   "cell_type": "code",
   "execution_count": 27,
   "id": "dae25630-a997-44de-bc78-e7df2f074df9",
   "metadata": {},
   "outputs": [
    {
     "data": {
      "text/plain": [
       "True"
      ]
     },
     "execution_count": 27,
     "metadata": {},
     "output_type": "execute_result"
    }
   ],
   "source": [
    "#checking a string is palindrome\n",
    "\n",
    "s=\"sis\"\n",
    "s==s[::-1]"
   ]
  },
  {
   "cell_type": "code",
   "execution_count": 1,
   "id": "089c9110-99b1-49ce-90b7-258847fc7745",
   "metadata": {},
   "outputs": [
    {
     "name": "stdin",
     "output_type": "stream",
     "text": [
      "Enter the word samas\n"
     ]
    },
    {
     "name": "stdout",
     "output_type": "stream",
     "text": [
      "yes it's a palindrome\n"
     ]
    }
   ],
   "source": [
    "s=input(\"Enter the word\")\n",
    "if s==s[::-1] :\n",
    "    print(\"yes it's a palindrome\")\n",
    "else:\n",
    "    print(\"No,its not palindrome\")"
   ]
  },
  {
   "cell_type": "code",
   "execution_count": 5,
   "id": "9a77e0a4-eaff-4883-8f80-66422d78b9b1",
   "metadata": {},
   "outputs": [
    {
     "name": "stdin",
     "output_type": "stream",
     "text": [
      "Enter the word 123321\n"
     ]
    },
    {
     "name": "stdout",
     "output_type": "stream",
     "text": [
      "It's a palindrome\n"
     ]
    }
   ],
   "source": [
    "s=input(\"Enter the word\")\n",
    "for i in range(int(len(s)/2)):\n",
    "    if(s[i]!=s[len(s)-1-i]):\n",
    "        print(\"Not a palindrome\")\n",
    "        break\n",
    "else:\n",
    "       print(\"It's a palindrome\")"
   ]
  },
  {
   "cell_type": "code",
   "execution_count": 6,
   "id": "d402c1b1-88b1-4bec-b9a2-475c9a3cb1c0",
   "metadata": {},
   "outputs": [
    {
     "data": {
      "text/plain": [
       "3.0"
      ]
     },
     "execution_count": 6,
     "metadata": {},
     "output_type": "execute_result"
    }
   ],
   "source": [
    "len(s)/2"
   ]
  },
  {
   "cell_type": "code",
   "execution_count": 7,
   "id": "b0b7762c-e600-492b-806d-46d83b7593fc",
   "metadata": {},
   "outputs": [],
   "source": [
    "d={\"India\":\"IN\",\"Canda\":\"CA\",\"Netherlands\":\"NE\",\"America\":\"US\"}"
   ]
  },
  {
   "cell_type": "code",
   "execution_count": 8,
   "id": "b373be29-a562-4ffd-9bd9-5d377a998b2a",
   "metadata": {},
   "outputs": [
    {
     "data": {
      "text/plain": [
       "True"
      ]
     },
     "execution_count": 8,
     "metadata": {},
     "output_type": "execute_result"
    }
   ],
   "source": [
    "\"India\" in d"
   ]
  },
  {
   "cell_type": "code",
   "execution_count": 9,
   "id": "83f5356d-7742-4e7a-a2aa-1d908c151aa6",
   "metadata": {},
   "outputs": [
    {
     "data": {
      "text/plain": [
       "False"
      ]
     },
     "execution_count": 9,
     "metadata": {},
     "output_type": "execute_result"
    }
   ],
   "source": [
    "\"IN\" in d"
   ]
  },
  {
   "cell_type": "code",
   "execution_count": 23,
   "id": "69100cd0-e497-4cef-98cd-6635dc6e6639",
   "metadata": {},
   "outputs": [],
   "source": [
    "lst_g=[]\n",
    "lst_s=[]\n",
    "for i in d:\n",
    "    if len(i)<=5:\n",
    "       lst_s.append(i)\n",
    "    else:\n",
    "        lst_g.append(i)\n",
    "    "
   ]
  },
  {
   "cell_type": "code",
   "execution_count": 24,
   "id": "9c16c94b-f6c4-4608-a6c5-5389c16dc33e",
   "metadata": {},
   "outputs": [
    {
     "data": {
      "text/plain": [
       "['India', 'Canda']"
      ]
     },
     "execution_count": 24,
     "metadata": {},
     "output_type": "execute_result"
    }
   ],
   "source": [
    "lst_s"
   ]
  },
  {
   "cell_type": "code",
   "execution_count": 25,
   "id": "e06f9ede-7d63-476d-a95d-8dca867b71f7",
   "metadata": {},
   "outputs": [
    {
     "data": {
      "text/plain": [
       "['Netherlands', 'America']"
      ]
     },
     "execution_count": 25,
     "metadata": {},
     "output_type": "execute_result"
    }
   ],
   "source": [
    "lst_g"
   ]
  },
  {
   "cell_type": "code",
   "execution_count": 1,
   "id": "fc31d630-f7f7-45e8-a0f1-3c80c768ae8f",
   "metadata": {},
   "outputs": [],
   "source": [
    "d_1={\"ineuron\":{\"a\":12,\"b\":23,\"c\":34},\"course\":{'d':23,'f':342,'g':3456,'i':1}}"
   ]
  },
  {
   "cell_type": "code",
   "execution_count": 2,
   "id": "fa243348-f3a2-47cc-a324-df5aa7f0037e",
   "metadata": {},
   "outputs": [
    {
     "name": "stdout",
     "output_type": "stream",
     "text": [
      "34\n",
      "3456\n"
     ]
    }
   ],
   "source": [
    "lst=[]\n",
    "for i in d_1.values():\n",
    "    for j in i.values():\n",
    "        lst.append(j)\n",
    "    print(max(lst))"
   ]
  },
  {
   "cell_type": "code",
   "execution_count": 3,
   "id": "46fb295c-d057-4976-8309-8c87d150034c",
   "metadata": {},
   "outputs": [
    {
     "name": "stdout",
     "output_type": "stream",
     "text": [
      "34\n",
      "3456\n"
     ]
    }
   ],
   "source": [
    "for i in d_1.values():\n",
    "    print(max(i.values()))"
   ]
  },
  {
   "cell_type": "code",
   "execution_count": 4,
   "id": "52142666-1b6e-40e6-90a9-031ea5c222cb",
   "metadata": {},
   "outputs": [
    {
     "data": {
      "text/plain": [
       "dict_values([23, 342, 3456, 1])"
      ]
     },
     "execution_count": 4,
     "metadata": {},
     "output_type": "execute_result"
    }
   ],
   "source": [
    "i.values()"
   ]
  },
  {
   "cell_type": "code",
   "execution_count": 1,
   "id": "e057ffaf-3e96-4cff-bd52-53a23ffce389",
   "metadata": {},
   "outputs": [],
   "source": [
    "d_1={\"ineuron\":{\"a\":12,\"b\":23,\"c\":34},\"course\":{'d':23,'f':342},\n",
    "    'g':3456,'h':[12,12,34.5+45.2j,234344,12],'i':(24,45.3,23),'k':\"Krish\"}"
   ]
  },
  {
   "cell_type": "markdown",
   "id": "1907d884-95e7-4fcc-976e-874e066a434f",
   "metadata": {},
   "source": [
    "###### d_1"
   ]
  },
  {
   "cell_type": "code",
   "execution_count": 3,
   "id": "4d88a5f7-212a-44ae-86ab-f7f8ff18d8c8",
   "metadata": {},
   "outputs": [
    {
     "name": "stdout",
     "output_type": "stream",
     "text": [
      "234344\n"
     ]
    }
   ],
   "source": [
    "maxim=0\n",
    "for i in d_1.values():\n",
    "    if type(i) == dict:\n",
    "        for j in i.values():\n",
    "            if type(j) == int:\n",
    "                if j>maxim:\n",
    "                    maxim=j\n",
    "    elif type(i) in (list,tuple):\n",
    "        for j in i:\n",
    "            if type(j) == int:\n",
    "                if j>maxim:\n",
    "                    maxim=j\n",
    "    elif type(i) == int:\n",
    "        if j>maxim:\n",
    "            maxim=j\n",
    "print(maxim)"
   ]
  },
  {
   "cell_type": "code",
   "execution_count": null,
   "id": "a5a2cf3c-0abe-49e4-b61a-929793821195",
   "metadata": {},
   "outputs": [],
   "source": []
  },
  {
   "cell_type": "code",
   "execution_count": 55,
   "id": "ebd7cf19-624c-4182-9c46-28c760d3f41b",
   "metadata": {},
   "outputs": [
    {
     "name": "stdout",
     "output_type": "stream",
     "text": [
      "<class 'str'>   <class 'dict'>\n",
      "<class 'str'>   <class 'dict'>\n",
      "<class 'str'>   <class 'int'>\n",
      "<class 'str'>   <class 'list'>\n",
      "<class 'str'>   <class 'tuple'>\n",
      "<class 'str'>   <class 'str'>\n"
     ]
    }
   ],
   "source": [
    "l=[]\n",
    "for i,j in d_1.items():\n",
    "    print(type(i),\" \",type(j))\n",
    "    "
   ]
  },
  {
   "cell_type": "code",
   "execution_count": 7,
   "id": "81cef810-540e-4acd-a00a-edf4cd67a6c3",
   "metadata": {},
   "outputs": [
    {
     "name": "stdout",
     "output_type": "stream",
     "text": [
      "234344\n"
     ]
    }
   ],
   "source": [
    "l=[]\n",
    "for i,j in d_1.items():\n",
    "    if type(j) is dict:\n",
    "        l.append(max(j.values()))\n",
    "    elif type(j) in (tuple,set,list):\n",
    "        for k in j:\n",
    "            if type(k) is int:\n",
    "                l.append(k)\n",
    "    elif type(j) ==int:\n",
    "        l.append(j)\n",
    "print(max(l))"
   ]
  },
  {
   "cell_type": "code",
   "execution_count": null,
   "id": "24c6ad9d-8ef2-409e-a068-b66fa38d7ef6",
   "metadata": {},
   "outputs": [],
   "source": []
  }
 ],
 "metadata": {
  "kernelspec": {
   "display_name": "Python 3 (ipykernel)",
   "language": "python",
   "name": "python3"
  },
  "language_info": {
   "codemirror_mode": {
    "name": "ipython",
    "version": 3
   },
   "file_extension": ".py",
   "mimetype": "text/x-python",
   "name": "python",
   "nbconvert_exporter": "python",
   "pygments_lexer": "ipython3",
   "version": "3.9.12"
  }
 },
 "nbformat": 4,
 "nbformat_minor": 5
}
